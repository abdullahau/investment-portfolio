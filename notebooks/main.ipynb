{
 "cells": [
  {
   "cell_type": "markdown",
   "id": "211346cf",
   "metadata": {},
   "source": [
    "### Setup and Imports"
   ]
  },
  {
   "cell_type": "code",
   "execution_count": 1,
   "id": "dfb849e5",
   "metadata": {},
   "outputs": [],
   "source": [
    "import sys\n",
    "from pathlib import Path\n",
    "sys.path.append(str(Path.cwd().parent))\n",
    "import config\n",
    "from src import data_ingestion\n",
    "from src.symbols import Symbols\n",
    "from src.portfolio import Portfolio\n",
    "from src.benchmark import Benchmark\n",
    "\n",
    "import pandas as pd\n",
    "import plotly.graph_objects as go\n",
    "from plotly.subplots import make_subplots"
   ]
  },
  {
   "cell_type": "markdown",
   "id": "f4ce7b5d",
   "metadata": {},
   "source": [
    "### Load Transaction Data"
   ]
  },
  {
   "cell_type": "code",
   "execution_count": 2,
   "id": "8dd5683a",
   "metadata": {},
   "outputs": [
    {
     "name": "stdout",
     "output_type": "stream",
     "text": [
      "Successfully loaded log: us_mkt_transactions.csv\n",
      "Successfully loaded log: exus_mkt_transactions.csv\n"
     ]
    },
    {
     "data": {
      "application/vnd.microsoft.datawrangler.viewer.v0+json": {
       "columns": [
        {
         "name": "Date",
         "rawType": "datetime64[ns]",
         "type": "datetime"
        },
        {
         "name": "Type",
         "rawType": "object",
         "type": "string"
        },
        {
         "name": "Symbol",
         "rawType": "object",
         "type": "unknown"
        },
        {
         "name": "Quantity",
         "rawType": "float64",
         "type": "float"
        },
        {
         "name": "Price",
         "rawType": "float64",
         "type": "float"
        },
        {
         "name": "Amount",
         "rawType": "float64",
         "type": "float"
        },
        {
         "name": "Commission",
         "rawType": "float64",
         "type": "float"
        },
        {
         "name": "Currency",
         "rawType": "object",
         "type": "string"
        },
        {
         "name": "Description",
         "rawType": "object",
         "type": "unknown"
        },
        {
         "name": "Exchange",
         "rawType": "object",
         "type": "string"
        },
        {
         "name": "Source",
         "rawType": "object",
         "type": "string"
        }
       ],
       "ref": "9a1edd76-7b93-4483-8987-406c4a3c7377",
       "rows": [
        [
         "2023-02-16 00:00:00",
         "Net Deposit",
         null,
         null,
         null,
         "271.57",
         null,
         "USD",
         "ID: 37fdafdc-d707-42fa-ba74-98b30cf9ab2a - DT23215738",
         "US Market",
         "Sarwa Trade"
        ],
        [
         "2023-02-17 00:00:00",
         "buy",
         "PERI",
         "0.407269673",
         "33.34",
         "-13.58",
         null,
         "USD",
         "Trade Entry",
         "NasdaqGS",
         "Sarwa Trade"
        ],
        [
         "2023-02-17 00:00:00",
         "buy",
         "TSLA",
         "0.202666401",
         "201.02",
         "-40.74",
         null,
         "USD",
         "Trade Entry",
         "NasdaqGS",
         "Sarwa Trade"
        ],
        [
         "2023-02-17 00:00:00",
         "buy",
         "VOO",
         "0.218966527",
         "372.07",
         "-81.47",
         null,
         "USD",
         "Trade Entry",
         "NYSEArca",
         "Sarwa Trade"
        ],
        [
         "2023-03-29 00:00:00",
         "Net Dividend",
         "VOO",
         null,
         null,
         "0.24",
         null,
         "USD",
         "Cash DIV @ 1.4874, Pos QTY: 0.218966527, Rec Date: 2023-03-27",
         "NYSEArca",
         "Sarwa Trade"
        ],
        [
         "2023-06-20 00:00:00",
         "buy",
         "XLK",
         "0.581936685",
         "171.84",
         "-100.0",
         null,
         "USD",
         "Trade Entry",
         "NYSEArca",
         "Sarwa Trade"
        ],
        [
         "2023-06-20 00:00:00",
         "buy",
         "BTC-USD",
         "0.0004698",
         "27671.349510429973",
         "-13.0",
         null,
         "USD",
         null,
         "CCC",
         "Sarwa Crypto"
        ],
        [
         "2023-06-20 00:00:00",
         "buy",
         "VOOG",
         "0.11943626",
         "251.18",
         "-30.0",
         null,
         "USD",
         "Trade Entry",
         "NYSEArca",
         "Sarwa Trade"
        ],
        [
         "2023-06-20 00:00:00",
         "buy",
         "UAE",
         "0.417475728",
         "14.42",
         "-6.02",
         null,
         "USD",
         "Trade Entry",
         "NasdaqGM",
         "Sarwa Trade"
        ],
        [
         "2023-06-20 00:00:00",
         "sell",
         "PERI",
         "-0.407269673",
         "33.54",
         "13.66",
         null,
         "USD",
         "Trade Entry",
         "NasdaqGS",
         "Sarwa Trade"
        ],
        [
         "2023-07-05 00:00:00",
         "Net Dividend",
         "VOO",
         null,
         null,
         "0.25",
         null,
         "USD",
         "Cash DIV @ 1.5762, Pos QTY: 0.218966527, Rec Date: 2023-06-30",
         "NYSEArca",
         "Sarwa Trade"
        ],
        [
         "2023-07-05 00:00:00",
         "Net Dividend",
         "VOOG",
         null,
         null,
         "0.06",
         null,
         "USD",
         "Cash DIV @ 0.6987, Pos QTY: 0.11943626, Rec Date: 2023-06-30",
         "NYSEArca",
         "Sarwa Trade"
        ],
        [
         "2023-08-18 00:00:00",
         "Net Deposit",
         null,
         null,
         null,
         "271.57",
         null,
         "USD",
         "ID: 977a86e5-8ee2-4d0f-90fe-6fc19b29c5bb - DT23818273",
         "US Market",
         "Sarwa Trade"
        ],
        [
         "2023-08-18 00:00:00",
         "buy",
         "NOBL",
         "0.321722717",
         "93.25",
         "-30.0",
         null,
         "USD",
         "Trade Entry",
         "Cboe US",
         "Sarwa Trade"
        ],
        [
         "2023-08-18 00:00:00",
         "buy",
         "SPY",
         "0.091857308",
         "435.46",
         "-40.0",
         null,
         "USD",
         "Trade Entry",
         "NYSEArca",
         "Sarwa Trade"
        ],
        [
         "2023-08-18 00:00:00",
         "buy",
         "VHT",
         "0.133556611",
         "243.64",
         "-32.54",
         null,
         "USD",
         "Trade Entry",
         "NYSEArca",
         "Sarwa Trade"
        ],
        [
         "2023-08-22 00:00:00",
         "buy",
         "SPY",
         "0.041763972",
         "441.05",
         "-18.42",
         null,
         "USD",
         "Trade Entry",
         "NYSEArca",
         "Sarwa Trade"
        ],
        [
         "2023-08-22 00:00:00",
         "buy",
         "VOO",
         "0.099555994",
         "405.4",
         "-40.36",
         null,
         "USD",
         "Trade Entry",
         "NYSEArca",
         "Sarwa Trade"
        ],
        [
         "2023-08-22 00:00:00",
         "buy",
         "NOBL",
         "0.146682438",
         "92.99",
         "-13.64",
         null,
         "USD",
         "Trade Entry",
         "Cboe US",
         "Sarwa Trade"
        ],
        [
         "2023-08-22 00:00:00",
         "buy",
         "UAE",
         "0.190126751",
         "14.99",
         "-2.85",
         null,
         "USD",
         "Trade Entry",
         "NasdaqGM",
         "Sarwa Trade"
        ],
        [
         "2023-08-22 00:00:00",
         "buy",
         "XLK",
         "0.263294422",
         "169.62",
         "-44.66",
         null,
         "USD",
         "Trade Entry",
         "NYSEArca",
         "Sarwa Trade"
        ],
        [
         "2023-08-22 00:00:00",
         "buy",
         "TSLA",
         "0.089047083",
         "240.21",
         "-21.39",
         null,
         "USD",
         "Trade Entry",
         "NasdaqGS",
         "Sarwa Trade"
        ],
        [
         "2023-08-22 00:00:00",
         "buy",
         "VOOG",
         "0.054228483",
         "254.11",
         "-13.78",
         null,
         "USD",
         "Trade Entry",
         "NYSEArca",
         "Sarwa Trade"
        ],
        [
         "2023-08-22 00:00:00",
         "buy",
         "VHT",
         "0.061053062",
         "244.05",
         "-14.9",
         null,
         "USD",
         "Trade Entry",
         "NYSEArca",
         "Sarwa Trade"
        ],
        [
         "2023-09-07 00:00:00",
         "buy",
         "UAE",
         "0.476125511",
         "14.66",
         "-6.98",
         null,
         "USD",
         "Trade Entry",
         "NasdaqGM",
         "Sarwa Trade"
        ],
        [
         "2023-09-07 00:00:00",
         "buy",
         "SHOP",
         "0.379384395",
         "64.26",
         "-24.38",
         null,
         "USD",
         "Trade Entry",
         "NasdaqGS",
         "Sarwa Trade"
        ],
        [
         "2023-09-07 00:00:00",
         "buy",
         "LUX",
         "1.0",
         "23.0",
         "-23.0",
         null,
         "USD",
         "Trade Entry",
         "NYSEArca",
         "Sarwa Trade"
        ],
        [
         "2023-09-07 00:00:00",
         "buy",
         "META",
         "0.081603416",
         "298.76",
         "-24.38",
         null,
         "USD",
         "Trade Entry",
         "NasdaqGS",
         "Sarwa Trade"
        ],
        [
         "2023-09-07 00:00:00",
         "buy",
         "MSFT",
         "0.073728203",
         "330.67",
         "-24.38",
         null,
         "USD",
         "Trade Entry",
         "NasdaqGS",
         "Sarwa Trade"
        ],
        [
         "2023-09-07 00:00:00",
         "buy",
         "IBB",
         "0.047021696",
         "126.75",
         "-5.96",
         null,
         "USD",
         "Trade Entry",
         "NasdaqGM",
         "Sarwa Trade"
        ],
        [
         "2023-09-07 00:00:00",
         "buy",
         "STIP",
         "0.065740664",
         "97.05",
         "-6.38",
         null,
         "USD",
         "Trade Entry",
         "NYSEArca",
         "Sarwa Trade"
        ],
        [
         "2023-09-07 00:00:00",
         "buy",
         "SPHY",
         "0.282076222",
         "22.62",
         "-6.38",
         null,
         "USD",
         "Trade Entry",
         "NYSEArca",
         "Sarwa Trade"
        ],
        [
         "2023-09-07 00:00:00",
         "buy",
         "NVDA",
         "0.02369919",
         "453.6",
         "-10.75",
         null,
         "USD",
         "Trade Entry",
         "NasdaqGS",
         "Sarwa Trade"
        ],
        [
         "2023-09-07 00:00:00",
         "buy",
         "USRT",
         "0.125987361",
         "50.64",
         "-6.38",
         null,
         "USD",
         "Trade Entry",
         "NYSEArca",
         "Sarwa Trade"
        ],
        [
         "2023-09-07 00:00:00",
         "buy",
         "ADBE",
         "0.04371275",
         "557.73",
         "-24.38",
         null,
         "USD",
         "Trade Entry",
         "NasdaqGS",
         "Sarwa Trade"
        ],
        [
         "2023-09-07 00:00:00",
         "buy",
         "DE",
         "0.048628784",
         "414.16",
         "-20.14",
         null,
         "USD",
         "Trade Entry",
         "NYSE",
         "Sarwa Trade"
        ],
        [
         "2023-09-07 00:00:00",
         "buy",
         "BKNG",
         "0.003320753",
         "3110.74",
         "-10.33",
         null,
         "USD",
         "Trade Entry",
         "NasdaqGS",
         "Sarwa Trade"
        ],
        [
         "2023-09-07 00:00:00",
         "buy",
         "CAT",
         "0.071134406",
         "283.13",
         "-20.14",
         null,
         "USD",
         "Trade Entry",
         "NYSE",
         "Sarwa Trade"
        ],
        [
         "2023-09-07 00:00:00",
         "buy",
         "EL",
         "0.066052816",
         "156.39",
         "-10.33",
         null,
         "USD",
         "Trade Entry",
         "NYSE",
         "Sarwa Trade"
        ],
        [
         "2023-09-07 00:00:00",
         "buy",
         "BA",
         "0.082145456",
         "217.05",
         "-17.83",
         null,
         "USD",
         "Trade Entry",
         "NYSE",
         "Sarwa Trade"
        ],
        [
         "2023-09-07 00:00:00",
         "Net Deposit",
         null,
         null,
         null,
         "271.57",
         null,
         "USD",
         "ID: 28979918-1174-4ee9-8ba5-afe3d4e44879 - DT23905331",
         "US Market",
         "Sarwa Trade"
        ],
        [
         "2023-09-07 00:00:00",
         "buy",
         "VHT",
         "0.024623011",
         "242.05",
         "-5.96",
         null,
         "USD",
         "Trade Entry",
         "NYSEArca",
         "Sarwa Trade"
        ],
        [
         "2023-09-07 00:00:00",
         "buy",
         "XLK",
         "0.074194863",
         "171.71",
         "-12.74",
         null,
         "USD",
         "Trade Entry",
         "NYSEArca",
         "Sarwa Trade"
        ],
        [
         "2023-09-07 00:00:00",
         "buy",
         "COIN",
         "0.141906697",
         "75.75",
         "-10.75",
         null,
         "USD",
         "Trade Entry",
         "NasdaqGS",
         "Sarwa Trade"
        ],
        [
         "2023-09-21 00:00:00",
         "buy",
         "SPY",
         "0.044054793",
         "433.78",
         "-19.11",
         null,
         "USD",
         "Trade Entry",
         "NYSEArca",
         "Sarwa Trade"
        ],
        [
         "2023-09-21 00:00:00",
         "buy",
         "STIP",
         "0.021645467",
         "97.02",
         "-2.1",
         null,
         "USD",
         "Trade Entry",
         "NYSEArca",
         "Sarwa Trade"
        ],
        [
         "2023-09-21 00:00:00",
         "buy",
         "TSLA",
         "0.096304008",
         "257.41",
         "-24.79",
         null,
         "USD",
         "Trade Entry",
         "NasdaqGS",
         "Sarwa Trade"
        ],
        [
         "2023-09-21 00:00:00",
         "buy",
         "UAE",
         "0.355945318",
         "15.51",
         "-5.52",
         null,
         "USD",
         "Trade Entry",
         "NasdaqGM",
         "Sarwa Trade"
        ],
        [
         "2023-09-21 00:00:00",
         "buy",
         "USRT",
         "0.041602714",
         "49.52",
         "-2.06",
         null,
         "USD",
         "Trade Entry",
         "NYSEArca",
         "Sarwa Trade"
        ],
        [
         "2023-09-21 00:00:00",
         "buy",
         "NVDA",
         "0.007846034",
         "414.22",
         "-3.25",
         null,
         "USD",
         "Trade Entry",
         "NasdaqGS",
         "Sarwa Trade"
        ]
       ],
       "shape": {
        "columns": 10,
        "rows": 586
       }
      },
      "text/html": [
       "<div>\n",
       "<style scoped>\n",
       "    .dataframe tbody tr th:only-of-type {\n",
       "        vertical-align: middle;\n",
       "    }\n",
       "\n",
       "    .dataframe tbody tr th {\n",
       "        vertical-align: top;\n",
       "    }\n",
       "\n",
       "    .dataframe thead th {\n",
       "        text-align: right;\n",
       "    }\n",
       "</style>\n",
       "<table border=\"1\" class=\"dataframe\">\n",
       "  <thead>\n",
       "    <tr style=\"text-align: right;\">\n",
       "      <th></th>\n",
       "      <th>Type</th>\n",
       "      <th>Symbol</th>\n",
       "      <th>Quantity</th>\n",
       "      <th>Price</th>\n",
       "      <th>Amount</th>\n",
       "      <th>Commission</th>\n",
       "      <th>Currency</th>\n",
       "      <th>Description</th>\n",
       "      <th>Exchange</th>\n",
       "      <th>Source</th>\n",
       "    </tr>\n",
       "    <tr>\n",
       "      <th>Date</th>\n",
       "      <th></th>\n",
       "      <th></th>\n",
       "      <th></th>\n",
       "      <th></th>\n",
       "      <th></th>\n",
       "      <th></th>\n",
       "      <th></th>\n",
       "      <th></th>\n",
       "      <th></th>\n",
       "      <th></th>\n",
       "    </tr>\n",
       "  </thead>\n",
       "  <tbody>\n",
       "    <tr>\n",
       "      <th>2023-02-16</th>\n",
       "      <td>Net Deposit</td>\n",
       "      <td>NaN</td>\n",
       "      <td>NaN</td>\n",
       "      <td>NaN</td>\n",
       "      <td>271.57</td>\n",
       "      <td>NaN</td>\n",
       "      <td>USD</td>\n",
       "      <td>ID: 37fdafdc-d707-42fa-ba74-98b30cf9ab2a - DT2...</td>\n",
       "      <td>US Market</td>\n",
       "      <td>Sarwa Trade</td>\n",
       "    </tr>\n",
       "    <tr>\n",
       "      <th>2023-02-17</th>\n",
       "      <td>buy</td>\n",
       "      <td>PERI</td>\n",
       "      <td>0.407270</td>\n",
       "      <td>33.34</td>\n",
       "      <td>-13.58</td>\n",
       "      <td>NaN</td>\n",
       "      <td>USD</td>\n",
       "      <td>Trade Entry</td>\n",
       "      <td>NasdaqGS</td>\n",
       "      <td>Sarwa Trade</td>\n",
       "    </tr>\n",
       "    <tr>\n",
       "      <th>2023-02-17</th>\n",
       "      <td>buy</td>\n",
       "      <td>TSLA</td>\n",
       "      <td>0.202666</td>\n",
       "      <td>201.02</td>\n",
       "      <td>-40.74</td>\n",
       "      <td>NaN</td>\n",
       "      <td>USD</td>\n",
       "      <td>Trade Entry</td>\n",
       "      <td>NasdaqGS</td>\n",
       "      <td>Sarwa Trade</td>\n",
       "    </tr>\n",
       "    <tr>\n",
       "      <th>2023-02-17</th>\n",
       "      <td>buy</td>\n",
       "      <td>VOO</td>\n",
       "      <td>0.218967</td>\n",
       "      <td>372.07</td>\n",
       "      <td>-81.47</td>\n",
       "      <td>NaN</td>\n",
       "      <td>USD</td>\n",
       "      <td>Trade Entry</td>\n",
       "      <td>NYSEArca</td>\n",
       "      <td>Sarwa Trade</td>\n",
       "    </tr>\n",
       "    <tr>\n",
       "      <th>2023-03-29</th>\n",
       "      <td>Net Dividend</td>\n",
       "      <td>VOO</td>\n",
       "      <td>NaN</td>\n",
       "      <td>NaN</td>\n",
       "      <td>0.24</td>\n",
       "      <td>NaN</td>\n",
       "      <td>USD</td>\n",
       "      <td>Cash DIV @ 1.4874, Pos QTY: 0.218966527, Rec D...</td>\n",
       "      <td>NYSEArca</td>\n",
       "      <td>Sarwa Trade</td>\n",
       "    </tr>\n",
       "    <tr>\n",
       "      <th>...</th>\n",
       "      <td>...</td>\n",
       "      <td>...</td>\n",
       "      <td>...</td>\n",
       "      <td>...</td>\n",
       "      <td>...</td>\n",
       "      <td>...</td>\n",
       "      <td>...</td>\n",
       "      <td>...</td>\n",
       "      <td>...</td>\n",
       "      <td>...</td>\n",
       "    </tr>\n",
       "    <tr>\n",
       "      <th>2025-07-31</th>\n",
       "      <td>Net Dividend</td>\n",
       "      <td>CEFS</td>\n",
       "      <td>NaN</td>\n",
       "      <td>NaN</td>\n",
       "      <td>0.12</td>\n",
       "      <td>NaN</td>\n",
       "      <td>USD</td>\n",
       "      <td>Dividend income from CEFS</td>\n",
       "      <td>Cboe US</td>\n",
       "      <td>Sarwa Trade - Interim</td>\n",
       "    </tr>\n",
       "    <tr>\n",
       "      <th>2025-07-31</th>\n",
       "      <td>Net Dividend</td>\n",
       "      <td>CLM</td>\n",
       "      <td>NaN</td>\n",
       "      <td>NaN</td>\n",
       "      <td>0.24</td>\n",
       "      <td>NaN</td>\n",
       "      <td>USD</td>\n",
       "      <td>Dividend income from CLM</td>\n",
       "      <td>NYSE American</td>\n",
       "      <td>Sarwa Trade - Interim</td>\n",
       "    </tr>\n",
       "    <tr>\n",
       "      <th>2025-07-31</th>\n",
       "      <td>Net Dividend</td>\n",
       "      <td>BRW</td>\n",
       "      <td>NaN</td>\n",
       "      <td>NaN</td>\n",
       "      <td>0.28</td>\n",
       "      <td>NaN</td>\n",
       "      <td>USD</td>\n",
       "      <td>Dividend income from BRW</td>\n",
       "      <td>NYSE</td>\n",
       "      <td>Sarwa Trade - Interim</td>\n",
       "    </tr>\n",
       "    <tr>\n",
       "      <th>2025-07-31</th>\n",
       "      <td>Net Dividend</td>\n",
       "      <td>GOF</td>\n",
       "      <td>NaN</td>\n",
       "      <td>NaN</td>\n",
       "      <td>0.39</td>\n",
       "      <td>NaN</td>\n",
       "      <td>USD</td>\n",
       "      <td>Dividend income from GOF</td>\n",
       "      <td>NYSE</td>\n",
       "      <td>Sarwa Trade - Interim</td>\n",
       "    </tr>\n",
       "    <tr>\n",
       "      <th>2025-07-31</th>\n",
       "      <td>Net Dividend</td>\n",
       "      <td>SPY</td>\n",
       "      <td>NaN</td>\n",
       "      <td>NaN</td>\n",
       "      <td>0.22</td>\n",
       "      <td>NaN</td>\n",
       "      <td>USD</td>\n",
       "      <td>Dividend income from SPY</td>\n",
       "      <td>NYSEArca</td>\n",
       "      <td>Sarwa Trade - Interim</td>\n",
       "    </tr>\n",
       "  </tbody>\n",
       "</table>\n",
       "<p>586 rows × 10 columns</p>\n",
       "</div>"
      ],
      "text/plain": [
       "                    Type Symbol  Quantity   Price  Amount  Commission  \\\n",
       "Date                                                                    \n",
       "2023-02-16   Net Deposit    NaN       NaN     NaN  271.57         NaN   \n",
       "2023-02-17           buy   PERI  0.407270   33.34  -13.58         NaN   \n",
       "2023-02-17           buy   TSLA  0.202666  201.02  -40.74         NaN   \n",
       "2023-02-17           buy    VOO  0.218967  372.07  -81.47         NaN   \n",
       "2023-03-29  Net Dividend    VOO       NaN     NaN    0.24         NaN   \n",
       "...                  ...    ...       ...     ...     ...         ...   \n",
       "2025-07-31  Net Dividend   CEFS       NaN     NaN    0.12         NaN   \n",
       "2025-07-31  Net Dividend    CLM       NaN     NaN    0.24         NaN   \n",
       "2025-07-31  Net Dividend    BRW       NaN     NaN    0.28         NaN   \n",
       "2025-07-31  Net Dividend    GOF       NaN     NaN    0.39         NaN   \n",
       "2025-07-31  Net Dividend    SPY       NaN     NaN    0.22         NaN   \n",
       "\n",
       "           Currency                                        Description  \\\n",
       "Date                                                                     \n",
       "2023-02-16      USD  ID: 37fdafdc-d707-42fa-ba74-98b30cf9ab2a - DT2...   \n",
       "2023-02-17      USD                                        Trade Entry   \n",
       "2023-02-17      USD                                        Trade Entry   \n",
       "2023-02-17      USD                                        Trade Entry   \n",
       "2023-03-29      USD  Cash DIV @ 1.4874, Pos QTY: 0.218966527, Rec D...   \n",
       "...             ...                                                ...   \n",
       "2025-07-31      USD                          Dividend income from CEFS   \n",
       "2025-07-31      USD                           Dividend income from CLM   \n",
       "2025-07-31      USD                           Dividend income from BRW   \n",
       "2025-07-31      USD                           Dividend income from GOF   \n",
       "2025-07-31      USD                           Dividend income from SPY   \n",
       "\n",
       "                 Exchange                 Source  \n",
       "Date                                              \n",
       "2023-02-16      US Market            Sarwa Trade  \n",
       "2023-02-17       NasdaqGS            Sarwa Trade  \n",
       "2023-02-17       NasdaqGS            Sarwa Trade  \n",
       "2023-02-17       NYSEArca            Sarwa Trade  \n",
       "2023-03-29       NYSEArca            Sarwa Trade  \n",
       "...                   ...                    ...  \n",
       "2025-07-31        Cboe US  Sarwa Trade - Interim  \n",
       "2025-07-31  NYSE American  Sarwa Trade - Interim  \n",
       "2025-07-31           NYSE  Sarwa Trade - Interim  \n",
       "2025-07-31           NYSE  Sarwa Trade - Interim  \n",
       "2025-07-31       NYSEArca  Sarwa Trade - Interim  \n",
       "\n",
       "[586 rows x 10 columns]"
      ]
     },
     "metadata": {},
     "output_type": "display_data"
    }
   ],
   "source": [
    "# Create a list of all your transaction log files\n",
    "log_files = [\n",
    "    config.TRANS_LOG_DIR / \"us_mkt_transactions.csv\",\n",
    "    config.TRANS_LOG_DIR / \"exus_mkt_transactions.csv\"\n",
    "]\n",
    "\n",
    "# Load and merge all found logs into a single DataFrame\n",
    "master_log = data_ingestion.create_master_log(log_files).set_index(\"Date\")\n",
    "display(master_log)"
   ]
  },
  {
   "cell_type": "markdown",
   "id": "27820984",
   "metadata": {},
   "source": [
    "### Initialize and Assess Symbols"
   ]
  },
  {
   "cell_type": "code",
   "execution_count": 3,
   "id": "db05a509",
   "metadata": {},
   "outputs": [
    {
     "name": "stdout",
     "output_type": "stream",
     "text": [
      "✅ The following symbols were automatically identified:\n"
     ]
    },
    {
     "data": {
      "application/vnd.microsoft.datawrangler.viewer.v0+json": {
       "columns": [
        {
         "name": "Symbol",
         "rawType": "object",
         "type": "string"
        },
        {
         "name": "Name",
         "rawType": "object",
         "type": "string"
        },
        {
         "name": "Type",
         "rawType": "object",
         "type": "string"
        },
        {
         "name": "Exchange",
         "rawType": "object",
         "type": "string"
        },
        {
         "name": "Currency",
         "rawType": "object",
         "type": "string"
        },
        {
         "name": "Industry",
         "rawType": "object",
         "type": "unknown"
        },
        {
         "name": "Sector",
         "rawType": "object",
         "type": "unknown"
        },
        {
         "name": "Country",
         "rawType": "object",
         "type": "unknown"
        },
        {
         "name": "DataProvider",
         "rawType": "object",
         "type": "string"
        }
       ],
       "ref": "8063a4c3-f9b2-469b-ac53-f301ce4b2a0d",
       "rows": [
        [
         "PERI",
         "Perion Network Ltd.",
         "equity",
         "NasdaqGS",
         "USD",
         "Internet Content & Information",
         "Communication Services",
         "Israel",
         "yfinance"
        ],
        [
         "TSLA",
         "Tesla, Inc.",
         "equity",
         "NasdaqGS",
         "USD",
         "Auto Manufacturers",
         "Consumer Cyclical",
         "United States",
         "yfinance"
        ],
        [
         "VOO",
         "Vanguard S&P 500 ETF",
         "etf",
         "NYSEArca",
         "USD",
         null,
         null,
         null,
         "yfinance"
        ],
        [
         "UAE",
         "iShares MSCI UAE ETF",
         "etf",
         "NasdaqGM",
         "USD",
         null,
         null,
         null,
         "yfinance"
        ],
        [
         "XLK",
         "The Technology Select Sector SPDR Fund",
         "etf",
         "NYSEArca",
         "USD",
         null,
         null,
         null,
         "yfinance"
        ],
        [
         "BTC-USD",
         "Bitcoin USD",
         "cryptocurrency",
         "CCC",
         "USD",
         null,
         null,
         null,
         "yfinance"
        ],
        [
         "VOOG",
         "Vanguard S&P 500 Growth Index Fund ETF Shares",
         "etf",
         "NYSEArca",
         "USD",
         null,
         null,
         null,
         "yfinance"
        ],
        [
         "NOBL",
         "ProShares S&P 500 Dividend Aristocrats ETF",
         "etf",
         "Cboe US",
         "USD",
         null,
         null,
         null,
         "yfinance"
        ],
        [
         "SPY",
         "SPDR S&P 500 ETF",
         "etf",
         "NYSEArca",
         "USD",
         null,
         null,
         null,
         "yfinance"
        ],
        [
         "VHT",
         "Vanguard Health Care Index Fund ETF Shares",
         "etf",
         "NYSEArca",
         "USD",
         null,
         null,
         null,
         "yfinance"
        ],
        [
         "NVDA",
         "NVIDIA Corporation",
         "equity",
         "NasdaqGS",
         "USD",
         "Semiconductors",
         "Technology",
         "United States",
         "yfinance"
        ],
        [
         "SHOP",
         "Shopify Inc.",
         "equity",
         "NasdaqGS",
         "USD",
         "Software - Application",
         "Technology",
         "Canada",
         "yfinance"
        ],
        [
         "LUX",
         "Tema ETF Trust - Tema Luxury ETF",
         "etf",
         "NYSEArca",
         "USD",
         null,
         null,
         null,
         "yfinance"
        ],
        [
         "META",
         "Meta Platforms, Inc.",
         "equity",
         "NasdaqGS",
         "USD",
         "Internet Content & Information",
         "Communication Services",
         "United States",
         "yfinance"
        ],
        [
         "MSFT",
         "Microsoft Corporation",
         "equity",
         "NasdaqGS",
         "USD",
         "Software - Infrastructure",
         "Technology",
         "United States",
         "yfinance"
        ],
        [
         "IBB",
         "iShares Biotechnology ETF",
         "etf",
         "NasdaqGM",
         "USD",
         null,
         null,
         null,
         "yfinance"
        ],
        [
         "SPHY",
         "SPDR Portfolio High Yield Bond ETF",
         "etf",
         "NYSEArca",
         "USD",
         null,
         null,
         null,
         "yfinance"
        ],
        [
         "STIP",
         "iShares 0-5 Year TIPS Bond ETF",
         "etf",
         "NYSEArca",
         "USD",
         null,
         null,
         null,
         "yfinance"
        ],
        [
         "USRT",
         "iShares Core U.S. REIT ETF",
         "etf",
         "NYSEArca",
         "USD",
         null,
         null,
         null,
         "yfinance"
        ],
        [
         "BA",
         "The Boeing Company",
         "equity",
         "NYSE",
         "USD",
         "Aerospace & Defense",
         "Industrials",
         "United States",
         "yfinance"
        ],
        [
         "ADBE",
         "Adobe Inc.",
         "equity",
         "NasdaqGS",
         "USD",
         "Software - Application",
         "Technology",
         "United States",
         "yfinance"
        ],
        [
         "BKNG",
         "Booking Holdings Inc.",
         "equity",
         "NasdaqGS",
         "USD",
         "Travel Services",
         "Consumer Cyclical",
         "United States",
         "yfinance"
        ],
        [
         "CAT",
         "Caterpillar Inc.",
         "equity",
         "NYSE",
         "USD",
         "Farm & Heavy Construction Machinery",
         "Industrials",
         "United States",
         "yfinance"
        ],
        [
         "EL",
         "The Estée Lauder Companies Inc.",
         "equity",
         "NYSE",
         "USD",
         "Household & Personal Products",
         "Consumer Defensive",
         "United States",
         "yfinance"
        ],
        [
         "DE",
         "Deere & Company",
         "equity",
         "NYSE",
         "USD",
         "Farm & Heavy Construction Machinery",
         "Industrials",
         "United States",
         "yfinance"
        ],
        [
         "COIN",
         "Coinbase Global, Inc.",
         "equity",
         "NasdaqGS",
         "USD",
         "Financial Data & Stock Exchanges",
         "Financial Services",
         "United States",
         "yfinance"
        ],
        [
         "OCSL",
         "Oaktree Specialty Lending Corporation",
         "equity",
         "NasdaqGS",
         "USD",
         "Asset Management",
         "Financial Services",
         "United States",
         "yfinance"
        ],
        [
         "TPVG",
         "TriplePoint Venture Growth BDC Corp.",
         "equity",
         "NYSE",
         "USD",
         "Asset Management",
         "Financial Services",
         "United States",
         "yfinance"
        ],
        [
         "GSBD",
         "Goldman Sachs BDC, Inc.",
         "equity",
         "NYSE",
         "USD",
         "Asset Management",
         "Financial Services",
         "United States",
         "yfinance"
        ],
        [
         "LLY",
         "Eli Lilly and Company",
         "equity",
         "NYSE",
         "USD",
         "Drug Manufacturers - General",
         "Healthcare",
         "United States",
         "yfinance"
        ],
        [
         "NVO",
         "Novo Nordisk A/S",
         "equity",
         "NYSE",
         "USD",
         "Drug Manufacturers - General",
         "Healthcare",
         "Denmark",
         "yfinance"
        ],
        [
         "CLM",
         "Cornerstone Strategic Investment Fund, Inc.",
         "equity",
         "NYSE American",
         "USD",
         "Asset Management",
         "Financial Services",
         "United States",
         "yfinance"
        ],
        [
         "CEFS",
         "Saba Closed-End Funds ETF",
         "etf",
         "Cboe US",
         "USD",
         null,
         null,
         null,
         "yfinance"
        ],
        [
         "GOF",
         "Guggenheim Strategic Opportunities Fund",
         "equity",
         "NYSE",
         "USD",
         "Asset Management",
         "Financial Services",
         "United States",
         "yfinance"
        ],
        [
         "SPXL",
         "Direxion Daily S&P500 Bull 3X Shares",
         "etf",
         "NYSEArca",
         "USD",
         null,
         null,
         null,
         "yfinance"
        ],
        [
         "TQQQ",
         "ProShares UltraPro QQQ",
         "etf",
         "NasdaqGM",
         "USD",
         null,
         null,
         null,
         "yfinance"
        ],
        [
         "BRW",
         "Saba Capital Income & Opportunities Fund",
         "equity",
         "NYSE",
         "USD",
         "Asset Management",
         "Financial Services",
         "United States",
         "yfinance"
        ],
        [
         "MOAT",
         "VanEck Morningstar Wide Moat ETF",
         "etf",
         "Cboe US",
         "USD",
         null,
         null,
         null,
         "yfinance"
        ],
        [
         "AMZN",
         "Amazon.com, Inc.",
         "equity",
         "NasdaqGS",
         "USD",
         "Internet Retail",
         "Consumer Cyclical",
         "United States",
         "yfinance"
        ],
        [
         "INDA",
         "iShares MSCI India ETF",
         "etf",
         "Cboe US",
         "USD",
         null,
         null,
         null,
         "yfinance"
        ],
        [
         "KSA",
         "iShares MSCI Saudi Arabia ETF",
         "etf",
         "NYSEArca",
         "USD",
         null,
         null,
         null,
         "yfinance"
        ],
        [
         "SPSM",
         "SPDR Portfolio S&P 600 Small Cap ETF",
         "etf",
         "NYSEArca",
         "USD",
         null,
         null,
         null,
         "yfinance"
        ],
        [
         "VBK",
         "Vanguard Small-Cap Growth Index Fund ETF Shares",
         "etf",
         "NYSEArca",
         "USD",
         null,
         null,
         null,
         "yfinance"
        ],
        [
         "IJR",
         "iShares Core S&P Small-Cap ETF",
         "etf",
         "NYSEArca",
         "USD",
         null,
         null,
         null,
         "yfinance"
        ],
        [
         "PAK",
         "Global X MSCI Pakistan ETF",
         "etf",
         "NYSEArca",
         "USD",
         null,
         null,
         null,
         "yfinance"
        ],
        [
         "MCHI",
         "iShares MSCI China ETF",
         "etf",
         "NasdaqGM",
         "USD",
         null,
         null,
         null,
         "yfinance"
        ],
        [
         "EWJ",
         "iShares MSCI Japan ETF",
         "etf",
         "NYSEArca",
         "USD",
         null,
         null,
         null,
         "yfinance"
        ],
        [
         "MBB",
         "iShares MBS ETF",
         "etf",
         "NasdaqGM",
         "USD",
         null,
         null,
         null,
         "yfinance"
        ],
        [
         "ARKK",
         "ARK Innovation ETF",
         "etf",
         "Cboe US",
         "USD",
         null,
         null,
         null,
         "yfinance"
        ],
        [
         "IPO",
         "Renaissance IPO ETF",
         "etf",
         "NYSEArca",
         "USD",
         null,
         null,
         null,
         "yfinance"
        ]
       ],
       "shape": {
        "columns": 8,
        "rows": 62
       }
      },
      "text/html": [
       "<div>\n",
       "<style scoped>\n",
       "    .dataframe tbody tr th:only-of-type {\n",
       "        vertical-align: middle;\n",
       "    }\n",
       "\n",
       "    .dataframe tbody tr th {\n",
       "        vertical-align: top;\n",
       "    }\n",
       "\n",
       "    .dataframe thead th {\n",
       "        text-align: right;\n",
       "    }\n",
       "</style>\n",
       "<table border=\"1\" class=\"dataframe\">\n",
       "  <thead>\n",
       "    <tr style=\"text-align: right;\">\n",
       "      <th></th>\n",
       "      <th>Name</th>\n",
       "      <th>Type</th>\n",
       "      <th>Exchange</th>\n",
       "      <th>Currency</th>\n",
       "      <th>Industry</th>\n",
       "      <th>Sector</th>\n",
       "      <th>Country</th>\n",
       "      <th>DataProvider</th>\n",
       "    </tr>\n",
       "    <tr>\n",
       "      <th>Symbol</th>\n",
       "      <th></th>\n",
       "      <th></th>\n",
       "      <th></th>\n",
       "      <th></th>\n",
       "      <th></th>\n",
       "      <th></th>\n",
       "      <th></th>\n",
       "      <th></th>\n",
       "    </tr>\n",
       "  </thead>\n",
       "  <tbody>\n",
       "    <tr>\n",
       "      <th>PERI</th>\n",
       "      <td>Perion Network Ltd.</td>\n",
       "      <td>equity</td>\n",
       "      <td>NasdaqGS</td>\n",
       "      <td>USD</td>\n",
       "      <td>Internet Content &amp; Information</td>\n",
       "      <td>Communication Services</td>\n",
       "      <td>Israel</td>\n",
       "      <td>yfinance</td>\n",
       "    </tr>\n",
       "    <tr>\n",
       "      <th>TSLA</th>\n",
       "      <td>Tesla, Inc.</td>\n",
       "      <td>equity</td>\n",
       "      <td>NasdaqGS</td>\n",
       "      <td>USD</td>\n",
       "      <td>Auto Manufacturers</td>\n",
       "      <td>Consumer Cyclical</td>\n",
       "      <td>United States</td>\n",
       "      <td>yfinance</td>\n",
       "    </tr>\n",
       "    <tr>\n",
       "      <th>VOO</th>\n",
       "      <td>Vanguard S&amp;P 500 ETF</td>\n",
       "      <td>etf</td>\n",
       "      <td>NYSEArca</td>\n",
       "      <td>USD</td>\n",
       "      <td>None</td>\n",
       "      <td>None</td>\n",
       "      <td>None</td>\n",
       "      <td>yfinance</td>\n",
       "    </tr>\n",
       "    <tr>\n",
       "      <th>UAE</th>\n",
       "      <td>iShares MSCI UAE ETF</td>\n",
       "      <td>etf</td>\n",
       "      <td>NasdaqGM</td>\n",
       "      <td>USD</td>\n",
       "      <td>None</td>\n",
       "      <td>None</td>\n",
       "      <td>None</td>\n",
       "      <td>yfinance</td>\n",
       "    </tr>\n",
       "    <tr>\n",
       "      <th>XLK</th>\n",
       "      <td>The Technology Select Sector SPDR Fund</td>\n",
       "      <td>etf</td>\n",
       "      <td>NYSEArca</td>\n",
       "      <td>USD</td>\n",
       "      <td>None</td>\n",
       "      <td>None</td>\n",
       "      <td>None</td>\n",
       "      <td>yfinance</td>\n",
       "    </tr>\n",
       "    <tr>\n",
       "      <th>...</th>\n",
       "      <td>...</td>\n",
       "      <td>...</td>\n",
       "      <td>...</td>\n",
       "      <td>...</td>\n",
       "      <td>...</td>\n",
       "      <td>...</td>\n",
       "      <td>...</td>\n",
       "      <td>...</td>\n",
       "    </tr>\n",
       "    <tr>\n",
       "      <th>JPMB</th>\n",
       "      <td>JPMorgan USD Emerging Markets Sovereign Bond ETF</td>\n",
       "      <td>etf</td>\n",
       "      <td>NYSEArca</td>\n",
       "      <td>USD</td>\n",
       "      <td>None</td>\n",
       "      <td>None</td>\n",
       "      <td>None</td>\n",
       "      <td>yfinance</td>\n",
       "    </tr>\n",
       "    <tr>\n",
       "      <th>SMOT</th>\n",
       "      <td>VanEck Morningstar SMID Moat ETF</td>\n",
       "      <td>etf</td>\n",
       "      <td>Cboe US</td>\n",
       "      <td>USD</td>\n",
       "      <td>None</td>\n",
       "      <td>None</td>\n",
       "      <td>None</td>\n",
       "      <td>yfinance</td>\n",
       "    </tr>\n",
       "    <tr>\n",
       "      <th>XLV</th>\n",
       "      <td>The Health Care Select Sector SPDR Fund</td>\n",
       "      <td>etf</td>\n",
       "      <td>NYSEArca</td>\n",
       "      <td>USD</td>\n",
       "      <td>None</td>\n",
       "      <td>None</td>\n",
       "      <td>None</td>\n",
       "      <td>yfinance</td>\n",
       "    </tr>\n",
       "    <tr>\n",
       "      <th>BX</th>\n",
       "      <td>Blackstone Inc.</td>\n",
       "      <td>equity</td>\n",
       "      <td>NYSE</td>\n",
       "      <td>USD</td>\n",
       "      <td>Asset Management</td>\n",
       "      <td>Financial Services</td>\n",
       "      <td>United States</td>\n",
       "      <td>yfinance</td>\n",
       "    </tr>\n",
       "    <tr>\n",
       "      <th>BRK-B</th>\n",
       "      <td>Berkshire Hathaway Inc.</td>\n",
       "      <td>equity</td>\n",
       "      <td>NYSE</td>\n",
       "      <td>USD</td>\n",
       "      <td>Insurance - Diversified</td>\n",
       "      <td>Financial Services</td>\n",
       "      <td>United States</td>\n",
       "      <td>yfinance</td>\n",
       "    </tr>\n",
       "  </tbody>\n",
       "</table>\n",
       "<p>62 rows × 8 columns</p>\n",
       "</div>"
      ],
      "text/plain": [
       "                                                    Name    Type  Exchange  \\\n",
       "Symbol                                                                       \n",
       "PERI                                 Perion Network Ltd.  equity  NasdaqGS   \n",
       "TSLA                                         Tesla, Inc.  equity  NasdaqGS   \n",
       "VOO                                 Vanguard S&P 500 ETF     etf  NYSEArca   \n",
       "UAE                                 iShares MSCI UAE ETF     etf  NasdaqGM   \n",
       "XLK               The Technology Select Sector SPDR Fund     etf  NYSEArca   \n",
       "...                                                  ...     ...       ...   \n",
       "JPMB    JPMorgan USD Emerging Markets Sovereign Bond ETF     etf  NYSEArca   \n",
       "SMOT                    VanEck Morningstar SMID Moat ETF     etf   Cboe US   \n",
       "XLV              The Health Care Select Sector SPDR Fund     etf  NYSEArca   \n",
       "BX                                       Blackstone Inc.  equity      NYSE   \n",
       "BRK-B                            Berkshire Hathaway Inc.  equity      NYSE   \n",
       "\n",
       "       Currency                        Industry                  Sector  \\\n",
       "Symbol                                                                    \n",
       "PERI        USD  Internet Content & Information  Communication Services   \n",
       "TSLA        USD              Auto Manufacturers       Consumer Cyclical   \n",
       "VOO         USD                            None                    None   \n",
       "UAE         USD                            None                    None   \n",
       "XLK         USD                            None                    None   \n",
       "...         ...                             ...                     ...   \n",
       "JPMB        USD                            None                    None   \n",
       "SMOT        USD                            None                    None   \n",
       "XLV         USD                            None                    None   \n",
       "BX          USD                Asset Management      Financial Services   \n",
       "BRK-B       USD         Insurance - Diversified      Financial Services   \n",
       "\n",
       "              Country DataProvider  \n",
       "Symbol                              \n",
       "PERI           Israel     yfinance  \n",
       "TSLA    United States     yfinance  \n",
       "VOO              None     yfinance  \n",
       "UAE              None     yfinance  \n",
       "XLK              None     yfinance  \n",
       "...               ...          ...  \n",
       "JPMB             None     yfinance  \n",
       "SMOT             None     yfinance  \n",
       "XLV              None     yfinance  \n",
       "BX      United States     yfinance  \n",
       "BRK-B   United States     yfinance  \n",
       "\n",
       "[62 rows x 8 columns]"
      ]
     },
     "metadata": {},
     "output_type": "display_data"
    },
    {
     "name": "stdout",
     "output_type": "stream",
     "text": [
      "❌ The following symbols were NOT found:\n",
      "['ALDAR', 'BURJEEL', 'CHADX15', 'IHC', 'EMAAR', 'MULTIPLY']\n"
     ]
    }
   ],
   "source": [
    "# 1. Initialize the Symbol manager\n",
    "symbol_manager = Symbols(master_log)\n",
    "\n",
    "# 2. Assess all symbols (checks cache and yfinance, creates templates for missing symbols)\n",
    "symbol_manager.assess()\n",
    "\n",
    "# 3. Display the results for user verification\n",
    "print(\"✅ The following symbols were automatically identified:\")\n",
    "found_df = symbol_manager.get_found()\n",
    "display(found_df)\n",
    "\n",
    "print(\"❌ The following symbols were NOT found:\")\n",
    "missing_list = symbol_manager.get_missing()\n",
    "print(missing_list)"
   ]
  },
  {
   "cell_type": "markdown",
   "id": "6166dde7",
   "metadata": {},
   "source": [
    "### User Correction Step"
   ]
  },
  {
   "cell_type": "markdown",
   "id": "5ee26449",
   "metadata": {},
   "source": [
    "Reviews the output from the cell above and lists any symbols that were incorrectly identified by the data provider (e.g. `yfinance`)."
   ]
  },
  {
   "cell_type": "code",
   "execution_count": 4,
   "id": "05d7cce7",
   "metadata": {},
   "outputs": [
    {
     "name": "stdout",
     "output_type": "stream",
     "text": [
      "Updating cache for incorrectly identified symbols: ['AMR', 'ASM']\n",
      "Caches updated successfully.\n"
     ]
    }
   ],
   "source": [
    "# User reviews the table above and populates this list\n",
    "incorrectly_identified_symbols = [\n",
    "    'AMR', 'ASM'\n",
    "]\n",
    "\n",
    "# Mark these symbols as user-provided, which also updates the metadata template\n",
    "symbol_manager.mark_as_manual(incorrectly_identified_symbols)"
   ]
  },
  {
   "cell_type": "markdown",
   "id": "8299845b",
   "metadata": {},
   "source": [
    "### Manual Task"
   ]
  },
  {
   "cell_type": "markdown",
   "id": "0faf8cb5",
   "metadata": {},
   "source": [
    "1) Open the file: `data/manual-source/metadata.json`.\n",
    "2) Fill in the `null` values for all the symbols listed.\n",
    "3) For each of those same symbols, add a price history CSV file to the `data/manual-source/` directory."
   ]
  },
  {
   "cell_type": "markdown",
   "id": "31ac1f82",
   "metadata": {},
   "source": [
    "### Reload Metadata and Get Final DataFrame"
   ]
  },
  {
   "cell_type": "code",
   "execution_count": 5,
   "id": "224c82ba",
   "metadata": {},
   "outputs": [
    {
     "name": "stdout",
     "output_type": "stream",
     "text": [
      "Reloading user-provided metadata from disk...\n",
      "User metadata reloaded successfully.\n",
      "Successfully created unified symbols DataFrame.\n",
      "--- Final Unified Symbol Metadata ---\n"
     ]
    },
    {
     "data": {
      "application/vnd.microsoft.datawrangler.viewer.v0+json": {
       "columns": [
        {
         "name": "Symbol",
         "rawType": "object",
         "type": "string"
        },
        {
         "name": "Name",
         "rawType": "object",
         "type": "string"
        },
        {
         "name": "Type",
         "rawType": "object",
         "type": "string"
        },
        {
         "name": "Exchange",
         "rawType": "object",
         "type": "string"
        },
        {
         "name": "Currency",
         "rawType": "object",
         "type": "string"
        },
        {
         "name": "Industry",
         "rawType": "object",
         "type": "unknown"
        },
        {
         "name": "Sector",
         "rawType": "object",
         "type": "unknown"
        },
        {
         "name": "Country",
         "rawType": "object",
         "type": "unknown"
        },
        {
         "name": "DataProvider",
         "rawType": "object",
         "type": "string"
        }
       ],
       "ref": "906ae6e1-0b68-4bce-b864-575450a94f32",
       "rows": [
        [
         "PERI",
         "Perion Network Ltd.",
         "equity",
         "NasdaqGS",
         "USD",
         "Internet Content & Information",
         "Communication Services",
         "Israel",
         "yfinance"
        ],
        [
         "TSLA",
         "Tesla, Inc.",
         "equity",
         "NasdaqGS",
         "USD",
         "Auto Manufacturers",
         "Consumer Cyclical",
         "United States",
         "yfinance"
        ],
        [
         "VOO",
         "Vanguard S&P 500 ETF",
         "etf",
         "NYSEArca",
         "USD",
         null,
         null,
         null,
         "yfinance"
        ],
        [
         "UAE",
         "iShares MSCI UAE ETF",
         "etf",
         "NasdaqGM",
         "USD",
         null,
         null,
         null,
         "yfinance"
        ],
        [
         "XLK",
         "The Technology Select Sector SPDR Fund",
         "etf",
         "NYSEArca",
         "USD",
         null,
         null,
         null,
         "yfinance"
        ],
        [
         "BTC-USD",
         "Bitcoin USD",
         "cryptocurrency",
         "CCC",
         "USD",
         null,
         null,
         null,
         "yfinance"
        ],
        [
         "VOOG",
         "Vanguard S&P 500 Growth Index Fund ETF Shares",
         "etf",
         "NYSEArca",
         "USD",
         null,
         null,
         null,
         "yfinance"
        ],
        [
         "NOBL",
         "ProShares S&P 500 Dividend Aristocrats ETF",
         "etf",
         "Cboe US",
         "USD",
         null,
         null,
         null,
         "yfinance"
        ],
        [
         "SPY",
         "SPDR S&P 500 ETF",
         "etf",
         "NYSEArca",
         "USD",
         null,
         null,
         null,
         "yfinance"
        ],
        [
         "VHT",
         "Vanguard Health Care Index Fund ETF Shares",
         "etf",
         "NYSEArca",
         "USD",
         null,
         null,
         null,
         "yfinance"
        ],
        [
         "NVDA",
         "NVIDIA Corporation",
         "equity",
         "NasdaqGS",
         "USD",
         "Semiconductors",
         "Technology",
         "United States",
         "yfinance"
        ],
        [
         "SHOP",
         "Shopify Inc.",
         "equity",
         "NasdaqGS",
         "USD",
         "Software - Application",
         "Technology",
         "Canada",
         "yfinance"
        ],
        [
         "LUX",
         "Tema ETF Trust - Tema Luxury ETF",
         "etf",
         "NYSEArca",
         "USD",
         null,
         null,
         null,
         "yfinance"
        ],
        [
         "META",
         "Meta Platforms, Inc.",
         "equity",
         "NasdaqGS",
         "USD",
         "Internet Content & Information",
         "Communication Services",
         "United States",
         "yfinance"
        ],
        [
         "MSFT",
         "Microsoft Corporation",
         "equity",
         "NasdaqGS",
         "USD",
         "Software - Infrastructure",
         "Technology",
         "United States",
         "yfinance"
        ],
        [
         "IBB",
         "iShares Biotechnology ETF",
         "etf",
         "NasdaqGM",
         "USD",
         null,
         null,
         null,
         "yfinance"
        ],
        [
         "SPHY",
         "SPDR Portfolio High Yield Bond ETF",
         "etf",
         "NYSEArca",
         "USD",
         null,
         null,
         null,
         "yfinance"
        ],
        [
         "STIP",
         "iShares 0-5 Year TIPS Bond ETF",
         "etf",
         "NYSEArca",
         "USD",
         null,
         null,
         null,
         "yfinance"
        ],
        [
         "USRT",
         "iShares Core U.S. REIT ETF",
         "etf",
         "NYSEArca",
         "USD",
         null,
         null,
         null,
         "yfinance"
        ],
        [
         "BA",
         "The Boeing Company",
         "equity",
         "NYSE",
         "USD",
         "Aerospace & Defense",
         "Industrials",
         "United States",
         "yfinance"
        ],
        [
         "ADBE",
         "Adobe Inc.",
         "equity",
         "NasdaqGS",
         "USD",
         "Software - Application",
         "Technology",
         "United States",
         "yfinance"
        ],
        [
         "BKNG",
         "Booking Holdings Inc.",
         "equity",
         "NasdaqGS",
         "USD",
         "Travel Services",
         "Consumer Cyclical",
         "United States",
         "yfinance"
        ],
        [
         "CAT",
         "Caterpillar Inc.",
         "equity",
         "NYSE",
         "USD",
         "Farm & Heavy Construction Machinery",
         "Industrials",
         "United States",
         "yfinance"
        ],
        [
         "EL",
         "The Estée Lauder Companies Inc.",
         "equity",
         "NYSE",
         "USD",
         "Household & Personal Products",
         "Consumer Defensive",
         "United States",
         "yfinance"
        ],
        [
         "DE",
         "Deere & Company",
         "equity",
         "NYSE",
         "USD",
         "Farm & Heavy Construction Machinery",
         "Industrials",
         "United States",
         "yfinance"
        ],
        [
         "COIN",
         "Coinbase Global, Inc.",
         "equity",
         "NasdaqGS",
         "USD",
         "Financial Data & Stock Exchanges",
         "Financial Services",
         "United States",
         "yfinance"
        ],
        [
         "OCSL",
         "Oaktree Specialty Lending Corporation",
         "equity",
         "NasdaqGS",
         "USD",
         "Asset Management",
         "Financial Services",
         "United States",
         "yfinance"
        ],
        [
         "TPVG",
         "TriplePoint Venture Growth BDC Corp.",
         "equity",
         "NYSE",
         "USD",
         "Asset Management",
         "Financial Services",
         "United States",
         "yfinance"
        ],
        [
         "GSBD",
         "Goldman Sachs BDC, Inc.",
         "equity",
         "NYSE",
         "USD",
         "Asset Management",
         "Financial Services",
         "United States",
         "yfinance"
        ],
        [
         "LLY",
         "Eli Lilly and Company",
         "equity",
         "NYSE",
         "USD",
         "Drug Manufacturers - General",
         "Healthcare",
         "United States",
         "yfinance"
        ],
        [
         "NVO",
         "Novo Nordisk A/S",
         "equity",
         "NYSE",
         "USD",
         "Drug Manufacturers - General",
         "Healthcare",
         "Denmark",
         "yfinance"
        ],
        [
         "CLM",
         "Cornerstone Strategic Investment Fund, Inc.",
         "equity",
         "NYSE American",
         "USD",
         "Asset Management",
         "Financial Services",
         "United States",
         "yfinance"
        ],
        [
         "CEFS",
         "Saba Closed-End Funds ETF",
         "etf",
         "Cboe US",
         "USD",
         null,
         null,
         null,
         "yfinance"
        ],
        [
         "GOF",
         "Guggenheim Strategic Opportunities Fund",
         "equity",
         "NYSE",
         "USD",
         "Asset Management",
         "Financial Services",
         "United States",
         "yfinance"
        ],
        [
         "SPXL",
         "Direxion Daily S&P500 Bull 3X Shares",
         "etf",
         "NYSEArca",
         "USD",
         null,
         null,
         null,
         "yfinance"
        ],
        [
         "TQQQ",
         "ProShares UltraPro QQQ",
         "etf",
         "NasdaqGM",
         "USD",
         null,
         null,
         null,
         "yfinance"
        ],
        [
         "BRW",
         "Saba Capital Income & Opportunities Fund",
         "equity",
         "NYSE",
         "USD",
         "Asset Management",
         "Financial Services",
         "United States",
         "yfinance"
        ],
        [
         "MOAT",
         "VanEck Morningstar Wide Moat ETF",
         "etf",
         "Cboe US",
         "USD",
         null,
         null,
         null,
         "yfinance"
        ],
        [
         "AMZN",
         "Amazon.com, Inc.",
         "equity",
         "NasdaqGS",
         "USD",
         "Internet Retail",
         "Consumer Cyclical",
         "United States",
         "yfinance"
        ],
        [
         "INDA",
         "iShares MSCI India ETF",
         "etf",
         "Cboe US",
         "USD",
         null,
         null,
         null,
         "yfinance"
        ],
        [
         "KSA",
         "iShares MSCI Saudi Arabia ETF",
         "etf",
         "NYSEArca",
         "USD",
         null,
         null,
         null,
         "yfinance"
        ],
        [
         "SPSM",
         "SPDR Portfolio S&P 600 Small Cap ETF",
         "etf",
         "NYSEArca",
         "USD",
         null,
         null,
         null,
         "yfinance"
        ],
        [
         "VBK",
         "Vanguard Small-Cap Growth Index Fund ETF Shares",
         "etf",
         "NYSEArca",
         "USD",
         null,
         null,
         null,
         "yfinance"
        ],
        [
         "IJR",
         "iShares Core S&P Small-Cap ETF",
         "etf",
         "NYSEArca",
         "USD",
         null,
         null,
         null,
         "yfinance"
        ],
        [
         "PAK",
         "Global X MSCI Pakistan ETF",
         "etf",
         "NYSEArca",
         "USD",
         null,
         null,
         null,
         "yfinance"
        ],
        [
         "MCHI",
         "iShares MSCI China ETF",
         "etf",
         "NasdaqGM",
         "USD",
         null,
         null,
         null,
         "yfinance"
        ],
        [
         "EWJ",
         "iShares MSCI Japan ETF",
         "etf",
         "NYSEArca",
         "USD",
         null,
         null,
         null,
         "yfinance"
        ],
        [
         "MBB",
         "iShares MBS ETF",
         "etf",
         "NasdaqGM",
         "USD",
         null,
         null,
         null,
         "yfinance"
        ],
        [
         "ARKK",
         "ARK Innovation ETF",
         "etf",
         "Cboe US",
         "USD",
         null,
         null,
         null,
         "yfinance"
        ],
        [
         "IPO",
         "Renaissance IPO ETF",
         "etf",
         "NYSEArca",
         "USD",
         null,
         null,
         null,
         "yfinance"
        ]
       ],
       "shape": {
        "columns": 8,
        "rows": 70
       }
      },
      "text/html": [
       "<div>\n",
       "<style scoped>\n",
       "    .dataframe tbody tr th:only-of-type {\n",
       "        vertical-align: middle;\n",
       "    }\n",
       "\n",
       "    .dataframe tbody tr th {\n",
       "        vertical-align: top;\n",
       "    }\n",
       "\n",
       "    .dataframe thead th {\n",
       "        text-align: right;\n",
       "    }\n",
       "</style>\n",
       "<table border=\"1\" class=\"dataframe\">\n",
       "  <thead>\n",
       "    <tr style=\"text-align: right;\">\n",
       "      <th></th>\n",
       "      <th>Name</th>\n",
       "      <th>Type</th>\n",
       "      <th>Exchange</th>\n",
       "      <th>Currency</th>\n",
       "      <th>Industry</th>\n",
       "      <th>Sector</th>\n",
       "      <th>Country</th>\n",
       "      <th>DataProvider</th>\n",
       "    </tr>\n",
       "    <tr>\n",
       "      <th>Symbol</th>\n",
       "      <th></th>\n",
       "      <th></th>\n",
       "      <th></th>\n",
       "      <th></th>\n",
       "      <th></th>\n",
       "      <th></th>\n",
       "      <th></th>\n",
       "      <th></th>\n",
       "    </tr>\n",
       "  </thead>\n",
       "  <tbody>\n",
       "    <tr>\n",
       "      <th>PERI</th>\n",
       "      <td>Perion Network Ltd.</td>\n",
       "      <td>equity</td>\n",
       "      <td>NasdaqGS</td>\n",
       "      <td>USD</td>\n",
       "      <td>Internet Content &amp; Information</td>\n",
       "      <td>Communication Services</td>\n",
       "      <td>Israel</td>\n",
       "      <td>yfinance</td>\n",
       "    </tr>\n",
       "    <tr>\n",
       "      <th>TSLA</th>\n",
       "      <td>Tesla, Inc.</td>\n",
       "      <td>equity</td>\n",
       "      <td>NasdaqGS</td>\n",
       "      <td>USD</td>\n",
       "      <td>Auto Manufacturers</td>\n",
       "      <td>Consumer Cyclical</td>\n",
       "      <td>United States</td>\n",
       "      <td>yfinance</td>\n",
       "    </tr>\n",
       "    <tr>\n",
       "      <th>VOO</th>\n",
       "      <td>Vanguard S&amp;P 500 ETF</td>\n",
       "      <td>etf</td>\n",
       "      <td>NYSEArca</td>\n",
       "      <td>USD</td>\n",
       "      <td>None</td>\n",
       "      <td>None</td>\n",
       "      <td>None</td>\n",
       "      <td>yfinance</td>\n",
       "    </tr>\n",
       "    <tr>\n",
       "      <th>UAE</th>\n",
       "      <td>iShares MSCI UAE ETF</td>\n",
       "      <td>etf</td>\n",
       "      <td>NasdaqGM</td>\n",
       "      <td>USD</td>\n",
       "      <td>None</td>\n",
       "      <td>None</td>\n",
       "      <td>None</td>\n",
       "      <td>yfinance</td>\n",
       "    </tr>\n",
       "    <tr>\n",
       "      <th>XLK</th>\n",
       "      <td>The Technology Select Sector SPDR Fund</td>\n",
       "      <td>etf</td>\n",
       "      <td>NYSEArca</td>\n",
       "      <td>USD</td>\n",
       "      <td>None</td>\n",
       "      <td>None</td>\n",
       "      <td>None</td>\n",
       "      <td>yfinance</td>\n",
       "    </tr>\n",
       "    <tr>\n",
       "      <th>...</th>\n",
       "      <td>...</td>\n",
       "      <td>...</td>\n",
       "      <td>...</td>\n",
       "      <td>...</td>\n",
       "      <td>...</td>\n",
       "      <td>...</td>\n",
       "      <td>...</td>\n",
       "      <td>...</td>\n",
       "    </tr>\n",
       "    <tr>\n",
       "      <th>IHC</th>\n",
       "      <td>International Holding Company PJSC</td>\n",
       "      <td>equity</td>\n",
       "      <td>ADX</td>\n",
       "      <td>AED</td>\n",
       "      <td>Industrials</td>\n",
       "      <td>Conglomerates</td>\n",
       "      <td>United Arab Emirates</td>\n",
       "      <td>manual</td>\n",
       "    </tr>\n",
       "    <tr>\n",
       "      <th>EMAAR</th>\n",
       "      <td>Emaar Properties PJSC</td>\n",
       "      <td>equity</td>\n",
       "      <td>DFM</td>\n",
       "      <td>AED</td>\n",
       "      <td>Real Estate - Development</td>\n",
       "      <td>Real Estate</td>\n",
       "      <td>United Arab Emirates</td>\n",
       "      <td>manual</td>\n",
       "    </tr>\n",
       "    <tr>\n",
       "      <th>MULTIPLY</th>\n",
       "      <td>Multiply Group PJSC</td>\n",
       "      <td>equity</td>\n",
       "      <td>ADX</td>\n",
       "      <td>AED</td>\n",
       "      <td>Financials</td>\n",
       "      <td>Asset Management</td>\n",
       "      <td>United Arab Emirates</td>\n",
       "      <td>manual</td>\n",
       "    </tr>\n",
       "    <tr>\n",
       "      <th>ASM</th>\n",
       "      <td>Al Seer Marine Supplies &amp; Equipment Company P....</td>\n",
       "      <td>equity</td>\n",
       "      <td>ADX</td>\n",
       "      <td>AED</td>\n",
       "      <td>Industrials</td>\n",
       "      <td>Marine Shipping</td>\n",
       "      <td>United Arab Emirates</td>\n",
       "      <td>manual</td>\n",
       "    </tr>\n",
       "    <tr>\n",
       "      <th>AMR</th>\n",
       "      <td>Americana Restaurants International PLC</td>\n",
       "      <td>equity</td>\n",
       "      <td>ADX</td>\n",
       "      <td>AED</td>\n",
       "      <td>Consumer Cyclical</td>\n",
       "      <td>Restaurants</td>\n",
       "      <td>United Arab Emirates</td>\n",
       "      <td>manual</td>\n",
       "    </tr>\n",
       "  </tbody>\n",
       "</table>\n",
       "<p>70 rows × 8 columns</p>\n",
       "</div>"
      ],
      "text/plain": [
       "                                                       Name    Type  Exchange  \\\n",
       "Symbol                                                                          \n",
       "PERI                                    Perion Network Ltd.  equity  NasdaqGS   \n",
       "TSLA                                            Tesla, Inc.  equity  NasdaqGS   \n",
       "VOO                                    Vanguard S&P 500 ETF     etf  NYSEArca   \n",
       "UAE                                    iShares MSCI UAE ETF     etf  NasdaqGM   \n",
       "XLK                  The Technology Select Sector SPDR Fund     etf  NYSEArca   \n",
       "...                                                     ...     ...       ...   \n",
       "IHC                      International Holding Company PJSC  equity       ADX   \n",
       "EMAAR                                 Emaar Properties PJSC  equity       DFM   \n",
       "MULTIPLY                                Multiply Group PJSC  equity       ADX   \n",
       "ASM       Al Seer Marine Supplies & Equipment Company P....  equity       ADX   \n",
       "AMR                 Americana Restaurants International PLC  equity       ADX   \n",
       "\n",
       "         Currency                        Industry                  Sector  \\\n",
       "Symbol                                                                      \n",
       "PERI          USD  Internet Content & Information  Communication Services   \n",
       "TSLA          USD              Auto Manufacturers       Consumer Cyclical   \n",
       "VOO           USD                            None                    None   \n",
       "UAE           USD                            None                    None   \n",
       "XLK           USD                            None                    None   \n",
       "...           ...                             ...                     ...   \n",
       "IHC           AED                     Industrials           Conglomerates   \n",
       "EMAAR         AED       Real Estate - Development             Real Estate   \n",
       "MULTIPLY      AED                      Financials        Asset Management   \n",
       "ASM           AED                     Industrials         Marine Shipping   \n",
       "AMR           AED               Consumer Cyclical             Restaurants   \n",
       "\n",
       "                       Country DataProvider  \n",
       "Symbol                                       \n",
       "PERI                    Israel     yfinance  \n",
       "TSLA             United States     yfinance  \n",
       "VOO                       None     yfinance  \n",
       "UAE                       None     yfinance  \n",
       "XLK                       None     yfinance  \n",
       "...                        ...          ...  \n",
       "IHC       United Arab Emirates       manual  \n",
       "EMAAR     United Arab Emirates       manual  \n",
       "MULTIPLY  United Arab Emirates       manual  \n",
       "ASM       United Arab Emirates       manual  \n",
       "AMR       United Arab Emirates       manual  \n",
       "\n",
       "[70 rows x 8 columns]"
      ]
     },
     "metadata": {},
     "output_type": "display_data"
    }
   ],
   "source": [
    "# Reload the user-edited file from disk\n",
    "symbol_manager.reload_user_metadata()\n",
    "\n",
    "# Get the final, combined DataFrame of all symbol metadata\n",
    "symbol_df = symbol_manager.get_unified_df()\n",
    "\n",
    "print(\"--- Final Unified Symbol Metadata ---\")\n",
    "display(symbol_df)"
   ]
  },
  {
   "cell_type": "markdown",
   "id": "e92723c5",
   "metadata": {},
   "source": [
    "### Initialize and Run Portfolio Analysis"
   ]
  },
  {
   "cell_type": "code",
   "execution_count": 6,
   "id": "a6dc135c",
   "metadata": {},
   "outputs": [
    {
     "name": "stdout",
     "output_type": "stream",
     "text": [
      "Portfolio object initialized.\n",
      "Preparing trade log...\n",
      "Fetching price and split data...\n",
      "Successfully created unified symbols DataFrame.\n",
      "Converting prices to base currency (USD)...\n",
      "Successfully created unified symbols DataFrame.\n",
      "Fetching FX rate for AEDUSD=X...\n",
      "Calculating daily holdings and value...\n",
      "Calculating split-adjusted holdings and market value...\n",
      "Calculations complete.\n"
     ]
    }
   ],
   "source": [
    "# Get the project date range\n",
    "start_date, end_date, date_range, last_market_day = config.project_dates(\n",
    "    master_log.index\n",
    ")\n",
    "\n",
    "# 1. Initialize the Portfolio analysis engine\n",
    "portfolio = Portfolio(master_log, symbol_manager, date_range, last_market_day)\n",
    "\n",
    "# 2. Run all calculations (fetching prices, calculating holdings and value)\n",
    "portfolio.calculate_holdings_and_value()"
   ]
  },
  {
   "cell_type": "markdown",
   "id": "19620e63",
   "metadata": {},
   "source": [
    "### Display Results"
   ]
  },
  {
   "cell_type": "code",
   "execution_count": 7,
   "id": "f3231de0",
   "metadata": {},
   "outputs": [
    {
     "data": {
      "application/vnd.microsoft.datawrangler.viewer.v0+json": {
       "columns": [
        {
         "name": "index",
         "rawType": "object",
         "type": "string"
        },
        {
         "name": "Shares",
         "rawType": "float64",
         "type": "float"
        },
        {
         "name": "Market Value (USD)",
         "rawType": "float64",
         "type": "float"
        }
       ],
       "ref": "647e5ae3-43e2-4b60-9329-35e32286a5b1",
       "rows": [
        [
         "VOO",
         "1.552063265",
         "887.0196917370178"
        ],
        [
         "XLK",
         "1.223873376",
         "314.64560175388186"
        ],
        [
         "BTC-USD",
         "0.00032419999999999997",
         "36.778863934374996"
        ],
        [
         "VOOG",
         "0.7229965309999999",
         "291.33146099209125"
        ],
        [
         "SPY",
         "0.17767607300000002",
         "110.47009838775001"
        ],
        [
         "LUX",
         "2.0",
         "46.84859848022461"
        ],
        [
         "META",
         "0.138582491",
         "103.93825542825464"
        ],
        [
         "MSFT",
         "0.255834079",
         "134.0851953971205"
        ],
        [
         "IBB",
         "0.047021696",
         "6.255766120142578"
        ],
        [
         "NVDA",
         "0.25039711099999995",
         "43.49898642858053"
        ],
        [
         "USRT",
         "0.167590075",
         "9.34314668125"
        ],
        [
         "ADBE",
         "6.938893903907228e-18",
         "2.4133472150756393e-15"
        ],
        [
         "EL",
         "1.3877787807814457e-17",
         "1.2631701757240893e-15"
        ],
        [
         "BA",
         "6.938893903907228e-18",
         "1.5394630057560224e-15"
        ],
        [
         "OCSL",
         "1.042268639",
         "14.133163182193327"
        ],
        [
         "TPVG",
         "4.0",
         "27.1200008392334"
        ],
        [
         "LLY",
         "0.062060405",
         "47.330369388396605"
        ],
        [
         "GSBD",
         "2.436460888",
         "26.91071069384721"
        ],
        [
         "MOAT",
         "1.3996206409999996",
         "134.11164939348964"
        ],
        [
         "BRW",
         "4.707717967",
         "39.59190738412924"
        ],
        [
         "CEFS",
         "1.1142671480000002",
         "24.71444568268735"
        ],
        [
         "CLM",
         "2.8169410829999997",
         "22.620036144285574"
        ],
        [
         "GOF",
         "3.0",
         "44.47499942779541"
        ],
        [
         "BURJEEL",
         "15.0",
         "5.962590819597243"
        ],
        [
         "CHADX15",
         "106.0",
         "106.20490533828733"
        ],
        [
         "EMAAR",
         "10.0",
         "41.65645641088485"
        ],
        [
         "MULTIPLY",
         "12.0",
         "9.115412814617155"
        ],
        [
         "ASM",
         "2.0",
         "2.074654887914657"
        ],
        [
         "AMR",
         "5.0",
         "2.88600286245346"
        ],
        [
         "AMZN",
         "0.14997977499999998",
         "32.208156681249996"
        ],
        [
         "INDA",
         "0.877661151",
         "46.27907209046861"
        ],
        [
         "IJR",
         "0.22721489",
         "24.645999395661928"
        ],
        [
         "IPO",
         "1.288475687",
         "58.88591541474127"
        ],
        [
         "VXUS",
         "0.716810028",
         "48.91511477944858"
        ],
        [
         "XLF",
         "1.309463788",
         "67.31953314127168"
        ],
        [
         "ARM",
         "0.080825933",
         "11.120032010136704"
        ],
        [
         "RYAAY",
         "0.31546657037700004",
         "19.59678301486459"
        ],
        [
         "APO",
         "0.534728857",
         "73.93962943794907"
        ],
        [
         "KKR",
         "0.378201587",
         "53.906964588060575"
        ],
        [
         "JPMB",
         "1.688699255",
         "65.97747937749989"
        ],
        [
         "SMOT",
         "0.718432093",
         "25.152306370065585"
        ],
        [
         "XLV",
         "0.28918907",
         "37.930039480242"
        ],
        [
         "BRK-B",
         "0.124",
         "58.60115954589844"
        ],
        [
         "BX",
         "0.3258",
         "55.470706210327144"
        ]
       ],
       "shape": {
        "columns": 2,
        "rows": 44
       }
      },
      "text/html": [
       "<div>\n",
       "<style scoped>\n",
       "    .dataframe tbody tr th:only-of-type {\n",
       "        vertical-align: middle;\n",
       "    }\n",
       "\n",
       "    .dataframe tbody tr th {\n",
       "        vertical-align: top;\n",
       "    }\n",
       "\n",
       "    .dataframe thead th {\n",
       "        text-align: right;\n",
       "    }\n",
       "</style>\n",
       "<table border=\"1\" class=\"dataframe\">\n",
       "  <thead>\n",
       "    <tr style=\"text-align: right;\">\n",
       "      <th></th>\n",
       "      <th>Shares</th>\n",
       "      <th>Market Value (USD)</th>\n",
       "    </tr>\n",
       "  </thead>\n",
       "  <tbody>\n",
       "    <tr>\n",
       "      <th>VOO</th>\n",
       "      <td>1.552063e+00</td>\n",
       "      <td>8.870197e+02</td>\n",
       "    </tr>\n",
       "    <tr>\n",
       "      <th>XLK</th>\n",
       "      <td>1.223873e+00</td>\n",
       "      <td>3.146456e+02</td>\n",
       "    </tr>\n",
       "    <tr>\n",
       "      <th>BTC-USD</th>\n",
       "      <td>3.242000e-04</td>\n",
       "      <td>3.677886e+01</td>\n",
       "    </tr>\n",
       "    <tr>\n",
       "      <th>VOOG</th>\n",
       "      <td>7.229965e-01</td>\n",
       "      <td>2.913315e+02</td>\n",
       "    </tr>\n",
       "    <tr>\n",
       "      <th>SPY</th>\n",
       "      <td>1.776761e-01</td>\n",
       "      <td>1.104701e+02</td>\n",
       "    </tr>\n",
       "    <tr>\n",
       "      <th>LUX</th>\n",
       "      <td>2.000000e+00</td>\n",
       "      <td>4.684860e+01</td>\n",
       "    </tr>\n",
       "    <tr>\n",
       "      <th>META</th>\n",
       "      <td>1.385825e-01</td>\n",
       "      <td>1.039383e+02</td>\n",
       "    </tr>\n",
       "    <tr>\n",
       "      <th>MSFT</th>\n",
       "      <td>2.558341e-01</td>\n",
       "      <td>1.340852e+02</td>\n",
       "    </tr>\n",
       "    <tr>\n",
       "      <th>IBB</th>\n",
       "      <td>4.702170e-02</td>\n",
       "      <td>6.255766e+00</td>\n",
       "    </tr>\n",
       "    <tr>\n",
       "      <th>NVDA</th>\n",
       "      <td>2.503971e-01</td>\n",
       "      <td>4.349899e+01</td>\n",
       "    </tr>\n",
       "    <tr>\n",
       "      <th>USRT</th>\n",
       "      <td>1.675901e-01</td>\n",
       "      <td>9.343147e+00</td>\n",
       "    </tr>\n",
       "    <tr>\n",
       "      <th>ADBE</th>\n",
       "      <td>6.938894e-18</td>\n",
       "      <td>2.413347e-15</td>\n",
       "    </tr>\n",
       "    <tr>\n",
       "      <th>EL</th>\n",
       "      <td>1.387779e-17</td>\n",
       "      <td>1.263170e-15</td>\n",
       "    </tr>\n",
       "    <tr>\n",
       "      <th>BA</th>\n",
       "      <td>6.938894e-18</td>\n",
       "      <td>1.539463e-15</td>\n",
       "    </tr>\n",
       "    <tr>\n",
       "      <th>OCSL</th>\n",
       "      <td>1.042269e+00</td>\n",
       "      <td>1.413316e+01</td>\n",
       "    </tr>\n",
       "    <tr>\n",
       "      <th>TPVG</th>\n",
       "      <td>4.000000e+00</td>\n",
       "      <td>2.712000e+01</td>\n",
       "    </tr>\n",
       "    <tr>\n",
       "      <th>LLY</th>\n",
       "      <td>6.206040e-02</td>\n",
       "      <td>4.733037e+01</td>\n",
       "    </tr>\n",
       "    <tr>\n",
       "      <th>GSBD</th>\n",
       "      <td>2.436461e+00</td>\n",
       "      <td>2.691071e+01</td>\n",
       "    </tr>\n",
       "    <tr>\n",
       "      <th>MOAT</th>\n",
       "      <td>1.399621e+00</td>\n",
       "      <td>1.341116e+02</td>\n",
       "    </tr>\n",
       "    <tr>\n",
       "      <th>BRW</th>\n",
       "      <td>4.707718e+00</td>\n",
       "      <td>3.959191e+01</td>\n",
       "    </tr>\n",
       "    <tr>\n",
       "      <th>CEFS</th>\n",
       "      <td>1.114267e+00</td>\n",
       "      <td>2.471445e+01</td>\n",
       "    </tr>\n",
       "    <tr>\n",
       "      <th>CLM</th>\n",
       "      <td>2.816941e+00</td>\n",
       "      <td>2.262004e+01</td>\n",
       "    </tr>\n",
       "    <tr>\n",
       "      <th>GOF</th>\n",
       "      <td>3.000000e+00</td>\n",
       "      <td>4.447500e+01</td>\n",
       "    </tr>\n",
       "    <tr>\n",
       "      <th>BURJEEL</th>\n",
       "      <td>1.500000e+01</td>\n",
       "      <td>5.962591e+00</td>\n",
       "    </tr>\n",
       "    <tr>\n",
       "      <th>CHADX15</th>\n",
       "      <td>1.060000e+02</td>\n",
       "      <td>1.062049e+02</td>\n",
       "    </tr>\n",
       "    <tr>\n",
       "      <th>EMAAR</th>\n",
       "      <td>1.000000e+01</td>\n",
       "      <td>4.165646e+01</td>\n",
       "    </tr>\n",
       "    <tr>\n",
       "      <th>MULTIPLY</th>\n",
       "      <td>1.200000e+01</td>\n",
       "      <td>9.115413e+00</td>\n",
       "    </tr>\n",
       "    <tr>\n",
       "      <th>ASM</th>\n",
       "      <td>2.000000e+00</td>\n",
       "      <td>2.074655e+00</td>\n",
       "    </tr>\n",
       "    <tr>\n",
       "      <th>AMR</th>\n",
       "      <td>5.000000e+00</td>\n",
       "      <td>2.886003e+00</td>\n",
       "    </tr>\n",
       "    <tr>\n",
       "      <th>AMZN</th>\n",
       "      <td>1.499798e-01</td>\n",
       "      <td>3.220816e+01</td>\n",
       "    </tr>\n",
       "    <tr>\n",
       "      <th>INDA</th>\n",
       "      <td>8.776612e-01</td>\n",
       "      <td>4.627907e+01</td>\n",
       "    </tr>\n",
       "    <tr>\n",
       "      <th>IJR</th>\n",
       "      <td>2.272149e-01</td>\n",
       "      <td>2.464600e+01</td>\n",
       "    </tr>\n",
       "    <tr>\n",
       "      <th>IPO</th>\n",
       "      <td>1.288476e+00</td>\n",
       "      <td>5.888592e+01</td>\n",
       "    </tr>\n",
       "    <tr>\n",
       "      <th>VXUS</th>\n",
       "      <td>7.168100e-01</td>\n",
       "      <td>4.891511e+01</td>\n",
       "    </tr>\n",
       "    <tr>\n",
       "      <th>XLF</th>\n",
       "      <td>1.309464e+00</td>\n",
       "      <td>6.731953e+01</td>\n",
       "    </tr>\n",
       "    <tr>\n",
       "      <th>ARM</th>\n",
       "      <td>8.082593e-02</td>\n",
       "      <td>1.112003e+01</td>\n",
       "    </tr>\n",
       "    <tr>\n",
       "      <th>RYAAY</th>\n",
       "      <td>3.154666e-01</td>\n",
       "      <td>1.959678e+01</td>\n",
       "    </tr>\n",
       "    <tr>\n",
       "      <th>APO</th>\n",
       "      <td>5.347289e-01</td>\n",
       "      <td>7.393963e+01</td>\n",
       "    </tr>\n",
       "    <tr>\n",
       "      <th>KKR</th>\n",
       "      <td>3.782016e-01</td>\n",
       "      <td>5.390696e+01</td>\n",
       "    </tr>\n",
       "    <tr>\n",
       "      <th>JPMB</th>\n",
       "      <td>1.688699e+00</td>\n",
       "      <td>6.597748e+01</td>\n",
       "    </tr>\n",
       "    <tr>\n",
       "      <th>SMOT</th>\n",
       "      <td>7.184321e-01</td>\n",
       "      <td>2.515231e+01</td>\n",
       "    </tr>\n",
       "    <tr>\n",
       "      <th>XLV</th>\n",
       "      <td>2.891891e-01</td>\n",
       "      <td>3.793004e+01</td>\n",
       "    </tr>\n",
       "    <tr>\n",
       "      <th>BRK-B</th>\n",
       "      <td>1.240000e-01</td>\n",
       "      <td>5.860116e+01</td>\n",
       "    </tr>\n",
       "    <tr>\n",
       "      <th>BX</th>\n",
       "      <td>3.258000e-01</td>\n",
       "      <td>5.547071e+01</td>\n",
       "    </tr>\n",
       "  </tbody>\n",
       "</table>\n",
       "</div>"
      ],
      "text/plain": [
       "                Shares  Market Value (USD)\n",
       "VOO       1.552063e+00        8.870197e+02\n",
       "XLK       1.223873e+00        3.146456e+02\n",
       "BTC-USD   3.242000e-04        3.677886e+01\n",
       "VOOG      7.229965e-01        2.913315e+02\n",
       "SPY       1.776761e-01        1.104701e+02\n",
       "LUX       2.000000e+00        4.684860e+01\n",
       "META      1.385825e-01        1.039383e+02\n",
       "MSFT      2.558341e-01        1.340852e+02\n",
       "IBB       4.702170e-02        6.255766e+00\n",
       "NVDA      2.503971e-01        4.349899e+01\n",
       "USRT      1.675901e-01        9.343147e+00\n",
       "ADBE      6.938894e-18        2.413347e-15\n",
       "EL        1.387779e-17        1.263170e-15\n",
       "BA        6.938894e-18        1.539463e-15\n",
       "OCSL      1.042269e+00        1.413316e+01\n",
       "TPVG      4.000000e+00        2.712000e+01\n",
       "LLY       6.206040e-02        4.733037e+01\n",
       "GSBD      2.436461e+00        2.691071e+01\n",
       "MOAT      1.399621e+00        1.341116e+02\n",
       "BRW       4.707718e+00        3.959191e+01\n",
       "CEFS      1.114267e+00        2.471445e+01\n",
       "CLM       2.816941e+00        2.262004e+01\n",
       "GOF       3.000000e+00        4.447500e+01\n",
       "BURJEEL   1.500000e+01        5.962591e+00\n",
       "CHADX15   1.060000e+02        1.062049e+02\n",
       "EMAAR     1.000000e+01        4.165646e+01\n",
       "MULTIPLY  1.200000e+01        9.115413e+00\n",
       "ASM       2.000000e+00        2.074655e+00\n",
       "AMR       5.000000e+00        2.886003e+00\n",
       "AMZN      1.499798e-01        3.220816e+01\n",
       "INDA      8.776612e-01        4.627907e+01\n",
       "IJR       2.272149e-01        2.464600e+01\n",
       "IPO       1.288476e+00        5.888592e+01\n",
       "VXUS      7.168100e-01        4.891511e+01\n",
       "XLF       1.309464e+00        6.731953e+01\n",
       "ARM       8.082593e-02        1.112003e+01\n",
       "RYAAY     3.154666e-01        1.959678e+01\n",
       "APO       5.347289e-01        7.393963e+01\n",
       "KKR       3.782016e-01        5.390696e+01\n",
       "JPMB      1.688699e+00        6.597748e+01\n",
       "SMOT      7.184321e-01        2.515231e+01\n",
       "XLV       2.891891e-01        3.793004e+01\n",
       "BRK-B     1.240000e-01        5.860116e+01\n",
       "BX        3.258000e-01        5.547071e+01"
      ]
     },
     "execution_count": 7,
     "metadata": {},
     "output_type": "execute_result"
    }
   ],
   "source": [
    "portfolio.get_current_holdings()"
   ]
  },
  {
   "cell_type": "markdown",
   "id": "e112c3da",
   "metadata": {},
   "source": [
    "### Initialize and Run the Benchmark Simulation"
   ]
  },
  {
   "cell_type": "code",
   "execution_count": 8,
   "id": "3482c6f7",
   "metadata": {},
   "outputs": [
    {
     "name": "stdout",
     "output_type": "stream",
     "text": [
      "Benchmark object initialized.\n"
     ]
    },
    {
     "data": {
      "application/vnd.microsoft.datawrangler.viewer.v0+json": {
       "columns": [
        {
         "name": "Date",
         "rawType": "datetime64[ns]",
         "type": "datetime"
        }
       ],
       "ref": "39d83d4f-7765-45cc-a2ab-873657829f12",
       "rows": [
        [
         "2023-02-16 00:00:00"
        ],
        [
         "2023-02-17 00:00:00"
        ],
        [
         "2023-02-18 00:00:00"
        ],
        [
         "2023-02-19 00:00:00"
        ],
        [
         "2023-02-20 00:00:00"
        ],
        [
         "2023-02-21 00:00:00"
        ],
        [
         "2023-02-22 00:00:00"
        ],
        [
         "2023-02-23 00:00:00"
        ],
        [
         "2023-02-24 00:00:00"
        ],
        [
         "2023-02-25 00:00:00"
        ],
        [
         "2023-02-26 00:00:00"
        ],
        [
         "2023-02-27 00:00:00"
        ],
        [
         "2023-02-28 00:00:00"
        ],
        [
         "2023-03-01 00:00:00"
        ],
        [
         "2023-03-02 00:00:00"
        ],
        [
         "2023-03-03 00:00:00"
        ],
        [
         "2023-03-04 00:00:00"
        ],
        [
         "2023-03-05 00:00:00"
        ],
        [
         "2023-03-06 00:00:00"
        ],
        [
         "2023-03-07 00:00:00"
        ],
        [
         "2023-03-08 00:00:00"
        ],
        [
         "2023-03-09 00:00:00"
        ],
        [
         "2023-03-10 00:00:00"
        ],
        [
         "2023-03-11 00:00:00"
        ],
        [
         "2023-03-12 00:00:00"
        ],
        [
         "2023-03-13 00:00:00"
        ],
        [
         "2023-03-14 00:00:00"
        ],
        [
         "2023-03-15 00:00:00"
        ],
        [
         "2023-03-16 00:00:00"
        ],
        [
         "2023-03-17 00:00:00"
        ],
        [
         "2023-03-18 00:00:00"
        ],
        [
         "2023-03-19 00:00:00"
        ],
        [
         "2023-03-20 00:00:00"
        ],
        [
         "2023-03-21 00:00:00"
        ],
        [
         "2023-03-22 00:00:00"
        ],
        [
         "2023-03-23 00:00:00"
        ],
        [
         "2023-03-24 00:00:00"
        ],
        [
         "2023-03-25 00:00:00"
        ],
        [
         "2023-03-26 00:00:00"
        ],
        [
         "2023-03-27 00:00:00"
        ],
        [
         "2023-03-28 00:00:00"
        ],
        [
         "2023-03-29 00:00:00"
        ],
        [
         "2023-03-30 00:00:00"
        ],
        [
         "2023-03-31 00:00:00"
        ],
        [
         "2023-04-01 00:00:00"
        ],
        [
         "2023-04-02 00:00:00"
        ],
        [
         "2023-04-03 00:00:00"
        ],
        [
         "2023-04-04 00:00:00"
        ],
        [
         "2023-04-05 00:00:00"
        ],
        [
         "2023-04-06 00:00:00"
        ]
       ],
       "shape": {
        "columns": 0,
        "rows": 898
       }
      },
      "text/html": [
       "<div>\n",
       "<style scoped>\n",
       "    .dataframe tbody tr th:only-of-type {\n",
       "        vertical-align: middle;\n",
       "    }\n",
       "\n",
       "    .dataframe tbody tr th {\n",
       "        vertical-align: top;\n",
       "    }\n",
       "\n",
       "    .dataframe thead th {\n",
       "        text-align: right;\n",
       "    }\n",
       "</style>\n",
       "<table border=\"1\" class=\"dataframe\">\n",
       "  <thead>\n",
       "    <tr style=\"text-align: right;\">\n",
       "      <th></th>\n",
       "    </tr>\n",
       "    <tr>\n",
       "      <th>Date</th>\n",
       "    </tr>\n",
       "  </thead>\n",
       "  <tbody>\n",
       "    <tr>\n",
       "      <th>2023-02-16</th>\n",
       "    </tr>\n",
       "    <tr>\n",
       "      <th>2023-02-17</th>\n",
       "    </tr>\n",
       "    <tr>\n",
       "      <th>2023-02-18</th>\n",
       "    </tr>\n",
       "    <tr>\n",
       "      <th>2023-02-19</th>\n",
       "    </tr>\n",
       "    <tr>\n",
       "      <th>2023-02-20</th>\n",
       "    </tr>\n",
       "    <tr>\n",
       "      <th>...</th>\n",
       "    </tr>\n",
       "    <tr>\n",
       "      <th>2025-07-28</th>\n",
       "    </tr>\n",
       "    <tr>\n",
       "      <th>2025-07-29</th>\n",
       "    </tr>\n",
       "    <tr>\n",
       "      <th>2025-07-30</th>\n",
       "    </tr>\n",
       "    <tr>\n",
       "      <th>2025-07-31</th>\n",
       "    </tr>\n",
       "    <tr>\n",
       "      <th>2025-08-01</th>\n",
       "    </tr>\n",
       "  </tbody>\n",
       "</table>\n",
       "<p>898 rows × 0 columns</p>\n",
       "</div>"
      ],
      "text/plain": [
       "Empty DataFrame\n",
       "Columns: []\n",
       "Index: [2023-02-16 00:00:00, 2023-02-17 00:00:00, 2023-02-18 00:00:00, 2023-02-19 00:00:00, 2023-02-20 00:00:00, 2023-02-21 00:00:00, 2023-02-22 00:00:00, 2023-02-23 00:00:00, 2023-02-24 00:00:00, 2023-02-25 00:00:00, 2023-02-26 00:00:00, 2023-02-27 00:00:00, 2023-02-28 00:00:00, 2023-03-01 00:00:00, 2023-03-02 00:00:00, 2023-03-03 00:00:00, 2023-03-04 00:00:00, 2023-03-05 00:00:00, 2023-03-06 00:00:00, 2023-03-07 00:00:00, 2023-03-08 00:00:00, 2023-03-09 00:00:00, 2023-03-10 00:00:00, 2023-03-11 00:00:00, 2023-03-12 00:00:00, 2023-03-13 00:00:00, 2023-03-14 00:00:00, 2023-03-15 00:00:00, 2023-03-16 00:00:00, 2023-03-17 00:00:00, 2023-03-18 00:00:00, 2023-03-19 00:00:00, 2023-03-20 00:00:00, 2023-03-21 00:00:00, 2023-03-22 00:00:00, 2023-03-23 00:00:00, 2023-03-24 00:00:00, 2023-03-25 00:00:00, 2023-03-26 00:00:00, 2023-03-27 00:00:00, 2023-03-28 00:00:00, 2023-03-29 00:00:00, 2023-03-30 00:00:00, 2023-03-31 00:00:00, 2023-04-01 00:00:00, 2023-04-02 00:00:00, 2023-04-03 00:00:00, 2023-04-04 00:00:00, 2023-04-05 00:00:00, 2023-04-06 00:00:00, 2023-04-07 00:00:00, 2023-04-08 00:00:00, 2023-04-09 00:00:00, 2023-04-10 00:00:00, 2023-04-11 00:00:00, 2023-04-12 00:00:00, 2023-04-13 00:00:00, 2023-04-14 00:00:00, 2023-04-15 00:00:00, 2023-04-16 00:00:00, 2023-04-17 00:00:00, 2023-04-18 00:00:00, 2023-04-19 00:00:00, 2023-04-20 00:00:00, 2023-04-21 00:00:00, 2023-04-22 00:00:00, 2023-04-23 00:00:00, 2023-04-24 00:00:00, 2023-04-25 00:00:00, 2023-04-26 00:00:00, 2023-04-27 00:00:00, 2023-04-28 00:00:00, 2023-04-29 00:00:00, 2023-04-30 00:00:00, 2023-05-01 00:00:00, 2023-05-02 00:00:00, 2023-05-03 00:00:00, 2023-05-04 00:00:00, 2023-05-05 00:00:00, 2023-05-06 00:00:00, 2023-05-07 00:00:00, 2023-05-08 00:00:00, 2023-05-09 00:00:00, 2023-05-10 00:00:00, 2023-05-11 00:00:00, 2023-05-12 00:00:00, 2023-05-13 00:00:00, 2023-05-14 00:00:00, 2023-05-15 00:00:00, 2023-05-16 00:00:00, 2023-05-17 00:00:00, 2023-05-18 00:00:00, 2023-05-19 00:00:00, 2023-05-20 00:00:00, 2023-05-21 00:00:00, 2023-05-22 00:00:00, 2023-05-23 00:00:00, 2023-05-24 00:00:00, 2023-05-25 00:00:00, 2023-05-26 00:00:00, ...]\n",
       "\n",
       "[898 rows x 0 columns]"
      ]
     },
     "execution_count": 8,
     "metadata": {},
     "output_type": "execute_result"
    }
   ],
   "source": [
    "# Create an instance of the Benchmark class\n",
    "benchmark_simulation = Benchmark(master_log, date_range, last_market_day)\n",
    "\n",
    "# Run the main simulation engine\n",
    "benchmark_simulation.get_results()"
   ]
  }
 ],
 "metadata": {
  "kernelspec": {
   "display_name": "Developer (3.13.5)",
   "language": "python",
   "name": "python3"
  },
  "language_info": {
   "codemirror_mode": {
    "name": "ipython",
    "version": 3
   },
   "file_extension": ".py",
   "mimetype": "text/x-python",
   "name": "python",
   "nbconvert_exporter": "python",
   "pygments_lexer": "ipython3",
   "version": "3.13.5"
  }
 },
 "nbformat": 4,
 "nbformat_minor": 5
}
