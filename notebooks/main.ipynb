{
 "cells": [
  {
   "cell_type": "markdown",
   "id": "211346cf",
   "metadata": {},
   "source": [
    "### Setup and Imports"
   ]
  },
  {
   "cell_type": "code",
   "execution_count": null,
   "id": "dfb849e5",
   "metadata": {},
   "outputs": [],
   "source": [
    "import sys\n",
    "from pathlib import Path\n",
    "\n",
    "sys.path.append(str(Path.cwd().parent))\n",
    "import config\n",
    "from src import data_ingestion\n",
    "from src.symbols import Symbols\n",
    "from src.portfolio1 import Portfolio\n",
    "from src.benchmark import Benchmark\n",
    "\n",
    "import pandas as pd\n",
    "import plotly.graph_objects as go\n",
    "from plotly.subplots import make_subplots"
   ]
  },
  {
   "cell_type": "markdown",
   "id": "f4ce7b5d",
   "metadata": {},
   "source": [
    "### Load Transaction Data"
   ]
  },
  {
   "cell_type": "code",
   "execution_count": null,
   "id": "8dd5683a",
   "metadata": {},
   "outputs": [],
   "source": [
    "# Create a list of all your transaction log files\n",
    "log_files = [\n",
    "    config.TRANS_LOG_DIR / \"us_mkt_transactions.csv\",\n",
    "    config.TRANS_LOG_DIR / \"exus_mkt_transactions.csv\",\n",
    "]\n",
    "\n",
    "# Load and merge all found logs into a single DataFrame\n",
    "master_log = data_ingestion.create_master_log(log_files).set_index(\"Date\")\n",
    "display(master_log)"
   ]
  },
  {
   "cell_type": "markdown",
   "id": "27820984",
   "metadata": {},
   "source": [
    "### Initialize and Assess Symbols"
   ]
  },
  {
   "cell_type": "code",
   "execution_count": null,
   "id": "db05a509",
   "metadata": {},
   "outputs": [],
   "source": [
    "# 1. Initialize the Symbol manager\n",
    "symbol_manager = Symbols(master_log)\n",
    "\n",
    "# 2. Assess all symbols (checks cache and yfinance, creates templates for missing symbols)\n",
    "symbol_manager.assess()\n",
    "\n",
    "# 3. Display the results for user verification\n",
    "print(\"✅ The following symbols were automatically identified:\")\n",
    "found_df = symbol_manager.get_found()\n",
    "display(found_df)\n",
    "\n",
    "print(\"❌ The following symbols were NOT found:\")\n",
    "missing_list = symbol_manager.get_missing()\n",
    "print(missing_list)"
   ]
  },
  {
   "cell_type": "markdown",
   "id": "6166dde7",
   "metadata": {},
   "source": [
    "### User Correction Step"
   ]
  },
  {
   "cell_type": "markdown",
   "id": "5ee26449",
   "metadata": {},
   "source": [
    "Reviews the output from the cell above and lists any symbols that were incorrectly identified by the data provider (e.g. `yfinance`)."
   ]
  },
  {
   "cell_type": "code",
   "execution_count": null,
   "id": "05d7cce7",
   "metadata": {},
   "outputs": [],
   "source": [
    "# User reviews the table above and populates this list\n",
    "incorrectly_identified_symbols = [\"AMR\", \"ASM\"]\n",
    "\n",
    "# Mark these symbols as user-provided, which also updates the metadata template\n",
    "symbol_manager.mark_as_manual(incorrectly_identified_symbols)"
   ]
  },
  {
   "cell_type": "markdown",
   "id": "8299845b",
   "metadata": {},
   "source": [
    "### Manual Task"
   ]
  },
  {
   "cell_type": "markdown",
   "id": "0faf8cb5",
   "metadata": {},
   "source": [
    "1) Open the file: `data/manual-source/metadata.json`.\n",
    "2) Fill in the `null` values for all the symbols listed.\n",
    "3) For each of those same symbols, add a price history CSV file to the `data/manual-source/` directory."
   ]
  },
  {
   "cell_type": "markdown",
   "id": "31ac1f82",
   "metadata": {},
   "source": [
    "### Reload Metadata and Get Final DataFrame"
   ]
  },
  {
   "cell_type": "code",
   "execution_count": null,
   "id": "224c82ba",
   "metadata": {},
   "outputs": [],
   "source": [
    "# Reload the user-edited file from disk\n",
    "symbol_manager.reload_user_metadata()\n",
    "\n",
    "# Get the final, combined DataFrame of all symbol metadata\n",
    "symbol_df = symbol_manager.get_unified_df()\n",
    "\n",
    "print(\"--- Final Unified Symbol Metadata ---\")\n",
    "display(symbol_df)"
   ]
  },
  {
   "cell_type": "markdown",
   "id": "e92723c5",
   "metadata": {},
   "source": [
    "### Initialize and Run Portfolio Analysis"
   ]
  },
  {
   "cell_type": "code",
   "execution_count": null,
   "id": "a6dc135c",
   "metadata": {},
   "outputs": [],
   "source": [
    "# Get the project date range\n",
    "start_date, end_date, date_range, last_market_day = config.project_dates(\n",
    "    master_log.index\n",
    ")\n",
    "\n",
    "# 1. Initialize the Portfolio analysis engine\n",
    "portfolio = Portfolio(master_log, symbol_manager, date_range, last_market_day)\n",
    "\n",
    "# 2. Run all calculations (fetching prices, calculating holdings and value)\n",
    "portfolio.calculate_holdings_and_value()\n",
    "\n",
    "portfolio_value = portfolio.get_total_value_history()"
   ]
  },
  {
   "cell_type": "markdown",
   "id": "19620e63",
   "metadata": {},
   "source": [
    "### Display Portfolio Results"
   ]
  },
  {
   "cell_type": "code",
   "execution_count": null,
   "id": "afb4ff50",
   "metadata": {},
   "outputs": [],
   "source": [
    "portfolio_value"
   ]
  },
  {
   "cell_type": "code",
   "execution_count": null,
   "id": "f3231de0",
   "metadata": {},
   "outputs": [],
   "source": [
    "portfolio.get_current_holdings().round(2).sort_values(\n",
    "    \"Market Value (USD)\", ascending=False\n",
    ")"
   ]
  },
  {
   "cell_type": "code",
   "execution_count": null,
   "id": "b2b00daa",
   "metadata": {},
   "outputs": [],
   "source": [
    "portfolio.get_return_summary().round(2)"
   ]
  },
  {
   "cell_type": "code",
   "execution_count": null,
   "id": "aa8e193c",
   "metadata": {},
   "outputs": [],
   "source": [
    "total_returns = (\n",
    "    portfolio.holdings[\"unrealized_gains\"]\n",
    "    + portfolio.holdings[\"realized_gains\"]\n",
    "    + portfolio.holdings[\"income\"]\n",
    ")"
   ]
  },
  {
   "cell_type": "code",
   "execution_count": null,
   "id": "7329ef4e",
   "metadata": {},
   "outputs": [],
   "source": [
    "fig_holdings = go.Figure()\n",
    "\n",
    "for symbol in total_returns.columns:\n",
    "    fig_holdings.add_trace(\n",
    "        go.Scatter(\n",
    "            x=total_returns.index,\n",
    "            y=total_returns[symbol],\n",
    "            mode=\"lines\",\n",
    "            name=symbol,\n",
    "            line=dict(width=1),\n",
    "        )\n",
    "    )\n",
    "\n",
    "fig_holdings.update_layout(\n",
    "    title_text=\"<b>Individual Holding Performance Over Time</b>\",\n",
    "    template=\"plotly_white\",\n",
    "    xaxis_title=\"Date\",\n",
    "    yaxis_title=f\"Total Returns ({config.BASE_CURRENCY})\",\n",
    ")\n",
    "\n",
    "fig_holdings.show()"
   ]
  },
  {
   "cell_type": "markdown",
   "id": "0236f530",
   "metadata": {},
   "source": [
    "- Inspect this TQQQ issue"
   ]
  },
  {
   "cell_type": "markdown",
   "id": "e112c3da",
   "metadata": {},
   "source": [
    "### Initialize and Run the Benchmark Simulation"
   ]
  },
  {
   "cell_type": "code",
   "execution_count": null,
   "id": "3482c6f7",
   "metadata": {},
   "outputs": [],
   "source": [
    "# Create an instance of the Benchmark class\n",
    "benchmark_simulation = Benchmark(master_log, date_range, last_market_day)\n",
    "\n",
    "# Run benchmark simulation\n",
    "benchmark_simulation.run_simulation()"
   ]
  },
  {
   "cell_type": "markdown",
   "id": "7c18669e",
   "metadata": {},
   "source": [
    "### Display Benchmark Result"
   ]
  },
  {
   "cell_type": "code",
   "execution_count": null,
   "id": "330ed288",
   "metadata": {},
   "outputs": [],
   "source": [
    "benchmark_results = benchmark_simulation.get_results()\n",
    "benchmark_results"
   ]
  },
  {
   "cell_type": "markdown",
   "id": "64ced759",
   "metadata": {},
   "source": [
    "Ensure that if base currency is AED or INR and the benchmark prices are in non-base currency, that all benchmark prices are converted to base currency."
   ]
  },
  {
   "cell_type": "markdown",
   "id": "b6616eeb",
   "metadata": {},
   "source": [
    "### Visualize Portfolio & Benchmark Performance"
   ]
  },
  {
   "cell_type": "code",
   "execution_count": null,
   "id": "b29be559",
   "metadata": {},
   "outputs": [],
   "source": [
    "# --- 1. Prepare data for the chart ---\n",
    "# Resample the daily net deposits to get the total for each month\n",
    "monthly_deposits = benchmark_results[\"NetDeposit\"].resample(\"ME\").sum()\n",
    "\n",
    "# --- 2. Create the Plotly Figure ---\n",
    "fig = make_subplots(specs=[[{\"secondary_y\": True}]])\n",
    "\n",
    "# --- 3. Add Traces to the Figure ---\n",
    "\n",
    "# Trace 1: Personal Portfolio Value\n",
    "fig.add_trace(\n",
    "    go.Scatter(\n",
    "        x=portfolio_value.index,\n",
    "        y=portfolio_value,\n",
    "        mode=\"lines\",\n",
    "        name=\"Personal Portfolio\",\n",
    "        line=dict(color=\"green\", width=2),\n",
    "    ),\n",
    "    secondary_y=False,\n",
    ")\n",
    "\n",
    "# Trace 2: Benchmark Value\n",
    "fig.add_trace(\n",
    "    go.Scatter(\n",
    "        x=benchmark_results.index,\n",
    "        y=benchmark_results[\"TotalValue\"],\n",
    "        mode=\"lines\",\n",
    "        name=f\"{config.BENCHMARK_INDEX} Benchmark\",\n",
    "        line=dict(color=\"red\", width=2),\n",
    "    ),\n",
    "    secondary_y=False,\n",
    ")\n",
    "\n",
    "# Trace 3: Cumulative Net Deposits\n",
    "fig.add_trace(\n",
    "    go.Scatter(\n",
    "        x=benchmark_results.index,\n",
    "        y=benchmark_results[\"NetDeposit\"].cumsum(),\n",
    "        mode=\"lines\",\n",
    "        name=\"Cumulative Net Deposits\",\n",
    "        line=dict(color=\"darkgrey\", width=1, dash=\"dash\"),\n",
    "    ),\n",
    "    secondary_y=False,\n",
    ")\n",
    "\n",
    "# Trace 4: Monthly Deposits/Withdrawals (on secondary y-axis)\n",
    "fig.add_trace(\n",
    "    go.Bar(\n",
    "        x=monthly_deposits.index,\n",
    "        y=monthly_deposits,\n",
    "        name=\"Deposits / Withdrawals\",\n",
    "        marker_color=\"royalblue\",\n",
    "        opacity=0.4,\n",
    "    ),\n",
    "    secondary_y=True,\n",
    ")\n",
    "\n",
    "# --- 5. Update Layout and Styling ---\n",
    "fig.update_layout(\n",
    "    title_text=f\"Portfolio Performance vs. {config.BENCHMARK_INDEX} Benchmark\",\n",
    "    template=\"plotly_white\",\n",
    "    barmode=\"relative\",\n",
    "    legend=dict(orientation=\"h\", yanchor=\"bottom\", y=1.02, xanchor=\"right\", x=1),\n",
    "    xaxis=dict(\n",
    "        title=\"Date\",\n",
    "        rangeselector=dict(\n",
    "            buttons=list(\n",
    "                [\n",
    "                    dict(count=1, label=\"1m\", step=\"month\", stepmode=\"backward\"),\n",
    "                    dict(count=6, label=\"6m\", step=\"month\", stepmode=\"backward\"),\n",
    "                    dict(count=1, label=\"YTD\", step=\"year\", stepmode=\"todate\"),\n",
    "                    dict(count=1, label=\"1y\", step=\"year\", stepmode=\"backward\"),\n",
    "                    dict(step=\"all\"),\n",
    "                ]\n",
    "            )\n",
    "        ),\n",
    "        rangeslider=dict(visible=True),\n",
    "        type=\"date\",\n",
    "    ),\n",
    ")\n",
    "\n",
    "# Update Y-Axes Titles\n",
    "fig.update_yaxes(\n",
    "    title_text=f\"<b>Portfolio Value ({config.BASE_CURRENCY})</b>\", secondary_y=False\n",
    ")\n",
    "fig.update_yaxes(\n",
    "    title_text=\"<b>Monthly Cash Flow</b>\",\n",
    "    secondary_y=True,\n",
    "    showgrid=False,\n",
    "    layer=\"below traces\",\n",
    ")\n",
    "\n",
    "fig.show()"
   ]
  },
  {
   "cell_type": "code",
   "execution_count": null,
   "id": "977659bc",
   "metadata": {},
   "outputs": [],
   "source": [
    "portfolio_income = portfolio.get_monthly_income()\n",
    "benchmark_income = benchmark_simulation.get_monthly_income()\n",
    "\n",
    "fig_income_comp = go.Figure()\n",
    "\n",
    "fig_income_comp.add_trace(\n",
    "    go.Bar(\n",
    "        x=portfolio_income.index,\n",
    "        y=portfolio_income,\n",
    "        name=\"Portfolio Income\",\n",
    "        marker_color=\"mediumseagreen\",\n",
    "    )\n",
    ")\n",
    "\n",
    "fig_income_comp.add_trace(\n",
    "    go.Bar(\n",
    "        x=benchmark_income.index,\n",
    "        y=benchmark_income,\n",
    "        name=f\"{config.BENCHMARK_INDEX} Benchmark Income\",\n",
    "        marker_color=\"grey\",\n",
    "    )\n",
    ")\n",
    "\n",
    "fig_income_comp.update_layout(\n",
    "    title_text=\"<b>Monthly Income Comparison</b>\",\n",
    "    template=\"plotly_white\",\n",
    "    barmode=\"group\",\n",
    "    xaxis_title=\"Date\",\n",
    "    yaxis_title=f\"Net Income ({config.BASE_CURRENCY})\",\n",
    "    legend=dict(orientation=\"h\", yanchor=\"bottom\", y=1.02, xanchor=\"right\", x=1),\n",
    ")\n",
    "\n",
    "fig_income_comp.show()"
   ]
  }
 ],
 "metadata": {
  "kernelspec": {
   "display_name": "Developer (3.13.5)",
   "language": "python",
   "name": "python3"
  },
  "language_info": {
   "codemirror_mode": {
    "name": "ipython",
    "version": 3
   },
   "file_extension": ".py",
   "mimetype": "text/x-python",
   "name": "python",
   "nbconvert_exporter": "python",
   "pygments_lexer": "ipython3",
   "version": "3.13.5"
  }
 },
 "nbformat": 4,
 "nbformat_minor": 5
}
