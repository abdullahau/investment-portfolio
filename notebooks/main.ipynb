{
 "cells": [
  {
   "cell_type": "markdown",
   "id": "211346cf",
   "metadata": {},
   "source": [
    "### Setup and Imports"
   ]
  },
  {
   "cell_type": "code",
   "execution_count": null,
   "id": "dfb849e5",
   "metadata": {},
   "outputs": [],
   "source": [
    "import sys\n",
    "from pathlib import Path\n",
    "sys.path.append(str(Path.cwd().parent))\n",
    "import config\n",
    "from src import data_ingestion\n",
    "from src.symbols import Symbols\n",
    "from src.portfolio import Portfolio\n",
    "from src.benchmark import Benchmark\n",
    "\n",
    "import pandas as pd\n",
    "import plotly.graph_objects as go\n",
    "from plotly.subplots import make_subplots"
   ]
  },
  {
   "cell_type": "markdown",
   "id": "f4ce7b5d",
   "metadata": {},
   "source": [
    "### Load Transaction Data"
   ]
  },
  {
   "cell_type": "code",
   "execution_count": null,
   "id": "8dd5683a",
   "metadata": {},
   "outputs": [],
   "source": [
    "# Create a list of all your transaction log files\n",
    "log_files = [\n",
    "    config.TRANS_LOG_DIR / \"us_mkt_transactions.csv\",\n",
    "    config.TRANS_LOG_DIR / \"exus_mkt_transactions.csv\"\n",
    "]\n",
    "\n",
    "# Load and merge all found logs into a single DataFrame\n",
    "master_log = data_ingestion.create_master_log(log_files).set_index(\"Date\")\n",
    "display(master_log)"
   ]
  },
  {
   "cell_type": "markdown",
   "id": "27820984",
   "metadata": {},
   "source": [
    "### Initialize and Assess Symbols"
   ]
  },
  {
   "cell_type": "code",
   "execution_count": null,
   "id": "db05a509",
   "metadata": {},
   "outputs": [],
   "source": [
    "# 1. Initialize the Symbol manager\n",
    "symbol_manager = Symbols(master_log)\n",
    "\n",
    "# 2. Assess all symbols (checks cache and yfinance, creates templates for missing symbols)\n",
    "symbol_manager.assess()\n",
    "\n",
    "# 3. Display the results for user verification\n",
    "print(\"✅ The following symbols were automatically identified:\")\n",
    "found_df = symbol_manager.get_found()\n",
    "display(found_df)\n",
    "\n",
    "print(\"❌ The following symbols were NOT found:\")\n",
    "missing_list = symbol_manager.get_missing()\n",
    "print(missing_list)"
   ]
  },
  {
   "cell_type": "markdown",
   "id": "6166dde7",
   "metadata": {},
   "source": [
    "### User Correction Step"
   ]
  },
  {
   "cell_type": "markdown",
   "id": "5ee26449",
   "metadata": {},
   "source": [
    "Reviews the output from the cell above and lists any symbols that were incorrectly identified by the data provider (e.g. `yfinance`)."
   ]
  },
  {
   "cell_type": "code",
   "execution_count": null,
   "id": "05d7cce7",
   "metadata": {},
   "outputs": [],
   "source": [
    "# User reviews the table above and populates this list\n",
    "incorrectly_identified_symbols = [\n",
    "    'AMR', 'ASM'\n",
    "]\n",
    "\n",
    "# Mark these symbols as user-provided, which also updates the metadata template\n",
    "symbol_manager.mark_as_manual(incorrectly_identified_symbols)"
   ]
  },
  {
   "cell_type": "markdown",
   "id": "8299845b",
   "metadata": {},
   "source": [
    "### Manual Task"
   ]
  },
  {
   "cell_type": "markdown",
   "id": "0faf8cb5",
   "metadata": {},
   "source": [
    "1) Open the file: `data/manual-source/metadata.json`.\n",
    "2) Fill in the `null` values for all the symbols listed.\n",
    "3) For each of those same symbols, add a price history CSV file to the `data/manual-source/` directory."
   ]
  },
  {
   "cell_type": "markdown",
   "id": "31ac1f82",
   "metadata": {},
   "source": [
    "### Reload Metadata and Get Final DataFrame"
   ]
  },
  {
   "cell_type": "code",
   "execution_count": null,
   "id": "224c82ba",
   "metadata": {},
   "outputs": [],
   "source": [
    "# Reload the user-edited file from disk\n",
    "symbol_manager.reload_user_metadata()\n",
    "\n",
    "# Get the final, combined DataFrame of all symbol metadata\n",
    "symbol_df = symbol_manager.get_unified_df()\n",
    "\n",
    "print(\"--- Final Unified Symbol Metadata ---\")\n",
    "display(symbol_df)"
   ]
  },
  {
   "cell_type": "markdown",
   "id": "e92723c5",
   "metadata": {},
   "source": [
    "### Initialize and Run Portfolio Analysis"
   ]
  },
  {
   "cell_type": "code",
   "execution_count": null,
   "id": "a6dc135c",
   "metadata": {},
   "outputs": [],
   "source": [
    "# Get the project date range\n",
    "start_date, end_date, date_range, last_market_day = config.project_dates(\n",
    "    master_log.index\n",
    ")\n",
    "\n",
    "# 1. Initialize the Portfolio analysis engine\n",
    "portfolio = Portfolio(master_log, symbol_manager, date_range, last_market_day)\n",
    "\n",
    "# 2. Run all calculations (fetching prices, calculating holdings and value)\n",
    "portfolio.calculate_holdings_and_value()"
   ]
  },
  {
   "cell_type": "markdown",
   "id": "19620e63",
   "metadata": {},
   "source": [
    "### Display Results"
   ]
  },
  {
   "cell_type": "code",
   "execution_count": null,
   "id": "f3231de0",
   "metadata": {},
   "outputs": [],
   "source": [
    "portfolio.get_current_holdings()"
   ]
  },
  {
   "cell_type": "markdown",
   "id": "e112c3da",
   "metadata": {},
   "source": [
    "### Initialize and Run the Benchmark Simulation"
   ]
  },
  {
   "cell_type": "code",
   "execution_count": null,
   "id": "3482c6f7",
   "metadata": {},
   "outputs": [],
   "source": [
    "# Create an instance of the Benchmark class\n",
    "benchmark_simulation = Benchmark(master_log, date_range, last_market_day)\n",
    "\n",
    "# Run benchmark simulation\n",
    "benchmark_simulation.run_simulation()"
   ]
  },
  {
   "cell_type": "markdown",
   "id": "7c18669e",
   "metadata": {},
   "source": [
    "### Display Result"
   ]
  },
  {
   "cell_type": "code",
   "execution_count": null,
   "id": "330ed288",
   "metadata": {},
   "outputs": [],
   "source": [
    "# Now, you can get the populated DataFrame\n",
    "benchmark_results_df = benchmark_simulation.get_results()\n",
    "\n",
    "# Display the tail of the results to verify it worked\n",
    "benchmark_results_df"
   ]
  }
 ],
 "metadata": {
  "kernelspec": {
   "display_name": "Developer (3.13.5)",
   "language": "python",
   "name": "python3"
  },
  "language_info": {
   "codemirror_mode": {
    "name": "ipython",
    "version": 3
   },
   "file_extension": ".py",
   "mimetype": "text/x-python",
   "name": "python",
   "nbconvert_exporter": "python",
   "pygments_lexer": "ipython3",
   "version": "3.13.5"
  }
 },
 "nbformat": 4,
 "nbformat_minor": 5
}
