{
 "cells": [
  {
   "cell_type": "code",
   "execution_count": null,
   "id": "bc95bf34",
   "metadata": {},
   "outputs": [],
   "source": [
    "import pandas as pd\n",
    "import requests"
   ]
  },
  {
   "cell_type": "code",
   "execution_count": 50,
   "id": "7aa5701b",
   "metadata": {},
   "outputs": [],
   "source": [
    "symbol = \"EMAAR\"\n",
    "exchange = \"DFM\" # ADSM or DFM, ADSM = ADX\n",
    "session_id = \"3cc6f101-6064-49a4-8962-b7126d7f63d6\"\n",
    "start = \"1900-01-01T00:00:00.000Z\"\n",
    "end = \"2100-01-31T20:00:00.000Z\"\n",
    "interval = \"1\" # 1 days\n",
    "additional_slug = \"1753943650537\"\n",
    "\n",
    "url = f\"https://mobile.intlsecurities.ae/FITDataFeedServiceGateway/DataFeedService.asmx/datafeedDFN?session={session_id}&symbol={symbol},{exchange}&period=day&from={start}&to={end}&interval={1}${additional_slug}\""
   ]
  },
  {
   "cell_type": "code",
   "execution_count": 49,
   "id": "bdded5b5",
   "metadata": {},
   "outputs": [
    {
     "name": "stdout",
     "output_type": "stream",
     "text": [
      "[{'DT': '2025-07-31T00:00:00.000Z', 'Open': 15.45, 'High': 15.5, 'Low': 15.4, 'Close': 15.5, 'Volume': 956461}, {'DT': '2025-07-30T00:00:00.000Z', 'Open': 15.45, 'High': 15.5, 'Low': 15.25, 'Close': 15.45, 'Volume': 10185647}, {'DT': '2025-07-29T00:00:00.000Z', 'Open': 15.5, 'High': 15.6, 'Low': 15.15, 'Close': 15.45, 'Volume': 14328082}, {'DT': '2025-07-25T00:00:00.000Z', 'Open': 15.3, 'High': 15.9, 'Low': 15.3, 'Close': 15.7, 'Volume': 16099431}, {'DT': '2025-07-23T00:00:00.000Z', 'Open': 15.0, 'High': 15.1, 'Low': 14.9, 'Close': 15.1, 'Volume': 10311380}]\n",
      "             Open  High    Low  Close    Volume\n",
      "Date                                           \n",
      "2025-07-31  15.45  15.5  15.40  15.50    956461\n",
      "2025-07-30  15.45  15.5  15.25  15.45  10185647\n",
      "2025-07-29  15.50  15.6  15.15  15.45  14328082\n",
      "2025-07-25  15.30  15.9  15.30  15.70  16099431\n",
      "2025-07-23  15.00  15.1  14.90  15.10  10311380\n"
     ]
    }
   ],
   "source": [
    "def fetch_data(url):\n",
    "    try:\n",
    "        response = requests.get(url)\n",
    "        response.raise_for_status() \n",
    "\n",
    "        data = response.json()\n",
    "        df = pd.DataFrame(data)\n",
    "\n",
    "        if 'DT' in df.columns:\n",
    "            df.rename(columns={'DT': 'Date'}, inplace=True)\n",
    "            df['Date'] = pd.to_datetime(df['Date']).dt.date\n",
    "            df = df.set_index('Date')\n",
    "\n",
    "    except requests.exceptions.RequestException as e:\n",
    "        print(f\"An error occurred: {e}\")\n",
    "    except ValueError:\n",
    "        print(\"Error: Could not decode JSON from the response.\")\n",
    "    \n",
    "    return df, data\n",
    "\n",
    "df, data = fetch_data(url)\n",
    "print(data[0:5])\n",
    "print(df.head())"
   ]
  },
  {
   "cell_type": "code",
   "execution_count": null,
   "id": "26f2b05e",
   "metadata": {},
   "outputs": [],
   "source": [
    "trans_log = pd.read_csv('raw-data/IntlSecurities_July2025.csv')\n",
    "symbol_market_pair = trans_log[['Symbol', 'Market']].dropna().drop_duplicates()\n",
    "\n",
    "for _, row in symbol_market_pair.iterrows():\n",
    "    symbol = row['Symbol']\n",
    "    exchange = row['Market']\n",
    "    url = f\"https://mobile.intlsecurities.ae/FITDataFeedServiceGateway/DataFeedService.asmx/datafeedDFN?session={session_id}&symbol={symbol},{exchange}&period=day&from={start}&to={end}&interval={1}${additional_slug}\"\n",
    "    df, _ = fetch_data(url)\n",
    "    df.to_csv(f\"../data/cache/{symbol}-{exchange}.csv\", index=False)"
   ]
  },
  {
   "cell_type": "markdown",
   "id": "1abdf4b6",
   "metadata": {},
   "source": [
    "![test.png](/Users/rehabnaeem/Developer/investment-portfolio-test/tools/IntlSecurities-data-scrapping.png)"
   ]
  }
 ],
 "metadata": {
  "kernelspec": {
   "display_name": "Developer (3.13.5)",
   "language": "python",
   "name": "python3"
  },
  "language_info": {
   "codemirror_mode": {
    "name": "ipython",
    "version": 3
   },
   "file_extension": ".py",
   "mimetype": "text/x-python",
   "name": "python",
   "nbconvert_exporter": "python",
   "pygments_lexer": "ipython3",
   "version": "3.13.5"
  }
 },
 "nbformat": 4,
 "nbformat_minor": 5
}
