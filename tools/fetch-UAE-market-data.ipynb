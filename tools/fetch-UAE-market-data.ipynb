{
 "cells": [
  {
   "cell_type": "code",
   "execution_count": 1,
   "id": "bc95bf34",
   "metadata": {},
   "outputs": [],
   "source": [
    "import pandas as pd\n",
    "import requests"
   ]
  },
  {
   "cell_type": "code",
   "execution_count": 2,
   "id": "7aa5701b",
   "metadata": {},
   "outputs": [],
   "source": [
    "symbol = \"EMAAR\"\n",
    "exchange = \"DFM\"  # ADSM or DFM, ADSM = ADX\n",
    "session_id = \"e23b8b7e-5e52-4ce8-ade6-0c4e3311b720\"\n",
    "start = \"1900-01-31T20:18:48.000Z\"\n",
    "end = \"2100-01-31T20:00:00.000Z\"\n",
    "interval = \"1\"  # 1 days\n",
    "additional_slug = \"1753968492999\"\n",
    "\n",
    "url = f\"https://mobile.intlsecurities.ae/FITDataFeedServiceGateway/DataFeedService.asmx/datafeedDFN?session={session_id}&symbol={symbol},{exchange}&period=day&from={start}&to={end}&interval={1}${additional_slug}\""
   ]
  },
  {
   "cell_type": "code",
   "execution_count": 3,
   "id": "bdded5b5",
   "metadata": {},
   "outputs": [
    {
     "name": "stdout",
     "output_type": "stream",
     "text": [
      "[{'DT': '2025-08-07T00:00:00.000Z', 'Open': 15.3, 'High': 15.5, 'Low': 15.25, 'Close': 15.5, 'Volume': 2983424}, {'DT': '2025-08-06T00:00:00.000Z', 'Open': 15.5, 'High': 15.5, 'Low': 15.35, 'Close': 15.45, 'Volume': 11745540}, {'DT': '2025-08-05T00:00:00.000Z', 'Open': 15.3, 'High': 15.55, 'Low': 15.25, 'Close': 15.45, 'Volume': 6482941}, {'DT': '2025-08-04T00:00:00.000Z', 'Open': 15.35, 'High': 15.35, 'Low': 15.05, 'Close': 15.35, 'Volume': 8367905}, {'DT': '2025-08-01T00:00:00.000Z', 'Open': 15.25, 'High': 15.4, 'Low': 15.1, 'Close': 15.35, 'Volume': 7201568}]\n",
      "             Open   High    Low  Close    Volume\n",
      "Date                                            \n",
      "2025-08-07  15.30  15.50  15.25  15.50   2983424\n",
      "2025-08-06  15.50  15.50  15.35  15.45  11745540\n",
      "2025-08-05  15.30  15.55  15.25  15.45   6482941\n",
      "2025-08-04  15.35  15.35  15.05  15.35   8367905\n",
      "2025-08-01  15.25  15.40  15.10  15.35   7201568\n"
     ]
    }
   ],
   "source": [
    "def fetch_data(url):\n",
    "    try:\n",
    "        response = requests.get(url)\n",
    "        response.raise_for_status()\n",
    "\n",
    "        data = response.json()\n",
    "        df = pd.DataFrame(data)\n",
    "\n",
    "        if \"DT\" in df.columns:\n",
    "            df.rename(columns={\"DT\": \"Date\"}, inplace=True)\n",
    "            df[\"Date\"] = pd.to_datetime(df[\"Date\"]).dt.date\n",
    "            df = df.set_index(\"Date\")\n",
    "\n",
    "    except requests.exceptions.RequestException as e:\n",
    "        print(f\"An error occurred: {e}\")\n",
    "    except ValueError:\n",
    "        print(\"Error: Could not decode JSON from the response.\")\n",
    "\n",
    "    return df, data\n",
    "\n",
    "\n",
    "df, data = fetch_data(url)\n",
    "print(data[0:5])\n",
    "print(df.head())"
   ]
  },
  {
   "cell_type": "code",
   "execution_count": 4,
   "id": "0b60936d",
   "metadata": {},
   "outputs": [
    {
     "data": {
      "application/vnd.microsoft.datawrangler.viewer.v0+json": {
       "columns": [
        {
         "name": "index",
         "rawType": "int64",
         "type": "integer"
        },
        {
         "name": "Symbol",
         "rawType": "object",
         "type": "string"
        },
        {
         "name": "Exchange",
         "rawType": "object",
         "type": "string"
        }
       ],
       "ref": "643c6bc4-0380-464e-88cb-15b1cfff80e2",
       "rows": [
        [
         "1",
         "ALDAR",
         "ADX"
        ],
        [
         "2",
         "EMAAR",
         "DFM"
        ],
        [
         "3",
         "CHADX15",
         "ADX"
        ],
        [
         "4",
         "BURJEEL",
         "ADX"
        ],
        [
         "5",
         "MULTIPLY",
         "ADX"
        ],
        [
         "6",
         "IHC",
         "ADX"
        ],
        [
         "8",
         "AMR",
         "ADX"
        ],
        [
         "9",
         "ASM",
         "ADX"
        ]
       ],
       "shape": {
        "columns": 2,
        "rows": 8
       }
      },
      "text/html": [
       "<div>\n",
       "<style scoped>\n",
       "    .dataframe tbody tr th:only-of-type {\n",
       "        vertical-align: middle;\n",
       "    }\n",
       "\n",
       "    .dataframe tbody tr th {\n",
       "        vertical-align: top;\n",
       "    }\n",
       "\n",
       "    .dataframe thead th {\n",
       "        text-align: right;\n",
       "    }\n",
       "</style>\n",
       "<table border=\"1\" class=\"dataframe\">\n",
       "  <thead>\n",
       "    <tr style=\"text-align: right;\">\n",
       "      <th></th>\n",
       "      <th>Symbol</th>\n",
       "      <th>Exchange</th>\n",
       "    </tr>\n",
       "  </thead>\n",
       "  <tbody>\n",
       "    <tr>\n",
       "      <th>1</th>\n",
       "      <td>ALDAR</td>\n",
       "      <td>ADX</td>\n",
       "    </tr>\n",
       "    <tr>\n",
       "      <th>2</th>\n",
       "      <td>EMAAR</td>\n",
       "      <td>DFM</td>\n",
       "    </tr>\n",
       "    <tr>\n",
       "      <th>3</th>\n",
       "      <td>CHADX15</td>\n",
       "      <td>ADX</td>\n",
       "    </tr>\n",
       "    <tr>\n",
       "      <th>4</th>\n",
       "      <td>BURJEEL</td>\n",
       "      <td>ADX</td>\n",
       "    </tr>\n",
       "    <tr>\n",
       "      <th>5</th>\n",
       "      <td>MULTIPLY</td>\n",
       "      <td>ADX</td>\n",
       "    </tr>\n",
       "    <tr>\n",
       "      <th>6</th>\n",
       "      <td>IHC</td>\n",
       "      <td>ADX</td>\n",
       "    </tr>\n",
       "    <tr>\n",
       "      <th>8</th>\n",
       "      <td>AMR</td>\n",
       "      <td>ADX</td>\n",
       "    </tr>\n",
       "    <tr>\n",
       "      <th>9</th>\n",
       "      <td>ASM</td>\n",
       "      <td>ADX</td>\n",
       "    </tr>\n",
       "  </tbody>\n",
       "</table>\n",
       "</div>"
      ],
      "text/plain": [
       "     Symbol Exchange\n",
       "1     ALDAR      ADX\n",
       "2     EMAAR      DFM\n",
       "3   CHADX15      ADX\n",
       "4   BURJEEL      ADX\n",
       "5  MULTIPLY      ADX\n",
       "6       IHC      ADX\n",
       "8       AMR      ADX\n",
       "9       ASM      ADX"
      ]
     },
     "execution_count": 4,
     "metadata": {},
     "output_type": "execute_result"
    }
   ],
   "source": [
    "trans_log = pd.read_csv(\"raw-data/IntlSecurities_July2025.csv\")\n",
    "symbol_market_pair = trans_log[[\"Symbol\", \"Exchange\"]].dropna().drop_duplicates()\n",
    "symbol_market_pair"
   ]
  },
  {
   "cell_type": "code",
   "execution_count": null,
   "id": "26f2b05e",
   "metadata": {},
   "outputs": [],
   "source": [
    "for _, row in symbol_market_pair.iterrows():\n",
    "    symbol = row[\"Symbol\"]\n",
    "    exchange = row[\"Exchange\"] if row[\"Exchange\"] == \"DFM\" else \"ADSM\"\n",
    "    url = f\"https://mobile.intlsecurities.ae/FITDataFeedServiceGateway/DataFeedService.asmx/datafeedDFN?session={session_id}&symbol={symbol},{exchange}&period=day&from={start}&to={end}&interval={1}${additional_slug}\"\n",
    "    df, _ = fetch_data(url)\n",
    "    df.reset_index().to_csv(f\"../data/manual-source/prices/{symbol}.csv\", index=False)"
   ]
  },
  {
   "cell_type": "markdown",
   "id": "1abdf4b6",
   "metadata": {},
   "source": [
    "![test.png](IntlSecurities-data-scrapping.png)"
   ]
  }
 ],
 "metadata": {
  "kernelspec": {
   "display_name": "Developer (3.13.5)",
   "language": "python",
   "name": "python3"
  },
  "language_info": {
   "codemirror_mode": {
    "name": "ipython",
    "version": 3
   },
   "file_extension": ".py",
   "mimetype": "text/x-python",
   "name": "python",
   "nbconvert_exporter": "python",
   "pygments_lexer": "ipython3",
   "version": "3.13.5"
  }
 },
 "nbformat": 4,
 "nbformat_minor": 5
}
