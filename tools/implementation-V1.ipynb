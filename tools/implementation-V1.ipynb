{
 "cells": [
  {
   "cell_type": "markdown",
   "id": "28d1cdf9",
   "metadata": {},
   "source": [
    "### Data Loader"
   ]
  },
  {
   "cell_type": "code",
   "execution_count": 1,
   "id": "036bbf70",
   "metadata": {},
   "outputs": [],
   "source": [
    "import pandas as pd\n",
    "import numpy as np\n",
    "import yfinance as yf\n",
    "import os\n",
    "import json\n",
    "\n",
    "import plotly.graph_objects as go\n",
    "from plotly.subplots import make_subplots"
   ]
  },
  {
   "cell_type": "code",
   "execution_count": 2,
   "id": "c90d4ccd",
   "metadata": {},
   "outputs": [],
   "source": [
    "def load_master_transaction_log(log_path):\n",
    "    print(\"--- Loading Master Transaction Log ---\")\n",
    "    if not os.path.exists(log_path):\n",
    "        raise FileNotFoundError(\n",
    "            f\"Master transaction log not found at '{log_path}'. \"\n",
    "        )\n",
    "\n",
    "    master_log = pd.read_csv(log_path, parse_dates=[\"Date\"])\n",
    "    print(f\"Loaded {os.path.basename(log_path)}\")\n",
    "    return master_log.set_index('Date')"
   ]
  },
  {
   "cell_type": "markdown",
   "id": "59490f39",
   "metadata": {},
   "source": [
    "Look into numerical stability of dividend aggregation"
   ]
  },
  {
   "cell_type": "code",
   "execution_count": 3,
   "id": "267cc3a8",
   "metadata": {},
   "outputs": [
    {
     "name": "stdout",
     "output_type": "stream",
     "text": [
      "--- Loading Master Transaction Log ---\n",
      "Loaded master_transaction_log.csv\n"
     ]
    },
    {
     "data": {
      "application/vnd.microsoft.datawrangler.viewer.v0+json": {
       "columns": [
        {
         "name": "Date",
         "rawType": "datetime64[ns]",
         "type": "datetime"
        },
        {
         "name": "Type",
         "rawType": "object",
         "type": "string"
        },
        {
         "name": "Symbol",
         "rawType": "object",
         "type": "unknown"
        },
        {
         "name": "Quantity",
         "rawType": "float64",
         "type": "float"
        },
        {
         "name": "Price",
         "rawType": "float64",
         "type": "float"
        },
        {
         "name": "Amount",
         "rawType": "float64",
         "type": "float"
        },
        {
         "name": "Commission",
         "rawType": "float64",
         "type": "float"
        },
        {
         "name": "Currency",
         "rawType": "object",
         "type": "string"
        },
        {
         "name": "Description",
         "rawType": "object",
         "type": "unknown"
        },
        {
         "name": "Source",
         "rawType": "object",
         "type": "string"
        }
       ],
       "ref": "32321c9d-5b7b-4de0-a2b4-324a0c1056c5",
       "rows": [
        [
         "2023-02-16 00:00:00",
         "Net Deposit",
         null,
         null,
         null,
         "271.57",
         null,
         "USD",
         "ID: 37fdafdc-d707-42fa-ba74-98b30cf9ab2a - DT23215738",
         "Brokerage Statement"
        ],
        [
         "2023-02-17 00:00:00",
         "buy",
         "VOO",
         "0.218966527",
         "372.07",
         "-81.47",
         null,
         "USD",
         "Trade Entry",
         "Brokerage Statement"
        ],
        [
         "2023-02-17 00:00:00",
         "buy",
         "TSLA",
         "0.202666401",
         "201.02",
         "-40.74",
         null,
         "USD",
         "Trade Entry",
         "Brokerage Statement"
        ],
        [
         "2023-02-17 00:00:00",
         "buy",
         "PERI",
         "0.407269673",
         "33.34",
         "-13.58",
         null,
         "USD",
         "Trade Entry",
         "Brokerage Statement"
        ],
        [
         "2023-03-29 00:00:00",
         "Net Dividend",
         "VOO",
         null,
         null,
         "0.24",
         null,
         "USD",
         "Cash DIV @ 1.4874, Pos QTY: 0.218966527, Rec Date: 2023-03-27",
         "Brokerage Statement"
        ],
        [
         "2023-06-20 00:00:00",
         "sell",
         "PERI",
         "-0.407269673",
         "33.54",
         "13.66",
         null,
         "USD",
         "Trade Entry",
         "Brokerage Statement"
        ],
        [
         "2023-06-20 00:00:00",
         "buy",
         "BTC-USD",
         "0.0004698",
         "27671.349510429973",
         "-13.0",
         null,
         "USD",
         null,
         "Crypto CSV"
        ],
        [
         "2023-06-20 00:00:00",
         "buy",
         "XLK",
         "0.581936685",
         "171.84",
         "-100.0",
         null,
         "USD",
         "Trade Entry",
         "Brokerage Statement"
        ],
        [
         "2023-06-20 00:00:00",
         "buy",
         "VOOG",
         "0.11943626",
         "251.18",
         "-30.0",
         null,
         "USD",
         "Trade Entry",
         "Brokerage Statement"
        ],
        [
         "2023-06-20 00:00:00",
         "buy",
         "UAE",
         "0.417475728",
         "14.42",
         "-6.02",
         null,
         "USD",
         "Trade Entry",
         "Brokerage Statement"
        ],
        [
         "2023-07-05 00:00:00",
         "Net Dividend",
         "VOOG",
         null,
         null,
         "0.06",
         null,
         "USD",
         "Cash DIV @ 0.6987, Pos QTY: 0.11943626, Rec Date: 2023-06-30",
         "Brokerage Statement"
        ],
        [
         "2023-07-05 00:00:00",
         "Net Dividend",
         "VOO",
         null,
         null,
         "0.25",
         null,
         "USD",
         "Cash DIV @ 1.5762, Pos QTY: 0.218966527, Rec Date: 2023-06-30",
         "Brokerage Statement"
        ],
        [
         "2023-08-18 00:00:00",
         "buy",
         "SPY",
         "0.091857308",
         "435.46",
         "-40.0",
         null,
         "USD",
         "Trade Entry",
         "Brokerage Statement"
        ],
        [
         "2023-08-18 00:00:00",
         "buy",
         "NOBL",
         "0.321722717",
         "93.25",
         "-30.0",
         null,
         "USD",
         "Trade Entry",
         "Brokerage Statement"
        ],
        [
         "2023-08-18 00:00:00",
         "Net Deposit",
         null,
         null,
         null,
         "271.57",
         null,
         "USD",
         "ID: 977a86e5-8ee2-4d0f-90fe-6fc19b29c5bb - DT23818273",
         "Brokerage Statement"
        ],
        [
         "2023-08-18 00:00:00",
         "buy",
         "VHT",
         "0.133556611",
         "243.64",
         "-32.54",
         null,
         "USD",
         "Trade Entry",
         "Brokerage Statement"
        ],
        [
         "2023-08-22 00:00:00",
         "buy",
         "SPY",
         "0.041763972",
         "441.05",
         "-18.42",
         null,
         "USD",
         "Trade Entry",
         "Brokerage Statement"
        ],
        [
         "2023-08-22 00:00:00",
         "buy",
         "NOBL",
         "0.146682438",
         "92.99",
         "-13.64",
         null,
         "USD",
         "Trade Entry",
         "Brokerage Statement"
        ],
        [
         "2023-08-22 00:00:00",
         "buy",
         "VOO",
         "0.099555994",
         "405.4",
         "-40.36",
         null,
         "USD",
         "Trade Entry",
         "Brokerage Statement"
        ],
        [
         "2023-08-22 00:00:00",
         "buy",
         "TSLA",
         "0.089047083",
         "240.21",
         "-21.39",
         null,
         "USD",
         "Trade Entry",
         "Brokerage Statement"
        ],
        [
         "2023-08-22 00:00:00",
         "buy",
         "VHT",
         "0.061053062",
         "244.05",
         "-14.9",
         null,
         "USD",
         "Trade Entry",
         "Brokerage Statement"
        ],
        [
         "2023-08-22 00:00:00",
         "buy",
         "VOOG",
         "0.054228483",
         "254.11",
         "-13.78",
         null,
         "USD",
         "Trade Entry",
         "Brokerage Statement"
        ],
        [
         "2023-08-22 00:00:00",
         "buy",
         "XLK",
         "0.263294422",
         "169.62",
         "-44.66",
         null,
         "USD",
         "Trade Entry",
         "Brokerage Statement"
        ],
        [
         "2023-08-22 00:00:00",
         "buy",
         "UAE",
         "0.190126751",
         "14.99",
         "-2.85",
         null,
         "USD",
         "Trade Entry",
         "Brokerage Statement"
        ],
        [
         "2023-09-07 00:00:00",
         "buy",
         "SPHY",
         "0.282076222",
         "22.62",
         "-6.38",
         null,
         "USD",
         "Trade Entry",
         "Brokerage Statement"
        ],
        [
         "2023-09-07 00:00:00",
         "Net Deposit",
         null,
         null,
         null,
         "271.57",
         null,
         "USD",
         "ID: 28979918-1174-4ee9-8ba5-afe3d4e44879 - DT23905331",
         "Brokerage Statement"
        ],
        [
         "2023-09-07 00:00:00",
         "buy",
         "XLK",
         "0.074194863",
         "171.71",
         "-12.74",
         null,
         "USD",
         "Trade Entry",
         "Brokerage Statement"
        ],
        [
         "2023-09-07 00:00:00",
         "buy",
         "VHT",
         "0.024623011",
         "242.05",
         "-5.96",
         null,
         "USD",
         "Trade Entry",
         "Brokerage Statement"
        ],
        [
         "2023-09-07 00:00:00",
         "buy",
         "USRT",
         "0.125987361",
         "50.64",
         "-6.38",
         null,
         "USD",
         "Trade Entry",
         "Brokerage Statement"
        ],
        [
         "2023-09-07 00:00:00",
         "buy",
         "UAE",
         "0.476125511",
         "14.66",
         "-6.98",
         null,
         "USD",
         "Trade Entry",
         "Brokerage Statement"
        ],
        [
         "2023-09-07 00:00:00",
         "buy",
         "STIP",
         "0.065740664",
         "97.05",
         "-6.38",
         null,
         "USD",
         "Trade Entry",
         "Brokerage Statement"
        ],
        [
         "2023-09-07 00:00:00",
         "buy",
         "SHOP",
         "0.379384395",
         "64.26",
         "-24.38",
         null,
         "USD",
         "Trade Entry",
         "Brokerage Statement"
        ],
        [
         "2023-09-07 00:00:00",
         "buy",
         "COIN",
         "0.141906697",
         "75.75",
         "-10.75",
         null,
         "USD",
         "Trade Entry",
         "Brokerage Statement"
        ],
        [
         "2023-09-07 00:00:00",
         "buy",
         "MSFT",
         "0.073728203",
         "330.67",
         "-24.38",
         null,
         "USD",
         "Trade Entry",
         "Brokerage Statement"
        ],
        [
         "2023-09-07 00:00:00",
         "buy",
         "EL",
         "0.066052816",
         "156.39",
         "-10.33",
         null,
         "USD",
         "Trade Entry",
         "Brokerage Statement"
        ],
        [
         "2023-09-07 00:00:00",
         "buy",
         "NVDA",
         "0.02369919",
         "453.6",
         "-10.75",
         null,
         "USD",
         "Trade Entry",
         "Brokerage Statement"
        ],
        [
         "2023-09-07 00:00:00",
         "buy",
         "BA",
         "0.082145456",
         "217.05",
         "-17.83",
         null,
         "USD",
         "Trade Entry",
         "Brokerage Statement"
        ],
        [
         "2023-09-07 00:00:00",
         "buy",
         "BKNG",
         "0.003320753",
         "3110.74",
         "-10.33",
         null,
         "USD",
         "Trade Entry",
         "Brokerage Statement"
        ],
        [
         "2023-09-07 00:00:00",
         "buy",
         "CAT",
         "0.071134406",
         "283.13",
         "-20.14",
         null,
         "USD",
         "Trade Entry",
         "Brokerage Statement"
        ],
        [
         "2023-09-07 00:00:00",
         "buy",
         "ADBE",
         "0.04371275",
         "557.73",
         "-24.38",
         null,
         "USD",
         "Trade Entry",
         "Brokerage Statement"
        ],
        [
         "2023-09-07 00:00:00",
         "buy",
         "DE",
         "0.048628784",
         "414.16",
         "-20.14",
         null,
         "USD",
         "Trade Entry",
         "Brokerage Statement"
        ],
        [
         "2023-09-07 00:00:00",
         "buy",
         "IBB",
         "0.047021696",
         "126.75",
         "-5.96",
         null,
         "USD",
         "Trade Entry",
         "Brokerage Statement"
        ],
        [
         "2023-09-07 00:00:00",
         "buy",
         "LUX",
         "1.0",
         "23.0",
         "-23.0",
         null,
         "USD",
         "Trade Entry",
         "Brokerage Statement"
        ],
        [
         "2023-09-07 00:00:00",
         "buy",
         "META",
         "0.081603416",
         "298.76",
         "-24.38",
         null,
         "USD",
         "Trade Entry",
         "Brokerage Statement"
        ],
        [
         "2023-09-21 00:00:00",
         "Net Dividend",
         "XLK",
         null,
         null,
         "0.24",
         null,
         "USD",
         "Cash DIV @ 0.360286, Pos QTY: 0.91942597, Rec Date: 2023-09-19",
         "Brokerage Statement"
        ],
        [
         "2023-09-21 00:00:00",
         "buy",
         "EL",
         "0.021854511",
         "147.34",
         "-3.22",
         null,
         "USD",
         "Trade Entry",
         "Brokerage Statement"
        ],
        [
         "2023-09-21 00:00:00",
         "buy",
         "ADBE",
         "0.01442104",
         "519.38",
         "-7.49",
         null,
         "USD",
         "Trade Entry",
         "Brokerage Statement"
        ],
        [
         "2023-09-21 00:00:00",
         "buy",
         "TSLA",
         "0.096304008",
         "257.41",
         "-24.79",
         null,
         "USD",
         "Trade Entry",
         "Brokerage Statement"
        ],
        [
         "2023-09-21 00:00:00",
         "buy",
         "MSFT",
         "0.024305145",
         "322.15",
         "-7.83",
         null,
         "USD",
         "Trade Entry",
         "Brokerage Statement"
        ],
        [
         "2023-09-21 00:00:00",
         "buy",
         "META",
         "0.026961846",
         "295.23",
         "-7.96",
         null,
         "USD",
         "Trade Entry",
         "Brokerage Statement"
        ]
       ],
       "shape": {
        "columns": 9,
        "rows": 555
       }
      },
      "text/html": [
       "<div>\n",
       "<style scoped>\n",
       "    .dataframe tbody tr th:only-of-type {\n",
       "        vertical-align: middle;\n",
       "    }\n",
       "\n",
       "    .dataframe tbody tr th {\n",
       "        vertical-align: top;\n",
       "    }\n",
       "\n",
       "    .dataframe thead th {\n",
       "        text-align: right;\n",
       "    }\n",
       "</style>\n",
       "<table border=\"1\" class=\"dataframe\">\n",
       "  <thead>\n",
       "    <tr style=\"text-align: right;\">\n",
       "      <th></th>\n",
       "      <th>Type</th>\n",
       "      <th>Symbol</th>\n",
       "      <th>Quantity</th>\n",
       "      <th>Price</th>\n",
       "      <th>Amount</th>\n",
       "      <th>Commission</th>\n",
       "      <th>Currency</th>\n",
       "      <th>Description</th>\n",
       "      <th>Source</th>\n",
       "    </tr>\n",
       "    <tr>\n",
       "      <th>Date</th>\n",
       "      <th></th>\n",
       "      <th></th>\n",
       "      <th></th>\n",
       "      <th></th>\n",
       "      <th></th>\n",
       "      <th></th>\n",
       "      <th></th>\n",
       "      <th></th>\n",
       "      <th></th>\n",
       "    </tr>\n",
       "  </thead>\n",
       "  <tbody>\n",
       "    <tr>\n",
       "      <th>2023-02-16</th>\n",
       "      <td>Net Deposit</td>\n",
       "      <td>NaN</td>\n",
       "      <td>NaN</td>\n",
       "      <td>NaN</td>\n",
       "      <td>271.57</td>\n",
       "      <td>NaN</td>\n",
       "      <td>USD</td>\n",
       "      <td>ID: 37fdafdc-d707-42fa-ba74-98b30cf9ab2a - DT2...</td>\n",
       "      <td>Brokerage Statement</td>\n",
       "    </tr>\n",
       "    <tr>\n",
       "      <th>2023-02-17</th>\n",
       "      <td>buy</td>\n",
       "      <td>VOO</td>\n",
       "      <td>0.218967</td>\n",
       "      <td>372.070000</td>\n",
       "      <td>-81.47</td>\n",
       "      <td>NaN</td>\n",
       "      <td>USD</td>\n",
       "      <td>Trade Entry</td>\n",
       "      <td>Brokerage Statement</td>\n",
       "    </tr>\n",
       "    <tr>\n",
       "      <th>2023-02-17</th>\n",
       "      <td>buy</td>\n",
       "      <td>TSLA</td>\n",
       "      <td>0.202666</td>\n",
       "      <td>201.020000</td>\n",
       "      <td>-40.74</td>\n",
       "      <td>NaN</td>\n",
       "      <td>USD</td>\n",
       "      <td>Trade Entry</td>\n",
       "      <td>Brokerage Statement</td>\n",
       "    </tr>\n",
       "    <tr>\n",
       "      <th>2023-02-17</th>\n",
       "      <td>buy</td>\n",
       "      <td>PERI</td>\n",
       "      <td>0.407270</td>\n",
       "      <td>33.340000</td>\n",
       "      <td>-13.58</td>\n",
       "      <td>NaN</td>\n",
       "      <td>USD</td>\n",
       "      <td>Trade Entry</td>\n",
       "      <td>Brokerage Statement</td>\n",
       "    </tr>\n",
       "    <tr>\n",
       "      <th>2023-03-29</th>\n",
       "      <td>Net Dividend</td>\n",
       "      <td>VOO</td>\n",
       "      <td>NaN</td>\n",
       "      <td>NaN</td>\n",
       "      <td>0.24</td>\n",
       "      <td>NaN</td>\n",
       "      <td>USD</td>\n",
       "      <td>Cash DIV @ 1.4874, Pos QTY: 0.218966527, Rec D...</td>\n",
       "      <td>Brokerage Statement</td>\n",
       "    </tr>\n",
       "    <tr>\n",
       "      <th>...</th>\n",
       "      <td>...</td>\n",
       "      <td>...</td>\n",
       "      <td>...</td>\n",
       "      <td>...</td>\n",
       "      <td>...</td>\n",
       "      <td>...</td>\n",
       "      <td>...</td>\n",
       "      <td>...</td>\n",
       "      <td>...</td>\n",
       "    </tr>\n",
       "    <tr>\n",
       "      <th>2025-07-24</th>\n",
       "      <td>buy</td>\n",
       "      <td>BTC-USD</td>\n",
       "      <td>0.000162</td>\n",
       "      <td>120615.384615</td>\n",
       "      <td>-19.60</td>\n",
       "      <td>NaN</td>\n",
       "      <td>USD</td>\n",
       "      <td>NaN</td>\n",
       "      <td>Crypto CSV</td>\n",
       "    </tr>\n",
       "    <tr>\n",
       "      <th>2025-07-24</th>\n",
       "      <td>buy</td>\n",
       "      <td>BRK-B</td>\n",
       "      <td>0.124000</td>\n",
       "      <td>481.935484</td>\n",
       "      <td>-59.76</td>\n",
       "      <td>1.0</td>\n",
       "      <td>USD</td>\n",
       "      <td>Purchase of BRK-B</td>\n",
       "      <td>Interim CSV</td>\n",
       "    </tr>\n",
       "    <tr>\n",
       "      <th>2025-07-24</th>\n",
       "      <td>buy</td>\n",
       "      <td>VOOG</td>\n",
       "      <td>0.244500</td>\n",
       "      <td>408.997955</td>\n",
       "      <td>-100.00</td>\n",
       "      <td>1.0</td>\n",
       "      <td>USD</td>\n",
       "      <td>Purchase of VOOG</td>\n",
       "      <td>Interim CSV</td>\n",
       "    </tr>\n",
       "    <tr>\n",
       "      <th>2025-07-24</th>\n",
       "      <td>buy</td>\n",
       "      <td>APO</td>\n",
       "      <td>0.261400</td>\n",
       "      <td>153.022188</td>\n",
       "      <td>-40.00</td>\n",
       "      <td>1.0</td>\n",
       "      <td>USD</td>\n",
       "      <td>Purchase of APO</td>\n",
       "      <td>Interim CSV</td>\n",
       "    </tr>\n",
       "    <tr>\n",
       "      <th>2025-07-24</th>\n",
       "      <td>buy</td>\n",
       "      <td>BX</td>\n",
       "      <td>0.325800</td>\n",
       "      <td>178.023327</td>\n",
       "      <td>-58.00</td>\n",
       "      <td>1.0</td>\n",
       "      <td>USD</td>\n",
       "      <td>Purchase of BX</td>\n",
       "      <td>Interim CSV</td>\n",
       "    </tr>\n",
       "  </tbody>\n",
       "</table>\n",
       "<p>555 rows × 9 columns</p>\n",
       "</div>"
      ],
      "text/plain": [
       "                    Type   Symbol  Quantity          Price  Amount  \\\n",
       "Date                                                                 \n",
       "2023-02-16   Net Deposit      NaN       NaN            NaN  271.57   \n",
       "2023-02-17           buy      VOO  0.218967     372.070000  -81.47   \n",
       "2023-02-17           buy     TSLA  0.202666     201.020000  -40.74   \n",
       "2023-02-17           buy     PERI  0.407270      33.340000  -13.58   \n",
       "2023-03-29  Net Dividend      VOO       NaN            NaN    0.24   \n",
       "...                  ...      ...       ...            ...     ...   \n",
       "2025-07-24           buy  BTC-USD  0.000162  120615.384615  -19.60   \n",
       "2025-07-24           buy    BRK-B  0.124000     481.935484  -59.76   \n",
       "2025-07-24           buy     VOOG  0.244500     408.997955 -100.00   \n",
       "2025-07-24           buy      APO  0.261400     153.022188  -40.00   \n",
       "2025-07-24           buy       BX  0.325800     178.023327  -58.00   \n",
       "\n",
       "            Commission Currency  \\\n",
       "Date                              \n",
       "2023-02-16         NaN      USD   \n",
       "2023-02-17         NaN      USD   \n",
       "2023-02-17         NaN      USD   \n",
       "2023-02-17         NaN      USD   \n",
       "2023-03-29         NaN      USD   \n",
       "...                ...      ...   \n",
       "2025-07-24         NaN      USD   \n",
       "2025-07-24         1.0      USD   \n",
       "2025-07-24         1.0      USD   \n",
       "2025-07-24         1.0      USD   \n",
       "2025-07-24         1.0      USD   \n",
       "\n",
       "                                                  Description  \\\n",
       "Date                                                            \n",
       "2023-02-16  ID: 37fdafdc-d707-42fa-ba74-98b30cf9ab2a - DT2...   \n",
       "2023-02-17                                        Trade Entry   \n",
       "2023-02-17                                        Trade Entry   \n",
       "2023-02-17                                        Trade Entry   \n",
       "2023-03-29  Cash DIV @ 1.4874, Pos QTY: 0.218966527, Rec D...   \n",
       "...                                                       ...   \n",
       "2025-07-24                                                NaN   \n",
       "2025-07-24                                  Purchase of BRK-B   \n",
       "2025-07-24                                   Purchase of VOOG   \n",
       "2025-07-24                                    Purchase of APO   \n",
       "2025-07-24                                     Purchase of BX   \n",
       "\n",
       "                         Source  \n",
       "Date                             \n",
       "2023-02-16  Brokerage Statement  \n",
       "2023-02-17  Brokerage Statement  \n",
       "2023-02-17  Brokerage Statement  \n",
       "2023-02-17  Brokerage Statement  \n",
       "2023-03-29  Brokerage Statement  \n",
       "...                         ...  \n",
       "2025-07-24           Crypto CSV  \n",
       "2025-07-24          Interim CSV  \n",
       "2025-07-24          Interim CSV  \n",
       "2025-07-24          Interim CSV  \n",
       "2025-07-24          Interim CSV  \n",
       "\n",
       "[555 rows x 9 columns]"
      ]
     },
     "execution_count": 3,
     "metadata": {},
     "output_type": "execute_result"
    }
   ],
   "source": [
    "master_log = load_master_transaction_log('data/master_transaction_log.csv')\n",
    "master_log"
   ]
  },
  {
   "cell_type": "markdown",
   "id": "9f4d6ebe",
   "metadata": {},
   "source": [
    "### Caching"
   ]
  },
  {
   "cell_type": "code",
   "execution_count": 4,
   "id": "235961cc",
   "metadata": {},
   "outputs": [],
   "source": [
    "def yfinance_hist(\n",
    "    ticker_symbol, start_date, end_date, last_market_day, cache_dir=\"data/yf_cache\"\n",
    "):\n",
    "    if not os.path.exists(cache_dir):\n",
    "        os.makedirs(cache_dir)\n",
    "\n",
    "    cache_file = os.path.join(cache_dir, f\"{ticker_symbol}.csv\")\n",
    "\n",
    "    if os.path.exists(cache_file):\n",
    "        cached_data = pd.read_csv(cache_file, index_col=\"Date\", parse_dates=True)\n",
    "        if (\n",
    "            not cached_data.empty\n",
    "            and cached_data.index.max().normalize() >= last_market_day\n",
    "        ):\n",
    "            return cached_data\n",
    "\n",
    "    ticker = yf.Ticker(ticker_symbol)\n",
    "    hist = ticker.history(start=start_date, end=end_date)\n",
    "\n",
    "    if not hist.empty:\n",
    "        hist.index = hist.index.tz_localize(None)\n",
    "        hist.to_csv(cache_file)\n",
    "\n",
    "    return hist\n",
    "\n",
    "\n",
    "def ticker_info(\n",
    "    ticker_symbol, cache_file=\"data/yf_cache/ticker_info_cache.json\"\n",
    "):\n",
    "    if os.path.exists(cache_file):\n",
    "        with open(cache_file, \"r\") as f:\n",
    "            info_cache = json.load(f)\n",
    "    else:\n",
    "        info_cache = {}\n",
    "\n",
    "    if ticker_symbol in info_cache:\n",
    "        return info_cache[ticker_symbol]\n",
    "\n",
    "    ticker = yf.Ticker(ticker_symbol)\n",
    "    info = ticker.info\n",
    "\n",
    "    info_cache[ticker_symbol] = info\n",
    "\n",
    "    os.makedirs(os.path.dirname(cache_file), exist_ok=True)\n",
    "    with open(cache_file, \"w\") as f:\n",
    "        json.dump(info_cache, f, indent=4)\n",
    "\n",
    "    return info"
   ]
  },
  {
   "cell_type": "markdown",
   "id": "01ae9f00",
   "metadata": {},
   "source": [
    "### Main - Variables"
   ]
  },
  {
   "cell_type": "code",
   "execution_count": 5,
   "id": "f003146b",
   "metadata": {},
   "outputs": [],
   "source": [
    "start_date = master_log.index.min()\n",
    "end_date = pd.Timestamp.today().normalize() - pd.Timedelta(days=1)\n",
    "date_range = pd.Series(pd.date_range(start=start_date, end=end_date, freq='D'), name='Date')\n",
    "\n",
    "benchmark_index = 'VOO'\n",
    "TAX_RATE = 0.30\n",
    "\n",
    "last_market_day = (\n",
    "    yf.Ticker(benchmark_index).history(period=\"5d\").index.max().tz_localize(None).normalize()\n",
    ")"
   ]
  },
  {
   "cell_type": "markdown",
   "id": "994c0a86",
   "metadata": {},
   "source": [
    "### Benchmark"
   ]
  },
  {
   "cell_type": "code",
   "execution_count": 6,
   "id": "f6474e29",
   "metadata": {},
   "outputs": [],
   "source": [
    "def buy_order(cash_to_invest, FLAT_FEE=1.0, RATE=0.0025):\n",
    "    if cash_to_invest <= FLAT_FEE:\n",
    "        return 0.0, 0.0\n",
    "\n",
    "    net_investment = cash_to_invest / (1 + RATE)\n",
    "\n",
    "    if net_investment >= FLAT_FEE / RATE:\n",
    "        commission = cash_to_invest - net_investment\n",
    "    else:\n",
    "        commission = FLAT_FEE\n",
    "        net_investment = cash_to_invest - commission\n",
    "\n",
    "    return net_investment, commission\n",
    "\n",
    "def sell_order(cash_needed, FLAT_FEE=1.0, RATE=0.0025):\n",
    "    if cash_needed <= 0:\n",
    "        return 0.0, 0.0\n",
    "\n",
    "    if cash_needed > (FLAT_FEE / RATE) - FLAT_FEE:\n",
    "        gross_sale = cash_needed / (1 - RATE)\n",
    "        commission = gross_sale - cash_needed\n",
    "    else:\n",
    "        commission = FLAT_FEE\n",
    "        gross_sale = cash_needed + commission\n",
    "\n",
    "    return gross_sale, commission"
   ]
  },
  {
   "cell_type": "code",
   "execution_count": 7,
   "id": "4a13d927",
   "metadata": {},
   "outputs": [],
   "source": [
    "benchmark = pd.DataFrame(index=date_range)\n",
    "\n",
    "yfinance_history = yfinance_hist(benchmark_index, start_date, end_date, last_market_day)\n",
    "yfinance_history['Market'] = 'Open'\n",
    "\n",
    "benchmark = yfinance_history.reindex(date_range)\n",
    "fill_cols = [col for col in ['Open', 'High', 'Low', 'Close', 'Volume'] if col in benchmark.columns]\n",
    "benchmark[fill_cols] = benchmark[fill_cols].ffill()\n",
    "fill_values = {'Market': 'Closed', 'Dividends': 0, 'Stock Splits': 0, 'Capital Gains': 0}\n",
    "fill_values = {k: v for k, v in fill_values.items() if k in benchmark.columns}\n",
    "benchmark = benchmark.fillna(value=fill_values)\n",
    "\n",
    "benchmark['Net Deposit'] = master_log[master_log['Type'] == 'Net Deposit']['Amount']\n",
    "\n",
    "benchmark['Shares'] = 0.0\n",
    "benchmark['DividendCash'] = 0.0\n",
    "benchmark['TradeCash'] = 0.0\n",
    "benchmark['Commission'] = 0.0\n",
    "benchmark['Portfolio Value'] = 0.0\n",
    "benchmark['Total Value'] = 0.0\n",
    "benchmark['Trade Trigger'] = 'None'\n",
    "benchmark['NetDividend'] = 0.0\n",
    "\n",
    "initial_deposit_index = benchmark['Net Deposit'].first_valid_index()\n",
    "if initial_deposit_index is not None:\n",
    "    benchmark.loc[initial_deposit_index, 'TradeCash'] = benchmark.loc[initial_deposit_index, 'Net Deposit']\n",
    "    benchmark.loc[initial_deposit_index, 'Trade Trigger'] = 'Buy'\n",
    "\n",
    "for i in range(1, len(benchmark)):\n",
    "    today = benchmark.index[i]\n",
    "    yesterday = benchmark.index[i-1]\n",
    "\n",
    "    benchmark.loc[today, 'Shares'] = benchmark.loc[yesterday, 'Shares']\n",
    "    benchmark.loc[today, 'DividendCash'] += benchmark.loc[yesterday, 'DividendCash']\n",
    "    benchmark.loc[today, 'TradeCash'] += benchmark.loc[yesterday, 'TradeCash']\n",
    "    benchmark.loc[today, 'Trade Trigger'] = benchmark.loc[yesterday, 'Trade Trigger']\n",
    "\n",
    "    if benchmark.loc[today, 'Dividends'] > 0 and benchmark.loc[yesterday, 'Shares'] > 0:\n",
    "        net_dividend = benchmark.loc[today, 'Dividends'] * benchmark.loc[yesterday, 'Shares'] * (1 - TAX_RATE)\n",
    "        benchmark.loc[today, \"NetDividend\"] = net_dividend\n",
    "        benchmark.loc[today, 'DividendCash'] += net_dividend\n",
    "\n",
    "    if pd.notna(benchmark.loc[today, 'Net Deposit']):\n",
    "        deposit_amount = benchmark.loc[today, 'Net Deposit']\n",
    "        benchmark.loc[today, 'TradeCash'] += deposit_amount\n",
    "        if deposit_amount > 0:\n",
    "            benchmark.loc[today, 'Trade Trigger'] = 'Buy'\n",
    "        elif deposit_amount < 0:\n",
    "            benchmark.loc[today, 'Trade Trigger'] = 'Sell'\n",
    "\n",
    "    if benchmark.loc[today, 'Market'] == 'Open' and benchmark.loc[today, 'Trade Trigger'] != 'None':\n",
    "        trigger_type = benchmark.loc[today, 'Trade Trigger']\n",
    "        open_price = benchmark.loc[today, 'Open']\n",
    "\n",
    "        if trigger_type == 'Buy':\n",
    "            cash_to_invest = benchmark.loc[today, 'TradeCash'] + benchmark.loc[today, 'DividendCash']\n",
    "            if cash_to_invest > 1.0:\n",
    "                net_investment, commission = buy_order(cash_to_invest)\n",
    "                shares_bought = net_investment / open_price\n",
    "                benchmark.loc[today, 'Shares'] += shares_bought\n",
    "                benchmark.loc[today, 'Commission'] = commission\n",
    "                benchmark.loc[today, 'TradeCash'] = 0.0\n",
    "                benchmark.loc[today, 'DividendCash'] = 0.0\n",
    "\n",
    "            benchmark.loc[today, 'Trade Trigger'] = 'None'\n",
    "\n",
    "        elif trigger_type == 'Sell':\n",
    "            cash_needed = abs(benchmark.loc[today, 'Net Deposit'])\n",
    "\n",
    "            cash_from_dividends = min(cash_needed, benchmark.loc[today, 'DividendCash'])\n",
    "            benchmark.loc[today, 'DividendCash'] -= cash_from_dividends\n",
    "            \n",
    "            cash_needed_from_sale = cash_needed - cash_from_dividends\n",
    "\n",
    "            if cash_needed_from_sale > 0:\n",
    "                gross_sale, commission = sell_order(cash_needed_from_sale)\n",
    "                shares_to_sell = gross_sale / open_price\n",
    "                shares_sold = min(shares_to_sell, benchmark.loc[today, 'Shares'])\n",
    "                cash_raised = (shares_sold * open_price) - commission\n",
    "                \n",
    "                benchmark.loc[today, 'TradeCash'] += cash_raised\n",
    "                benchmark.loc[today, 'Shares'] -= shares_sold\n",
    "                benchmark.loc[today, 'Commission'] = commission\n",
    "\n",
    "            benchmark.loc[today, 'Trade Trigger'] = 'None'\n",
    "\n",
    "    total_cash = benchmark.loc[today, 'TradeCash'] + benchmark.loc[today, 'DividendCash']\n",
    "    benchmark.loc[today, 'Portfolio Value'] = benchmark.loc[today, 'Shares'] * benchmark.loc[today, 'Close']\n",
    "    benchmark.loc[today, 'Total Value'] = benchmark.loc[today, 'Portfolio Value'] + total_cash"
   ]
  },
  {
   "cell_type": "markdown",
   "id": "046e1c0a",
   "metadata": {},
   "source": [
    "### Portfolio Analysis"
   ]
  },
  {
   "cell_type": "code",
   "execution_count": 8,
   "id": "2a69ed5d",
   "metadata": {},
   "outputs": [],
   "source": [
    "def cumulative_split_factors(split_series: pd.Series) -> pd.Series:\n",
    "    \"\"\"\n",
    "    Compute cumulative split factors for retroactive holding adjustment.\n",
    "    A split on day t affects only days < t.\n",
    "    \"\"\"\n",
    "    factors = split_series.replace(0, 1)\n",
    "    cumulative = factors[::-1].ffill().cumprod()[::-1].shift(-1)\n",
    "    return cumulative.fillna(1.0)"
   ]
  },
  {
   "cell_type": "code",
   "execution_count": 9,
   "id": "7e9e6604",
   "metadata": {},
   "outputs": [],
   "source": [
    "symbols = np.sort(master_log['Symbol'].dropna().unique())\n",
    "\n",
    "holdings = {}\n",
    "\n",
    "for name in [\"trade\", \"holding\", \"stock split\", \"adj holding\", \"price\", \"value\"]:\n",
    "    holdings[name] = pd.DataFrame(\n",
    "        0.0, index=date_range, columns=symbols, dtype=\"float64\"\n",
    "    )\n",
    "\n",
    "holdings['trade'].update(\n",
    "    master_log[master_log['Type'].isin(['buy', 'sell', 'Merger/Acquisition'])].groupby(['Date', 'Symbol'])['Quantity'].sum().unstack(fill_value=0)\n",
    ")\n",
    "\n",
    "raw_splits = pd.DataFrame(index=date_range, columns=symbols)\n",
    "for symbol in symbols:\n",
    "    hist = yfinance_hist(symbol, start_date, end_date, last_market_day)\n",
    "    raw_splits[symbol] = hist[\"Stock Splits\"]\n",
    "    \n",
    "raw_splits = raw_splits.fillna(0.0)\n",
    "\n",
    "for symbol in symbols:\n",
    "    for i in range(len(date_range)):\n",
    "        current_date = date_range[i]\n",
    "        \n",
    "        prev_holding = holdings[\"holding\"].iloc[i - 1][symbol] if i > 0 else 0\n",
    "        \n",
    "        split_ratio = raw_splits.loc[current_date, symbol]\n",
    "        if split_ratio == 0:\n",
    "            split_ratio = 1\n",
    "        \n",
    "        todays_holding_after_split = prev_holding * split_ratio\n",
    "        \n",
    "        final_holding_today = todays_holding_after_split + holdings[\"trade\"].loc[current_date, symbol]\n",
    "        \n",
    "        holdings[\"holding\"].loc[current_date, symbol] = final_holding_today\n",
    "\n",
    "holdings[\"holding\"] = holdings[\"holding\"]"
   ]
  },
  {
   "cell_type": "code",
   "execution_count": 10,
   "id": "fb9b8ea3",
   "metadata": {},
   "outputs": [],
   "source": [
    "symbols_df = pd.DataFrame({\n",
    "    'Symbol': symbols,\n",
    "    'Name': [ticker_info(name)['longName'] for name in symbols]\n",
    "})\n",
    "\n",
    "holdings[\"Ticker Info\"] = {}\n",
    "\n",
    "for symbol in symbols:\n",
    "    try:\n",
    "        if symbol == benchmark_index:\n",
    "            hist = benchmark\n",
    "        else:\n",
    "            hist = yfinance_hist(symbol, start_date, end_date, last_market_day)\n",
    "\n",
    "        holdings[\"price\"][symbol] = hist[\"Close\"]\n",
    "        holdings[\"price\"][symbol] = holdings[\"price\"][symbol].ffill()\n",
    "        holdings[\"stock split\"][symbol] = hist[\"Stock Splits\"]\n",
    "        holdings[\"stock split\"][symbol] = holdings[\"stock split\"][symbol].fillna(0)\n",
    "        holdings[\"stock split\"][symbol] = cumulative_split_factors(holdings[\"stock split\"][symbol])\n",
    "        holdings[\"adj holding\"][symbol] = holdings[\"holding\"][symbol] * holdings[\"stock split\"][symbol]\n",
    "\n",
    "        info = ticker_info(symbol)\n",
    "        holdings[\"Ticker Info\"][symbol] = {}\n",
    "        holdings[\"Ticker Info\"][symbol][\"Industry\"] = info.get(\"industryDisp\", \"N/A\")\n",
    "        holdings[\"Ticker Info\"][symbol][\"Sector\"] = info.get(\"sectorDisp\", \"N/A\")\n",
    "\n",
    "        symbols_df.loc[symbols_df[\"Symbol\"] == symbol, \"yf_symbol\"] = info.get(\"symbol\")\n",
    "        symbols_df.loc[symbols_df[\"Symbol\"] == symbol, \"yf_name\"] = info.get(\"longName\")\n",
    "\n",
    "    except Exception as e:\n",
    "        print(f\"Error fetching data for {symbol}: {e}\")\n",
    "\n",
    "holdings[\"value\"] = holdings[\"adj holding\"] * holdings[\"price\"]\n",
    "holdings[\"Portfolio Value\"] = pd.DataFrame(index=date_range)\n",
    "holdings[\"Portfolio Value\"][\"Value\"] = holdings[\"value\"].sum(axis=1)"
   ]
  },
  {
   "cell_type": "code",
   "execution_count": 11,
   "id": "c4c47758",
   "metadata": {},
   "outputs": [
    {
     "data": {
      "application/vnd.microsoft.datawrangler.viewer.v0+json": {
       "columns": [
        {
         "name": "index",
         "rawType": "object",
         "type": "string"
        },
        {
         "name": "2025-08-01 00:00:00",
         "rawType": "float64",
         "type": "float"
        }
       ],
       "ref": "7e08fe83-d0c2-4624-8785-52bcb89c30f6",
       "rows": [
        [
         "ADBE",
         "6.938893903907228e-18"
        ],
        [
         "AMZN",
         "0.14997977499999998"
        ],
        [
         "APO",
         "0.534728857"
        ],
        [
         "ARKK",
         "0.0"
        ],
        [
         "ARM",
         "0.080825933"
        ],
        [
         "BA",
         "6.938893903907228e-18"
        ],
        [
         "BKNG",
         "0.0"
        ],
        [
         "BRK-B",
         "0.124"
        ],
        [
         "BRW",
         "4.707717967"
        ],
        [
         "BTC-USD",
         "0.00032419999999999997"
        ],
        [
         "BX",
         "0.3258"
        ],
        [
         "CAT",
         "-1.3877787807814457e-17"
        ],
        [
         "CEFS",
         "1.1142671480000002"
        ],
        [
         "CLM",
         "2.8169410829999997"
        ],
        [
         "COIN",
         "-1.3877787807814457e-17"
        ],
        [
         "DE",
         "0.0"
        ],
        [
         "EL",
         "1.3877787807814457e-17"
        ],
        [
         "EWJ",
         "0.0"
        ],
        [
         "GOF",
         "3.0"
        ],
        [
         "GSBD",
         "2.436460888"
        ],
        [
         "IBB",
         "0.047021696"
        ],
        [
         "IJR",
         "0.22721489"
        ],
        [
         "INDA",
         "0.877661151"
        ],
        [
         "IPO",
         "1.288475687"
        ],
        [
         "JPMB",
         "1.688699255"
        ],
        [
         "KKR",
         "0.378201587"
        ],
        [
         "KSA",
         "0.0"
        ],
        [
         "LLY",
         "0.062060405"
        ],
        [
         "LUX",
         "2.0"
        ],
        [
         "MBB",
         "0.0"
        ],
        [
         "MCHI",
         "0.0"
        ],
        [
         "META",
         "0.138582491"
        ],
        [
         "MOAT",
         "1.3996206409999996"
        ],
        [
         "MSFT",
         "0.255834079"
        ],
        [
         "NOBL",
         "0.0"
        ],
        [
         "NVDA",
         "0.25039711099999995"
        ],
        [
         "NVO",
         "0.0"
        ],
        [
         "OCSL",
         "1.042268639"
        ],
        [
         "PAK",
         "0.0"
        ],
        [
         "PERI",
         "0.0"
        ],
        [
         "ROM",
         "0.0"
        ],
        [
         "RYAAY",
         "0.31546657037700004"
        ],
        [
         "SHOP",
         "0.0"
        ],
        [
         "SMOT",
         "0.718432093"
        ],
        [
         "SPHY",
         "0.0"
        ],
        [
         "SPSM",
         "0.0"
        ],
        [
         "SPXL",
         "0.0"
        ],
        [
         "SPY",
         "0.17767607300000002"
        ],
        [
         "STIP",
         "0.0"
        ],
        [
         "TPVG",
         "4.0"
        ]
       ],
       "shape": {
        "columns": 1,
        "rows": 62
       }
      },
      "text/plain": [
       "ADBE    6.938894e-18\n",
       "AMZN    1.499798e-01\n",
       "APO     5.347289e-01\n",
       "ARKK    0.000000e+00\n",
       "ARM     8.082593e-02\n",
       "            ...     \n",
       "VOOG    7.229965e-01\n",
       "VXUS    7.168100e-01\n",
       "XLF     1.309464e+00\n",
       "XLK     1.223873e+00\n",
       "XLV     2.891891e-01\n",
       "Name: 2025-08-01 00:00:00, Length: 62, dtype: float64"
      ]
     },
     "execution_count": 11,
     "metadata": {},
     "output_type": "execute_result"
    }
   ],
   "source": [
    "holdings['adj holding'].iloc[-1]"
   ]
  },
  {
   "cell_type": "markdown",
   "id": "69b06056",
   "metadata": {},
   "source": [
    "### Visualization"
   ]
  },
  {
   "cell_type": "code",
   "execution_count": 12,
   "id": "28ed6526",
   "metadata": {},
   "outputs": [],
   "source": [
    "monthly_deposits = master_log[master_log['Type'] == \"Net Deposit\"]['Amount'].resample(\"ME\").sum()\n",
    "monthly_income = master_log[master_log['Type'].isin(['Net Dividend', 'Credit/Margin Interest'])]['Amount'].resample(\"ME\").sum()\n",
    "monthly_benchmark_income = benchmark[\"NetDividend\"].resample(\"ME\").sum()"
   ]
  },
  {
   "cell_type": "code",
   "execution_count": 13,
   "id": "35a66304",
   "metadata": {},
   "outputs": [
    {
     "data": {
      "application/vnd.plotly.v1+json": {
       "config": {
        "plotlyServerURL": "https://plot.ly"
       },
       "data": [
        {
         "line": {
          "color": "green",
          "width": 2
         },
         "mode": "lines",
         "name": "Personal Portfolio",
         "type": "scatter",
         "x": [
          "2023-02-16T00:00:00",
          "2023-02-17T00:00:00",
          "2023-02-18T00:00:00",
          "2023-02-19T00:00:00",
          "2023-02-20T00:00:00",
          "2023-02-21T00:00:00",
          "2023-02-22T00:00:00",
          "2023-02-23T00:00:00",
          "2023-02-24T00:00:00",
          "2023-02-25T00:00:00",
          "2023-02-26T00:00:00",
          "2023-02-27T00:00:00",
          "2023-02-28T00:00:00",
          "2023-03-01T00:00:00",
          "2023-03-02T00:00:00",
          "2023-03-03T00:00:00",
          "2023-03-04T00:00:00",
          "2023-03-05T00:00:00",
          "2023-03-06T00:00:00",
          "2023-03-07T00:00:00",
          "2023-03-08T00:00:00",
          "2023-03-09T00:00:00",
          "2023-03-10T00:00:00",
          "2023-03-11T00:00:00",
          "2023-03-12T00:00:00",
          "2023-03-13T00:00:00",
          "2023-03-14T00:00:00",
          "2023-03-15T00:00:00",
          "2023-03-16T00:00:00",
          "2023-03-17T00:00:00",
          "2023-03-18T00:00:00",
          "2023-03-19T00:00:00",
          "2023-03-20T00:00:00",
          "2023-03-21T00:00:00",
          "2023-03-22T00:00:00",
          "2023-03-23T00:00:00",
          "2023-03-24T00:00:00",
          "2023-03-25T00:00:00",
          "2023-03-26T00:00:00",
          "2023-03-27T00:00:00",
          "2023-03-28T00:00:00",
          "2023-03-29T00:00:00",
          "2023-03-30T00:00:00",
          "2023-03-31T00:00:00",
          "2023-04-01T00:00:00",
          "2023-04-02T00:00:00",
          "2023-04-03T00:00:00",
          "2023-04-04T00:00:00",
          "2023-04-05T00:00:00",
          "2023-04-06T00:00:00",
          "2023-04-07T00:00:00",
          "2023-04-08T00:00:00",
          "2023-04-09T00:00:00",
          "2023-04-10T00:00:00",
          "2023-04-11T00:00:00",
          "2023-04-12T00:00:00",
          "2023-04-13T00:00:00",
          "2023-04-14T00:00:00",
          "2023-04-15T00:00:00",
          "2023-04-16T00:00:00",
          "2023-04-17T00:00:00",
          "2023-04-18T00:00:00",
          "2023-04-19T00:00:00",
          "2023-04-20T00:00:00",
          "2023-04-21T00:00:00",
          "2023-04-22T00:00:00",
          "2023-04-23T00:00:00",
          "2023-04-24T00:00:00",
          "2023-04-25T00:00:00",
          "2023-04-26T00:00:00",
          "2023-04-27T00:00:00",
          "2023-04-28T00:00:00",
          "2023-04-29T00:00:00",
          "2023-04-30T00:00:00",
          "2023-05-01T00:00:00",
          "2023-05-02T00:00:00",
          "2023-05-03T00:00:00",
          "2023-05-04T00:00:00",
          "2023-05-05T00:00:00",
          "2023-05-06T00:00:00",
          "2023-05-07T00:00:00",
          "2023-05-08T00:00:00",
          "2023-05-09T00:00:00",
          "2023-05-10T00:00:00",
          "2023-05-11T00:00:00",
          "2023-05-12T00:00:00",
          "2023-05-13T00:00:00",
          "2023-05-14T00:00:00",
          "2023-05-15T00:00:00",
          "2023-05-16T00:00:00",
          "2023-05-17T00:00:00",
          "2023-05-18T00:00:00",
          "2023-05-19T00:00:00",
          "2023-05-20T00:00:00",
          "2023-05-21T00:00:00",
          "2023-05-22T00:00:00",
          "2023-05-23T00:00:00",
          "2023-05-24T00:00:00",
          "2023-05-25T00:00:00",
          "2023-05-26T00:00:00",
          "2023-05-27T00:00:00",
          "2023-05-28T00:00:00",
          "2023-05-29T00:00:00",
          "2023-05-30T00:00:00",
          "2023-05-31T00:00:00",
          "2023-06-01T00:00:00",
          "2023-06-02T00:00:00",
          "2023-06-03T00:00:00",
          "2023-06-04T00:00:00",
          "2023-06-05T00:00:00",
          "2023-06-06T00:00:00",
          "2023-06-07T00:00:00",
          "2023-06-08T00:00:00",
          "2023-06-09T00:00:00",
          "2023-06-10T00:00:00",
          "2023-06-11T00:00:00",
          "2023-06-12T00:00:00",
          "2023-06-13T00:00:00",
          "2023-06-14T00:00:00",
          "2023-06-15T00:00:00",
          "2023-06-16T00:00:00",
          "2023-06-17T00:00:00",
          "2023-06-18T00:00:00",
          "2023-06-19T00:00:00",
          "2023-06-20T00:00:00",
          "2023-06-21T00:00:00",
          "2023-06-22T00:00:00",
          "2023-06-23T00:00:00",
          "2023-06-24T00:00:00",
          "2023-06-25T00:00:00",
          "2023-06-26T00:00:00",
          "2023-06-27T00:00:00",
          "2023-06-28T00:00:00",
          "2023-06-29T00:00:00",
          "2023-06-30T00:00:00",
          "2023-07-01T00:00:00",
          "2023-07-02T00:00:00",
          "2023-07-03T00:00:00",
          "2023-07-04T00:00:00",
          "2023-07-05T00:00:00",
          "2023-07-06T00:00:00",
          "2023-07-07T00:00:00",
          "2023-07-08T00:00:00",
          "2023-07-09T00:00:00",
          "2023-07-10T00:00:00",
          "2023-07-11T00:00:00",
          "2023-07-12T00:00:00",
          "2023-07-13T00:00:00",
          "2023-07-14T00:00:00",
          "2023-07-15T00:00:00",
          "2023-07-16T00:00:00",
          "2023-07-17T00:00:00",
          "2023-07-18T00:00:00",
          "2023-07-19T00:00:00",
          "2023-07-20T00:00:00",
          "2023-07-21T00:00:00",
          "2023-07-22T00:00:00",
          "2023-07-23T00:00:00",
          "2023-07-24T00:00:00",
          "2023-07-25T00:00:00",
          "2023-07-26T00:00:00",
          "2023-07-27T00:00:00",
          "2023-07-28T00:00:00",
          "2023-07-29T00:00:00",
          "2023-07-30T00:00:00",
          "2023-07-31T00:00:00",
          "2023-08-01T00:00:00",
          "2023-08-02T00:00:00",
          "2023-08-03T00:00:00",
          "2023-08-04T00:00:00",
          "2023-08-05T00:00:00",
          "2023-08-06T00:00:00",
          "2023-08-07T00:00:00",
          "2023-08-08T00:00:00",
          "2023-08-09T00:00:00",
          "2023-08-10T00:00:00",
          "2023-08-11T00:00:00",
          "2023-08-12T00:00:00",
          "2023-08-13T00:00:00",
          "2023-08-14T00:00:00",
          "2023-08-15T00:00:00",
          "2023-08-16T00:00:00",
          "2023-08-17T00:00:00",
          "2023-08-18T00:00:00",
          "2023-08-19T00:00:00",
          "2023-08-20T00:00:00",
          "2023-08-21T00:00:00",
          "2023-08-22T00:00:00",
          "2023-08-23T00:00:00",
          "2023-08-24T00:00:00",
          "2023-08-25T00:00:00",
          "2023-08-26T00:00:00",
          "2023-08-27T00:00:00",
          "2023-08-28T00:00:00",
          "2023-08-29T00:00:00",
          "2023-08-30T00:00:00",
          "2023-08-31T00:00:00",
          "2023-09-01T00:00:00",
          "2023-09-02T00:00:00",
          "2023-09-03T00:00:00",
          "2023-09-04T00:00:00",
          "2023-09-05T00:00:00",
          "2023-09-06T00:00:00",
          "2023-09-07T00:00:00",
          "2023-09-08T00:00:00",
          "2023-09-09T00:00:00",
          "2023-09-10T00:00:00",
          "2023-09-11T00:00:00",
          "2023-09-12T00:00:00",
          "2023-09-13T00:00:00",
          "2023-09-14T00:00:00",
          "2023-09-15T00:00:00",
          "2023-09-16T00:00:00",
          "2023-09-17T00:00:00",
          "2023-09-18T00:00:00",
          "2023-09-19T00:00:00",
          "2023-09-20T00:00:00",
          "2023-09-21T00:00:00",
          "2023-09-22T00:00:00",
          "2023-09-23T00:00:00",
          "2023-09-24T00:00:00",
          "2023-09-25T00:00:00",
          "2023-09-26T00:00:00",
          "2023-09-27T00:00:00",
          "2023-09-28T00:00:00",
          "2023-09-29T00:00:00",
          "2023-09-30T00:00:00",
          "2023-10-01T00:00:00",
          "2023-10-02T00:00:00",
          "2023-10-03T00:00:00",
          "2023-10-04T00:00:00",
          "2023-10-05T00:00:00",
          "2023-10-06T00:00:00",
          "2023-10-07T00:00:00",
          "2023-10-08T00:00:00",
          "2023-10-09T00:00:00",
          "2023-10-10T00:00:00",
          "2023-10-11T00:00:00",
          "2023-10-12T00:00:00",
          "2023-10-13T00:00:00",
          "2023-10-14T00:00:00",
          "2023-10-15T00:00:00",
          "2023-10-16T00:00:00",
          "2023-10-17T00:00:00",
          "2023-10-18T00:00:00",
          "2023-10-19T00:00:00",
          "2023-10-20T00:00:00",
          "2023-10-21T00:00:00",
          "2023-10-22T00:00:00",
          "2023-10-23T00:00:00",
          "2023-10-24T00:00:00",
          "2023-10-25T00:00:00",
          "2023-10-26T00:00:00",
          "2023-10-27T00:00:00",
          "2023-10-28T00:00:00",
          "2023-10-29T00:00:00",
          "2023-10-30T00:00:00",
          "2023-10-31T00:00:00",
          "2023-11-01T00:00:00",
          "2023-11-02T00:00:00",
          "2023-11-03T00:00:00",
          "2023-11-04T00:00:00",
          "2023-11-05T00:00:00",
          "2023-11-06T00:00:00",
          "2023-11-07T00:00:00",
          "2023-11-08T00:00:00",
          "2023-11-09T00:00:00",
          "2023-11-10T00:00:00",
          "2023-11-11T00:00:00",
          "2023-11-12T00:00:00",
          "2023-11-13T00:00:00",
          "2023-11-14T00:00:00",
          "2023-11-15T00:00:00",
          "2023-11-16T00:00:00",
          "2023-11-17T00:00:00",
          "2023-11-18T00:00:00",
          "2023-11-19T00:00:00",
          "2023-11-20T00:00:00",
          "2023-11-21T00:00:00",
          "2023-11-22T00:00:00",
          "2023-11-23T00:00:00",
          "2023-11-24T00:00:00",
          "2023-11-25T00:00:00",
          "2023-11-26T00:00:00",
          "2023-11-27T00:00:00",
          "2023-11-28T00:00:00",
          "2023-11-29T00:00:00",
          "2023-11-30T00:00:00",
          "2023-12-01T00:00:00",
          "2023-12-02T00:00:00",
          "2023-12-03T00:00:00",
          "2023-12-04T00:00:00",
          "2023-12-05T00:00:00",
          "2023-12-06T00:00:00",
          "2023-12-07T00:00:00",
          "2023-12-08T00:00:00",
          "2023-12-09T00:00:00",
          "2023-12-10T00:00:00",
          "2023-12-11T00:00:00",
          "2023-12-12T00:00:00",
          "2023-12-13T00:00:00",
          "2023-12-14T00:00:00",
          "2023-12-15T00:00:00",
          "2023-12-16T00:00:00",
          "2023-12-17T00:00:00",
          "2023-12-18T00:00:00",
          "2023-12-19T00:00:00",
          "2023-12-20T00:00:00",
          "2023-12-21T00:00:00",
          "2023-12-22T00:00:00",
          "2023-12-23T00:00:00",
          "2023-12-24T00:00:00",
          "2023-12-25T00:00:00",
          "2023-12-26T00:00:00",
          "2023-12-27T00:00:00",
          "2023-12-28T00:00:00",
          "2023-12-29T00:00:00",
          "2023-12-30T00:00:00",
          "2023-12-31T00:00:00",
          "2024-01-01T00:00:00",
          "2024-01-02T00:00:00",
          "2024-01-03T00:00:00",
          "2024-01-04T00:00:00",
          "2024-01-05T00:00:00",
          "2024-01-06T00:00:00",
          "2024-01-07T00:00:00",
          "2024-01-08T00:00:00",
          "2024-01-09T00:00:00",
          "2024-01-10T00:00:00",
          "2024-01-11T00:00:00",
          "2024-01-12T00:00:00",
          "2024-01-13T00:00:00",
          "2024-01-14T00:00:00",
          "2024-01-15T00:00:00",
          "2024-01-16T00:00:00",
          "2024-01-17T00:00:00",
          "2024-01-18T00:00:00",
          "2024-01-19T00:00:00",
          "2024-01-20T00:00:00",
          "2024-01-21T00:00:00",
          "2024-01-22T00:00:00",
          "2024-01-23T00:00:00",
          "2024-01-24T00:00:00",
          "2024-01-25T00:00:00",
          "2024-01-26T00:00:00",
          "2024-01-27T00:00:00",
          "2024-01-28T00:00:00",
          "2024-01-29T00:00:00",
          "2024-01-30T00:00:00",
          "2024-01-31T00:00:00",
          "2024-02-01T00:00:00",
          "2024-02-02T00:00:00",
          "2024-02-03T00:00:00",
          "2024-02-04T00:00:00",
          "2024-02-05T00:00:00",
          "2024-02-06T00:00:00",
          "2024-02-07T00:00:00",
          "2024-02-08T00:00:00",
          "2024-02-09T00:00:00",
          "2024-02-10T00:00:00",
          "2024-02-11T00:00:00",
          "2024-02-12T00:00:00",
          "2024-02-13T00:00:00",
          "2024-02-14T00:00:00",
          "2024-02-15T00:00:00",
          "2024-02-16T00:00:00",
          "2024-02-17T00:00:00",
          "2024-02-18T00:00:00",
          "2024-02-19T00:00:00",
          "2024-02-20T00:00:00",
          "2024-02-21T00:00:00",
          "2024-02-22T00:00:00",
          "2024-02-23T00:00:00",
          "2024-02-24T00:00:00",
          "2024-02-25T00:00:00",
          "2024-02-26T00:00:00",
          "2024-02-27T00:00:00",
          "2024-02-28T00:00:00",
          "2024-02-29T00:00:00",
          "2024-03-01T00:00:00",
          "2024-03-02T00:00:00",
          "2024-03-03T00:00:00",
          "2024-03-04T00:00:00",
          "2024-03-05T00:00:00",
          "2024-03-06T00:00:00",
          "2024-03-07T00:00:00",
          "2024-03-08T00:00:00",
          "2024-03-09T00:00:00",
          "2024-03-10T00:00:00",
          "2024-03-11T00:00:00",
          "2024-03-12T00:00:00",
          "2024-03-13T00:00:00",
          "2024-03-14T00:00:00",
          "2024-03-15T00:00:00",
          "2024-03-16T00:00:00",
          "2024-03-17T00:00:00",
          "2024-03-18T00:00:00",
          "2024-03-19T00:00:00",
          "2024-03-20T00:00:00",
          "2024-03-21T00:00:00",
          "2024-03-22T00:00:00",
          "2024-03-23T00:00:00",
          "2024-03-24T00:00:00",
          "2024-03-25T00:00:00",
          "2024-03-26T00:00:00",
          "2024-03-27T00:00:00",
          "2024-03-28T00:00:00",
          "2024-03-29T00:00:00",
          "2024-03-30T00:00:00",
          "2024-03-31T00:00:00",
          "2024-04-01T00:00:00",
          "2024-04-02T00:00:00",
          "2024-04-03T00:00:00",
          "2024-04-04T00:00:00",
          "2024-04-05T00:00:00",
          "2024-04-06T00:00:00",
          "2024-04-07T00:00:00",
          "2024-04-08T00:00:00",
          "2024-04-09T00:00:00",
          "2024-04-10T00:00:00",
          "2024-04-11T00:00:00",
          "2024-04-12T00:00:00",
          "2024-04-13T00:00:00",
          "2024-04-14T00:00:00",
          "2024-04-15T00:00:00",
          "2024-04-16T00:00:00",
          "2024-04-17T00:00:00",
          "2024-04-18T00:00:00",
          "2024-04-19T00:00:00",
          "2024-04-20T00:00:00",
          "2024-04-21T00:00:00",
          "2024-04-22T00:00:00",
          "2024-04-23T00:00:00",
          "2024-04-24T00:00:00",
          "2024-04-25T00:00:00",
          "2024-04-26T00:00:00",
          "2024-04-27T00:00:00",
          "2024-04-28T00:00:00",
          "2024-04-29T00:00:00",
          "2024-04-30T00:00:00",
          "2024-05-01T00:00:00",
          "2024-05-02T00:00:00",
          "2024-05-03T00:00:00",
          "2024-05-04T00:00:00",
          "2024-05-05T00:00:00",
          "2024-05-06T00:00:00",
          "2024-05-07T00:00:00",
          "2024-05-08T00:00:00",
          "2024-05-09T00:00:00",
          "2024-05-10T00:00:00",
          "2024-05-11T00:00:00",
          "2024-05-12T00:00:00",
          "2024-05-13T00:00:00",
          "2024-05-14T00:00:00",
          "2024-05-15T00:00:00",
          "2024-05-16T00:00:00",
          "2024-05-17T00:00:00",
          "2024-05-18T00:00:00",
          "2024-05-19T00:00:00",
          "2024-05-20T00:00:00",
          "2024-05-21T00:00:00",
          "2024-05-22T00:00:00",
          "2024-05-23T00:00:00",
          "2024-05-24T00:00:00",
          "2024-05-25T00:00:00",
          "2024-05-26T00:00:00",
          "2024-05-27T00:00:00",
          "2024-05-28T00:00:00",
          "2024-05-29T00:00:00",
          "2024-05-30T00:00:00",
          "2024-05-31T00:00:00",
          "2024-06-01T00:00:00",
          "2024-06-02T00:00:00",
          "2024-06-03T00:00:00",
          "2024-06-04T00:00:00",
          "2024-06-05T00:00:00",
          "2024-06-06T00:00:00",
          "2024-06-07T00:00:00",
          "2024-06-08T00:00:00",
          "2024-06-09T00:00:00",
          "2024-06-10T00:00:00",
          "2024-06-11T00:00:00",
          "2024-06-12T00:00:00",
          "2024-06-13T00:00:00",
          "2024-06-14T00:00:00",
          "2024-06-15T00:00:00",
          "2024-06-16T00:00:00",
          "2024-06-17T00:00:00",
          "2024-06-18T00:00:00",
          "2024-06-19T00:00:00",
          "2024-06-20T00:00:00",
          "2024-06-21T00:00:00",
          "2024-06-22T00:00:00",
          "2024-06-23T00:00:00",
          "2024-06-24T00:00:00",
          "2024-06-25T00:00:00",
          "2024-06-26T00:00:00",
          "2024-06-27T00:00:00",
          "2024-06-28T00:00:00",
          "2024-06-29T00:00:00",
          "2024-06-30T00:00:00",
          "2024-07-01T00:00:00",
          "2024-07-02T00:00:00",
          "2024-07-03T00:00:00",
          "2024-07-04T00:00:00",
          "2024-07-05T00:00:00",
          "2024-07-06T00:00:00",
          "2024-07-07T00:00:00",
          "2024-07-08T00:00:00",
          "2024-07-09T00:00:00",
          "2024-07-10T00:00:00",
          "2024-07-11T00:00:00",
          "2024-07-12T00:00:00",
          "2024-07-13T00:00:00",
          "2024-07-14T00:00:00",
          "2024-07-15T00:00:00",
          "2024-07-16T00:00:00",
          "2024-07-17T00:00:00",
          "2024-07-18T00:00:00",
          "2024-07-19T00:00:00",
          "2024-07-20T00:00:00",
          "2024-07-21T00:00:00",
          "2024-07-22T00:00:00",
          "2024-07-23T00:00:00",
          "2024-07-24T00:00:00",
          "2024-07-25T00:00:00",
          "2024-07-26T00:00:00",
          "2024-07-27T00:00:00",
          "2024-07-28T00:00:00",
          "2024-07-29T00:00:00",
          "2024-07-30T00:00:00",
          "2024-07-31T00:00:00",
          "2024-08-01T00:00:00",
          "2024-08-02T00:00:00",
          "2024-08-03T00:00:00",
          "2024-08-04T00:00:00",
          "2024-08-05T00:00:00",
          "2024-08-06T00:00:00",
          "2024-08-07T00:00:00",
          "2024-08-08T00:00:00",
          "2024-08-09T00:00:00",
          "2024-08-10T00:00:00",
          "2024-08-11T00:00:00",
          "2024-08-12T00:00:00",
          "2024-08-13T00:00:00",
          "2024-08-14T00:00:00",
          "2024-08-15T00:00:00",
          "2024-08-16T00:00:00",
          "2024-08-17T00:00:00",
          "2024-08-18T00:00:00",
          "2024-08-19T00:00:00",
          "2024-08-20T00:00:00",
          "2024-08-21T00:00:00",
          "2024-08-22T00:00:00",
          "2024-08-23T00:00:00",
          "2024-08-24T00:00:00",
          "2024-08-25T00:00:00",
          "2024-08-26T00:00:00",
          "2024-08-27T00:00:00",
          "2024-08-28T00:00:00",
          "2024-08-29T00:00:00",
          "2024-08-30T00:00:00",
          "2024-08-31T00:00:00",
          "2024-09-01T00:00:00",
          "2024-09-02T00:00:00",
          "2024-09-03T00:00:00",
          "2024-09-04T00:00:00",
          "2024-09-05T00:00:00",
          "2024-09-06T00:00:00",
          "2024-09-07T00:00:00",
          "2024-09-08T00:00:00",
          "2024-09-09T00:00:00",
          "2024-09-10T00:00:00",
          "2024-09-11T00:00:00",
          "2024-09-12T00:00:00",
          "2024-09-13T00:00:00",
          "2024-09-14T00:00:00",
          "2024-09-15T00:00:00",
          "2024-09-16T00:00:00",
          "2024-09-17T00:00:00",
          "2024-09-18T00:00:00",
          "2024-09-19T00:00:00",
          "2024-09-20T00:00:00",
          "2024-09-21T00:00:00",
          "2024-09-22T00:00:00",
          "2024-09-23T00:00:00",
          "2024-09-24T00:00:00",
          "2024-09-25T00:00:00",
          "2024-09-26T00:00:00",
          "2024-09-27T00:00:00",
          "2024-09-28T00:00:00",
          "2024-09-29T00:00:00",
          "2024-09-30T00:00:00",
          "2024-10-01T00:00:00",
          "2024-10-02T00:00:00",
          "2024-10-03T00:00:00",
          "2024-10-04T00:00:00",
          "2024-10-05T00:00:00",
          "2024-10-06T00:00:00",
          "2024-10-07T00:00:00",
          "2024-10-08T00:00:00",
          "2024-10-09T00:00:00",
          "2024-10-10T00:00:00",
          "2024-10-11T00:00:00",
          "2024-10-12T00:00:00",
          "2024-10-13T00:00:00",
          "2024-10-14T00:00:00",
          "2024-10-15T00:00:00",
          "2024-10-16T00:00:00",
          "2024-10-17T00:00:00",
          "2024-10-18T00:00:00",
          "2024-10-19T00:00:00",
          "2024-10-20T00:00:00",
          "2024-10-21T00:00:00",
          "2024-10-22T00:00:00",
          "2024-10-23T00:00:00",
          "2024-10-24T00:00:00",
          "2024-10-25T00:00:00",
          "2024-10-26T00:00:00",
          "2024-10-27T00:00:00",
          "2024-10-28T00:00:00",
          "2024-10-29T00:00:00",
          "2024-10-30T00:00:00",
          "2024-10-31T00:00:00",
          "2024-11-01T00:00:00",
          "2024-11-02T00:00:00",
          "2024-11-03T00:00:00",
          "2024-11-04T00:00:00",
          "2024-11-05T00:00:00",
          "2024-11-06T00:00:00",
          "2024-11-07T00:00:00",
          "2024-11-08T00:00:00",
          "2024-11-09T00:00:00",
          "2024-11-10T00:00:00",
          "2024-11-11T00:00:00",
          "2024-11-12T00:00:00",
          "2024-11-13T00:00:00",
          "2024-11-14T00:00:00",
          "2024-11-15T00:00:00",
          "2024-11-16T00:00:00",
          "2024-11-17T00:00:00",
          "2024-11-18T00:00:00",
          "2024-11-19T00:00:00",
          "2024-11-20T00:00:00",
          "2024-11-21T00:00:00",
          "2024-11-22T00:00:00",
          "2024-11-23T00:00:00",
          "2024-11-24T00:00:00",
          "2024-11-25T00:00:00",
          "2024-11-26T00:00:00",
          "2024-11-27T00:00:00",
          "2024-11-28T00:00:00",
          "2024-11-29T00:00:00",
          "2024-11-30T00:00:00",
          "2024-12-01T00:00:00",
          "2024-12-02T00:00:00",
          "2024-12-03T00:00:00",
          "2024-12-04T00:00:00",
          "2024-12-05T00:00:00",
          "2024-12-06T00:00:00",
          "2024-12-07T00:00:00",
          "2024-12-08T00:00:00",
          "2024-12-09T00:00:00",
          "2024-12-10T00:00:00",
          "2024-12-11T00:00:00",
          "2024-12-12T00:00:00",
          "2024-12-13T00:00:00",
          "2024-12-14T00:00:00",
          "2024-12-15T00:00:00",
          "2024-12-16T00:00:00",
          "2024-12-17T00:00:00",
          "2024-12-18T00:00:00",
          "2024-12-19T00:00:00",
          "2024-12-20T00:00:00",
          "2024-12-21T00:00:00",
          "2024-12-22T00:00:00",
          "2024-12-23T00:00:00",
          "2024-12-24T00:00:00",
          "2024-12-25T00:00:00",
          "2024-12-26T00:00:00",
          "2024-12-27T00:00:00",
          "2024-12-28T00:00:00",
          "2024-12-29T00:00:00",
          "2024-12-30T00:00:00",
          "2024-12-31T00:00:00",
          "2025-01-01T00:00:00",
          "2025-01-02T00:00:00",
          "2025-01-03T00:00:00",
          "2025-01-04T00:00:00",
          "2025-01-05T00:00:00",
          "2025-01-06T00:00:00",
          "2025-01-07T00:00:00",
          "2025-01-08T00:00:00",
          "2025-01-09T00:00:00",
          "2025-01-10T00:00:00",
          "2025-01-11T00:00:00",
          "2025-01-12T00:00:00",
          "2025-01-13T00:00:00",
          "2025-01-14T00:00:00",
          "2025-01-15T00:00:00",
          "2025-01-16T00:00:00",
          "2025-01-17T00:00:00",
          "2025-01-18T00:00:00",
          "2025-01-19T00:00:00",
          "2025-01-20T00:00:00",
          "2025-01-21T00:00:00",
          "2025-01-22T00:00:00",
          "2025-01-23T00:00:00",
          "2025-01-24T00:00:00",
          "2025-01-25T00:00:00",
          "2025-01-26T00:00:00",
          "2025-01-27T00:00:00",
          "2025-01-28T00:00:00",
          "2025-01-29T00:00:00",
          "2025-01-30T00:00:00",
          "2025-01-31T00:00:00",
          "2025-02-01T00:00:00",
          "2025-02-02T00:00:00",
          "2025-02-03T00:00:00",
          "2025-02-04T00:00:00",
          "2025-02-05T00:00:00",
          "2025-02-06T00:00:00",
          "2025-02-07T00:00:00",
          "2025-02-08T00:00:00",
          "2025-02-09T00:00:00",
          "2025-02-10T00:00:00",
          "2025-02-11T00:00:00",
          "2025-02-12T00:00:00",
          "2025-02-13T00:00:00",
          "2025-02-14T00:00:00",
          "2025-02-15T00:00:00",
          "2025-02-16T00:00:00",
          "2025-02-17T00:00:00",
          "2025-02-18T00:00:00",
          "2025-02-19T00:00:00",
          "2025-02-20T00:00:00",
          "2025-02-21T00:00:00",
          "2025-02-22T00:00:00",
          "2025-02-23T00:00:00",
          "2025-02-24T00:00:00",
          "2025-02-25T00:00:00",
          "2025-02-26T00:00:00",
          "2025-02-27T00:00:00",
          "2025-02-28T00:00:00",
          "2025-03-01T00:00:00",
          "2025-03-02T00:00:00",
          "2025-03-03T00:00:00",
          "2025-03-04T00:00:00",
          "2025-03-05T00:00:00",
          "2025-03-06T00:00:00",
          "2025-03-07T00:00:00",
          "2025-03-08T00:00:00",
          "2025-03-09T00:00:00",
          "2025-03-10T00:00:00",
          "2025-03-11T00:00:00",
          "2025-03-12T00:00:00",
          "2025-03-13T00:00:00",
          "2025-03-14T00:00:00",
          "2025-03-15T00:00:00",
          "2025-03-16T00:00:00",
          "2025-03-17T00:00:00",
          "2025-03-18T00:00:00",
          "2025-03-19T00:00:00",
          "2025-03-20T00:00:00",
          "2025-03-21T00:00:00",
          "2025-03-22T00:00:00",
          "2025-03-23T00:00:00",
          "2025-03-24T00:00:00",
          "2025-03-25T00:00:00",
          "2025-03-26T00:00:00",
          "2025-03-27T00:00:00",
          "2025-03-28T00:00:00",
          "2025-03-29T00:00:00",
          "2025-03-30T00:00:00",
          "2025-03-31T00:00:00",
          "2025-04-01T00:00:00",
          "2025-04-02T00:00:00",
          "2025-04-03T00:00:00",
          "2025-04-04T00:00:00",
          "2025-04-05T00:00:00",
          "2025-04-06T00:00:00",
          "2025-04-07T00:00:00",
          "2025-04-08T00:00:00",
          "2025-04-09T00:00:00",
          "2025-04-10T00:00:00",
          "2025-04-11T00:00:00",
          "2025-04-12T00:00:00",
          "2025-04-13T00:00:00",
          "2025-04-14T00:00:00",
          "2025-04-15T00:00:00",
          "2025-04-16T00:00:00",
          "2025-04-17T00:00:00",
          "2025-04-18T00:00:00",
          "2025-04-19T00:00:00",
          "2025-04-20T00:00:00",
          "2025-04-21T00:00:00",
          "2025-04-22T00:00:00",
          "2025-04-23T00:00:00",
          "2025-04-24T00:00:00",
          "2025-04-25T00:00:00",
          "2025-04-26T00:00:00",
          "2025-04-27T00:00:00",
          "2025-04-28T00:00:00",
          "2025-04-29T00:00:00",
          "2025-04-30T00:00:00",
          "2025-05-01T00:00:00",
          "2025-05-02T00:00:00",
          "2025-05-03T00:00:00",
          "2025-05-04T00:00:00",
          "2025-05-05T00:00:00",
          "2025-05-06T00:00:00",
          "2025-05-07T00:00:00",
          "2025-05-08T00:00:00",
          "2025-05-09T00:00:00",
          "2025-05-10T00:00:00",
          "2025-05-11T00:00:00",
          "2025-05-12T00:00:00",
          "2025-05-13T00:00:00",
          "2025-05-14T00:00:00",
          "2025-05-15T00:00:00",
          "2025-05-16T00:00:00",
          "2025-05-17T00:00:00",
          "2025-05-18T00:00:00",
          "2025-05-19T00:00:00",
          "2025-05-20T00:00:00",
          "2025-05-21T00:00:00",
          "2025-05-22T00:00:00",
          "2025-05-23T00:00:00",
          "2025-05-24T00:00:00",
          "2025-05-25T00:00:00",
          "2025-05-26T00:00:00",
          "2025-05-27T00:00:00",
          "2025-05-28T00:00:00",
          "2025-05-29T00:00:00",
          "2025-05-30T00:00:00",
          "2025-05-31T00:00:00",
          "2025-06-01T00:00:00",
          "2025-06-02T00:00:00",
          "2025-06-03T00:00:00",
          "2025-06-04T00:00:00",
          "2025-06-05T00:00:00",
          "2025-06-06T00:00:00",
          "2025-06-07T00:00:00",
          "2025-06-08T00:00:00",
          "2025-06-09T00:00:00",
          "2025-06-10T00:00:00",
          "2025-06-11T00:00:00",
          "2025-06-12T00:00:00",
          "2025-06-13T00:00:00",
          "2025-06-14T00:00:00",
          "2025-06-15T00:00:00",
          "2025-06-16T00:00:00",
          "2025-06-17T00:00:00",
          "2025-06-18T00:00:00",
          "2025-06-19T00:00:00",
          "2025-06-20T00:00:00",
          "2025-06-21T00:00:00",
          "2025-06-22T00:00:00",
          "2025-06-23T00:00:00",
          "2025-06-24T00:00:00",
          "2025-06-25T00:00:00",
          "2025-06-26T00:00:00",
          "2025-06-27T00:00:00",
          "2025-06-28T00:00:00",
          "2025-06-29T00:00:00",
          "2025-06-30T00:00:00",
          "2025-07-01T00:00:00",
          "2025-07-02T00:00:00",
          "2025-07-03T00:00:00",
          "2025-07-04T00:00:00",
          "2025-07-05T00:00:00",
          "2025-07-06T00:00:00",
          "2025-07-07T00:00:00",
          "2025-07-08T00:00:00",
          "2025-07-09T00:00:00",
          "2025-07-10T00:00:00",
          "2025-07-11T00:00:00",
          "2025-07-12T00:00:00",
          "2025-07-13T00:00:00",
          "2025-07-14T00:00:00",
          "2025-07-15T00:00:00",
          "2025-07-16T00:00:00",
          "2025-07-17T00:00:00",
          "2025-07-18T00:00:00",
          "2025-07-19T00:00:00",
          "2025-07-20T00:00:00",
          "2025-07-21T00:00:00",
          "2025-07-22T00:00:00",
          "2025-07-23T00:00:00",
          "2025-07-24T00:00:00",
          "2025-07-25T00:00:00",
          "2025-07-26T00:00:00",
          "2025-07-27T00:00:00",
          "2025-07-28T00:00:00",
          "2025-07-29T00:00:00",
          "2025-07-30T00:00:00",
          "2025-07-31T00:00:00",
          "2025-08-01T00:00:00"
         ],
         "xaxis": "x",
         "y": {
          "bdata": "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",
          "dtype": "f8"
         },
         "yaxis": "y"
        },
        {
         "line": {
          "color": "red",
          "width": 2
         },
         "mode": "lines",
         "name": "S&P500 Benchmark",
         "type": "scatter",
         "x": [
          "2023-02-16T00:00:00",
          "2023-02-17T00:00:00",
          "2023-02-18T00:00:00",
          "2023-02-19T00:00:00",
          "2023-02-20T00:00:00",
          "2023-02-21T00:00:00",
          "2023-02-22T00:00:00",
          "2023-02-23T00:00:00",
          "2023-02-24T00:00:00",
          "2023-02-25T00:00:00",
          "2023-02-26T00:00:00",
          "2023-02-27T00:00:00",
          "2023-02-28T00:00:00",
          "2023-03-01T00:00:00",
          "2023-03-02T00:00:00",
          "2023-03-03T00:00:00",
          "2023-03-04T00:00:00",
          "2023-03-05T00:00:00",
          "2023-03-06T00:00:00",
          "2023-03-07T00:00:00",
          "2023-03-08T00:00:00",
          "2023-03-09T00:00:00",
          "2023-03-10T00:00:00",
          "2023-03-11T00:00:00",
          "2023-03-12T00:00:00",
          "2023-03-13T00:00:00",
          "2023-03-14T00:00:00",
          "2023-03-15T00:00:00",
          "2023-03-16T00:00:00",
          "2023-03-17T00:00:00",
          "2023-03-18T00:00:00",
          "2023-03-19T00:00:00",
          "2023-03-20T00:00:00",
          "2023-03-21T00:00:00",
          "2023-03-22T00:00:00",
          "2023-03-23T00:00:00",
          "2023-03-24T00:00:00",
          "2023-03-25T00:00:00",
          "2023-03-26T00:00:00",
          "2023-03-27T00:00:00",
          "2023-03-28T00:00:00",
          "2023-03-29T00:00:00",
          "2023-03-30T00:00:00",
          "2023-03-31T00:00:00",
          "2023-04-01T00:00:00",
          "2023-04-02T00:00:00",
          "2023-04-03T00:00:00",
          "2023-04-04T00:00:00",
          "2023-04-05T00:00:00",
          "2023-04-06T00:00:00",
          "2023-04-07T00:00:00",
          "2023-04-08T00:00:00",
          "2023-04-09T00:00:00",
          "2023-04-10T00:00:00",
          "2023-04-11T00:00:00",
          "2023-04-12T00:00:00",
          "2023-04-13T00:00:00",
          "2023-04-14T00:00:00",
          "2023-04-15T00:00:00",
          "2023-04-16T00:00:00",
          "2023-04-17T00:00:00",
          "2023-04-18T00:00:00",
          "2023-04-19T00:00:00",
          "2023-04-20T00:00:00",
          "2023-04-21T00:00:00",
          "2023-04-22T00:00:00",
          "2023-04-23T00:00:00",
          "2023-04-24T00:00:00",
          "2023-04-25T00:00:00",
          "2023-04-26T00:00:00",
          "2023-04-27T00:00:00",
          "2023-04-28T00:00:00",
          "2023-04-29T00:00:00",
          "2023-04-30T00:00:00",
          "2023-05-01T00:00:00",
          "2023-05-02T00:00:00",
          "2023-05-03T00:00:00",
          "2023-05-04T00:00:00",
          "2023-05-05T00:00:00",
          "2023-05-06T00:00:00",
          "2023-05-07T00:00:00",
          "2023-05-08T00:00:00",
          "2023-05-09T00:00:00",
          "2023-05-10T00:00:00",
          "2023-05-11T00:00:00",
          "2023-05-12T00:00:00",
          "2023-05-13T00:00:00",
          "2023-05-14T00:00:00",
          "2023-05-15T00:00:00",
          "2023-05-16T00:00:00",
          "2023-05-17T00:00:00",
          "2023-05-18T00:00:00",
          "2023-05-19T00:00:00",
          "2023-05-20T00:00:00",
          "2023-05-21T00:00:00",
          "2023-05-22T00:00:00",
          "2023-05-23T00:00:00",
          "2023-05-24T00:00:00",
          "2023-05-25T00:00:00",
          "2023-05-26T00:00:00",
          "2023-05-27T00:00:00",
          "2023-05-28T00:00:00",
          "2023-05-29T00:00:00",
          "2023-05-30T00:00:00",
          "2023-05-31T00:00:00",
          "2023-06-01T00:00:00",
          "2023-06-02T00:00:00",
          "2023-06-03T00:00:00",
          "2023-06-04T00:00:00",
          "2023-06-05T00:00:00",
          "2023-06-06T00:00:00",
          "2023-06-07T00:00:00",
          "2023-06-08T00:00:00",
          "2023-06-09T00:00:00",
          "2023-06-10T00:00:00",
          "2023-06-11T00:00:00",
          "2023-06-12T00:00:00",
          "2023-06-13T00:00:00",
          "2023-06-14T00:00:00",
          "2023-06-15T00:00:00",
          "2023-06-16T00:00:00",
          "2023-06-17T00:00:00",
          "2023-06-18T00:00:00",
          "2023-06-19T00:00:00",
          "2023-06-20T00:00:00",
          "2023-06-21T00:00:00",
          "2023-06-22T00:00:00",
          "2023-06-23T00:00:00",
          "2023-06-24T00:00:00",
          "2023-06-25T00:00:00",
          "2023-06-26T00:00:00",
          "2023-06-27T00:00:00",
          "2023-06-28T00:00:00",
          "2023-06-29T00:00:00",
          "2023-06-30T00:00:00",
          "2023-07-01T00:00:00",
          "2023-07-02T00:00:00",
          "2023-07-03T00:00:00",
          "2023-07-04T00:00:00",
          "2023-07-05T00:00:00",
          "2023-07-06T00:00:00",
          "2023-07-07T00:00:00",
          "2023-07-08T00:00:00",
          "2023-07-09T00:00:00",
          "2023-07-10T00:00:00",
          "2023-07-11T00:00:00",
          "2023-07-12T00:00:00",
          "2023-07-13T00:00:00",
          "2023-07-14T00:00:00",
          "2023-07-15T00:00:00",
          "2023-07-16T00:00:00",
          "2023-07-17T00:00:00",
          "2023-07-18T00:00:00",
          "2023-07-19T00:00:00",
          "2023-07-20T00:00:00",
          "2023-07-21T00:00:00",
          "2023-07-22T00:00:00",
          "2023-07-23T00:00:00",
          "2023-07-24T00:00:00",
          "2023-07-25T00:00:00",
          "2023-07-26T00:00:00",
          "2023-07-27T00:00:00",
          "2023-07-28T00:00:00",
          "2023-07-29T00:00:00",
          "2023-07-30T00:00:00",
          "2023-07-31T00:00:00",
          "2023-08-01T00:00:00",
          "2023-08-02T00:00:00",
          "2023-08-03T00:00:00",
          "2023-08-04T00:00:00",
          "2023-08-05T00:00:00",
          "2023-08-06T00:00:00",
          "2023-08-07T00:00:00",
          "2023-08-08T00:00:00",
          "2023-08-09T00:00:00",
          "2023-08-10T00:00:00",
          "2023-08-11T00:00:00",
          "2023-08-12T00:00:00",
          "2023-08-13T00:00:00",
          "2023-08-14T00:00:00",
          "2023-08-15T00:00:00",
          "2023-08-16T00:00:00",
          "2023-08-17T00:00:00",
          "2023-08-18T00:00:00",
          "2023-08-19T00:00:00",
          "2023-08-20T00:00:00",
          "2023-08-21T00:00:00",
          "2023-08-22T00:00:00",
          "2023-08-23T00:00:00",
          "2023-08-24T00:00:00",
          "2023-08-25T00:00:00",
          "2023-08-26T00:00:00",
          "2023-08-27T00:00:00",
          "2023-08-28T00:00:00",
          "2023-08-29T00:00:00",
          "2023-08-30T00:00:00",
          "2023-08-31T00:00:00",
          "2023-09-01T00:00:00",
          "2023-09-02T00:00:00",
          "2023-09-03T00:00:00",
          "2023-09-04T00:00:00",
          "2023-09-05T00:00:00",
          "2023-09-06T00:00:00",
          "2023-09-07T00:00:00",
          "2023-09-08T00:00:00",
          "2023-09-09T00:00:00",
          "2023-09-10T00:00:00",
          "2023-09-11T00:00:00",
          "2023-09-12T00:00:00",
          "2023-09-13T00:00:00",
          "2023-09-14T00:00:00",
          "2023-09-15T00:00:00",
          "2023-09-16T00:00:00",
          "2023-09-17T00:00:00",
          "2023-09-18T00:00:00",
          "2023-09-19T00:00:00",
          "2023-09-20T00:00:00",
          "2023-09-21T00:00:00",
          "2023-09-22T00:00:00",
          "2023-09-23T00:00:00",
          "2023-09-24T00:00:00",
          "2023-09-25T00:00:00",
          "2023-09-26T00:00:00",
          "2023-09-27T00:00:00",
          "2023-09-28T00:00:00",
          "2023-09-29T00:00:00",
          "2023-09-30T00:00:00",
          "2023-10-01T00:00:00",
          "2023-10-02T00:00:00",
          "2023-10-03T00:00:00",
          "2023-10-04T00:00:00",
          "2023-10-05T00:00:00",
          "2023-10-06T00:00:00",
          "2023-10-07T00:00:00",
          "2023-10-08T00:00:00",
          "2023-10-09T00:00:00",
          "2023-10-10T00:00:00",
          "2023-10-11T00:00:00",
          "2023-10-12T00:00:00",
          "2023-10-13T00:00:00",
          "2023-10-14T00:00:00",
          "2023-10-15T00:00:00",
          "2023-10-16T00:00:00",
          "2023-10-17T00:00:00",
          "2023-10-18T00:00:00",
          "2023-10-19T00:00:00",
          "2023-10-20T00:00:00",
          "2023-10-21T00:00:00",
          "2023-10-22T00:00:00",
          "2023-10-23T00:00:00",
          "2023-10-24T00:00:00",
          "2023-10-25T00:00:00",
          "2023-10-26T00:00:00",
          "2023-10-27T00:00:00",
          "2023-10-28T00:00:00",
          "2023-10-29T00:00:00",
          "2023-10-30T00:00:00",
          "2023-10-31T00:00:00",
          "2023-11-01T00:00:00",
          "2023-11-02T00:00:00",
          "2023-11-03T00:00:00",
          "2023-11-04T00:00:00",
          "2023-11-05T00:00:00",
          "2023-11-06T00:00:00",
          "2023-11-07T00:00:00",
          "2023-11-08T00:00:00",
          "2023-11-09T00:00:00",
          "2023-11-10T00:00:00",
          "2023-11-11T00:00:00",
          "2023-11-12T00:00:00",
          "2023-11-13T00:00:00",
          "2023-11-14T00:00:00",
          "2023-11-15T00:00:00",
          "2023-11-16T00:00:00",
          "2023-11-17T00:00:00",
          "2023-11-18T00:00:00",
          "2023-11-19T00:00:00",
          "2023-11-20T00:00:00",
          "2023-11-21T00:00:00",
          "2023-11-22T00:00:00",
          "2023-11-23T00:00:00",
          "2023-11-24T00:00:00",
          "2023-11-25T00:00:00",
          "2023-11-26T00:00:00",
          "2023-11-27T00:00:00",
          "2023-11-28T00:00:00",
          "2023-11-29T00:00:00",
          "2023-11-30T00:00:00",
          "2023-12-01T00:00:00",
          "2023-12-02T00:00:00",
          "2023-12-03T00:00:00",
          "2023-12-04T00:00:00",
          "2023-12-05T00:00:00",
          "2023-12-06T00:00:00",
          "2023-12-07T00:00:00",
          "2023-12-08T00:00:00",
          "2023-12-09T00:00:00",
          "2023-12-10T00:00:00",
          "2023-12-11T00:00:00",
          "2023-12-12T00:00:00",
          "2023-12-13T00:00:00",
          "2023-12-14T00:00:00",
          "2023-12-15T00:00:00",
          "2023-12-16T00:00:00",
          "2023-12-17T00:00:00",
          "2023-12-18T00:00:00",
          "2023-12-19T00:00:00",
          "2023-12-20T00:00:00",
          "2023-12-21T00:00:00",
          "2023-12-22T00:00:00",
          "2023-12-23T00:00:00",
          "2023-12-24T00:00:00",
          "2023-12-25T00:00:00",
          "2023-12-26T00:00:00",
          "2023-12-27T00:00:00",
          "2023-12-28T00:00:00",
          "2023-12-29T00:00:00",
          "2023-12-30T00:00:00",
          "2023-12-31T00:00:00",
          "2024-01-01T00:00:00",
          "2024-01-02T00:00:00",
          "2024-01-03T00:00:00",
          "2024-01-04T00:00:00",
          "2024-01-05T00:00:00",
          "2024-01-06T00:00:00",
          "2024-01-07T00:00:00",
          "2024-01-08T00:00:00",
          "2024-01-09T00:00:00",
          "2024-01-10T00:00:00",
          "2024-01-11T00:00:00",
          "2024-01-12T00:00:00",
          "2024-01-13T00:00:00",
          "2024-01-14T00:00:00",
          "2024-01-15T00:00:00",
          "2024-01-16T00:00:00",
          "2024-01-17T00:00:00",
          "2024-01-18T00:00:00",
          "2024-01-19T00:00:00",
          "2024-01-20T00:00:00",
          "2024-01-21T00:00:00",
          "2024-01-22T00:00:00",
          "2024-01-23T00:00:00",
          "2024-01-24T00:00:00",
          "2024-01-25T00:00:00",
          "2024-01-26T00:00:00",
          "2024-01-27T00:00:00",
          "2024-01-28T00:00:00",
          "2024-01-29T00:00:00",
          "2024-01-30T00:00:00",
          "2024-01-31T00:00:00",
          "2024-02-01T00:00:00",
          "2024-02-02T00:00:00",
          "2024-02-03T00:00:00",
          "2024-02-04T00:00:00",
          "2024-02-05T00:00:00",
          "2024-02-06T00:00:00",
          "2024-02-07T00:00:00",
          "2024-02-08T00:00:00",
          "2024-02-09T00:00:00",
          "2024-02-10T00:00:00",
          "2024-02-11T00:00:00",
          "2024-02-12T00:00:00",
          "2024-02-13T00:00:00",
          "2024-02-14T00:00:00",
          "2024-02-15T00:00:00",
          "2024-02-16T00:00:00",
          "2024-02-17T00:00:00",
          "2024-02-18T00:00:00",
          "2024-02-19T00:00:00",
          "2024-02-20T00:00:00",
          "2024-02-21T00:00:00",
          "2024-02-22T00:00:00",
          "2024-02-23T00:00:00",
          "2024-02-24T00:00:00",
          "2024-02-25T00:00:00",
          "2024-02-26T00:00:00",
          "2024-02-27T00:00:00",
          "2024-02-28T00:00:00",
          "2024-02-29T00:00:00",
          "2024-03-01T00:00:00",
          "2024-03-02T00:00:00",
          "2024-03-03T00:00:00",
          "2024-03-04T00:00:00",
          "2024-03-05T00:00:00",
          "2024-03-06T00:00:00",
          "2024-03-07T00:00:00",
          "2024-03-08T00:00:00",
          "2024-03-09T00:00:00",
          "2024-03-10T00:00:00",
          "2024-03-11T00:00:00",
          "2024-03-12T00:00:00",
          "2024-03-13T00:00:00",
          "2024-03-14T00:00:00",
          "2024-03-15T00:00:00",
          "2024-03-16T00:00:00",
          "2024-03-17T00:00:00",
          "2024-03-18T00:00:00",
          "2024-03-19T00:00:00",
          "2024-03-20T00:00:00",
          "2024-03-21T00:00:00",
          "2024-03-22T00:00:00",
          "2024-03-23T00:00:00",
          "2024-03-24T00:00:00",
          "2024-03-25T00:00:00",
          "2024-03-26T00:00:00",
          "2024-03-27T00:00:00",
          "2024-03-28T00:00:00",
          "2024-03-29T00:00:00",
          "2024-03-30T00:00:00",
          "2024-03-31T00:00:00",
          "2024-04-01T00:00:00",
          "2024-04-02T00:00:00",
          "2024-04-03T00:00:00",
          "2024-04-04T00:00:00",
          "2024-04-05T00:00:00",
          "2024-04-06T00:00:00",
          "2024-04-07T00:00:00",
          "2024-04-08T00:00:00",
          "2024-04-09T00:00:00",
          "2024-04-10T00:00:00",
          "2024-04-11T00:00:00",
          "2024-04-12T00:00:00",
          "2024-04-13T00:00:00",
          "2024-04-14T00:00:00",
          "2024-04-15T00:00:00",
          "2024-04-16T00:00:00",
          "2024-04-17T00:00:00",
          "2024-04-18T00:00:00",
          "2024-04-19T00:00:00",
          "2024-04-20T00:00:00",
          "2024-04-21T00:00:00",
          "2024-04-22T00:00:00",
          "2024-04-23T00:00:00",
          "2024-04-24T00:00:00",
          "2024-04-25T00:00:00",
          "2024-04-26T00:00:00",
          "2024-04-27T00:00:00",
          "2024-04-28T00:00:00",
          "2024-04-29T00:00:00",
          "2024-04-30T00:00:00",
          "2024-05-01T00:00:00",
          "2024-05-02T00:00:00",
          "2024-05-03T00:00:00",
          "2024-05-04T00:00:00",
          "2024-05-05T00:00:00",
          "2024-05-06T00:00:00",
          "2024-05-07T00:00:00",
          "2024-05-08T00:00:00",
          "2024-05-09T00:00:00",
          "2024-05-10T00:00:00",
          "2024-05-11T00:00:00",
          "2024-05-12T00:00:00",
          "2024-05-13T00:00:00",
          "2024-05-14T00:00:00",
          "2024-05-15T00:00:00",
          "2024-05-16T00:00:00",
          "2024-05-17T00:00:00",
          "2024-05-18T00:00:00",
          "2024-05-19T00:00:00",
          "2024-05-20T00:00:00",
          "2024-05-21T00:00:00",
          "2024-05-22T00:00:00",
          "2024-05-23T00:00:00",
          "2024-05-24T00:00:00",
          "2024-05-25T00:00:00",
          "2024-05-26T00:00:00",
          "2024-05-27T00:00:00",
          "2024-05-28T00:00:00",
          "2024-05-29T00:00:00",
          "2024-05-30T00:00:00",
          "2024-05-31T00:00:00",
          "2024-06-01T00:00:00",
          "2024-06-02T00:00:00",
          "2024-06-03T00:00:00",
          "2024-06-04T00:00:00",
          "2024-06-05T00:00:00",
          "2024-06-06T00:00:00",
          "2024-06-07T00:00:00",
          "2024-06-08T00:00:00",
          "2024-06-09T00:00:00",
          "2024-06-10T00:00:00",
          "2024-06-11T00:00:00",
          "2024-06-12T00:00:00",
          "2024-06-13T00:00:00",
          "2024-06-14T00:00:00",
          "2024-06-15T00:00:00",
          "2024-06-16T00:00:00",
          "2024-06-17T00:00:00",
          "2024-06-18T00:00:00",
          "2024-06-19T00:00:00",
          "2024-06-20T00:00:00",
          "2024-06-21T00:00:00",
          "2024-06-22T00:00:00",
          "2024-06-23T00:00:00",
          "2024-06-24T00:00:00",
          "2024-06-25T00:00:00",
          "2024-06-26T00:00:00",
          "2024-06-27T00:00:00",
          "2024-06-28T00:00:00",
          "2024-06-29T00:00:00",
          "2024-06-30T00:00:00",
          "2024-07-01T00:00:00",
          "2024-07-02T00:00:00",
          "2024-07-03T00:00:00",
          "2024-07-04T00:00:00",
          "2024-07-05T00:00:00",
          "2024-07-06T00:00:00",
          "2024-07-07T00:00:00",
          "2024-07-08T00:00:00",
          "2024-07-09T00:00:00",
          "2024-07-10T00:00:00",
          "2024-07-11T00:00:00",
          "2024-07-12T00:00:00",
          "2024-07-13T00:00:00",
          "2024-07-14T00:00:00",
          "2024-07-15T00:00:00",
          "2024-07-16T00:00:00",
          "2024-07-17T00:00:00",
          "2024-07-18T00:00:00",
          "2024-07-19T00:00:00",
          "2024-07-20T00:00:00",
          "2024-07-21T00:00:00",
          "2024-07-22T00:00:00",
          "2024-07-23T00:00:00",
          "2024-07-24T00:00:00",
          "2024-07-25T00:00:00",
          "2024-07-26T00:00:00",
          "2024-07-27T00:00:00",
          "2024-07-28T00:00:00",
          "2024-07-29T00:00:00",
          "2024-07-30T00:00:00",
          "2024-07-31T00:00:00",
          "2024-08-01T00:00:00",
          "2024-08-02T00:00:00",
          "2024-08-03T00:00:00",
          "2024-08-04T00:00:00",
          "2024-08-05T00:00:00",
          "2024-08-06T00:00:00",
          "2024-08-07T00:00:00",
          "2024-08-08T00:00:00",
          "2024-08-09T00:00:00",
          "2024-08-10T00:00:00",
          "2024-08-11T00:00:00",
          "2024-08-12T00:00:00",
          "2024-08-13T00:00:00",
          "2024-08-14T00:00:00",
          "2024-08-15T00:00:00",
          "2024-08-16T00:00:00",
          "2024-08-17T00:00:00",
          "2024-08-18T00:00:00",
          "2024-08-19T00:00:00",
          "2024-08-20T00:00:00",
          "2024-08-21T00:00:00",
          "2024-08-22T00:00:00",
          "2024-08-23T00:00:00",
          "2024-08-24T00:00:00",
          "2024-08-25T00:00:00",
          "2024-08-26T00:00:00",
          "2024-08-27T00:00:00",
          "2024-08-28T00:00:00",
          "2024-08-29T00:00:00",
          "2024-08-30T00:00:00",
          "2024-08-31T00:00:00",
          "2024-09-01T00:00:00",
          "2024-09-02T00:00:00",
          "2024-09-03T00:00:00",
          "2024-09-04T00:00:00",
          "2024-09-05T00:00:00",
          "2024-09-06T00:00:00",
          "2024-09-07T00:00:00",
          "2024-09-08T00:00:00",
          "2024-09-09T00:00:00",
          "2024-09-10T00:00:00",
          "2024-09-11T00:00:00",
          "2024-09-12T00:00:00",
          "2024-09-13T00:00:00",
          "2024-09-14T00:00:00",
          "2024-09-15T00:00:00",
          "2024-09-16T00:00:00",
          "2024-09-17T00:00:00",
          "2024-09-18T00:00:00",
          "2024-09-19T00:00:00",
          "2024-09-20T00:00:00",
          "2024-09-21T00:00:00",
          "2024-09-22T00:00:00",
          "2024-09-23T00:00:00",
          "2024-09-24T00:00:00",
          "2024-09-25T00:00:00",
          "2024-09-26T00:00:00",
          "2024-09-27T00:00:00",
          "2024-09-28T00:00:00",
          "2024-09-29T00:00:00",
          "2024-09-30T00:00:00",
          "2024-10-01T00:00:00",
          "2024-10-02T00:00:00",
          "2024-10-03T00:00:00",
          "2024-10-04T00:00:00",
          "2024-10-05T00:00:00",
          "2024-10-06T00:00:00",
          "2024-10-07T00:00:00",
          "2024-10-08T00:00:00",
          "2024-10-09T00:00:00",
          "2024-10-10T00:00:00",
          "2024-10-11T00:00:00",
          "2024-10-12T00:00:00",
          "2024-10-13T00:00:00",
          "2024-10-14T00:00:00",
          "2024-10-15T00:00:00",
          "2024-10-16T00:00:00",
          "2024-10-17T00:00:00",
          "2024-10-18T00:00:00",
          "2024-10-19T00:00:00",
          "2024-10-20T00:00:00",
          "2024-10-21T00:00:00",
          "2024-10-22T00:00:00",
          "2024-10-23T00:00:00",
          "2024-10-24T00:00:00",
          "2024-10-25T00:00:00",
          "2024-10-26T00:00:00",
          "2024-10-27T00:00:00",
          "2024-10-28T00:00:00",
          "2024-10-29T00:00:00",
          "2024-10-30T00:00:00",
          "2024-10-31T00:00:00",
          "2024-11-01T00:00:00",
          "2024-11-02T00:00:00",
          "2024-11-03T00:00:00",
          "2024-11-04T00:00:00",
          "2024-11-05T00:00:00",
          "2024-11-06T00:00:00",
          "2024-11-07T00:00:00",
          "2024-11-08T00:00:00",
          "2024-11-09T00:00:00",
          "2024-11-10T00:00:00",
          "2024-11-11T00:00:00",
          "2024-11-12T00:00:00",
          "2024-11-13T00:00:00",
          "2024-11-14T00:00:00",
          "2024-11-15T00:00:00",
          "2024-11-16T00:00:00",
          "2024-11-17T00:00:00",
          "2024-11-18T00:00:00",
          "2024-11-19T00:00:00",
          "2024-11-20T00:00:00",
          "2024-11-21T00:00:00",
          "2024-11-22T00:00:00",
          "2024-11-23T00:00:00",
          "2024-11-24T00:00:00",
          "2024-11-25T00:00:00",
          "2024-11-26T00:00:00",
          "2024-11-27T00:00:00",
          "2024-11-28T00:00:00",
          "2024-11-29T00:00:00",
          "2024-11-30T00:00:00",
          "2024-12-01T00:00:00",
          "2024-12-02T00:00:00",
          "2024-12-03T00:00:00",
          "2024-12-04T00:00:00",
          "2024-12-05T00:00:00",
          "2024-12-06T00:00:00",
          "2024-12-07T00:00:00",
          "2024-12-08T00:00:00",
          "2024-12-09T00:00:00",
          "2024-12-10T00:00:00",
          "2024-12-11T00:00:00",
          "2024-12-12T00:00:00",
          "2024-12-13T00:00:00",
          "2024-12-14T00:00:00",
          "2024-12-15T00:00:00",
          "2024-12-16T00:00:00",
          "2024-12-17T00:00:00",
          "2024-12-18T00:00:00",
          "2024-12-19T00:00:00",
          "2024-12-20T00:00:00",
          "2024-12-21T00:00:00",
          "2024-12-22T00:00:00",
          "2024-12-23T00:00:00",
          "2024-12-24T00:00:00",
          "2024-12-25T00:00:00",
          "2024-12-26T00:00:00",
          "2024-12-27T00:00:00",
          "2024-12-28T00:00:00",
          "2024-12-29T00:00:00",
          "2024-12-30T00:00:00",
          "2024-12-31T00:00:00",
          "2025-01-01T00:00:00",
          "2025-01-02T00:00:00",
          "2025-01-03T00:00:00",
          "2025-01-04T00:00:00",
          "2025-01-05T00:00:00",
          "2025-01-06T00:00:00",
          "2025-01-07T00:00:00",
          "2025-01-08T00:00:00",
          "2025-01-09T00:00:00",
          "2025-01-10T00:00:00",
          "2025-01-11T00:00:00",
          "2025-01-12T00:00:00",
          "2025-01-13T00:00:00",
          "2025-01-14T00:00:00",
          "2025-01-15T00:00:00",
          "2025-01-16T00:00:00",
          "2025-01-17T00:00:00",
          "2025-01-18T00:00:00",
          "2025-01-19T00:00:00",
          "2025-01-20T00:00:00",
          "2025-01-21T00:00:00",
          "2025-01-22T00:00:00",
          "2025-01-23T00:00:00",
          "2025-01-24T00:00:00",
          "2025-01-25T00:00:00",
          "2025-01-26T00:00:00",
          "2025-01-27T00:00:00",
          "2025-01-28T00:00:00",
          "2025-01-29T00:00:00",
          "2025-01-30T00:00:00",
          "2025-01-31T00:00:00",
          "2025-02-01T00:00:00",
          "2025-02-02T00:00:00",
          "2025-02-03T00:00:00",
          "2025-02-04T00:00:00",
          "2025-02-05T00:00:00",
          "2025-02-06T00:00:00",
          "2025-02-07T00:00:00",
          "2025-02-08T00:00:00",
          "2025-02-09T00:00:00",
          "2025-02-10T00:00:00",
          "2025-02-11T00:00:00",
          "2025-02-12T00:00:00",
          "2025-02-13T00:00:00",
          "2025-02-14T00:00:00",
          "2025-02-15T00:00:00",
          "2025-02-16T00:00:00",
          "2025-02-17T00:00:00",
          "2025-02-18T00:00:00",
          "2025-02-19T00:00:00",
          "2025-02-20T00:00:00",
          "2025-02-21T00:00:00",
          "2025-02-22T00:00:00",
          "2025-02-23T00:00:00",
          "2025-02-24T00:00:00",
          "2025-02-25T00:00:00",
          "2025-02-26T00:00:00",
          "2025-02-27T00:00:00",
          "2025-02-28T00:00:00",
          "2025-03-01T00:00:00",
          "2025-03-02T00:00:00",
          "2025-03-03T00:00:00",
          "2025-03-04T00:00:00",
          "2025-03-05T00:00:00",
          "2025-03-06T00:00:00",
          "2025-03-07T00:00:00",
          "2025-03-08T00:00:00",
          "2025-03-09T00:00:00",
          "2025-03-10T00:00:00",
          "2025-03-11T00:00:00",
          "2025-03-12T00:00:00",
          "2025-03-13T00:00:00",
          "2025-03-14T00:00:00",
          "2025-03-15T00:00:00",
          "2025-03-16T00:00:00",
          "2025-03-17T00:00:00",
          "2025-03-18T00:00:00",
          "2025-03-19T00:00:00",
          "2025-03-20T00:00:00",
          "2025-03-21T00:00:00",
          "2025-03-22T00:00:00",
          "2025-03-23T00:00:00",
          "2025-03-24T00:00:00",
          "2025-03-25T00:00:00",
          "2025-03-26T00:00:00",
          "2025-03-27T00:00:00",
          "2025-03-28T00:00:00",
          "2025-03-29T00:00:00",
          "2025-03-30T00:00:00",
          "2025-03-31T00:00:00",
          "2025-04-01T00:00:00",
          "2025-04-02T00:00:00",
          "2025-04-03T00:00:00",
          "2025-04-04T00:00:00",
          "2025-04-05T00:00:00",
          "2025-04-06T00:00:00",
          "2025-04-07T00:00:00",
          "2025-04-08T00:00:00",
          "2025-04-09T00:00:00",
          "2025-04-10T00:00:00",
          "2025-04-11T00:00:00",
          "2025-04-12T00:00:00",
          "2025-04-13T00:00:00",
          "2025-04-14T00:00:00",
          "2025-04-15T00:00:00",
          "2025-04-16T00:00:00",
          "2025-04-17T00:00:00",
          "2025-04-18T00:00:00",
          "2025-04-19T00:00:00",
          "2025-04-20T00:00:00",
          "2025-04-21T00:00:00",
          "2025-04-22T00:00:00",
          "2025-04-23T00:00:00",
          "2025-04-24T00:00:00",
          "2025-04-25T00:00:00",
          "2025-04-26T00:00:00",
          "2025-04-27T00:00:00",
          "2025-04-28T00:00:00",
          "2025-04-29T00:00:00",
          "2025-04-30T00:00:00",
          "2025-05-01T00:00:00",
          "2025-05-02T00:00:00",
          "2025-05-03T00:00:00",
          "2025-05-04T00:00:00",
          "2025-05-05T00:00:00",
          "2025-05-06T00:00:00",
          "2025-05-07T00:00:00",
          "2025-05-08T00:00:00",
          "2025-05-09T00:00:00",
          "2025-05-10T00:00:00",
          "2025-05-11T00:00:00",
          "2025-05-12T00:00:00",
          "2025-05-13T00:00:00",
          "2025-05-14T00:00:00",
          "2025-05-15T00:00:00",
          "2025-05-16T00:00:00",
          "2025-05-17T00:00:00",
          "2025-05-18T00:00:00",
          "2025-05-19T00:00:00",
          "2025-05-20T00:00:00",
          "2025-05-21T00:00:00",
          "2025-05-22T00:00:00",
          "2025-05-23T00:00:00",
          "2025-05-24T00:00:00",
          "2025-05-25T00:00:00",
          "2025-05-26T00:00:00",
          "2025-05-27T00:00:00",
          "2025-05-28T00:00:00",
          "2025-05-29T00:00:00",
          "2025-05-30T00:00:00",
          "2025-05-31T00:00:00",
          "2025-06-01T00:00:00",
          "2025-06-02T00:00:00",
          "2025-06-03T00:00:00",
          "2025-06-04T00:00:00",
          "2025-06-05T00:00:00",
          "2025-06-06T00:00:00",
          "2025-06-07T00:00:00",
          "2025-06-08T00:00:00",
          "2025-06-09T00:00:00",
          "2025-06-10T00:00:00",
          "2025-06-11T00:00:00",
          "2025-06-12T00:00:00",
          "2025-06-13T00:00:00",
          "2025-06-14T00:00:00",
          "2025-06-15T00:00:00",
          "2025-06-16T00:00:00",
          "2025-06-17T00:00:00",
          "2025-06-18T00:00:00",
          "2025-06-19T00:00:00",
          "2025-06-20T00:00:00",
          "2025-06-21T00:00:00",
          "2025-06-22T00:00:00",
          "2025-06-23T00:00:00",
          "2025-06-24T00:00:00",
          "2025-06-25T00:00:00",
          "2025-06-26T00:00:00",
          "2025-06-27T00:00:00",
          "2025-06-28T00:00:00",
          "2025-06-29T00:00:00",
          "2025-06-30T00:00:00",
          "2025-07-01T00:00:00",
          "2025-07-02T00:00:00",
          "2025-07-03T00:00:00",
          "2025-07-04T00:00:00",
          "2025-07-05T00:00:00",
          "2025-07-06T00:00:00",
          "2025-07-07T00:00:00",
          "2025-07-08T00:00:00",
          "2025-07-09T00:00:00",
          "2025-07-10T00:00:00",
          "2025-07-11T00:00:00",
          "2025-07-12T00:00:00",
          "2025-07-13T00:00:00",
          "2025-07-14T00:00:00",
          "2025-07-15T00:00:00",
          "2025-07-16T00:00:00",
          "2025-07-17T00:00:00",
          "2025-07-18T00:00:00",
          "2025-07-19T00:00:00",
          "2025-07-20T00:00:00",
          "2025-07-21T00:00:00",
          "2025-07-22T00:00:00",
          "2025-07-23T00:00:00",
          "2025-07-24T00:00:00",
          "2025-07-25T00:00:00",
          "2025-07-26T00:00:00",
          "2025-07-27T00:00:00",
          "2025-07-28T00:00:00",
          "2025-07-29T00:00:00",
          "2025-07-30T00:00:00",
          "2025-07-31T00:00:00",
          "2025-08-01T00:00:00"
         ],
         "xaxis": "x",
         "y": {
          "bdata": "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",
          "dtype": "f8"
         },
         "yaxis": "y"
        },
        {
         "line": {
          "color": "darkgrey",
          "width": 1
         },
         "mode": "lines",
         "name": "Cumulative Net Deposits",
         "type": "scatter",
         "x": [
          "2023-02-16T00:00:00",
          "2023-02-17T00:00:00",
          "2023-02-18T00:00:00",
          "2023-02-19T00:00:00",
          "2023-02-20T00:00:00",
          "2023-02-21T00:00:00",
          "2023-02-22T00:00:00",
          "2023-02-23T00:00:00",
          "2023-02-24T00:00:00",
          "2023-02-25T00:00:00",
          "2023-02-26T00:00:00",
          "2023-02-27T00:00:00",
          "2023-02-28T00:00:00",
          "2023-03-01T00:00:00",
          "2023-03-02T00:00:00",
          "2023-03-03T00:00:00",
          "2023-03-04T00:00:00",
          "2023-03-05T00:00:00",
          "2023-03-06T00:00:00",
          "2023-03-07T00:00:00",
          "2023-03-08T00:00:00",
          "2023-03-09T00:00:00",
          "2023-03-10T00:00:00",
          "2023-03-11T00:00:00",
          "2023-03-12T00:00:00",
          "2023-03-13T00:00:00",
          "2023-03-14T00:00:00",
          "2023-03-15T00:00:00",
          "2023-03-16T00:00:00",
          "2023-03-17T00:00:00",
          "2023-03-18T00:00:00",
          "2023-03-19T00:00:00",
          "2023-03-20T00:00:00",
          "2023-03-21T00:00:00",
          "2023-03-22T00:00:00",
          "2023-03-23T00:00:00",
          "2023-03-24T00:00:00",
          "2023-03-25T00:00:00",
          "2023-03-26T00:00:00",
          "2023-03-27T00:00:00",
          "2023-03-28T00:00:00",
          "2023-03-29T00:00:00",
          "2023-03-30T00:00:00",
          "2023-03-31T00:00:00",
          "2023-04-01T00:00:00",
          "2023-04-02T00:00:00",
          "2023-04-03T00:00:00",
          "2023-04-04T00:00:00",
          "2023-04-05T00:00:00",
          "2023-04-06T00:00:00",
          "2023-04-07T00:00:00",
          "2023-04-08T00:00:00",
          "2023-04-09T00:00:00",
          "2023-04-10T00:00:00",
          "2023-04-11T00:00:00",
          "2023-04-12T00:00:00",
          "2023-04-13T00:00:00",
          "2023-04-14T00:00:00",
          "2023-04-15T00:00:00",
          "2023-04-16T00:00:00",
          "2023-04-17T00:00:00",
          "2023-04-18T00:00:00",
          "2023-04-19T00:00:00",
          "2023-04-20T00:00:00",
          "2023-04-21T00:00:00",
          "2023-04-22T00:00:00",
          "2023-04-23T00:00:00",
          "2023-04-24T00:00:00",
          "2023-04-25T00:00:00",
          "2023-04-26T00:00:00",
          "2023-04-27T00:00:00",
          "2023-04-28T00:00:00",
          "2023-04-29T00:00:00",
          "2023-04-30T00:00:00",
          "2023-05-01T00:00:00",
          "2023-05-02T00:00:00",
          "2023-05-03T00:00:00",
          "2023-05-04T00:00:00",
          "2023-05-05T00:00:00",
          "2023-05-06T00:00:00",
          "2023-05-07T00:00:00",
          "2023-05-08T00:00:00",
          "2023-05-09T00:00:00",
          "2023-05-10T00:00:00",
          "2023-05-11T00:00:00",
          "2023-05-12T00:00:00",
          "2023-05-13T00:00:00",
          "2023-05-14T00:00:00",
          "2023-05-15T00:00:00",
          "2023-05-16T00:00:00",
          "2023-05-17T00:00:00",
          "2023-05-18T00:00:00",
          "2023-05-19T00:00:00",
          "2023-05-20T00:00:00",
          "2023-05-21T00:00:00",
          "2023-05-22T00:00:00",
          "2023-05-23T00:00:00",
          "2023-05-24T00:00:00",
          "2023-05-25T00:00:00",
          "2023-05-26T00:00:00",
          "2023-05-27T00:00:00",
          "2023-05-28T00:00:00",
          "2023-05-29T00:00:00",
          "2023-05-30T00:00:00",
          "2023-05-31T00:00:00",
          "2023-06-01T00:00:00",
          "2023-06-02T00:00:00",
          "2023-06-03T00:00:00",
          "2023-06-04T00:00:00",
          "2023-06-05T00:00:00",
          "2023-06-06T00:00:00",
          "2023-06-07T00:00:00",
          "2023-06-08T00:00:00",
          "2023-06-09T00:00:00",
          "2023-06-10T00:00:00",
          "2023-06-11T00:00:00",
          "2023-06-12T00:00:00",
          "2023-06-13T00:00:00",
          "2023-06-14T00:00:00",
          "2023-06-15T00:00:00",
          "2023-06-16T00:00:00",
          "2023-06-17T00:00:00",
          "2023-06-18T00:00:00",
          "2023-06-19T00:00:00",
          "2023-06-20T00:00:00",
          "2023-06-21T00:00:00",
          "2023-06-22T00:00:00",
          "2023-06-23T00:00:00",
          "2023-06-24T00:00:00",
          "2023-06-25T00:00:00",
          "2023-06-26T00:00:00",
          "2023-06-27T00:00:00",
          "2023-06-28T00:00:00",
          "2023-06-29T00:00:00",
          "2023-06-30T00:00:00",
          "2023-07-01T00:00:00",
          "2023-07-02T00:00:00",
          "2023-07-03T00:00:00",
          "2023-07-04T00:00:00",
          "2023-07-05T00:00:00",
          "2023-07-06T00:00:00",
          "2023-07-07T00:00:00",
          "2023-07-08T00:00:00",
          "2023-07-09T00:00:00",
          "2023-07-10T00:00:00",
          "2023-07-11T00:00:00",
          "2023-07-12T00:00:00",
          "2023-07-13T00:00:00",
          "2023-07-14T00:00:00",
          "2023-07-15T00:00:00",
          "2023-07-16T00:00:00",
          "2023-07-17T00:00:00",
          "2023-07-18T00:00:00",
          "2023-07-19T00:00:00",
          "2023-07-20T00:00:00",
          "2023-07-21T00:00:00",
          "2023-07-22T00:00:00",
          "2023-07-23T00:00:00",
          "2023-07-24T00:00:00",
          "2023-07-25T00:00:00",
          "2023-07-26T00:00:00",
          "2023-07-27T00:00:00",
          "2023-07-28T00:00:00",
          "2023-07-29T00:00:00",
          "2023-07-30T00:00:00",
          "2023-07-31T00:00:00",
          "2023-08-01T00:00:00",
          "2023-08-02T00:00:00",
          "2023-08-03T00:00:00",
          "2023-08-04T00:00:00",
          "2023-08-05T00:00:00",
          "2023-08-06T00:00:00",
          "2023-08-07T00:00:00",
          "2023-08-08T00:00:00",
          "2023-08-09T00:00:00",
          "2023-08-10T00:00:00",
          "2023-08-11T00:00:00",
          "2023-08-12T00:00:00",
          "2023-08-13T00:00:00",
          "2023-08-14T00:00:00",
          "2023-08-15T00:00:00",
          "2023-08-16T00:00:00",
          "2023-08-17T00:00:00",
          "2023-08-18T00:00:00",
          "2023-08-19T00:00:00",
          "2023-08-20T00:00:00",
          "2023-08-21T00:00:00",
          "2023-08-22T00:00:00",
          "2023-08-23T00:00:00",
          "2023-08-24T00:00:00",
          "2023-08-25T00:00:00",
          "2023-08-26T00:00:00",
          "2023-08-27T00:00:00",
          "2023-08-28T00:00:00",
          "2023-08-29T00:00:00",
          "2023-08-30T00:00:00",
          "2023-08-31T00:00:00",
          "2023-09-01T00:00:00",
          "2023-09-02T00:00:00",
          "2023-09-03T00:00:00",
          "2023-09-04T00:00:00",
          "2023-09-05T00:00:00",
          "2023-09-06T00:00:00",
          "2023-09-07T00:00:00",
          "2023-09-08T00:00:00",
          "2023-09-09T00:00:00",
          "2023-09-10T00:00:00",
          "2023-09-11T00:00:00",
          "2023-09-12T00:00:00",
          "2023-09-13T00:00:00",
          "2023-09-14T00:00:00",
          "2023-09-15T00:00:00",
          "2023-09-16T00:00:00",
          "2023-09-17T00:00:00",
          "2023-09-18T00:00:00",
          "2023-09-19T00:00:00",
          "2023-09-20T00:00:00",
          "2023-09-21T00:00:00",
          "2023-09-22T00:00:00",
          "2023-09-23T00:00:00",
          "2023-09-24T00:00:00",
          "2023-09-25T00:00:00",
          "2023-09-26T00:00:00",
          "2023-09-27T00:00:00",
          "2023-09-28T00:00:00",
          "2023-09-29T00:00:00",
          "2023-09-30T00:00:00",
          "2023-10-01T00:00:00",
          "2023-10-02T00:00:00",
          "2023-10-03T00:00:00",
          "2023-10-04T00:00:00",
          "2023-10-05T00:00:00",
          "2023-10-06T00:00:00",
          "2023-10-07T00:00:00",
          "2023-10-08T00:00:00",
          "2023-10-09T00:00:00",
          "2023-10-10T00:00:00",
          "2023-10-11T00:00:00",
          "2023-10-12T00:00:00",
          "2023-10-13T00:00:00",
          "2023-10-14T00:00:00",
          "2023-10-15T00:00:00",
          "2023-10-16T00:00:00",
          "2023-10-17T00:00:00",
          "2023-10-18T00:00:00",
          "2023-10-19T00:00:00",
          "2023-10-20T00:00:00",
          "2023-10-21T00:00:00",
          "2023-10-22T00:00:00",
          "2023-10-23T00:00:00",
          "2023-10-24T00:00:00",
          "2023-10-25T00:00:00",
          "2023-10-26T00:00:00",
          "2023-10-27T00:00:00",
          "2023-10-28T00:00:00",
          "2023-10-29T00:00:00",
          "2023-10-30T00:00:00",
          "2023-10-31T00:00:00",
          "2023-11-01T00:00:00",
          "2023-11-02T00:00:00",
          "2023-11-03T00:00:00",
          "2023-11-04T00:00:00",
          "2023-11-05T00:00:00",
          "2023-11-06T00:00:00",
          "2023-11-07T00:00:00",
          "2023-11-08T00:00:00",
          "2023-11-09T00:00:00",
          "2023-11-10T00:00:00",
          "2023-11-11T00:00:00",
          "2023-11-12T00:00:00",
          "2023-11-13T00:00:00",
          "2023-11-14T00:00:00",
          "2023-11-15T00:00:00",
          "2023-11-16T00:00:00",
          "2023-11-17T00:00:00",
          "2023-11-18T00:00:00",
          "2023-11-19T00:00:00",
          "2023-11-20T00:00:00",
          "2023-11-21T00:00:00",
          "2023-11-22T00:00:00",
          "2023-11-23T00:00:00",
          "2023-11-24T00:00:00",
          "2023-11-25T00:00:00",
          "2023-11-26T00:00:00",
          "2023-11-27T00:00:00",
          "2023-11-28T00:00:00",
          "2023-11-29T00:00:00",
          "2023-11-30T00:00:00",
          "2023-12-01T00:00:00",
          "2023-12-02T00:00:00",
          "2023-12-03T00:00:00",
          "2023-12-04T00:00:00",
          "2023-12-05T00:00:00",
          "2023-12-06T00:00:00",
          "2023-12-07T00:00:00",
          "2023-12-08T00:00:00",
          "2023-12-09T00:00:00",
          "2023-12-10T00:00:00",
          "2023-12-11T00:00:00",
          "2023-12-12T00:00:00",
          "2023-12-13T00:00:00",
          "2023-12-14T00:00:00",
          "2023-12-15T00:00:00",
          "2023-12-16T00:00:00",
          "2023-12-17T00:00:00",
          "2023-12-18T00:00:00",
          "2023-12-19T00:00:00",
          "2023-12-20T00:00:00",
          "2023-12-21T00:00:00",
          "2023-12-22T00:00:00",
          "2023-12-23T00:00:00",
          "2023-12-24T00:00:00",
          "2023-12-25T00:00:00",
          "2023-12-26T00:00:00",
          "2023-12-27T00:00:00",
          "2023-12-28T00:00:00",
          "2023-12-29T00:00:00",
          "2023-12-30T00:00:00",
          "2023-12-31T00:00:00",
          "2024-01-01T00:00:00",
          "2024-01-02T00:00:00",
          "2024-01-03T00:00:00",
          "2024-01-04T00:00:00",
          "2024-01-05T00:00:00",
          "2024-01-06T00:00:00",
          "2024-01-07T00:00:00",
          "2024-01-08T00:00:00",
          "2024-01-09T00:00:00",
          "2024-01-10T00:00:00",
          "2024-01-11T00:00:00",
          "2024-01-12T00:00:00",
          "2024-01-13T00:00:00",
          "2024-01-14T00:00:00",
          "2024-01-15T00:00:00",
          "2024-01-16T00:00:00",
          "2024-01-17T00:00:00",
          "2024-01-18T00:00:00",
          "2024-01-19T00:00:00",
          "2024-01-20T00:00:00",
          "2024-01-21T00:00:00",
          "2024-01-22T00:00:00",
          "2024-01-23T00:00:00",
          "2024-01-24T00:00:00",
          "2024-01-25T00:00:00",
          "2024-01-26T00:00:00",
          "2024-01-27T00:00:00",
          "2024-01-28T00:00:00",
          "2024-01-29T00:00:00",
          "2024-01-30T00:00:00",
          "2024-01-31T00:00:00",
          "2024-02-01T00:00:00",
          "2024-02-02T00:00:00",
          "2024-02-03T00:00:00",
          "2024-02-04T00:00:00",
          "2024-02-05T00:00:00",
          "2024-02-06T00:00:00",
          "2024-02-07T00:00:00",
          "2024-02-08T00:00:00",
          "2024-02-09T00:00:00",
          "2024-02-10T00:00:00",
          "2024-02-11T00:00:00",
          "2024-02-12T00:00:00",
          "2024-02-13T00:00:00",
          "2024-02-14T00:00:00",
          "2024-02-15T00:00:00",
          "2024-02-16T00:00:00",
          "2024-02-17T00:00:00",
          "2024-02-18T00:00:00",
          "2024-02-19T00:00:00",
          "2024-02-20T00:00:00",
          "2024-02-21T00:00:00",
          "2024-02-22T00:00:00",
          "2024-02-23T00:00:00",
          "2024-02-24T00:00:00",
          "2024-02-25T00:00:00",
          "2024-02-26T00:00:00",
          "2024-02-27T00:00:00",
          "2024-02-28T00:00:00",
          "2024-02-29T00:00:00",
          "2024-03-01T00:00:00",
          "2024-03-02T00:00:00",
          "2024-03-03T00:00:00",
          "2024-03-04T00:00:00",
          "2024-03-05T00:00:00",
          "2024-03-06T00:00:00",
          "2024-03-07T00:00:00",
          "2024-03-08T00:00:00",
          "2024-03-09T00:00:00",
          "2024-03-10T00:00:00",
          "2024-03-11T00:00:00",
          "2024-03-12T00:00:00",
          "2024-03-13T00:00:00",
          "2024-03-14T00:00:00",
          "2024-03-15T00:00:00",
          "2024-03-16T00:00:00",
          "2024-03-17T00:00:00",
          "2024-03-18T00:00:00",
          "2024-03-19T00:00:00",
          "2024-03-20T00:00:00",
          "2024-03-21T00:00:00",
          "2024-03-22T00:00:00",
          "2024-03-23T00:00:00",
          "2024-03-24T00:00:00",
          "2024-03-25T00:00:00",
          "2024-03-26T00:00:00",
          "2024-03-27T00:00:00",
          "2024-03-28T00:00:00",
          "2024-03-29T00:00:00",
          "2024-03-30T00:00:00",
          "2024-03-31T00:00:00",
          "2024-04-01T00:00:00",
          "2024-04-02T00:00:00",
          "2024-04-03T00:00:00",
          "2024-04-04T00:00:00",
          "2024-04-05T00:00:00",
          "2024-04-06T00:00:00",
          "2024-04-07T00:00:00",
          "2024-04-08T00:00:00",
          "2024-04-09T00:00:00",
          "2024-04-10T00:00:00",
          "2024-04-11T00:00:00",
          "2024-04-12T00:00:00",
          "2024-04-13T00:00:00",
          "2024-04-14T00:00:00",
          "2024-04-15T00:00:00",
          "2024-04-16T00:00:00",
          "2024-04-17T00:00:00",
          "2024-04-18T00:00:00",
          "2024-04-19T00:00:00",
          "2024-04-20T00:00:00",
          "2024-04-21T00:00:00",
          "2024-04-22T00:00:00",
          "2024-04-23T00:00:00",
          "2024-04-24T00:00:00",
          "2024-04-25T00:00:00",
          "2024-04-26T00:00:00",
          "2024-04-27T00:00:00",
          "2024-04-28T00:00:00",
          "2024-04-29T00:00:00",
          "2024-04-30T00:00:00",
          "2024-05-01T00:00:00",
          "2024-05-02T00:00:00",
          "2024-05-03T00:00:00",
          "2024-05-04T00:00:00",
          "2024-05-05T00:00:00",
          "2024-05-06T00:00:00",
          "2024-05-07T00:00:00",
          "2024-05-08T00:00:00",
          "2024-05-09T00:00:00",
          "2024-05-10T00:00:00",
          "2024-05-11T00:00:00",
          "2024-05-12T00:00:00",
          "2024-05-13T00:00:00",
          "2024-05-14T00:00:00",
          "2024-05-15T00:00:00",
          "2024-05-16T00:00:00",
          "2024-05-17T00:00:00",
          "2024-05-18T00:00:00",
          "2024-05-19T00:00:00",
          "2024-05-20T00:00:00",
          "2024-05-21T00:00:00",
          "2024-05-22T00:00:00",
          "2024-05-23T00:00:00",
          "2024-05-24T00:00:00",
          "2024-05-25T00:00:00",
          "2024-05-26T00:00:00",
          "2024-05-27T00:00:00",
          "2024-05-28T00:00:00",
          "2024-05-29T00:00:00",
          "2024-05-30T00:00:00",
          "2024-05-31T00:00:00",
          "2024-06-01T00:00:00",
          "2024-06-02T00:00:00",
          "2024-06-03T00:00:00",
          "2024-06-04T00:00:00",
          "2024-06-05T00:00:00",
          "2024-06-06T00:00:00",
          "2024-06-07T00:00:00",
          "2024-06-08T00:00:00",
          "2024-06-09T00:00:00",
          "2024-06-10T00:00:00",
          "2024-06-11T00:00:00",
          "2024-06-12T00:00:00",
          "2024-06-13T00:00:00",
          "2024-06-14T00:00:00",
          "2024-06-15T00:00:00",
          "2024-06-16T00:00:00",
          "2024-06-17T00:00:00",
          "2024-06-18T00:00:00",
          "2024-06-19T00:00:00",
          "2024-06-20T00:00:00",
          "2024-06-21T00:00:00",
          "2024-06-22T00:00:00",
          "2024-06-23T00:00:00",
          "2024-06-24T00:00:00",
          "2024-06-25T00:00:00",
          "2024-06-26T00:00:00",
          "2024-06-27T00:00:00",
          "2024-06-28T00:00:00",
          "2024-06-29T00:00:00",
          "2024-06-30T00:00:00",
          "2024-07-01T00:00:00",
          "2024-07-02T00:00:00",
          "2024-07-03T00:00:00",
          "2024-07-04T00:00:00",
          "2024-07-05T00:00:00",
          "2024-07-06T00:00:00",
          "2024-07-07T00:00:00",
          "2024-07-08T00:00:00",
          "2024-07-09T00:00:00",
          "2024-07-10T00:00:00",
          "2024-07-11T00:00:00",
          "2024-07-12T00:00:00",
          "2024-07-13T00:00:00",
          "2024-07-14T00:00:00",
          "2024-07-15T00:00:00",
          "2024-07-16T00:00:00",
          "2024-07-17T00:00:00",
          "2024-07-18T00:00:00",
          "2024-07-19T00:00:00",
          "2024-07-20T00:00:00",
          "2024-07-21T00:00:00",
          "2024-07-22T00:00:00",
          "2024-07-23T00:00:00",
          "2024-07-24T00:00:00",
          "2024-07-25T00:00:00",
          "2024-07-26T00:00:00",
          "2024-07-27T00:00:00",
          "2024-07-28T00:00:00",
          "2024-07-29T00:00:00",
          "2024-07-30T00:00:00",
          "2024-07-31T00:00:00",
          "2024-08-01T00:00:00",
          "2024-08-02T00:00:00",
          "2024-08-03T00:00:00",
          "2024-08-04T00:00:00",
          "2024-08-05T00:00:00",
          "2024-08-06T00:00:00",
          "2024-08-07T00:00:00",
          "2024-08-08T00:00:00",
          "2024-08-09T00:00:00",
          "2024-08-10T00:00:00",
          "2024-08-11T00:00:00",
          "2024-08-12T00:00:00",
          "2024-08-13T00:00:00",
          "2024-08-14T00:00:00",
          "2024-08-15T00:00:00",
          "2024-08-16T00:00:00",
          "2024-08-17T00:00:00",
          "2024-08-18T00:00:00",
          "2024-08-19T00:00:00",
          "2024-08-20T00:00:00",
          "2024-08-21T00:00:00",
          "2024-08-22T00:00:00",
          "2024-08-23T00:00:00",
          "2024-08-24T00:00:00",
          "2024-08-25T00:00:00",
          "2024-08-26T00:00:00",
          "2024-08-27T00:00:00",
          "2024-08-28T00:00:00",
          "2024-08-29T00:00:00",
          "2024-08-30T00:00:00",
          "2024-08-31T00:00:00",
          "2024-09-01T00:00:00",
          "2024-09-02T00:00:00",
          "2024-09-03T00:00:00",
          "2024-09-04T00:00:00",
          "2024-09-05T00:00:00",
          "2024-09-06T00:00:00",
          "2024-09-07T00:00:00",
          "2024-09-08T00:00:00",
          "2024-09-09T00:00:00",
          "2024-09-10T00:00:00",
          "2024-09-11T00:00:00",
          "2024-09-12T00:00:00",
          "2024-09-13T00:00:00",
          "2024-09-14T00:00:00",
          "2024-09-15T00:00:00",
          "2024-09-16T00:00:00",
          "2024-09-17T00:00:00",
          "2024-09-18T00:00:00",
          "2024-09-19T00:00:00",
          "2024-09-20T00:00:00",
          "2024-09-21T00:00:00",
          "2024-09-22T00:00:00",
          "2024-09-23T00:00:00",
          "2024-09-24T00:00:00",
          "2024-09-25T00:00:00",
          "2024-09-26T00:00:00",
          "2024-09-27T00:00:00",
          "2024-09-28T00:00:00",
          "2024-09-29T00:00:00",
          "2024-09-30T00:00:00",
          "2024-10-01T00:00:00",
          "2024-10-02T00:00:00",
          "2024-10-03T00:00:00",
          "2024-10-04T00:00:00",
          "2024-10-05T00:00:00",
          "2024-10-06T00:00:00",
          "2024-10-07T00:00:00",
          "2024-10-08T00:00:00",
          "2024-10-09T00:00:00",
          "2024-10-10T00:00:00",
          "2024-10-11T00:00:00",
          "2024-10-12T00:00:00",
          "2024-10-13T00:00:00",
          "2024-10-14T00:00:00",
          "2024-10-15T00:00:00",
          "2024-10-16T00:00:00",
          "2024-10-17T00:00:00",
          "2024-10-18T00:00:00",
          "2024-10-19T00:00:00",
          "2024-10-20T00:00:00",
          "2024-10-21T00:00:00",
          "2024-10-22T00:00:00",
          "2024-10-23T00:00:00",
          "2024-10-24T00:00:00",
          "2024-10-25T00:00:00",
          "2024-10-26T00:00:00",
          "2024-10-27T00:00:00",
          "2024-10-28T00:00:00",
          "2024-10-29T00:00:00",
          "2024-10-30T00:00:00",
          "2024-10-31T00:00:00",
          "2024-11-01T00:00:00",
          "2024-11-02T00:00:00",
          "2024-11-03T00:00:00",
          "2024-11-04T00:00:00",
          "2024-11-05T00:00:00",
          "2024-11-06T00:00:00",
          "2024-11-07T00:00:00",
          "2024-11-08T00:00:00",
          "2024-11-09T00:00:00",
          "2024-11-10T00:00:00",
          "2024-11-11T00:00:00",
          "2024-11-12T00:00:00",
          "2024-11-13T00:00:00",
          "2024-11-14T00:00:00",
          "2024-11-15T00:00:00",
          "2024-11-16T00:00:00",
          "2024-11-17T00:00:00",
          "2024-11-18T00:00:00",
          "2024-11-19T00:00:00",
          "2024-11-20T00:00:00",
          "2024-11-21T00:00:00",
          "2024-11-22T00:00:00",
          "2024-11-23T00:00:00",
          "2024-11-24T00:00:00",
          "2024-11-25T00:00:00",
          "2024-11-26T00:00:00",
          "2024-11-27T00:00:00",
          "2024-11-28T00:00:00",
          "2024-11-29T00:00:00",
          "2024-11-30T00:00:00",
          "2024-12-01T00:00:00",
          "2024-12-02T00:00:00",
          "2024-12-03T00:00:00",
          "2024-12-04T00:00:00",
          "2024-12-05T00:00:00",
          "2024-12-06T00:00:00",
          "2024-12-07T00:00:00",
          "2024-12-08T00:00:00",
          "2024-12-09T00:00:00",
          "2024-12-10T00:00:00",
          "2024-12-11T00:00:00",
          "2024-12-12T00:00:00",
          "2024-12-13T00:00:00",
          "2024-12-14T00:00:00",
          "2024-12-15T00:00:00",
          "2024-12-16T00:00:00",
          "2024-12-17T00:00:00",
          "2024-12-18T00:00:00",
          "2024-12-19T00:00:00",
          "2024-12-20T00:00:00",
          "2024-12-21T00:00:00",
          "2024-12-22T00:00:00",
          "2024-12-23T00:00:00",
          "2024-12-24T00:00:00",
          "2024-12-25T00:00:00",
          "2024-12-26T00:00:00",
          "2024-12-27T00:00:00",
          "2024-12-28T00:00:00",
          "2024-12-29T00:00:00",
          "2024-12-30T00:00:00",
          "2024-12-31T00:00:00",
          "2025-01-01T00:00:00",
          "2025-01-02T00:00:00",
          "2025-01-03T00:00:00",
          "2025-01-04T00:00:00",
          "2025-01-05T00:00:00",
          "2025-01-06T00:00:00",
          "2025-01-07T00:00:00",
          "2025-01-08T00:00:00",
          "2025-01-09T00:00:00",
          "2025-01-10T00:00:00",
          "2025-01-11T00:00:00",
          "2025-01-12T00:00:00",
          "2025-01-13T00:00:00",
          "2025-01-14T00:00:00",
          "2025-01-15T00:00:00",
          "2025-01-16T00:00:00",
          "2025-01-17T00:00:00",
          "2025-01-18T00:00:00",
          "2025-01-19T00:00:00",
          "2025-01-20T00:00:00",
          "2025-01-21T00:00:00",
          "2025-01-22T00:00:00",
          "2025-01-23T00:00:00",
          "2025-01-24T00:00:00",
          "2025-01-25T00:00:00",
          "2025-01-26T00:00:00",
          "2025-01-27T00:00:00",
          "2025-01-28T00:00:00",
          "2025-01-29T00:00:00",
          "2025-01-30T00:00:00",
          "2025-01-31T00:00:00",
          "2025-02-01T00:00:00",
          "2025-02-02T00:00:00",
          "2025-02-03T00:00:00",
          "2025-02-04T00:00:00",
          "2025-02-05T00:00:00",
          "2025-02-06T00:00:00",
          "2025-02-07T00:00:00",
          "2025-02-08T00:00:00",
          "2025-02-09T00:00:00",
          "2025-02-10T00:00:00",
          "2025-02-11T00:00:00",
          "2025-02-12T00:00:00",
          "2025-02-13T00:00:00",
          "2025-02-14T00:00:00",
          "2025-02-15T00:00:00",
          "2025-02-16T00:00:00",
          "2025-02-17T00:00:00",
          "2025-02-18T00:00:00",
          "2025-02-19T00:00:00",
          "2025-02-20T00:00:00",
          "2025-02-21T00:00:00",
          "2025-02-22T00:00:00",
          "2025-02-23T00:00:00",
          "2025-02-24T00:00:00",
          "2025-02-25T00:00:00",
          "2025-02-26T00:00:00",
          "2025-02-27T00:00:00",
          "2025-02-28T00:00:00",
          "2025-03-01T00:00:00",
          "2025-03-02T00:00:00",
          "2025-03-03T00:00:00",
          "2025-03-04T00:00:00",
          "2025-03-05T00:00:00",
          "2025-03-06T00:00:00",
          "2025-03-07T00:00:00",
          "2025-03-08T00:00:00",
          "2025-03-09T00:00:00",
          "2025-03-10T00:00:00",
          "2025-03-11T00:00:00",
          "2025-03-12T00:00:00",
          "2025-03-13T00:00:00",
          "2025-03-14T00:00:00",
          "2025-03-15T00:00:00",
          "2025-03-16T00:00:00",
          "2025-03-17T00:00:00",
          "2025-03-18T00:00:00",
          "2025-03-19T00:00:00",
          "2025-03-20T00:00:00",
          "2025-03-21T00:00:00",
          "2025-03-22T00:00:00",
          "2025-03-23T00:00:00",
          "2025-03-24T00:00:00",
          "2025-03-25T00:00:00",
          "2025-03-26T00:00:00",
          "2025-03-27T00:00:00",
          "2025-03-28T00:00:00",
          "2025-03-29T00:00:00",
          "2025-03-30T00:00:00",
          "2025-03-31T00:00:00",
          "2025-04-01T00:00:00",
          "2025-04-02T00:00:00",
          "2025-04-03T00:00:00",
          "2025-04-04T00:00:00",
          "2025-04-05T00:00:00",
          "2025-04-06T00:00:00",
          "2025-04-07T00:00:00",
          "2025-04-08T00:00:00",
          "2025-04-09T00:00:00",
          "2025-04-10T00:00:00",
          "2025-04-11T00:00:00",
          "2025-04-12T00:00:00",
          "2025-04-13T00:00:00",
          "2025-04-14T00:00:00",
          "2025-04-15T00:00:00",
          "2025-04-16T00:00:00",
          "2025-04-17T00:00:00",
          "2025-04-18T00:00:00",
          "2025-04-19T00:00:00",
          "2025-04-20T00:00:00",
          "2025-04-21T00:00:00",
          "2025-04-22T00:00:00",
          "2025-04-23T00:00:00",
          "2025-04-24T00:00:00",
          "2025-04-25T00:00:00",
          "2025-04-26T00:00:00",
          "2025-04-27T00:00:00",
          "2025-04-28T00:00:00",
          "2025-04-29T00:00:00",
          "2025-04-30T00:00:00",
          "2025-05-01T00:00:00",
          "2025-05-02T00:00:00",
          "2025-05-03T00:00:00",
          "2025-05-04T00:00:00",
          "2025-05-05T00:00:00",
          "2025-05-06T00:00:00",
          "2025-05-07T00:00:00",
          "2025-05-08T00:00:00",
          "2025-05-09T00:00:00",
          "2025-05-10T00:00:00",
          "2025-05-11T00:00:00",
          "2025-05-12T00:00:00",
          "2025-05-13T00:00:00",
          "2025-05-14T00:00:00",
          "2025-05-15T00:00:00",
          "2025-05-16T00:00:00",
          "2025-05-17T00:00:00",
          "2025-05-18T00:00:00",
          "2025-05-19T00:00:00",
          "2025-05-20T00:00:00",
          "2025-05-21T00:00:00",
          "2025-05-22T00:00:00",
          "2025-05-23T00:00:00",
          "2025-05-24T00:00:00",
          "2025-05-25T00:00:00",
          "2025-05-26T00:00:00",
          "2025-05-27T00:00:00",
          "2025-05-28T00:00:00",
          "2025-05-29T00:00:00",
          "2025-05-30T00:00:00",
          "2025-05-31T00:00:00",
          "2025-06-01T00:00:00",
          "2025-06-02T00:00:00",
          "2025-06-03T00:00:00",
          "2025-06-04T00:00:00",
          "2025-06-05T00:00:00",
          "2025-06-06T00:00:00",
          "2025-06-07T00:00:00",
          "2025-06-08T00:00:00",
          "2025-06-09T00:00:00",
          "2025-06-10T00:00:00",
          "2025-06-11T00:00:00",
          "2025-06-12T00:00:00",
          "2025-06-13T00:00:00",
          "2025-06-14T00:00:00",
          "2025-06-15T00:00:00",
          "2025-06-16T00:00:00",
          "2025-06-17T00:00:00",
          "2025-06-18T00:00:00",
          "2025-06-19T00:00:00",
          "2025-06-20T00:00:00",
          "2025-06-21T00:00:00",
          "2025-06-22T00:00:00",
          "2025-06-23T00:00:00",
          "2025-06-24T00:00:00",
          "2025-06-25T00:00:00",
          "2025-06-26T00:00:00",
          "2025-06-27T00:00:00",
          "2025-06-28T00:00:00",
          "2025-06-29T00:00:00",
          "2025-06-30T00:00:00",
          "2025-07-01T00:00:00",
          "2025-07-02T00:00:00",
          "2025-07-03T00:00:00",
          "2025-07-04T00:00:00",
          "2025-07-05T00:00:00",
          "2025-07-06T00:00:00",
          "2025-07-07T00:00:00",
          "2025-07-08T00:00:00",
          "2025-07-09T00:00:00",
          "2025-07-10T00:00:00",
          "2025-07-11T00:00:00",
          "2025-07-12T00:00:00",
          "2025-07-13T00:00:00",
          "2025-07-14T00:00:00",
          "2025-07-15T00:00:00",
          "2025-07-16T00:00:00",
          "2025-07-17T00:00:00",
          "2025-07-18T00:00:00",
          "2025-07-19T00:00:00",
          "2025-07-20T00:00:00",
          "2025-07-21T00:00:00",
          "2025-07-22T00:00:00",
          "2025-07-23T00:00:00",
          "2025-07-24T00:00:00",
          "2025-07-25T00:00:00",
          "2025-07-26T00:00:00",
          "2025-07-27T00:00:00",
          "2025-07-28T00:00:00",
          "2025-07-29T00:00:00",
          "2025-07-30T00:00:00",
          "2025-07-31T00:00:00",
          "2025-08-01T00:00:00"
         ],
         "xaxis": "x",
         "y": {
          "bdata": "hetRuB75cECF61G4HvlwQIXrUbge+XBAhetRuB75cECF61G4HvlwQIXrUbge+XBAhetRuB75cECF61G4HvlwQIXrUbge+XBAhetRuB75cECF61G4HvlwQIXrUbge+XBAhetRuB75cECF61G4HvlwQIXrUbge+XBAhetRuB75cECF61G4HvlwQIXrUbge+XBAhetRuB75cECF61G4HvlwQIXrUbge+XBAhetRuB75cECF61G4HvlwQIXrUbge+XBAhetRuB75cECF61G4HvlwQIXrUbge+XBAhetRuB75cECF61G4HvlwQIXrUbge+XBAhetRuB75cECF61G4HvlwQIXrUbge+XBAhetRuB75cECF61G4HvlwQIXrUbge+XBAhetRuB75cECF61G4HvlwQIXrUbge+XBAhetRuB75cECF61G4HvlwQIXrUbge+XBAhetRuB75cECF61G4HvlwQIXrUbge+XBAhetRuB75cECF61G4HvlwQIXrUbge+XBAhetRuB75cECF61G4HvlwQIXrUbge+XBAhetRuB75cECF61G4HvlwQIXrUbge+XBAhetRuB75cECF61G4HvlwQIXrUbge+XBAhetRuB75cECF61G4HvlwQIXrUbge+XBAhetRuB75cECF61G4HvlwQIXrUbge+XBAhetRuB75cECF61G4HvlwQIXrUbge+XBAhetRuB75cECF61G4HvlwQIXrUbge+XBAhetRuB75cECF61G4HvlwQIXrUbge+XBAhetRuB75cECF61G4HvlwQIXrUbge+XBAhetRuB75cECF61G4HvlwQIXrUbge+XBAhetRuB75cECF61G4HvlwQIXrUbge+XBAhetRuB75cECF61G4HvlwQIXrUbge+XBAhetRuB75cECF61G4HvlwQIXrUbge+XBAhetRuB75cECF61G4HvlwQIXrUbge+XBAhetRuB75cECF61G4HvlwQIXrUbge+XBAhetRuB75cECF61G4HvlwQIXrUbge+XBAhetRuB75cECF61G4HvlwQIXrUbge+XBAhetRuB75cECF61G4HvlwQIXrUbge+XBAhetRuB75cECF61G4HvlwQIXrUbge+XBAhetRuB75cECF61G4HvlwQIXrUbge+XBAhetRuB75cECF61G4HvlwQIXrUbge+XBAhetRuB75cECF61G4HvlwQIXrUbge+XBAhetRuB75cECF61G4HvlwQIXrUbge+XBAhetRuB75cECF61G4HvlwQIXrUbge+XBAhetRuB75cECF61G4HvlwQIXrUbge+XBAhetRuB75cECF61G4HvlwQIXrUbge+XBAhetRuB75cECF61G4HvlwQIXrUbge+XBAhetRuB75cECF61G4HvlwQIXrUbge+XBAhetRuB75cECF61G4HvlwQIXrUbge+XBAhetRuB75cECF61G4HvlwQIXrUbge+XBAhetRuB75cECF61G4HvlwQIXrUbge+XBAhetRuB75cECF61G4HvlwQIXrUbge+XBAhetRuB75cECF61G4HvlwQIXrUbge+XBAhetRuB75cECF61G4HvlwQIXrUbge+XBAhetRuB75cECF61G4HvlwQIXrUbge+XBAhetRuB75cECF61G4HvlwQIXrUbge+XBAhetRuB75cECF61G4HvlwQIXrUbge+XBAhetRuB75cECF61G4HvlwQIXrUbge+XBAhetRuB75cECF61G4HvlwQIXrUbge+XBAhetRuB75cECF61G4HvlwQIXrUbge+XBAhetRuB75cECF61G4HvlwQIXrUbge+XBAhetRuB75cECF61G4HvlwQIXrUbge+XBAhetRuB75cECF61G4HvlwQIXrUbge+XBAhetRuB75cECF61G4HvlwQIXrUbge+XBAhetRuB75cECF61G4HvlwQIXrUbge+XBAhetRuB75gECF61G4HvmAQIXrUbge+YBAhetRuB75gECF61G4HvmAQIXrUbge+YBAhetRuB75gECF61G4HvmAQIXrUbge+YBAhetRuB75gECF61G4HvmAQIXrUbge+YBAhetRuB75gECF61G4HvmAQIXrUbge+YBAhetRuB75gECF61G4HvmAQIXrUbge+YBAhetRuB75gECF61G4HvmAQEjhehSudYlASOF6FK51iUBI4XoUrnWJQEjhehSudYlASOF6FK51iUBI4XoUrnWJQEjhehSudYlASOF6FK51iUBI4XoUrnWJQEjhehSudYlASOF6FK51iUBI4XoUrnWJQEjhehSudYlASOF6FK51iUCF61G4HvmQQIXrUbge+ZBAhetRuB75kECF61G4HvmQQIXrUbge+ZBAhetRuB75kECF61G4HvmQQIXrUbge+ZBAhetRuB75kECF61G4HvmQQIXrUbge+ZBAhetRuB75kECF61G4HvmQQIXrUbge+ZBAhetRuB75kECF61G4HvmQQIXrUbge+ZBAhetRuB75kECF61G4HvmQQIXrUbge+ZBACtejcD0Yk0AK16NwPRiTQArXo3A9GJNACtejcD0Yk0AK16NwPRiTQArXo3A9GJNACtejcD0Yk0AK16NwPRiTQArXo3A9GJNACtejcD0Yk0AK16NwPRiTQArXo3A9GJNACtejcD0Yk0AK16NwPRiTQArXo3A9GJNACtejcD0Yk0AK16NwPRiTQArXo3A9GJNACtejcD0Yk0AK16NwPRiTQArXo3A9GJNAj8L1KFw3lUCPwvUoXDeVQI/C9ShcN5VAj8L1KFw3lUCPwvUoXDeVQI/C9ShcN5VAj8L1KFw3lUCPwvUoXDeVQI/C9ShcN5VAj8L1KFw3lUCPwvUoXDeVQI/C9ShcN5VAj8L1KFw3lUCPwvUoXDeVQI/C9ShcN5VAj8L1KFw3lUCPwvUoXDeVQI/C9ShcN5VAj8L1KFw3lUCPwvUoXDeVQI/C9ShcN5VAj8L1KFw3lUCPwvUoXDeVQI/C9ShcN5VAj8L1KFw3lUCPwvUoXDeVQI/C9ShcN5VAj8L1KFw3lUCPwvUoXDeVQI/C9ShcN5VAj8L1KFw3lUCPwvUoXDeVQI/C9ShcN5VAj8L1KFw3lUCPwvUoXDeVQI/C9ShcN5VAj8L1KFw3lUCPwvUoXDeVQI/C9ShcN5VAj8L1KFw3lUCPwvUoXDeVQI/C9ShcN5VAj8L1KFw3lUAUrkfhelaXQBSuR+F6VpdAFK5H4XpWl0AUrkfhelaXQBSuR+F6VpdAFK5H4XpWl0AUrkfhelaXQBSuR+F6VpdAFK5H4XpWl0AUrkfhelaXQBSuR+F6VpdAFK5H4XpWl0AUrkfhelaXQPUoXI/ClJtA9Shcj8KUm0D1KFyPwpSbQPUoXI/ClJtA9Shcj8KUm0D1KFyPwpSbQPUoXI/ClJtA9Shcj8KUm0D1KFyPwpSbQPUoXI/ClJtA9Shcj8KUm0D1KFyPwpSbQPUoXI/ClJtA9Shcj8KUm0D1KFyPwpSbQPUoXI/ClJtA9Shcj8KUm0D1KFyPwpSbQPUoXI/ClJtA9Shcj8KUm0D1KFyPwpSbQPUoXI/ClJtA9Shcj8KUm0D1KFyPwpSbQPUoXI/ClJtA9Shcj8KUm0D1KFyPwpSbQPUoXI/ClJtA9Shcj8KUm0D1KFyPwpSbQPUoXI/ClJtA9Shcj8KUm0D1KFyPwpSbQPUoXI/ClJtA9Shcj8KUm0D1KFyPwpSbQPUoXI/ClJtA9Shcj8KUm0D1KFyPwpSbQPUoXI/ClJtA9Shcj8KUm0D1KFyPwpSbQPUoXI/ClJtA9Shcj8KUm0D1KFyPwpSbQPUoXI/ClJtA9Shcj8KUm0D1KFyPwpSbQPUoXI/ClJtA9Shcj8KUm0D1KFyPwpSbQPUoXI/ClJtA9Shcj8KUm0D1KFyPwpSbQPUoXI/ClJtA9Shcj8KUm0D1KFyPwpSbQPUoXI/ClJtA9Shcj8KUm0D1KFyPwpSbQPUoXI/ClJtA9Shcj8KUm0D1KFyPwpSbQPUoXI/ClJtA9Shcj8KUm0D1KFyPwpSbQPUoXI/ClJtA9Shcj8KUm0D1KFyPwpSbQFuPwvUojZ5AW4/C9SiNnkBbj8L1KI2eQFuPwvUojZ5AW4/C9SiNnkBbj8L1KI2eQFuPwvUojZ5AW4/C9SiNnkBbj8L1KI2eQFuPwvUojZ5AW4/C9SiNnkBbj8L1KI2eQFuPwvUojZ5AW4/C9SiNnkBbj8L1KI2eQFuPwvUojZ5AW4/C9SiNnkBbj8L1KI2eQFuPwvUojZ5AW4/C9SiNnkBbj8L1KI2eQFuPwvUojZ5AW4/C9SiNnkBbj8L1KI2eQFuPwvUojZ5AW4/C9SiNnkBbj8L1KI2eQFuPwvUojZ5AW4/C9SiNnkBbj8L1KI2eQFuPwvUojZ5AHoXrUbhloUAehetRuGWhQB6F61G4ZaFAHoXrUbhloUAehetRuGWhQB6F61G4ZaFAHoXrUbhloUAehetRuGWhQB6F61G4ZaFAHoXrUbhloUAehetRuGWhQB6F61G4ZaFAHoXrUbhloUAehetRuGWhQB6F61G4ZaFAHoXrUbhloUAehetRuGWhQB6F61G4ZaFAHoXrUbhloUAehetRuGWhQB6F61G4ZaFAHoXrUbhloUAehetRuGWhQB6F61G4ZaFAHoXrUbhloUAehetRuGWhQB6F61G4ZaFAHoXrUbhloUAehetRuGWhQB6F61G4ZaFAHoXrUbhloUAehetRuGWhQB6F61G4ZaFAHoXrUbhloUAehetRuGWhQB6F61G4ZaFAHoXrUbhloUAehetRuGWhQB6F61G4ZaFAHoXrUbhloUAehetRuGWhQB6F61G4ZaFAHoXrUbhloUAehetRuGWhQB6F61G4ZaFAHoXrUbhloUAehetRuGWhQB6F61G4ZaFAHoXrUbhloUAehetRuGWhQB6F61G4ZaFAHoXrUbhloUAehetRuGWhQB6F61G4ZaFAHoXrUbhloUAehetRuGWhQB6F61G4ZaFAHoXrUbhloUAehetRuGWhQB6F61G4ZaFAHoXrUbhloUAehetRuGWhQB6F61G4ZaFAHoXrUbhloUAehetRuGWhQB6F61G4ZaFAHoXrUbhloUAehetRuGWhQB6F61G4ZaFAHoXrUbhloUAehetRuGWhQB6F61G4ZaFAHoXrUbhloUAehetRuGWhQB6F61G4ZaFAHoXrUbhloUAehetRuGWhQB6F61G4ZaFAHoXrUbhloUAehetRuGWhQB6F61G4ZaFAHoXrUbhloUAehetRuGWhQB6F61G4ZaFAHoXrUbhloUAehetRuGWhQB6F61G4ZaFAHoXrUbhloUAehetRuGWhQB6F61G4ZaFAHoXrUbhloUAehetRuGWhQB6F61G4ZaFAHoXrUbhloUAehetRuGWhQB6F61G4ZaFA4XoUrkd1okDhehSuR3WiQOF6FK5HdaJA4XoUrkd1okDhehSuR3WiQOF6FK5HdaJAuB6F61G0k0C4HoXrUbSTQLgehetRtJNAuB6F61G0k0C4HoXrUbSTQLgehetRtJNAuB6F61G0k0C4HoXrUbSTQLgehetRtJNAuB6F61G0k0C4HoXrUbSTQLgehetRtJNAuB6F61G0k0C4HoXrUbSTQLgehetRtJNAuB6F61G0k0C4HoXrUbSTQLgehetRtJNAuB6F61G0k0C4HoXrUbSTQLgehetRtJNAuB6F61G0k0C4HoXrUbSTQLgehetRtJNAuB6F61G0k0C4HoXrUbSTQLgehetRtJNAuB6F61G0k0C4HoXrUbSTQLgehetRtJNAuB6F61G0k0C4HoXrUbSTQLgehetRtJNAuB6F61G0k0C4HoXrUbSTQLgehetRtJNAuB6F61G0k0C4HoXrUbSTQLgehetRtJNAuB6F61G0k0C4HoXrUbSTQLgehetRtJNAuB6F61G0k0C4HoXrUbSTQLgehetRtJNAuB6F61G0k0C4HoXrUbSTQLgehetRtJNAuB6F61G0k0C4HoXrUbSTQLgehetRtJNAuB6F61G0k0C4HoXrUbSTQLgehetRtJNAuB6F61G0k0C4HoXrUbSTQLgehetRtJNAuB6F61G0k0C4HoXrUbSTQLgehetRtJNAuB6F61G0k0C4HoXrUbSTQLgehetRtJNAuB6F61G0k0C4HoXrUbSTQLgehetRtJNAuB6F61G0k0C4HoXrUbSTQLgehetRtJNAuB6F61HQlUC4HoXrUdCVQLgehetR0JVAuB6F61HQlUC4HoXrUdCVQLgehetR0JVAuB6F61HQlUC4HoXrUdCVQLgehetR0JVAuB6F61HQlUC4HoXrUdCVQLgehetR0JVAuB6F61HQlUC4HoXrUdCVQLgehetR0JVAuB6F61HQlUC4HoXrUdCVQLgehetR0JVAuB6F61HQlUC4HoXrUdCVQLgehetR0JVAuB6F61HQlUC4HoXrUdCVQLgehetR0JVAuB6F61HQlUC4HoXrUdCVQLgehetR0JVAuB6F61HQlUC4HoXrUdCVQLgehetR0JVAuB6F61HQlUC4HoXrUdCVQLgehetR0JVAuB6F61HQlUC4HoXrUdCVQLgehetR0JVAMzMzMzMWl0AzMzMzMxaXQDMzMzMzFpdAMzMzMzMWl0AzMzMzMxaXQDMzMzMzFpdAMzMzMzMWl0AzMzMzMxaXQDMzMzMzFpdAMzMzMzMWl0AzMzMzMxaXQDMzMzMzFpdAMzMzMzMWl0AzMzMzMxaXQDMzMzMzFpdAMzMzMzMWl0AzMzMzMxaXQDMzMzMzFpdAMzMzMzMWl0AzMzMzMxaXQDMzMzMzFpdAMzMzMzMWl0AzMzMzMxaXQDMzMzMzFpdAMzMzMzMWl0AzMzMzMxaXQDMzMzMzFpdAMzMzMzMWl0AzMzMzMxaXQDMzMzMzFpdAMzMzMzMWl0AzMzMzMxaXQDMzMzMzFpdAMzMzMzMWl0AzMzMzMxaXQDMzMzMzFpdAMzMzMzMWl0AzMzMzMxaXQDMzMzMzFpdAMzMzMzMWl0AzMzMzMxaXQDMzMzMzFpdAMzMzMzMWl0AzMzMzMxaXQDMzMzMzFpdAMzMzMzMWl0AzMzMzMxaXQDMzMzMzFpdAMzMzMzMWl0AzMzMzMxaXQDMzMzMzFpdAMzMzMzMWl0AzMzMzMxaXQDMzMzMzFpdAMzMzMzMWl0AUrkfhelSbQBSuR+F6VJtAFK5H4XpUm0AUrkfhelSbQBSuR+F6VJtAFK5H4XpUm0AUrkfhelSbQBSuR+F6VJtAFK5H4XpUm0AUrkfhelSbQBSuR+F6VJtAFK5H4XpUm0AUrkfhelSbQBSuR+F6VJtAFK5H4XpUm0AUrkfhelSbQBSuR+F6VJtAFK5H4XpUm0AUrkfhelSbQBSuR+F6VJtAFK5H4XpUm0AUrkfhelSbQBSuR+F6VJtAFK5H4XpUm0AUrkfhelSbQBSuR+F6VJtAFK5H4XpUm0AUrkfhelSbQBSuR+F6VJtAFK5H4XpUm0AUrkfhelSbQBSuR+F6VJtAFK5H4XpUm0AUrkfhelSbQBSuR+F6VJtAFK5H4XpUm0AUrkfhelSbQBSuR+F6VJtAFK5H4XpUm0AUrkfhelSbQBSuR+F6VJtAFK5H4XpUm0AUrkfhelSbQBSuR+F6VJtAFK5H4XpUm0AUrkfhelSbQBSuR+F6VJtAFK5H4XpUm0AUrkfhelSbQBSuR+F6VJtAFK5H4XpUm0AUrkfhelSbQBSuR+F6VJtAFK5H4XpUm0AUrkfhelSbQBSuR+F6VJtAFK5H4XpUm0AUrkfhelSbQBSuR+F6VJtAFK5H4XpUm0AUrkfhelSbQBSuR+F6VJtAFK5H4XpUm0AUrkfhelSbQBSuR+F6VJtAFK5H4XpUm0AUrkfhelSbQBSuR+F6VJtAFK5H4XpUm0AUrkfhelSbQPUoXI/Ckp9A9Shcj8KSn0D1KFyPwpKfQPUoXI/Ckp9A9Shcj8KSn0D1KFyPwpKfQPUoXI/Ckp9A9Shcj8KSn0D1KFyPwpKfQPUoXI/Ckp9A9Shcj8KSn0D1KFyPwpKfQPUoXI/Ckp9A9Shcj8KSn0D1KFyPwpKfQPUoXI/Ckp9A9Shcj8KSn0D1KFyPwpKfQPUoXI/Ckp9A9Shcj8KSn0D1KFyPwpKfQPUoXI/Ckp9A9Shcj8KSn0D1KFyPwpKfQPUoXI/Ckp9A9Shcj8KSn0D1KFyPwpKfQPUoXI/Ckp9A9Shcj8KSn0D1KFyPwpKfQPUoXI/Ckp9A9Shcj8KSn0D1KFyPwpKfQPUoXI/Ckp9A9Shcj8KSn0A9Ctej8NigQD0K16Pw2KBAPQrXo/DYoEA9Ctej8NigQD0K16Pw2KBAPQrXo/DYoEA9Ctej8NigQD0K16Pw2KBAPQrXo/DYoEA9Ctej8NigQD0K16Pw2KBAPQrXo/DYoEA9Ctej8NigQD0K16Pw2KBAPQrXo/DYoEA9Ctej8NigQD0K16Pw2KBAPQrXo/DYoEA9Ctej8NigQD0K16Pw2KBAPQrXo/DYoEA9Ctej8NigQD0K16Pw2KBAPQrXo/DYoEA9Ctej8NigQD0K16Pw2KBAPQrXo/DYoEA9Ctej8NigQD0K16Pw2KBAPQrXo/DYoEA9Ctej8NigQD0K16Pw2KBAPQrXo/DYoEA9Ctej8NigQD0K16Pw2KBAPQrXo/DYoEA9Ctej8NigQD0K16Pw2KBAPQrXo/DYoEA9Ctej8NigQD0K16Pw2KBAPQrXo/DYoEA9Ctej8NigQD0K16Pw2KBAPQrXo/DYoEA9Ctej8NigQD0K16Pw2KBAPQrXo/DYoEA9Ctej8NigQD0K16Pw2KBAPQrXo/DYoEA9Ctej8NigQD0K16Pw2KBAPQrXo/DYoEA9Ctej8NigQD0K16Pw2KBAPQrXo/DYoEA9Ctej8NigQD0K16Pw2KBAPQrXo/DYoEA9Ctej8NigQD0K16Pw2KBAPQrXo/DYoEA9Ctej8NigQD0K16Pw2KBAPQrXo/DYoEA9Ctej8NigQD0K16Pw2KBAPQrXo/DYoEA9Ctej8NigQD0K16Pw2KBAPQrXo/DYoEA9Ctej8NigQD0K16Pw2KBAPQrXo/DYoEA9Ctej8NigQD0K16Pw2KBAPQrXo/DYoEA9Ctej8NigQD0K16Pw2KBAPQrXo/DYoEA9Ctej8NigQD0K16Pw2KBAPQrXo/DYoEA9Ctej8NigQD0K16Pw2KBAPQrXo/DYoEA9Ctej8NigQD0K16Pw2KBAPQrXo/DYoEA9Ctej8NigQD0K16Pw2KBAPQrXo/DYoEA9Ctej8NigQD0K16Pw2KBAPQrXo/DYoEA9Ctej8NigQD0K16Pw2KBAPQrXo/DYoEA9Ctej8NigQD0K16Pw2KBAPQrXo/DYoEA9Ctej8NigQD0K16Pw2KBAPQrXo/DYoEA9Ctej8NigQD0K16Pw2KBAPQrXo/DYoECuR+F6FPiiQK5H4XoU+KJArkfhehT4okCuR+F6FPiiQK5H4XoU+KJArkfhehT4okCuR+F6FPiiQK5H4XoU+KJArkfhehT4okA=",
          "dtype": "f8"
         },
         "yaxis": "y"
        },
        {
         "marker": {
          "color": "royalblue"
         },
         "name": "Deposits / Withdrawals",
         "opacity": 0.3,
         "type": "bar",
         "x": [
          "2023-02-28T00:00:00",
          "2023-03-31T00:00:00",
          "2023-04-30T00:00:00",
          "2023-05-31T00:00:00",
          "2023-06-30T00:00:00",
          "2023-07-31T00:00:00",
          "2023-08-31T00:00:00",
          "2023-09-30T00:00:00",
          "2023-10-31T00:00:00",
          "2023-11-30T00:00:00",
          "2023-12-31T00:00:00",
          "2024-01-31T00:00:00",
          "2024-02-29T00:00:00",
          "2024-03-31T00:00:00",
          "2024-04-30T00:00:00",
          "2024-05-31T00:00:00",
          "2024-06-30T00:00:00",
          "2024-07-31T00:00:00",
          "2024-08-31T00:00:00",
          "2024-09-30T00:00:00",
          "2024-10-31T00:00:00",
          "2024-11-30T00:00:00",
          "2024-12-31T00:00:00",
          "2025-01-31T00:00:00",
          "2025-02-28T00:00:00",
          "2025-03-31T00:00:00",
          "2025-04-30T00:00:00",
          "2025-05-31T00:00:00",
          "2025-06-30T00:00:00",
          "2025-07-31T00:00:00"
         ],
         "xaxis": "x",
         "y": {
          "bdata": "hetRuB75cEAAAAAAAAAAAAAAAAAAAAAAAAAAAAAAAAAAAAAAAAAAAAAAAAAAAAAAhetRuB75cECF61G4HvmAQClcj8L1+GBAKVyPwvX4YECamZmZmXV5QAAAAAAAAAAAAAAAAAAAAAAzMzMzM8NnQIXrUbge+XBAAAAAAAAAAAAAAAAAAAAAAArXo3A9Lo7AAAAAAAAAAAAAAAAAAOBgQK5H4XoUXlRAAAAAAAAAAACF61G4HvlwQAAAAAAAAAAAAAAAAAAAAACF61G4HvlwQClcj8L1+GBAAAAAAAAAAAAAAAAAAAAAAIXrUbge+XBA",
          "dtype": "f8"
         },
         "yaxis": "y2"
        }
       ],
       "layout": {
        "barmode": "relative",
        "legend": {
         "orientation": "h",
         "x": 1,
         "xanchor": "right",
         "y": 1.02,
         "yanchor": "bottom"
        },
        "template": {
         "data": {
          "bar": [
           {
            "error_x": {
             "color": "#2a3f5f"
            },
            "error_y": {
             "color": "#2a3f5f"
            },
            "marker": {
             "line": {
              "color": "white",
              "width": 0.5
             },
             "pattern": {
              "fillmode": "overlay",
              "size": 10,
              "solidity": 0.2
             }
            },
            "type": "bar"
           }
          ],
          "barpolar": [
           {
            "marker": {
             "line": {
              "color": "white",
              "width": 0.5
             },
             "pattern": {
              "fillmode": "overlay",
              "size": 10,
              "solidity": 0.2
             }
            },
            "type": "barpolar"
           }
          ],
          "carpet": [
           {
            "aaxis": {
             "endlinecolor": "#2a3f5f",
             "gridcolor": "#C8D4E3",
             "linecolor": "#C8D4E3",
             "minorgridcolor": "#C8D4E3",
             "startlinecolor": "#2a3f5f"
            },
            "baxis": {
             "endlinecolor": "#2a3f5f",
             "gridcolor": "#C8D4E3",
             "linecolor": "#C8D4E3",
             "minorgridcolor": "#C8D4E3",
             "startlinecolor": "#2a3f5f"
            },
            "type": "carpet"
           }
          ],
          "choropleth": [
           {
            "colorbar": {
             "outlinewidth": 0,
             "ticks": ""
            },
            "type": "choropleth"
           }
          ],
          "contour": [
           {
            "colorbar": {
             "outlinewidth": 0,
             "ticks": ""
            },
            "colorscale": [
             [
              0,
              "#0d0887"
             ],
             [
              0.1111111111111111,
              "#46039f"
             ],
             [
              0.2222222222222222,
              "#7201a8"
             ],
             [
              0.3333333333333333,
              "#9c179e"
             ],
             [
              0.4444444444444444,
              "#bd3786"
             ],
             [
              0.5555555555555556,
              "#d8576b"
             ],
             [
              0.6666666666666666,
              "#ed7953"
             ],
             [
              0.7777777777777778,
              "#fb9f3a"
             ],
             [
              0.8888888888888888,
              "#fdca26"
             ],
             [
              1,
              "#f0f921"
             ]
            ],
            "type": "contour"
           }
          ],
          "contourcarpet": [
           {
            "colorbar": {
             "outlinewidth": 0,
             "ticks": ""
            },
            "type": "contourcarpet"
           }
          ],
          "heatmap": [
           {
            "colorbar": {
             "outlinewidth": 0,
             "ticks": ""
            },
            "colorscale": [
             [
              0,
              "#0d0887"
             ],
             [
              0.1111111111111111,
              "#46039f"
             ],
             [
              0.2222222222222222,
              "#7201a8"
             ],
             [
              0.3333333333333333,
              "#9c179e"
             ],
             [
              0.4444444444444444,
              "#bd3786"
             ],
             [
              0.5555555555555556,
              "#d8576b"
             ],
             [
              0.6666666666666666,
              "#ed7953"
             ],
             [
              0.7777777777777778,
              "#fb9f3a"
             ],
             [
              0.8888888888888888,
              "#fdca26"
             ],
             [
              1,
              "#f0f921"
             ]
            ],
            "type": "heatmap"
           }
          ],
          "histogram": [
           {
            "marker": {
             "pattern": {
              "fillmode": "overlay",
              "size": 10,
              "solidity": 0.2
             }
            },
            "type": "histogram"
           }
          ],
          "histogram2d": [
           {
            "colorbar": {
             "outlinewidth": 0,
             "ticks": ""
            },
            "colorscale": [
             [
              0,
              "#0d0887"
             ],
             [
              0.1111111111111111,
              "#46039f"
             ],
             [
              0.2222222222222222,
              "#7201a8"
             ],
             [
              0.3333333333333333,
              "#9c179e"
             ],
             [
              0.4444444444444444,
              "#bd3786"
             ],
             [
              0.5555555555555556,
              "#d8576b"
             ],
             [
              0.6666666666666666,
              "#ed7953"
             ],
             [
              0.7777777777777778,
              "#fb9f3a"
             ],
             [
              0.8888888888888888,
              "#fdca26"
             ],
             [
              1,
              "#f0f921"
             ]
            ],
            "type": "histogram2d"
           }
          ],
          "histogram2dcontour": [
           {
            "colorbar": {
             "outlinewidth": 0,
             "ticks": ""
            },
            "colorscale": [
             [
              0,
              "#0d0887"
             ],
             [
              0.1111111111111111,
              "#46039f"
             ],
             [
              0.2222222222222222,
              "#7201a8"
             ],
             [
              0.3333333333333333,
              "#9c179e"
             ],
             [
              0.4444444444444444,
              "#bd3786"
             ],
             [
              0.5555555555555556,
              "#d8576b"
             ],
             [
              0.6666666666666666,
              "#ed7953"
             ],
             [
              0.7777777777777778,
              "#fb9f3a"
             ],
             [
              0.8888888888888888,
              "#fdca26"
             ],
             [
              1,
              "#f0f921"
             ]
            ],
            "type": "histogram2dcontour"
           }
          ],
          "mesh3d": [
           {
            "colorbar": {
             "outlinewidth": 0,
             "ticks": ""
            },
            "type": "mesh3d"
           }
          ],
          "parcoords": [
           {
            "line": {
             "colorbar": {
              "outlinewidth": 0,
              "ticks": ""
             }
            },
            "type": "parcoords"
           }
          ],
          "pie": [
           {
            "automargin": true,
            "type": "pie"
           }
          ],
          "scatter": [
           {
            "fillpattern": {
             "fillmode": "overlay",
             "size": 10,
             "solidity": 0.2
            },
            "type": "scatter"
           }
          ],
          "scatter3d": [
           {
            "line": {
             "colorbar": {
              "outlinewidth": 0,
              "ticks": ""
             }
            },
            "marker": {
             "colorbar": {
              "outlinewidth": 0,
              "ticks": ""
             }
            },
            "type": "scatter3d"
           }
          ],
          "scattercarpet": [
           {
            "marker": {
             "colorbar": {
              "outlinewidth": 0,
              "ticks": ""
             }
            },
            "type": "scattercarpet"
           }
          ],
          "scattergeo": [
           {
            "marker": {
             "colorbar": {
              "outlinewidth": 0,
              "ticks": ""
             }
            },
            "type": "scattergeo"
           }
          ],
          "scattergl": [
           {
            "marker": {
             "colorbar": {
              "outlinewidth": 0,
              "ticks": ""
             }
            },
            "type": "scattergl"
           }
          ],
          "scattermap": [
           {
            "marker": {
             "colorbar": {
              "outlinewidth": 0,
              "ticks": ""
             }
            },
            "type": "scattermap"
           }
          ],
          "scattermapbox": [
           {
            "marker": {
             "colorbar": {
              "outlinewidth": 0,
              "ticks": ""
             }
            },
            "type": "scattermapbox"
           }
          ],
          "scatterpolar": [
           {
            "marker": {
             "colorbar": {
              "outlinewidth": 0,
              "ticks": ""
             }
            },
            "type": "scatterpolar"
           }
          ],
          "scatterpolargl": [
           {
            "marker": {
             "colorbar": {
              "outlinewidth": 0,
              "ticks": ""
             }
            },
            "type": "scatterpolargl"
           }
          ],
          "scatterternary": [
           {
            "marker": {
             "colorbar": {
              "outlinewidth": 0,
              "ticks": ""
             }
            },
            "type": "scatterternary"
           }
          ],
          "surface": [
           {
            "colorbar": {
             "outlinewidth": 0,
             "ticks": ""
            },
            "colorscale": [
             [
              0,
              "#0d0887"
             ],
             [
              0.1111111111111111,
              "#46039f"
             ],
             [
              0.2222222222222222,
              "#7201a8"
             ],
             [
              0.3333333333333333,
              "#9c179e"
             ],
             [
              0.4444444444444444,
              "#bd3786"
             ],
             [
              0.5555555555555556,
              "#d8576b"
             ],
             [
              0.6666666666666666,
              "#ed7953"
             ],
             [
              0.7777777777777778,
              "#fb9f3a"
             ],
             [
              0.8888888888888888,
              "#fdca26"
             ],
             [
              1,
              "#f0f921"
             ]
            ],
            "type": "surface"
           }
          ],
          "table": [
           {
            "cells": {
             "fill": {
              "color": "#EBF0F8"
             },
             "line": {
              "color": "white"
             }
            },
            "header": {
             "fill": {
              "color": "#C8D4E3"
             },
             "line": {
              "color": "white"
             }
            },
            "type": "table"
           }
          ]
         },
         "layout": {
          "annotationdefaults": {
           "arrowcolor": "#2a3f5f",
           "arrowhead": 0,
           "arrowwidth": 1
          },
          "autotypenumbers": "strict",
          "coloraxis": {
           "colorbar": {
            "outlinewidth": 0,
            "ticks": ""
           }
          },
          "colorscale": {
           "diverging": [
            [
             0,
             "#8e0152"
            ],
            [
             0.1,
             "#c51b7d"
            ],
            [
             0.2,
             "#de77ae"
            ],
            [
             0.3,
             "#f1b6da"
            ],
            [
             0.4,
             "#fde0ef"
            ],
            [
             0.5,
             "#f7f7f7"
            ],
            [
             0.6,
             "#e6f5d0"
            ],
            [
             0.7,
             "#b8e186"
            ],
            [
             0.8,
             "#7fbc41"
            ],
            [
             0.9,
             "#4d9221"
            ],
            [
             1,
             "#276419"
            ]
           ],
           "sequential": [
            [
             0,
             "#0d0887"
            ],
            [
             0.1111111111111111,
             "#46039f"
            ],
            [
             0.2222222222222222,
             "#7201a8"
            ],
            [
             0.3333333333333333,
             "#9c179e"
            ],
            [
             0.4444444444444444,
             "#bd3786"
            ],
            [
             0.5555555555555556,
             "#d8576b"
            ],
            [
             0.6666666666666666,
             "#ed7953"
            ],
            [
             0.7777777777777778,
             "#fb9f3a"
            ],
            [
             0.8888888888888888,
             "#fdca26"
            ],
            [
             1,
             "#f0f921"
            ]
           ],
           "sequentialminus": [
            [
             0,
             "#0d0887"
            ],
            [
             0.1111111111111111,
             "#46039f"
            ],
            [
             0.2222222222222222,
             "#7201a8"
            ],
            [
             0.3333333333333333,
             "#9c179e"
            ],
            [
             0.4444444444444444,
             "#bd3786"
            ],
            [
             0.5555555555555556,
             "#d8576b"
            ],
            [
             0.6666666666666666,
             "#ed7953"
            ],
            [
             0.7777777777777778,
             "#fb9f3a"
            ],
            [
             0.8888888888888888,
             "#fdca26"
            ],
            [
             1,
             "#f0f921"
            ]
           ]
          },
          "colorway": [
           "#636efa",
           "#EF553B",
           "#00cc96",
           "#ab63fa",
           "#FFA15A",
           "#19d3f3",
           "#FF6692",
           "#B6E880",
           "#FF97FF",
           "#FECB52"
          ],
          "font": {
           "color": "#2a3f5f"
          },
          "geo": {
           "bgcolor": "white",
           "lakecolor": "white",
           "landcolor": "white",
           "showlakes": true,
           "showland": true,
           "subunitcolor": "#C8D4E3"
          },
          "hoverlabel": {
           "align": "left"
          },
          "hovermode": "closest",
          "mapbox": {
           "style": "light"
          },
          "paper_bgcolor": "white",
          "plot_bgcolor": "white",
          "polar": {
           "angularaxis": {
            "gridcolor": "#EBF0F8",
            "linecolor": "#EBF0F8",
            "ticks": ""
           },
           "bgcolor": "white",
           "radialaxis": {
            "gridcolor": "#EBF0F8",
            "linecolor": "#EBF0F8",
            "ticks": ""
           }
          },
          "scene": {
           "xaxis": {
            "backgroundcolor": "white",
            "gridcolor": "#DFE8F3",
            "gridwidth": 2,
            "linecolor": "#EBF0F8",
            "showbackground": true,
            "ticks": "",
            "zerolinecolor": "#EBF0F8"
           },
           "yaxis": {
            "backgroundcolor": "white",
            "gridcolor": "#DFE8F3",
            "gridwidth": 2,
            "linecolor": "#EBF0F8",
            "showbackground": true,
            "ticks": "",
            "zerolinecolor": "#EBF0F8"
           },
           "zaxis": {
            "backgroundcolor": "white",
            "gridcolor": "#DFE8F3",
            "gridwidth": 2,
            "linecolor": "#EBF0F8",
            "showbackground": true,
            "ticks": "",
            "zerolinecolor": "#EBF0F8"
           }
          },
          "shapedefaults": {
           "line": {
            "color": "#2a3f5f"
           }
          },
          "ternary": {
           "aaxis": {
            "gridcolor": "#DFE8F3",
            "linecolor": "#A2B1C6",
            "ticks": ""
           },
           "baxis": {
            "gridcolor": "#DFE8F3",
            "linecolor": "#A2B1C6",
            "ticks": ""
           },
           "bgcolor": "white",
           "caxis": {
            "gridcolor": "#DFE8F3",
            "linecolor": "#A2B1C6",
            "ticks": ""
           }
          },
          "title": {
           "x": 0.05
          },
          "xaxis": {
           "automargin": true,
           "gridcolor": "#EBF0F8",
           "linecolor": "#EBF0F8",
           "ticks": "",
           "title": {
            "standoff": 15
           },
           "zerolinecolor": "#EBF0F8",
           "zerolinewidth": 2
          },
          "yaxis": {
           "automargin": true,
           "gridcolor": "#EBF0F8",
           "linecolor": "#EBF0F8",
           "ticks": "",
           "title": {
            "standoff": 15
           },
           "zerolinecolor": "#EBF0F8",
           "zerolinewidth": 2
          }
         }
        },
        "title": {
         "text": "<b>Portfolio Performance vs. S&P500 Benchmark</b>"
        },
        "xaxis": {
         "anchor": "y",
         "domain": [
          0,
          0.94
         ],
         "rangeselector": {
          "buttons": [
           {
            "count": 1,
            "label": "1m",
            "step": "month",
            "stepmode": "backward"
           },
           {
            "count": 6,
            "label": "6m",
            "step": "month",
            "stepmode": "backward"
           },
           {
            "count": 1,
            "label": "YTD",
            "step": "year",
            "stepmode": "todate"
           },
           {
            "count": 1,
            "label": "1y",
            "step": "year",
            "stepmode": "backward"
           },
           {
            "step": "all"
           }
          ]
         },
         "rangeslider": {
          "visible": true
         },
         "title": {
          "text": "Date"
         },
         "type": "date"
        },
        "yaxis": {
         "anchor": "x",
         "domain": [
          0,
          1
         ],
         "title": {
          "text": "<b>Portfolio Value ($)</b>"
         }
        },
        "yaxis2": {
         "anchor": "x",
         "layer": "below traces",
         "overlaying": "y",
         "showgrid": false,
         "side": "right",
         "title": {
          "text": "<b>Monthly Deposit / Withdrawals ($)</b>"
         }
        }
       }
      }
     },
     "metadata": {},
     "output_type": "display_data"
    }
   ],
   "source": [
    "fig = make_subplots(specs=[[{\"secondary_y\": True}]])\n",
    "\n",
    "fig.add_trace(\n",
    "    go.Scatter(\n",
    "        x=holdings[\"Portfolio Value\"].index,\n",
    "        y=holdings[\"Portfolio Value\"][\"Value\"],\n",
    "        mode=\"lines\",\n",
    "        name=\"Personal Portfolio\",\n",
    "        line=dict(color=\"green\", width=2),\n",
    "    ),\n",
    "    secondary_y=False,\n",
    ")\n",
    "\n",
    "fig.add_trace(\n",
    "    go.Scatter(\n",
    "        x=benchmark.index,\n",
    "        y=benchmark[\"Portfolio Value\"],\n",
    "        mode=\"lines\",\n",
    "        name=\"S&P500 Benchmark\",\n",
    "        line=dict(color=\"red\", width=2),\n",
    "    ),\n",
    "    secondary_y=False,\n",
    ")\n",
    "\n",
    "fig.add_trace(\n",
    "    go.Scatter(\n",
    "        x=benchmark.index,\n",
    "        y=benchmark[\"Net Deposit\"].fillna(0).cumsum(),\n",
    "        mode=\"lines\",\n",
    "        name=\"Cumulative Net Deposits\",\n",
    "        line=dict(color=\"darkgrey\", width=1),\n",
    "    ),\n",
    "    secondary_y=False,\n",
    ")\n",
    "\n",
    "fig.add_trace(\n",
    "    go.Bar(\n",
    "        x=monthly_deposits.index,\n",
    "        y=monthly_deposits,\n",
    "        name=\"Deposits / Withdrawals\",\n",
    "        marker_color=\"royalblue\",\n",
    "        opacity=0.3,\n",
    "    ),\n",
    "    secondary_y=True,\n",
    ")\n",
    "\n",
    "fig.update_layout(\n",
    "    title_text=\"<b>Portfolio Performance vs. S&P500 Benchmark</b>\",\n",
    "    template=\"plotly_white\",\n",
    "    barmode=\"relative\",\n",
    "    legend=dict(orientation=\"h\", yanchor=\"bottom\", y=1.02, xanchor=\"right\", x=1),\n",
    "    xaxis=dict(\n",
    "        title=\"Date\",\n",
    "        rangeselector=dict(\n",
    "            buttons=list(\n",
    "                [\n",
    "                    dict(count=1, label=\"1m\", step=\"month\", stepmode=\"backward\"),\n",
    "                    dict(count=6, label=\"6m\", step=\"month\", stepmode=\"backward\"),\n",
    "                    dict(count=1, label=\"YTD\", step=\"year\", stepmode=\"todate\"),\n",
    "                    dict(count=1, label=\"1y\", step=\"year\", stepmode=\"backward\"),\n",
    "                    dict(step=\"all\"),\n",
    "                ]\n",
    "            )\n",
    "        ),\n",
    "        rangeslider=dict(visible=True),\n",
    "        type=\"date\",\n",
    "    ),\n",
    ")\n",
    "\n",
    "fig.update_yaxes(title_text=\"<b>Portfolio Value ($)</b>\", secondary_y=False)\n",
    "fig.update_yaxes(\n",
    "    title_text=\"<b>Monthly Deposit / Withdrawals ($)</b>\",\n",
    "    secondary_y=True,\n",
    "    showgrid=False,\n",
    "    layer=\"below traces\",\n",
    ")\n",
    "\n",
    "fig.show()"
   ]
  },
  {
   "cell_type": "code",
   "execution_count": 14,
   "id": "71d1141d",
   "metadata": {},
   "outputs": [
    {
     "data": {
      "application/vnd.plotly.v1+json": {
       "config": {
        "plotlyServerURL": "https://plot.ly"
       },
       "data": [
        {
         "marker": {
          "color": "mediumseagreen"
         },
         "name": "My Portfolio Income",
         "type": "bar",
         "x": [
          "2023-03-31T00:00:00",
          "2023-04-30T00:00:00",
          "2023-05-31T00:00:00",
          "2023-06-30T00:00:00",
          "2023-07-31T00:00:00",
          "2023-08-31T00:00:00",
          "2023-09-30T00:00:00",
          "2023-10-31T00:00:00",
          "2023-11-30T00:00:00",
          "2023-12-31T00:00:00",
          "2024-01-31T00:00:00",
          "2024-02-29T00:00:00",
          "2024-03-31T00:00:00",
          "2024-04-30T00:00:00",
          "2024-05-31T00:00:00",
          "2024-06-30T00:00:00",
          "2024-07-31T00:00:00",
          "2024-08-31T00:00:00",
          "2024-09-30T00:00:00",
          "2024-10-31T00:00:00",
          "2024-11-30T00:00:00",
          "2024-12-31T00:00:00",
          "2025-01-31T00:00:00",
          "2025-02-28T00:00:00",
          "2025-03-31T00:00:00",
          "2025-04-30T00:00:00",
          "2025-05-31T00:00:00",
          "2025-06-30T00:00:00",
          "2025-07-31T00:00:00"
         ],
         "y": {
          "bdata": "uB6F61G4zj8AAAAAAAAAAAAAAAAAAAAAAAAAAAAAAADXo3A9CtfTPwAAAAAAAAAAPgrXo3A92j+kcD0K16PwP8P1KFyPwu0/XI/C9ShcFEDhehSuR+EGQNejcD0K1/M/SOF6FK5HBUDiehSuR+EQQDQzMzMzM/M/mpmZmZmZFkBI4XoUrkcNQJDC9Shcj/I/kML1KFyPCkDNzMzMzMwKQBSuR+F6FPY/AAAAAAAAGkB7FK5H4XoCQDMzMzMzM/s/AAAAAAAAFkBmZmZmZmYCQEjhehSuR/k/CtejcD0KEEAehetRuB4BQA==",
          "dtype": "f8"
         }
        },
        {
         "marker": {
          "color": "grey"
         },
         "name": "VOO Benchmark Income",
         "type": "bar",
         "x": [
          "2023-02-28T00:00:00",
          "2023-03-31T00:00:00",
          "2023-04-30T00:00:00",
          "2023-05-31T00:00:00",
          "2023-06-30T00:00:00",
          "2023-07-31T00:00:00",
          "2023-08-31T00:00:00",
          "2023-09-30T00:00:00",
          "2023-10-31T00:00:00",
          "2023-11-30T00:00:00",
          "2023-12-31T00:00:00",
          "2024-01-31T00:00:00",
          "2024-02-29T00:00:00",
          "2024-03-31T00:00:00",
          "2024-04-30T00:00:00",
          "2024-05-31T00:00:00",
          "2024-06-30T00:00:00",
          "2024-07-31T00:00:00",
          "2024-08-31T00:00:00",
          "2024-09-30T00:00:00",
          "2024-10-31T00:00:00",
          "2024-11-30T00:00:00",
          "2024-12-31T00:00:00",
          "2025-01-31T00:00:00",
          "2025-02-28T00:00:00",
          "2025-03-31T00:00:00",
          "2025-04-30T00:00:00",
          "2025-05-31T00:00:00",
          "2025-06-30T00:00:00",
          "2025-07-31T00:00:00",
          "2025-08-31T00:00:00"
         ],
         "y": {
          "bdata": "AAAAAAAAAADkdFa7SAbpPwAAAAAAAAAAAAAAAAAAAACR30OetoXqPwAAAAAAAAAAAAAAAAAAAABJnQytiqcHQAAAAAAAAAAAAAAAAAAAAABjT82lSnQTQAAAAAAAAAAAAAAAAAAAAADJkBuavjgVQAAAAAAAAAAAAAAAAAAAAAAk9q6gsH8bQAAAAAAAAAAAAAAAAAAAAAA1XowUN9ARQAAAAAAAAAAAAAAAAAAAAADul80g9K4TQAAAAAAAAAAAAAAAAAAAAACzYVvwqJ4ZQAAAAAAAAAAAAAAAAAAAAADltW4XMzYaQAAAAAAAAAAAAAAAAAAAAAA=",
          "dtype": "f8"
         }
        }
       ],
       "layout": {
        "barmode": "group",
        "legend": {
         "orientation": "h",
         "x": 1,
         "xanchor": "right",
         "y": 1.02,
         "yanchor": "bottom"
        },
        "template": {
         "data": {
          "bar": [
           {
            "error_x": {
             "color": "#2a3f5f"
            },
            "error_y": {
             "color": "#2a3f5f"
            },
            "marker": {
             "line": {
              "color": "white",
              "width": 0.5
             },
             "pattern": {
              "fillmode": "overlay",
              "size": 10,
              "solidity": 0.2
             }
            },
            "type": "bar"
           }
          ],
          "barpolar": [
           {
            "marker": {
             "line": {
              "color": "white",
              "width": 0.5
             },
             "pattern": {
              "fillmode": "overlay",
              "size": 10,
              "solidity": 0.2
             }
            },
            "type": "barpolar"
           }
          ],
          "carpet": [
           {
            "aaxis": {
             "endlinecolor": "#2a3f5f",
             "gridcolor": "#C8D4E3",
             "linecolor": "#C8D4E3",
             "minorgridcolor": "#C8D4E3",
             "startlinecolor": "#2a3f5f"
            },
            "baxis": {
             "endlinecolor": "#2a3f5f",
             "gridcolor": "#C8D4E3",
             "linecolor": "#C8D4E3",
             "minorgridcolor": "#C8D4E3",
             "startlinecolor": "#2a3f5f"
            },
            "type": "carpet"
           }
          ],
          "choropleth": [
           {
            "colorbar": {
             "outlinewidth": 0,
             "ticks": ""
            },
            "type": "choropleth"
           }
          ],
          "contour": [
           {
            "colorbar": {
             "outlinewidth": 0,
             "ticks": ""
            },
            "colorscale": [
             [
              0,
              "#0d0887"
             ],
             [
              0.1111111111111111,
              "#46039f"
             ],
             [
              0.2222222222222222,
              "#7201a8"
             ],
             [
              0.3333333333333333,
              "#9c179e"
             ],
             [
              0.4444444444444444,
              "#bd3786"
             ],
             [
              0.5555555555555556,
              "#d8576b"
             ],
             [
              0.6666666666666666,
              "#ed7953"
             ],
             [
              0.7777777777777778,
              "#fb9f3a"
             ],
             [
              0.8888888888888888,
              "#fdca26"
             ],
             [
              1,
              "#f0f921"
             ]
            ],
            "type": "contour"
           }
          ],
          "contourcarpet": [
           {
            "colorbar": {
             "outlinewidth": 0,
             "ticks": ""
            },
            "type": "contourcarpet"
           }
          ],
          "heatmap": [
           {
            "colorbar": {
             "outlinewidth": 0,
             "ticks": ""
            },
            "colorscale": [
             [
              0,
              "#0d0887"
             ],
             [
              0.1111111111111111,
              "#46039f"
             ],
             [
              0.2222222222222222,
              "#7201a8"
             ],
             [
              0.3333333333333333,
              "#9c179e"
             ],
             [
              0.4444444444444444,
              "#bd3786"
             ],
             [
              0.5555555555555556,
              "#d8576b"
             ],
             [
              0.6666666666666666,
              "#ed7953"
             ],
             [
              0.7777777777777778,
              "#fb9f3a"
             ],
             [
              0.8888888888888888,
              "#fdca26"
             ],
             [
              1,
              "#f0f921"
             ]
            ],
            "type": "heatmap"
           }
          ],
          "histogram": [
           {
            "marker": {
             "pattern": {
              "fillmode": "overlay",
              "size": 10,
              "solidity": 0.2
             }
            },
            "type": "histogram"
           }
          ],
          "histogram2d": [
           {
            "colorbar": {
             "outlinewidth": 0,
             "ticks": ""
            },
            "colorscale": [
             [
              0,
              "#0d0887"
             ],
             [
              0.1111111111111111,
              "#46039f"
             ],
             [
              0.2222222222222222,
              "#7201a8"
             ],
             [
              0.3333333333333333,
              "#9c179e"
             ],
             [
              0.4444444444444444,
              "#bd3786"
             ],
             [
              0.5555555555555556,
              "#d8576b"
             ],
             [
              0.6666666666666666,
              "#ed7953"
             ],
             [
              0.7777777777777778,
              "#fb9f3a"
             ],
             [
              0.8888888888888888,
              "#fdca26"
             ],
             [
              1,
              "#f0f921"
             ]
            ],
            "type": "histogram2d"
           }
          ],
          "histogram2dcontour": [
           {
            "colorbar": {
             "outlinewidth": 0,
             "ticks": ""
            },
            "colorscale": [
             [
              0,
              "#0d0887"
             ],
             [
              0.1111111111111111,
              "#46039f"
             ],
             [
              0.2222222222222222,
              "#7201a8"
             ],
             [
              0.3333333333333333,
              "#9c179e"
             ],
             [
              0.4444444444444444,
              "#bd3786"
             ],
             [
              0.5555555555555556,
              "#d8576b"
             ],
             [
              0.6666666666666666,
              "#ed7953"
             ],
             [
              0.7777777777777778,
              "#fb9f3a"
             ],
             [
              0.8888888888888888,
              "#fdca26"
             ],
             [
              1,
              "#f0f921"
             ]
            ],
            "type": "histogram2dcontour"
           }
          ],
          "mesh3d": [
           {
            "colorbar": {
             "outlinewidth": 0,
             "ticks": ""
            },
            "type": "mesh3d"
           }
          ],
          "parcoords": [
           {
            "line": {
             "colorbar": {
              "outlinewidth": 0,
              "ticks": ""
             }
            },
            "type": "parcoords"
           }
          ],
          "pie": [
           {
            "automargin": true,
            "type": "pie"
           }
          ],
          "scatter": [
           {
            "fillpattern": {
             "fillmode": "overlay",
             "size": 10,
             "solidity": 0.2
            },
            "type": "scatter"
           }
          ],
          "scatter3d": [
           {
            "line": {
             "colorbar": {
              "outlinewidth": 0,
              "ticks": ""
             }
            },
            "marker": {
             "colorbar": {
              "outlinewidth": 0,
              "ticks": ""
             }
            },
            "type": "scatter3d"
           }
          ],
          "scattercarpet": [
           {
            "marker": {
             "colorbar": {
              "outlinewidth": 0,
              "ticks": ""
             }
            },
            "type": "scattercarpet"
           }
          ],
          "scattergeo": [
           {
            "marker": {
             "colorbar": {
              "outlinewidth": 0,
              "ticks": ""
             }
            },
            "type": "scattergeo"
           }
          ],
          "scattergl": [
           {
            "marker": {
             "colorbar": {
              "outlinewidth": 0,
              "ticks": ""
             }
            },
            "type": "scattergl"
           }
          ],
          "scattermap": [
           {
            "marker": {
             "colorbar": {
              "outlinewidth": 0,
              "ticks": ""
             }
            },
            "type": "scattermap"
           }
          ],
          "scattermapbox": [
           {
            "marker": {
             "colorbar": {
              "outlinewidth": 0,
              "ticks": ""
             }
            },
            "type": "scattermapbox"
           }
          ],
          "scatterpolar": [
           {
            "marker": {
             "colorbar": {
              "outlinewidth": 0,
              "ticks": ""
             }
            },
            "type": "scatterpolar"
           }
          ],
          "scatterpolargl": [
           {
            "marker": {
             "colorbar": {
              "outlinewidth": 0,
              "ticks": ""
             }
            },
            "type": "scatterpolargl"
           }
          ],
          "scatterternary": [
           {
            "marker": {
             "colorbar": {
              "outlinewidth": 0,
              "ticks": ""
             }
            },
            "type": "scatterternary"
           }
          ],
          "surface": [
           {
            "colorbar": {
             "outlinewidth": 0,
             "ticks": ""
            },
            "colorscale": [
             [
              0,
              "#0d0887"
             ],
             [
              0.1111111111111111,
              "#46039f"
             ],
             [
              0.2222222222222222,
              "#7201a8"
             ],
             [
              0.3333333333333333,
              "#9c179e"
             ],
             [
              0.4444444444444444,
              "#bd3786"
             ],
             [
              0.5555555555555556,
              "#d8576b"
             ],
             [
              0.6666666666666666,
              "#ed7953"
             ],
             [
              0.7777777777777778,
              "#fb9f3a"
             ],
             [
              0.8888888888888888,
              "#fdca26"
             ],
             [
              1,
              "#f0f921"
             ]
            ],
            "type": "surface"
           }
          ],
          "table": [
           {
            "cells": {
             "fill": {
              "color": "#EBF0F8"
             },
             "line": {
              "color": "white"
             }
            },
            "header": {
             "fill": {
              "color": "#C8D4E3"
             },
             "line": {
              "color": "white"
             }
            },
            "type": "table"
           }
          ]
         },
         "layout": {
          "annotationdefaults": {
           "arrowcolor": "#2a3f5f",
           "arrowhead": 0,
           "arrowwidth": 1
          },
          "autotypenumbers": "strict",
          "coloraxis": {
           "colorbar": {
            "outlinewidth": 0,
            "ticks": ""
           }
          },
          "colorscale": {
           "diverging": [
            [
             0,
             "#8e0152"
            ],
            [
             0.1,
             "#c51b7d"
            ],
            [
             0.2,
             "#de77ae"
            ],
            [
             0.3,
             "#f1b6da"
            ],
            [
             0.4,
             "#fde0ef"
            ],
            [
             0.5,
             "#f7f7f7"
            ],
            [
             0.6,
             "#e6f5d0"
            ],
            [
             0.7,
             "#b8e186"
            ],
            [
             0.8,
             "#7fbc41"
            ],
            [
             0.9,
             "#4d9221"
            ],
            [
             1,
             "#276419"
            ]
           ],
           "sequential": [
            [
             0,
             "#0d0887"
            ],
            [
             0.1111111111111111,
             "#46039f"
            ],
            [
             0.2222222222222222,
             "#7201a8"
            ],
            [
             0.3333333333333333,
             "#9c179e"
            ],
            [
             0.4444444444444444,
             "#bd3786"
            ],
            [
             0.5555555555555556,
             "#d8576b"
            ],
            [
             0.6666666666666666,
             "#ed7953"
            ],
            [
             0.7777777777777778,
             "#fb9f3a"
            ],
            [
             0.8888888888888888,
             "#fdca26"
            ],
            [
             1,
             "#f0f921"
            ]
           ],
           "sequentialminus": [
            [
             0,
             "#0d0887"
            ],
            [
             0.1111111111111111,
             "#46039f"
            ],
            [
             0.2222222222222222,
             "#7201a8"
            ],
            [
             0.3333333333333333,
             "#9c179e"
            ],
            [
             0.4444444444444444,
             "#bd3786"
            ],
            [
             0.5555555555555556,
             "#d8576b"
            ],
            [
             0.6666666666666666,
             "#ed7953"
            ],
            [
             0.7777777777777778,
             "#fb9f3a"
            ],
            [
             0.8888888888888888,
             "#fdca26"
            ],
            [
             1,
             "#f0f921"
            ]
           ]
          },
          "colorway": [
           "#636efa",
           "#EF553B",
           "#00cc96",
           "#ab63fa",
           "#FFA15A",
           "#19d3f3",
           "#FF6692",
           "#B6E880",
           "#FF97FF",
           "#FECB52"
          ],
          "font": {
           "color": "#2a3f5f"
          },
          "geo": {
           "bgcolor": "white",
           "lakecolor": "white",
           "landcolor": "white",
           "showlakes": true,
           "showland": true,
           "subunitcolor": "#C8D4E3"
          },
          "hoverlabel": {
           "align": "left"
          },
          "hovermode": "closest",
          "mapbox": {
           "style": "light"
          },
          "paper_bgcolor": "white",
          "plot_bgcolor": "white",
          "polar": {
           "angularaxis": {
            "gridcolor": "#EBF0F8",
            "linecolor": "#EBF0F8",
            "ticks": ""
           },
           "bgcolor": "white",
           "radialaxis": {
            "gridcolor": "#EBF0F8",
            "linecolor": "#EBF0F8",
            "ticks": ""
           }
          },
          "scene": {
           "xaxis": {
            "backgroundcolor": "white",
            "gridcolor": "#DFE8F3",
            "gridwidth": 2,
            "linecolor": "#EBF0F8",
            "showbackground": true,
            "ticks": "",
            "zerolinecolor": "#EBF0F8"
           },
           "yaxis": {
            "backgroundcolor": "white",
            "gridcolor": "#DFE8F3",
            "gridwidth": 2,
            "linecolor": "#EBF0F8",
            "showbackground": true,
            "ticks": "",
            "zerolinecolor": "#EBF0F8"
           },
           "zaxis": {
            "backgroundcolor": "white",
            "gridcolor": "#DFE8F3",
            "gridwidth": 2,
            "linecolor": "#EBF0F8",
            "showbackground": true,
            "ticks": "",
            "zerolinecolor": "#EBF0F8"
           }
          },
          "shapedefaults": {
           "line": {
            "color": "#2a3f5f"
           }
          },
          "ternary": {
           "aaxis": {
            "gridcolor": "#DFE8F3",
            "linecolor": "#A2B1C6",
            "ticks": ""
           },
           "baxis": {
            "gridcolor": "#DFE8F3",
            "linecolor": "#A2B1C6",
            "ticks": ""
           },
           "bgcolor": "white",
           "caxis": {
            "gridcolor": "#DFE8F3",
            "linecolor": "#A2B1C6",
            "ticks": ""
           }
          },
          "title": {
           "x": 0.05
          },
          "xaxis": {
           "automargin": true,
           "gridcolor": "#EBF0F8",
           "linecolor": "#EBF0F8",
           "ticks": "",
           "title": {
            "standoff": 15
           },
           "zerolinecolor": "#EBF0F8",
           "zerolinewidth": 2
          },
          "yaxis": {
           "automargin": true,
           "gridcolor": "#EBF0F8",
           "linecolor": "#EBF0F8",
           "ticks": "",
           "title": {
            "standoff": 15
           },
           "zerolinecolor": "#EBF0F8",
           "zerolinewidth": 2
          }
         }
        },
        "title": {
         "text": "<b>Monthly Income Comparison: My Portfolio vs. VOO</b>"
        },
        "xaxis": {
         "title": {
          "text": "Date"
         }
        },
        "yaxis": {
         "title": {
          "text": "Net Income ($)"
         }
        }
       }
      }
     },
     "metadata": {},
     "output_type": "display_data"
    }
   ],
   "source": [
    "fig_income_comp = go.Figure()\n",
    "\n",
    "fig_income_comp.add_trace(\n",
    "    go.Bar(\n",
    "        x=monthly_income.index,\n",
    "        y=monthly_income,\n",
    "        name=\"My Portfolio Income\",\n",
    "        marker_color=\"mediumseagreen\",\n",
    "    )\n",
    ")\n",
    "\n",
    "fig_income_comp.add_trace(\n",
    "    go.Bar(\n",
    "        x=monthly_benchmark_income.index,\n",
    "        y=monthly_benchmark_income,\n",
    "        name=\"VOO Benchmark Income\",\n",
    "        marker_color=\"grey\",\n",
    "    )\n",
    ")\n",
    "\n",
    "fig_income_comp.update_layout(\n",
    "    title_text=\"<b>Monthly Income Comparison: My Portfolio vs. VOO</b>\",\n",
    "    template=\"plotly_white\",\n",
    "    barmode=\"group\", \n",
    "    xaxis_title=\"Date\",\n",
    "    yaxis_title=\"Net Income ($)\",\n",
    "    legend=dict(orientation=\"h\", yanchor=\"bottom\", y=1.02, xanchor=\"right\", x=1),\n",
    ")\n",
    "\n",
    "fig_income_comp.show()"
   ]
  },
  {
   "cell_type": "code",
   "execution_count": 15,
   "id": "b19095c3",
   "metadata": {},
   "outputs": [
    {
     "data": {
      "application/vnd.microsoft.datawrangler.viewer.v0+json": {
       "columns": [
        {
         "name": "index",
         "rawType": "object",
         "type": "string"
        },
        {
         "name": "ADBE",
         "rawType": "object",
         "type": "string"
        },
        {
         "name": "AMZN",
         "rawType": "object",
         "type": "string"
        },
        {
         "name": "APO",
         "rawType": "object",
         "type": "string"
        },
        {
         "name": "ARKK",
         "rawType": "object",
         "type": "string"
        },
        {
         "name": "ARM",
         "rawType": "object",
         "type": "string"
        },
        {
         "name": "BA",
         "rawType": "object",
         "type": "string"
        },
        {
         "name": "BKNG",
         "rawType": "object",
         "type": "string"
        },
        {
         "name": "BRK-B",
         "rawType": "object",
         "type": "string"
        },
        {
         "name": "BRW",
         "rawType": "object",
         "type": "string"
        },
        {
         "name": "BTC-USD",
         "rawType": "object",
         "type": "string"
        },
        {
         "name": "BX",
         "rawType": "object",
         "type": "string"
        },
        {
         "name": "CAT",
         "rawType": "object",
         "type": "string"
        },
        {
         "name": "CEFS",
         "rawType": "object",
         "type": "string"
        },
        {
         "name": "CLM",
         "rawType": "object",
         "type": "string"
        },
        {
         "name": "COIN",
         "rawType": "object",
         "type": "string"
        },
        {
         "name": "DE",
         "rawType": "object",
         "type": "string"
        },
        {
         "name": "EL",
         "rawType": "object",
         "type": "string"
        },
        {
         "name": "EWJ",
         "rawType": "object",
         "type": "string"
        },
        {
         "name": "GOF",
         "rawType": "object",
         "type": "string"
        },
        {
         "name": "GSBD",
         "rawType": "object",
         "type": "string"
        },
        {
         "name": "IBB",
         "rawType": "object",
         "type": "string"
        },
        {
         "name": "IJR",
         "rawType": "object",
         "type": "string"
        },
        {
         "name": "INDA",
         "rawType": "object",
         "type": "string"
        },
        {
         "name": "IPO",
         "rawType": "object",
         "type": "string"
        },
        {
         "name": "JPMB",
         "rawType": "object",
         "type": "string"
        },
        {
         "name": "KKR",
         "rawType": "object",
         "type": "string"
        },
        {
         "name": "KSA",
         "rawType": "object",
         "type": "string"
        },
        {
         "name": "LLY",
         "rawType": "object",
         "type": "string"
        },
        {
         "name": "LUX",
         "rawType": "object",
         "type": "string"
        },
        {
         "name": "MBB",
         "rawType": "object",
         "type": "string"
        },
        {
         "name": "MCHI",
         "rawType": "object",
         "type": "string"
        },
        {
         "name": "META",
         "rawType": "object",
         "type": "string"
        },
        {
         "name": "MOAT",
         "rawType": "object",
         "type": "string"
        },
        {
         "name": "MSFT",
         "rawType": "object",
         "type": "string"
        },
        {
         "name": "NOBL",
         "rawType": "object",
         "type": "string"
        },
        {
         "name": "NVDA",
         "rawType": "object",
         "type": "string"
        },
        {
         "name": "NVO",
         "rawType": "object",
         "type": "string"
        },
        {
         "name": "OCSL",
         "rawType": "object",
         "type": "string"
        },
        {
         "name": "PAK",
         "rawType": "object",
         "type": "string"
        },
        {
         "name": "PERI",
         "rawType": "object",
         "type": "string"
        },
        {
         "name": "ROM",
         "rawType": "object",
         "type": "string"
        },
        {
         "name": "RYAAY",
         "rawType": "object",
         "type": "string"
        },
        {
         "name": "SHOP",
         "rawType": "object",
         "type": "string"
        },
        {
         "name": "SMOT",
         "rawType": "object",
         "type": "string"
        },
        {
         "name": "SPHY",
         "rawType": "object",
         "type": "string"
        },
        {
         "name": "SPSM",
         "rawType": "object",
         "type": "string"
        },
        {
         "name": "SPXL",
         "rawType": "object",
         "type": "string"
        },
        {
         "name": "SPY",
         "rawType": "object",
         "type": "string"
        },
        {
         "name": "STIP",
         "rawType": "object",
         "type": "string"
        },
        {
         "name": "TPVG",
         "rawType": "object",
         "type": "string"
        },
        {
         "name": "TQQQ",
         "rawType": "object",
         "type": "string"
        },
        {
         "name": "TSLA",
         "rawType": "object",
         "type": "string"
        },
        {
         "name": "UAE",
         "rawType": "object",
         "type": "string"
        },
        {
         "name": "USRT",
         "rawType": "object",
         "type": "string"
        },
        {
         "name": "VBK",
         "rawType": "object",
         "type": "string"
        },
        {
         "name": "VHT",
         "rawType": "object",
         "type": "string"
        },
        {
         "name": "VOO",
         "rawType": "object",
         "type": "string"
        },
        {
         "name": "VOOG",
         "rawType": "object",
         "type": "string"
        },
        {
         "name": "VXUS",
         "rawType": "object",
         "type": "string"
        },
        {
         "name": "XLF",
         "rawType": "object",
         "type": "string"
        },
        {
         "name": "XLK",
         "rawType": "object",
         "type": "string"
        },
        {
         "name": "XLV",
         "rawType": "object",
         "type": "string"
        }
       ],
       "ref": "8ee8e12e-e0d3-467a-9f9f-de5702515bcb",
       "rows": [
        [
         "Industry",
         "Software - Application",
         "Internet Retail",
         "Asset Management",
         "N/A",
         "Semiconductors",
         "Aerospace & Defense",
         "Travel Services",
         "Insurance - Diversified",
         "Asset Management",
         "N/A",
         "Asset Management",
         "Farm & Heavy Construction Machinery",
         "N/A",
         "Asset Management",
         "Financial Data & Stock Exchanges",
         "Farm & Heavy Construction Machinery",
         "Household & Personal Products",
         "N/A",
         "Asset Management",
         "Asset Management",
         "N/A",
         "N/A",
         "N/A",
         "N/A",
         "N/A",
         "Asset Management",
         "N/A",
         "Drug Manufacturers - General",
         "N/A",
         "N/A",
         "N/A",
         "Internet Content & Information",
         "N/A",
         "Software - Infrastructure",
         "N/A",
         "Semiconductors",
         "Drug Manufacturers - General",
         "Asset Management",
         "N/A",
         "Internet Content & Information",
         "N/A",
         "Airlines",
         "Software - Application",
         "N/A",
         "N/A",
         "N/A",
         "N/A",
         "N/A",
         "N/A",
         "Asset Management",
         "N/A",
         "Auto Manufacturers",
         "N/A",
         "N/A",
         "N/A",
         "N/A",
         "N/A",
         "N/A",
         "N/A",
         "N/A",
         "N/A",
         "N/A"
        ],
        [
         "Sector",
         "Technology",
         "Consumer Cyclical",
         "Financial Services",
         "N/A",
         "Technology",
         "Industrials",
         "Consumer Cyclical",
         "Financial Services",
         "Financial Services",
         "N/A",
         "Financial Services",
         "Industrials",
         "N/A",
         "Financial Services",
         "Financial Services",
         "Industrials",
         "Consumer Defensive",
         "N/A",
         "Financial Services",
         "Financial Services",
         "N/A",
         "N/A",
         "N/A",
         "N/A",
         "N/A",
         "Financial Services",
         "N/A",
         "Healthcare",
         "N/A",
         "N/A",
         "N/A",
         "Communication Services",
         "N/A",
         "Technology",
         "N/A",
         "Technology",
         "Healthcare",
         "Financial Services",
         "N/A",
         "Communication Services",
         "N/A",
         "Industrials",
         "Technology",
         "N/A",
         "N/A",
         "N/A",
         "N/A",
         "N/A",
         "N/A",
         "Financial Services",
         "N/A",
         "Consumer Cyclical",
         "N/A",
         "N/A",
         "N/A",
         "N/A",
         "N/A",
         "N/A",
         "N/A",
         "N/A",
         "N/A",
         "N/A"
        ]
       ],
       "shape": {
        "columns": 62,
        "rows": 2
       }
      },
      "text/html": [
       "<div>\n",
       "<style scoped>\n",
       "    .dataframe tbody tr th:only-of-type {\n",
       "        vertical-align: middle;\n",
       "    }\n",
       "\n",
       "    .dataframe tbody tr th {\n",
       "        vertical-align: top;\n",
       "    }\n",
       "\n",
       "    .dataframe thead th {\n",
       "        text-align: right;\n",
       "    }\n",
       "</style>\n",
       "<table border=\"1\" class=\"dataframe\">\n",
       "  <thead>\n",
       "    <tr style=\"text-align: right;\">\n",
       "      <th></th>\n",
       "      <th>ADBE</th>\n",
       "      <th>AMZN</th>\n",
       "      <th>APO</th>\n",
       "      <th>ARKK</th>\n",
       "      <th>ARM</th>\n",
       "      <th>BA</th>\n",
       "      <th>BKNG</th>\n",
       "      <th>BRK-B</th>\n",
       "      <th>BRW</th>\n",
       "      <th>BTC-USD</th>\n",
       "      <th>...</th>\n",
       "      <th>UAE</th>\n",
       "      <th>USRT</th>\n",
       "      <th>VBK</th>\n",
       "      <th>VHT</th>\n",
       "      <th>VOO</th>\n",
       "      <th>VOOG</th>\n",
       "      <th>VXUS</th>\n",
       "      <th>XLF</th>\n",
       "      <th>XLK</th>\n",
       "      <th>XLV</th>\n",
       "    </tr>\n",
       "  </thead>\n",
       "  <tbody>\n",
       "    <tr>\n",
       "      <th>Industry</th>\n",
       "      <td>Software - Application</td>\n",
       "      <td>Internet Retail</td>\n",
       "      <td>Asset Management</td>\n",
       "      <td>N/A</td>\n",
       "      <td>Semiconductors</td>\n",
       "      <td>Aerospace &amp; Defense</td>\n",
       "      <td>Travel Services</td>\n",
       "      <td>Insurance - Diversified</td>\n",
       "      <td>Asset Management</td>\n",
       "      <td>N/A</td>\n",
       "      <td>...</td>\n",
       "      <td>N/A</td>\n",
       "      <td>N/A</td>\n",
       "      <td>N/A</td>\n",
       "      <td>N/A</td>\n",
       "      <td>N/A</td>\n",
       "      <td>N/A</td>\n",
       "      <td>N/A</td>\n",
       "      <td>N/A</td>\n",
       "      <td>N/A</td>\n",
       "      <td>N/A</td>\n",
       "    </tr>\n",
       "    <tr>\n",
       "      <th>Sector</th>\n",
       "      <td>Technology</td>\n",
       "      <td>Consumer Cyclical</td>\n",
       "      <td>Financial Services</td>\n",
       "      <td>N/A</td>\n",
       "      <td>Technology</td>\n",
       "      <td>Industrials</td>\n",
       "      <td>Consumer Cyclical</td>\n",
       "      <td>Financial Services</td>\n",
       "      <td>Financial Services</td>\n",
       "      <td>N/A</td>\n",
       "      <td>...</td>\n",
       "      <td>N/A</td>\n",
       "      <td>N/A</td>\n",
       "      <td>N/A</td>\n",
       "      <td>N/A</td>\n",
       "      <td>N/A</td>\n",
       "      <td>N/A</td>\n",
       "      <td>N/A</td>\n",
       "      <td>N/A</td>\n",
       "      <td>N/A</td>\n",
       "      <td>N/A</td>\n",
       "    </tr>\n",
       "  </tbody>\n",
       "</table>\n",
       "<p>2 rows × 62 columns</p>\n",
       "</div>"
      ],
      "text/plain": [
       "                            ADBE               AMZN                 APO ARKK  \\\n",
       "Industry  Software - Application    Internet Retail    Asset Management  N/A   \n",
       "Sector                Technology  Consumer Cyclical  Financial Services  N/A   \n",
       "\n",
       "                     ARM                   BA               BKNG  \\\n",
       "Industry  Semiconductors  Aerospace & Defense    Travel Services   \n",
       "Sector        Technology          Industrials  Consumer Cyclical   \n",
       "\n",
       "                            BRK-B                 BRW BTC-USD  ...  UAE USRT  \\\n",
       "Industry  Insurance - Diversified    Asset Management     N/A  ...  N/A  N/A   \n",
       "Sector         Financial Services  Financial Services     N/A  ...  N/A  N/A   \n",
       "\n",
       "          VBK  VHT  VOO VOOG VXUS  XLF  XLK  XLV  \n",
       "Industry  N/A  N/A  N/A  N/A  N/A  N/A  N/A  N/A  \n",
       "Sector    N/A  N/A  N/A  N/A  N/A  N/A  N/A  N/A  \n",
       "\n",
       "[2 rows x 62 columns]"
      ]
     },
     "execution_count": 15,
     "metadata": {},
     "output_type": "execute_result"
    }
   ],
   "source": [
    "pd.DataFrame(holdings[\"Ticker Info\"])"
   ]
  }
 ],
 "metadata": {
  "kernelspec": {
   "display_name": "Developer (3.13.5)",
   "language": "python",
   "name": "python3"
  },
  "language_info": {
   "codemirror_mode": {
    "name": "ipython",
    "version": 3
   },
   "file_extension": ".py",
   "mimetype": "text/x-python",
   "name": "python",
   "nbconvert_exporter": "python",
   "pygments_lexer": "ipython3",
   "version": "3.13.5"
  }
 },
 "nbformat": 4,
 "nbformat_minor": 5
}
