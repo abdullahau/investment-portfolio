{
 "cells": [
  {
   "cell_type": "code",
   "execution_count": 1,
   "id": "ffa1c74a",
   "metadata": {},
   "outputs": [],
   "source": [
    "import pandas as pd\n",
    "import sys\n",
    "from pathlib import Path\n",
    "\n",
    "sys.path.append(str(Path.cwd().parent))\n",
    "import config\n",
    "\n",
    "transaction_log = pd.read_csv(config.INPUT_DATA_DIR / \"us_mkt_transactions.csv\")"
   ]
  },
  {
   "cell_type": "code",
   "execution_count": 2,
   "id": "cda70c26",
   "metadata": {},
   "outputs": [
    {
     "data": {
      "text/plain": [
       "array(['Net Deposit', 'buy', 'Net Dividend', 'sell',\n",
       "       'Qualified interest income reallocation for 2023',\n",
       "       'Credit/Margin Interest', 'Merger/Acquisition', 'Stock Split',\n",
       "       'High-Yield Cash Sweep'], dtype=object)"
      ]
     },
     "execution_count": 2,
     "metadata": {},
     "output_type": "execute_result"
    }
   ],
   "source": [
    "# All 'Types'\n",
    "transaction_log[\"Type\"].unique()"
   ]
  },
  {
   "cell_type": "code",
   "execution_count": 3,
   "id": "6e2562d2",
   "metadata": {},
   "outputs": [
    {
     "data": {
      "application/vnd.microsoft.datawrangler.viewer.v0+json": {
       "columns": [
        {
         "name": "Symbol",
         "rawType": "object",
         "type": "string"
        },
        {
         "name": "Quantity",
         "rawType": "float64",
         "type": "float"
        }
       ],
       "ref": "ee8e512e-99e2-4b9f-8adf-7f955986e640",
       "rows": [
        [
         "ADBE",
         "0.0"
        ],
        [
         "AMZN",
         "0.149979775"
        ],
        [
         "APO",
         "0.534728857"
        ],
        [
         "ARKK",
         "0.0"
        ],
        [
         "ARM",
         "0.080825933"
        ],
        [
         "BA",
         "0.0"
        ],
        [
         "BKNG",
         "0.0"
        ],
        [
         "BRK-B",
         "0.124"
        ],
        [
         "BRW",
         "4.707717967"
        ],
        [
         "BTC-USD",
         "0.0003242"
        ],
        [
         "BX",
         "0.3258"
        ],
        [
         "CAT",
         "-0.0"
        ],
        [
         "CEFS",
         "1.114267148"
        ],
        [
         "CLM",
         "2.816941083"
        ],
        [
         "COIN",
         "-0.0"
        ],
        [
         "DE",
         "0.0"
        ],
        [
         "EL",
         "0.0"
        ],
        [
         "EWJ",
         "0.0"
        ],
        [
         "GOF",
         "3.0"
        ],
        [
         "GSBD",
         "2.436460888"
        ],
        [
         "IBB",
         "0.047021696"
        ],
        [
         "IJR",
         "0.22721489"
        ],
        [
         "INDA",
         "0.877661151"
        ],
        [
         "IPO",
         "1.288475687"
        ],
        [
         "JPMB",
         "1.688699255"
        ],
        [
         "KKR",
         "0.378201587"
        ],
        [
         "KSA",
         "0.0"
        ],
        [
         "LLY",
         "0.062060405"
        ],
        [
         "LUX",
         "2.0"
        ],
        [
         "MBB",
         "0.0"
        ],
        [
         "MCHI",
         "0.0"
        ],
        [
         "META",
         "0.138582491"
        ],
        [
         "MOAT",
         "1.399620641"
        ],
        [
         "MSFT",
         "0.255834079"
        ],
        [
         "NOBL",
         "0.0"
        ],
        [
         "NVDA",
         "0.250397111"
        ],
        [
         "NVO",
         "0.0"
        ],
        [
         "OCSL",
         "1.042268639"
        ],
        [
         "PAK",
         "0.0"
        ],
        [
         "PERI",
         "0.0"
        ],
        [
         "ROM",
         "0.0"
        ],
        [
         "RYAAY",
         "0.315592808"
        ],
        [
         "SHOP",
         "0.0"
        ],
        [
         "SMOT",
         "0.718432093"
        ],
        [
         "SPHY",
         "0.0"
        ],
        [
         "SPSM",
         "0.0"
        ],
        [
         "SPXL",
         "0.0"
        ],
        [
         "SPY",
         "0.177676073"
        ],
        [
         "STIP",
         "0.0"
        ],
        [
         "TPVG",
         "4.0"
        ]
       ],
       "shape": {
        "columns": 1,
        "rows": 62
       }
      },
      "text/plain": [
       "Symbol\n",
       "ADBE    0.000000\n",
       "AMZN    0.149980\n",
       "APO     0.534729\n",
       "ARKK    0.000000\n",
       "ARM     0.080826\n",
       "          ...   \n",
       "VOOG    0.722997\n",
       "VXUS    0.716810\n",
       "XLF     1.309464\n",
       "XLK     1.223873\n",
       "XLV     0.289189\n",
       "Name: Quantity, Length: 62, dtype: float64"
      ]
     },
     "execution_count": 3,
     "metadata": {},
     "output_type": "execute_result"
    }
   ],
   "source": [
    "# Holdings\n",
    "transaction_log.groupby(\"Symbol\").agg(\"Quantity\").sum().round(12)"
   ]
  },
  {
   "cell_type": "code",
   "execution_count": 4,
   "id": "801a2b02",
   "metadata": {},
   "outputs": [
    {
     "data": {
      "text/plain": [
       "np.float64(-5.41999999999997)"
      ]
     },
     "execution_count": 4,
     "metadata": {},
     "output_type": "execute_result"
    }
   ],
   "source": [
    "# High-Yield Cash Sweep\n",
    "transaction_log[transaction_log[\"Type\"] == \"High-Yield Cash Sweep\"][\"Amount\"].sum()"
   ]
  },
  {
   "cell_type": "code",
   "execution_count": 5,
   "id": "3e5cc194",
   "metadata": {},
   "outputs": [
    {
     "data": {
      "application/vnd.microsoft.datawrangler.viewer.v0+json": {
       "columns": [
        {
         "name": "index",
         "rawType": "int64",
         "type": "integer"
        },
        {
         "name": "Date",
         "rawType": "object",
         "type": "string"
        },
        {
         "name": "Type",
         "rawType": "object",
         "type": "string"
        },
        {
         "name": "Symbol",
         "rawType": "object",
         "type": "string"
        },
        {
         "name": "Quantity",
         "rawType": "float64",
         "type": "float"
        },
        {
         "name": "Price",
         "rawType": "float64",
         "type": "float"
        },
        {
         "name": "Amount",
         "rawType": "float64",
         "type": "float"
        },
        {
         "name": "Commission",
         "rawType": "float64",
         "type": "float"
        },
        {
         "name": "Currency",
         "rawType": "object",
         "type": "string"
        },
        {
         "name": "Description",
         "rawType": "object",
         "type": "string"
        },
        {
         "name": "Exchange",
         "rawType": "object",
         "type": "string"
        },
        {
         "name": "Source",
         "rawType": "object",
         "type": "string"
        }
       ],
       "ref": "442a3c67-4536-4eb4-b9a0-aa412ef4c7bc",
       "rows": [
        [
         "262",
         "2024-06-10",
         "Stock Split",
         "NVDA",
         "-0.031545224",
         "443.81",
         null,
         null,
         "USD",
         "Stock Split",
         "US Market",
         "Sarwa Trade"
        ],
        [
         "263",
         "2024-06-10",
         "Stock Split",
         "NVDA",
         "0.31545224",
         "44.38",
         null,
         null,
         "USD",
         "Stock Split",
         "US Market",
         "Sarwa Trade"
        ],
        [
         "374",
         "2024-09-30",
         "Stock Split",
         "RYAAY",
         "0.315592808",
         "47.53",
         null,
         null,
         "USD",
         "Stock Split",
         "US Market",
         "Sarwa Trade"
        ],
        [
         "375",
         "2024-09-30",
         "Stock Split",
         "RYAAY",
         "-0.126237123",
         "118.82",
         null,
         null,
         "USD",
         "Stock Split",
         "US Market",
         "Sarwa Trade"
        ]
       ],
       "shape": {
        "columns": 11,
        "rows": 4
       }
      },
      "text/html": [
       "<div>\n",
       "<style scoped>\n",
       "    .dataframe tbody tr th:only-of-type {\n",
       "        vertical-align: middle;\n",
       "    }\n",
       "\n",
       "    .dataframe tbody tr th {\n",
       "        vertical-align: top;\n",
       "    }\n",
       "\n",
       "    .dataframe thead th {\n",
       "        text-align: right;\n",
       "    }\n",
       "</style>\n",
       "<table border=\"1\" class=\"dataframe\">\n",
       "  <thead>\n",
       "    <tr style=\"text-align: right;\">\n",
       "      <th></th>\n",
       "      <th>Date</th>\n",
       "      <th>Type</th>\n",
       "      <th>Symbol</th>\n",
       "      <th>Quantity</th>\n",
       "      <th>Price</th>\n",
       "      <th>Amount</th>\n",
       "      <th>Commission</th>\n",
       "      <th>Currency</th>\n",
       "      <th>Description</th>\n",
       "      <th>Exchange</th>\n",
       "      <th>Source</th>\n",
       "    </tr>\n",
       "  </thead>\n",
       "  <tbody>\n",
       "    <tr>\n",
       "      <th>262</th>\n",
       "      <td>2024-06-10</td>\n",
       "      <td>Stock Split</td>\n",
       "      <td>NVDA</td>\n",
       "      <td>-0.031545</td>\n",
       "      <td>443.81</td>\n",
       "      <td>NaN</td>\n",
       "      <td>NaN</td>\n",
       "      <td>USD</td>\n",
       "      <td>Stock Split</td>\n",
       "      <td>US Market</td>\n",
       "      <td>Sarwa Trade</td>\n",
       "    </tr>\n",
       "    <tr>\n",
       "      <th>263</th>\n",
       "      <td>2024-06-10</td>\n",
       "      <td>Stock Split</td>\n",
       "      <td>NVDA</td>\n",
       "      <td>0.315452</td>\n",
       "      <td>44.38</td>\n",
       "      <td>NaN</td>\n",
       "      <td>NaN</td>\n",
       "      <td>USD</td>\n",
       "      <td>Stock Split</td>\n",
       "      <td>US Market</td>\n",
       "      <td>Sarwa Trade</td>\n",
       "    </tr>\n",
       "    <tr>\n",
       "      <th>374</th>\n",
       "      <td>2024-09-30</td>\n",
       "      <td>Stock Split</td>\n",
       "      <td>RYAAY</td>\n",
       "      <td>0.315593</td>\n",
       "      <td>47.53</td>\n",
       "      <td>NaN</td>\n",
       "      <td>NaN</td>\n",
       "      <td>USD</td>\n",
       "      <td>Stock Split</td>\n",
       "      <td>US Market</td>\n",
       "      <td>Sarwa Trade</td>\n",
       "    </tr>\n",
       "    <tr>\n",
       "      <th>375</th>\n",
       "      <td>2024-09-30</td>\n",
       "      <td>Stock Split</td>\n",
       "      <td>RYAAY</td>\n",
       "      <td>-0.126237</td>\n",
       "      <td>118.82</td>\n",
       "      <td>NaN</td>\n",
       "      <td>NaN</td>\n",
       "      <td>USD</td>\n",
       "      <td>Stock Split</td>\n",
       "      <td>US Market</td>\n",
       "      <td>Sarwa Trade</td>\n",
       "    </tr>\n",
       "  </tbody>\n",
       "</table>\n",
       "</div>"
      ],
      "text/plain": [
       "           Date         Type Symbol  Quantity   Price  Amount  Commission  \\\n",
       "262  2024-06-10  Stock Split   NVDA -0.031545  443.81     NaN         NaN   \n",
       "263  2024-06-10  Stock Split   NVDA  0.315452   44.38     NaN         NaN   \n",
       "374  2024-09-30  Stock Split  RYAAY  0.315593   47.53     NaN         NaN   \n",
       "375  2024-09-30  Stock Split  RYAAY -0.126237  118.82     NaN         NaN   \n",
       "\n",
       "    Currency  Description   Exchange       Source  \n",
       "262      USD  Stock Split  US Market  Sarwa Trade  \n",
       "263      USD  Stock Split  US Market  Sarwa Trade  \n",
       "374      USD  Stock Split  US Market  Sarwa Trade  \n",
       "375      USD  Stock Split  US Market  Sarwa Trade  "
      ]
     },
     "execution_count": 5,
     "metadata": {},
     "output_type": "execute_result"
    }
   ],
   "source": [
    "# Stock Split\n",
    "transaction_log[transaction_log[\"Type\"] == \"Stock Split\"]"
   ]
  },
  {
   "cell_type": "code",
   "execution_count": 6,
   "id": "df3b7bbd",
   "metadata": {},
   "outputs": [
    {
     "data": {
      "application/vnd.microsoft.datawrangler.viewer.v0+json": {
       "columns": [
        {
         "name": "index",
         "rawType": "int64",
         "type": "integer"
        },
        {
         "name": "Date",
         "rawType": "object",
         "type": "string"
        },
        {
         "name": "Type",
         "rawType": "object",
         "type": "string"
        },
        {
         "name": "Symbol",
         "rawType": "object",
         "type": "unknown"
        },
        {
         "name": "Quantity",
         "rawType": "float64",
         "type": "float"
        },
        {
         "name": "Price",
         "rawType": "float64",
         "type": "float"
        },
        {
         "name": "Amount",
         "rawType": "float64",
         "type": "float"
        },
        {
         "name": "Commission",
         "rawType": "float64",
         "type": "float"
        },
        {
         "name": "Currency",
         "rawType": "object",
         "type": "string"
        },
        {
         "name": "Description",
         "rawType": "object",
         "type": "string"
        },
        {
         "name": "Exchange",
         "rawType": "object",
         "type": "string"
        },
        {
         "name": "Source",
         "rawType": "object",
         "type": "string"
        }
       ],
       "ref": "608338c4-667b-4b3b-a4ee-544bb10bc01c",
       "rows": [
        [
         "0",
         "2023-02-16",
         "Net Deposit",
         null,
         null,
         null,
         "271.57",
         null,
         "USD",
         "ID: 37fdafdc-d707-42fa-ba74-98b30cf9ab2a - DT23215738",
         "US Market",
         "Sarwa Trade"
        ],
        [
         "12",
         "2023-08-18",
         "Net Deposit",
         null,
         null,
         null,
         "271.57",
         null,
         "USD",
         "ID: 977a86e5-8ee2-4d0f-90fe-6fc19b29c5bb - DT23818273",
         "US Market",
         "Sarwa Trade"
        ],
        [
         "26",
         "2023-09-07",
         "Net Deposit",
         null,
         null,
         null,
         "271.57",
         null,
         "USD",
         "ID: 28979918-1174-4ee9-8ba5-afe3d4e44879 - DT23905331",
         "US Market",
         "Sarwa Trade"
        ],
        [
         "65",
         "2023-09-21",
         "Net Deposit",
         null,
         null,
         null,
         "271.57",
         null,
         "USD",
         "ID: de521040-b6a5-40cf-a230-cd3b2df8f022 - DT23920844",
         "US Market",
         "Sarwa Trade"
        ],
        [
         "86",
         "2023-10-11",
         "Net Deposit",
         null,
         null,
         null,
         "135.78",
         null,
         "USD",
         "ID: a0a331f6-4df8-4ce5-aa2d-91360af8419a - DT23A10104",
         "US Market",
         "Sarwa Trade"
        ],
        [
         "97",
         "2023-11-01",
         "Net Deposit",
         null,
         null,
         null,
         "135.78",
         null,
         "USD",
         "ID: 501c0af0-d740-4f14-9f92-f70d95f1638b - DT23B01316",
         "US Market",
         "Sarwa Trade"
        ],
        [
         "120",
         "2023-12-14",
         "Net Deposit",
         null,
         null,
         null,
         "135.78",
         null,
         "USD",
         "ID: 97ca234a-c4c4-477d-9d0b-f82209a03ae6 - DT23C14608 deposit",
         "US Market",
         "Sarwa Trade"
        ],
        [
         "157",
         "2023-12-27",
         "Net Deposit",
         null,
         null,
         null,
         "271.57",
         null,
         "USD",
         "ID: b9a98c50-8a11-454b-9441-5b9dd9c0bda4 - DT23C26478 deposit",
         "US Market",
         "Sarwa Trade"
        ],
        [
         "196",
         "2024-03-05",
         "Net Deposit",
         null,
         null,
         null,
         "190.1",
         null,
         "USD",
         "ID: 935ad3ed-1eaf-4529-ad09-2f2b11e76214 - DT24304996 deposit",
         "US Market",
         "Sarwa Trade"
        ],
        [
         "234",
         "2024-04-05",
         "Net Deposit",
         null,
         null,
         null,
         "271.57",
         null,
         "USD",
         "ID: b2110d1c-ff9b-46fd-acfe-e7a211fa0de4 - DT24404597 deposit",
         "US Market",
         "Sarwa Trade"
        ],
        [
         "301",
         "2024-07-10",
         "Net Deposit",
         null,
         null,
         null,
         "135.78",
         null,
         "USD",
         "ID: 5149ca3e-5e87-4983-b66d-7b357196b7e6 - DT24704231 deposit",
         "US Market",
         "Sarwa Trade"
        ],
        [
         "322",
         "2024-07-16",
         "Net Deposit",
         null,
         null,
         null,
         "-1101.56",
         null,
         "USD",
         "ID: b00e4f3b-2821-43d7-bf3b-cabb206c121e -",
         "US Market",
         "Sarwa Trade"
        ],
        [
         "355",
         "2024-09-23",
         "Net Deposit",
         null,
         null,
         null,
         "135.0",
         null,
         "USD",
         "IT249188489 interaccount transfer",
         "US Market",
         "Sarwa Trade"
        ],
        [
         "392",
         "2024-10-29",
         "Net Deposit",
         null,
         null,
         null,
         "81.47",
         null,
         "USD",
         "DT24A296242 deposit",
         "US Market",
         "Sarwa Trade"
        ],
        [
         "416",
         "2024-12-23",
         "Net Deposit",
         null,
         null,
         null,
         "271.57",
         null,
         "USD",
         "DT24C237589 deposit",
         "US Market",
         "Sarwa Trade"
        ],
        [
         "464",
         "2025-03-03",
         "Net Deposit",
         null,
         null,
         null,
         "271.57",
         null,
         "USD",
         "DT253033994 deposit",
         "US Market",
         "Sarwa Trade"
        ],
        [
         "497",
         "2025-04-07",
         "Net Deposit",
         null,
         null,
         null,
         "135.78",
         null,
         "USD",
         "DT254073747 deposit",
         "US Market",
         "Sarwa Trade"
        ],
        [
         "551",
         "2025-07-24",
         "Net Deposit",
         null,
         null,
         null,
         "271.57",
         null,
         "USD",
         "Bank Deposit",
         "US Market",
         "Sarwa Trade - Interim"
        ]
       ],
       "shape": {
        "columns": 11,
        "rows": 18
       }
      },
      "text/html": [
       "<div>\n",
       "<style scoped>\n",
       "    .dataframe tbody tr th:only-of-type {\n",
       "        vertical-align: middle;\n",
       "    }\n",
       "\n",
       "    .dataframe tbody tr th {\n",
       "        vertical-align: top;\n",
       "    }\n",
       "\n",
       "    .dataframe thead th {\n",
       "        text-align: right;\n",
       "    }\n",
       "</style>\n",
       "<table border=\"1\" class=\"dataframe\">\n",
       "  <thead>\n",
       "    <tr style=\"text-align: right;\">\n",
       "      <th></th>\n",
       "      <th>Date</th>\n",
       "      <th>Type</th>\n",
       "      <th>Symbol</th>\n",
       "      <th>Quantity</th>\n",
       "      <th>Price</th>\n",
       "      <th>Amount</th>\n",
       "      <th>Commission</th>\n",
       "      <th>Currency</th>\n",
       "      <th>Description</th>\n",
       "      <th>Exchange</th>\n",
       "      <th>Source</th>\n",
       "    </tr>\n",
       "  </thead>\n",
       "  <tbody>\n",
       "    <tr>\n",
       "      <th>0</th>\n",
       "      <td>2023-02-16</td>\n",
       "      <td>Net Deposit</td>\n",
       "      <td>NaN</td>\n",
       "      <td>NaN</td>\n",
       "      <td>NaN</td>\n",
       "      <td>271.57</td>\n",
       "      <td>NaN</td>\n",
       "      <td>USD</td>\n",
       "      <td>ID: 37fdafdc-d707-42fa-ba74-98b30cf9ab2a - DT2...</td>\n",
       "      <td>US Market</td>\n",
       "      <td>Sarwa Trade</td>\n",
       "    </tr>\n",
       "    <tr>\n",
       "      <th>12</th>\n",
       "      <td>2023-08-18</td>\n",
       "      <td>Net Deposit</td>\n",
       "      <td>NaN</td>\n",
       "      <td>NaN</td>\n",
       "      <td>NaN</td>\n",
       "      <td>271.57</td>\n",
       "      <td>NaN</td>\n",
       "      <td>USD</td>\n",
       "      <td>ID: 977a86e5-8ee2-4d0f-90fe-6fc19b29c5bb - DT2...</td>\n",
       "      <td>US Market</td>\n",
       "      <td>Sarwa Trade</td>\n",
       "    </tr>\n",
       "    <tr>\n",
       "      <th>26</th>\n",
       "      <td>2023-09-07</td>\n",
       "      <td>Net Deposit</td>\n",
       "      <td>NaN</td>\n",
       "      <td>NaN</td>\n",
       "      <td>NaN</td>\n",
       "      <td>271.57</td>\n",
       "      <td>NaN</td>\n",
       "      <td>USD</td>\n",
       "      <td>ID: 28979918-1174-4ee9-8ba5-afe3d4e44879 - DT2...</td>\n",
       "      <td>US Market</td>\n",
       "      <td>Sarwa Trade</td>\n",
       "    </tr>\n",
       "    <tr>\n",
       "      <th>65</th>\n",
       "      <td>2023-09-21</td>\n",
       "      <td>Net Deposit</td>\n",
       "      <td>NaN</td>\n",
       "      <td>NaN</td>\n",
       "      <td>NaN</td>\n",
       "      <td>271.57</td>\n",
       "      <td>NaN</td>\n",
       "      <td>USD</td>\n",
       "      <td>ID: de521040-b6a5-40cf-a230-cd3b2df8f022 - DT2...</td>\n",
       "      <td>US Market</td>\n",
       "      <td>Sarwa Trade</td>\n",
       "    </tr>\n",
       "    <tr>\n",
       "      <th>86</th>\n",
       "      <td>2023-10-11</td>\n",
       "      <td>Net Deposit</td>\n",
       "      <td>NaN</td>\n",
       "      <td>NaN</td>\n",
       "      <td>NaN</td>\n",
       "      <td>135.78</td>\n",
       "      <td>NaN</td>\n",
       "      <td>USD</td>\n",
       "      <td>ID: a0a331f6-4df8-4ce5-aa2d-91360af8419a - DT2...</td>\n",
       "      <td>US Market</td>\n",
       "      <td>Sarwa Trade</td>\n",
       "    </tr>\n",
       "    <tr>\n",
       "      <th>97</th>\n",
       "      <td>2023-11-01</td>\n",
       "      <td>Net Deposit</td>\n",
       "      <td>NaN</td>\n",
       "      <td>NaN</td>\n",
       "      <td>NaN</td>\n",
       "      <td>135.78</td>\n",
       "      <td>NaN</td>\n",
       "      <td>USD</td>\n",
       "      <td>ID: 501c0af0-d740-4f14-9f92-f70d95f1638b - DT2...</td>\n",
       "      <td>US Market</td>\n",
       "      <td>Sarwa Trade</td>\n",
       "    </tr>\n",
       "    <tr>\n",
       "      <th>120</th>\n",
       "      <td>2023-12-14</td>\n",
       "      <td>Net Deposit</td>\n",
       "      <td>NaN</td>\n",
       "      <td>NaN</td>\n",
       "      <td>NaN</td>\n",
       "      <td>135.78</td>\n",
       "      <td>NaN</td>\n",
       "      <td>USD</td>\n",
       "      <td>ID: 97ca234a-c4c4-477d-9d0b-f82209a03ae6 - DT2...</td>\n",
       "      <td>US Market</td>\n",
       "      <td>Sarwa Trade</td>\n",
       "    </tr>\n",
       "    <tr>\n",
       "      <th>157</th>\n",
       "      <td>2023-12-27</td>\n",
       "      <td>Net Deposit</td>\n",
       "      <td>NaN</td>\n",
       "      <td>NaN</td>\n",
       "      <td>NaN</td>\n",
       "      <td>271.57</td>\n",
       "      <td>NaN</td>\n",
       "      <td>USD</td>\n",
       "      <td>ID: b9a98c50-8a11-454b-9441-5b9dd9c0bda4 - DT2...</td>\n",
       "      <td>US Market</td>\n",
       "      <td>Sarwa Trade</td>\n",
       "    </tr>\n",
       "    <tr>\n",
       "      <th>196</th>\n",
       "      <td>2024-03-05</td>\n",
       "      <td>Net Deposit</td>\n",
       "      <td>NaN</td>\n",
       "      <td>NaN</td>\n",
       "      <td>NaN</td>\n",
       "      <td>190.10</td>\n",
       "      <td>NaN</td>\n",
       "      <td>USD</td>\n",
       "      <td>ID: 935ad3ed-1eaf-4529-ad09-2f2b11e76214 - DT2...</td>\n",
       "      <td>US Market</td>\n",
       "      <td>Sarwa Trade</td>\n",
       "    </tr>\n",
       "    <tr>\n",
       "      <th>234</th>\n",
       "      <td>2024-04-05</td>\n",
       "      <td>Net Deposit</td>\n",
       "      <td>NaN</td>\n",
       "      <td>NaN</td>\n",
       "      <td>NaN</td>\n",
       "      <td>271.57</td>\n",
       "      <td>NaN</td>\n",
       "      <td>USD</td>\n",
       "      <td>ID: b2110d1c-ff9b-46fd-acfe-e7a211fa0de4 - DT2...</td>\n",
       "      <td>US Market</td>\n",
       "      <td>Sarwa Trade</td>\n",
       "    </tr>\n",
       "    <tr>\n",
       "      <th>301</th>\n",
       "      <td>2024-07-10</td>\n",
       "      <td>Net Deposit</td>\n",
       "      <td>NaN</td>\n",
       "      <td>NaN</td>\n",
       "      <td>NaN</td>\n",
       "      <td>135.78</td>\n",
       "      <td>NaN</td>\n",
       "      <td>USD</td>\n",
       "      <td>ID: 5149ca3e-5e87-4983-b66d-7b357196b7e6 - DT2...</td>\n",
       "      <td>US Market</td>\n",
       "      <td>Sarwa Trade</td>\n",
       "    </tr>\n",
       "    <tr>\n",
       "      <th>322</th>\n",
       "      <td>2024-07-16</td>\n",
       "      <td>Net Deposit</td>\n",
       "      <td>NaN</td>\n",
       "      <td>NaN</td>\n",
       "      <td>NaN</td>\n",
       "      <td>-1101.56</td>\n",
       "      <td>NaN</td>\n",
       "      <td>USD</td>\n",
       "      <td>ID: b00e4f3b-2821-43d7-bf3b-cabb206c121e -</td>\n",
       "      <td>US Market</td>\n",
       "      <td>Sarwa Trade</td>\n",
       "    </tr>\n",
       "    <tr>\n",
       "      <th>355</th>\n",
       "      <td>2024-09-23</td>\n",
       "      <td>Net Deposit</td>\n",
       "      <td>NaN</td>\n",
       "      <td>NaN</td>\n",
       "      <td>NaN</td>\n",
       "      <td>135.00</td>\n",
       "      <td>NaN</td>\n",
       "      <td>USD</td>\n",
       "      <td>IT249188489 interaccount transfer</td>\n",
       "      <td>US Market</td>\n",
       "      <td>Sarwa Trade</td>\n",
       "    </tr>\n",
       "    <tr>\n",
       "      <th>392</th>\n",
       "      <td>2024-10-29</td>\n",
       "      <td>Net Deposit</td>\n",
       "      <td>NaN</td>\n",
       "      <td>NaN</td>\n",
       "      <td>NaN</td>\n",
       "      <td>81.47</td>\n",
       "      <td>NaN</td>\n",
       "      <td>USD</td>\n",
       "      <td>DT24A296242 deposit</td>\n",
       "      <td>US Market</td>\n",
       "      <td>Sarwa Trade</td>\n",
       "    </tr>\n",
       "    <tr>\n",
       "      <th>416</th>\n",
       "      <td>2024-12-23</td>\n",
       "      <td>Net Deposit</td>\n",
       "      <td>NaN</td>\n",
       "      <td>NaN</td>\n",
       "      <td>NaN</td>\n",
       "      <td>271.57</td>\n",
       "      <td>NaN</td>\n",
       "      <td>USD</td>\n",
       "      <td>DT24C237589 deposit</td>\n",
       "      <td>US Market</td>\n",
       "      <td>Sarwa Trade</td>\n",
       "    </tr>\n",
       "    <tr>\n",
       "      <th>464</th>\n",
       "      <td>2025-03-03</td>\n",
       "      <td>Net Deposit</td>\n",
       "      <td>NaN</td>\n",
       "      <td>NaN</td>\n",
       "      <td>NaN</td>\n",
       "      <td>271.57</td>\n",
       "      <td>NaN</td>\n",
       "      <td>USD</td>\n",
       "      <td>DT253033994 deposit</td>\n",
       "      <td>US Market</td>\n",
       "      <td>Sarwa Trade</td>\n",
       "    </tr>\n",
       "    <tr>\n",
       "      <th>497</th>\n",
       "      <td>2025-04-07</td>\n",
       "      <td>Net Deposit</td>\n",
       "      <td>NaN</td>\n",
       "      <td>NaN</td>\n",
       "      <td>NaN</td>\n",
       "      <td>135.78</td>\n",
       "      <td>NaN</td>\n",
       "      <td>USD</td>\n",
       "      <td>DT254073747 deposit</td>\n",
       "      <td>US Market</td>\n",
       "      <td>Sarwa Trade</td>\n",
       "    </tr>\n",
       "    <tr>\n",
       "      <th>551</th>\n",
       "      <td>2025-07-24</td>\n",
       "      <td>Net Deposit</td>\n",
       "      <td>NaN</td>\n",
       "      <td>NaN</td>\n",
       "      <td>NaN</td>\n",
       "      <td>271.57</td>\n",
       "      <td>NaN</td>\n",
       "      <td>USD</td>\n",
       "      <td>Bank Deposit</td>\n",
       "      <td>US Market</td>\n",
       "      <td>Sarwa Trade - Interim</td>\n",
       "    </tr>\n",
       "  </tbody>\n",
       "</table>\n",
       "</div>"
      ],
      "text/plain": [
       "           Date         Type Symbol  Quantity  Price   Amount  Commission  \\\n",
       "0    2023-02-16  Net Deposit    NaN       NaN    NaN   271.57         NaN   \n",
       "12   2023-08-18  Net Deposit    NaN       NaN    NaN   271.57         NaN   \n",
       "26   2023-09-07  Net Deposit    NaN       NaN    NaN   271.57         NaN   \n",
       "65   2023-09-21  Net Deposit    NaN       NaN    NaN   271.57         NaN   \n",
       "86   2023-10-11  Net Deposit    NaN       NaN    NaN   135.78         NaN   \n",
       "97   2023-11-01  Net Deposit    NaN       NaN    NaN   135.78         NaN   \n",
       "120  2023-12-14  Net Deposit    NaN       NaN    NaN   135.78         NaN   \n",
       "157  2023-12-27  Net Deposit    NaN       NaN    NaN   271.57         NaN   \n",
       "196  2024-03-05  Net Deposit    NaN       NaN    NaN   190.10         NaN   \n",
       "234  2024-04-05  Net Deposit    NaN       NaN    NaN   271.57         NaN   \n",
       "301  2024-07-10  Net Deposit    NaN       NaN    NaN   135.78         NaN   \n",
       "322  2024-07-16  Net Deposit    NaN       NaN    NaN -1101.56         NaN   \n",
       "355  2024-09-23  Net Deposit    NaN       NaN    NaN   135.00         NaN   \n",
       "392  2024-10-29  Net Deposit    NaN       NaN    NaN    81.47         NaN   \n",
       "416  2024-12-23  Net Deposit    NaN       NaN    NaN   271.57         NaN   \n",
       "464  2025-03-03  Net Deposit    NaN       NaN    NaN   271.57         NaN   \n",
       "497  2025-04-07  Net Deposit    NaN       NaN    NaN   135.78         NaN   \n",
       "551  2025-07-24  Net Deposit    NaN       NaN    NaN   271.57         NaN   \n",
       "\n",
       "    Currency                                        Description   Exchange  \\\n",
       "0        USD  ID: 37fdafdc-d707-42fa-ba74-98b30cf9ab2a - DT2...  US Market   \n",
       "12       USD  ID: 977a86e5-8ee2-4d0f-90fe-6fc19b29c5bb - DT2...  US Market   \n",
       "26       USD  ID: 28979918-1174-4ee9-8ba5-afe3d4e44879 - DT2...  US Market   \n",
       "65       USD  ID: de521040-b6a5-40cf-a230-cd3b2df8f022 - DT2...  US Market   \n",
       "86       USD  ID: a0a331f6-4df8-4ce5-aa2d-91360af8419a - DT2...  US Market   \n",
       "97       USD  ID: 501c0af0-d740-4f14-9f92-f70d95f1638b - DT2...  US Market   \n",
       "120      USD  ID: 97ca234a-c4c4-477d-9d0b-f82209a03ae6 - DT2...  US Market   \n",
       "157      USD  ID: b9a98c50-8a11-454b-9441-5b9dd9c0bda4 - DT2...  US Market   \n",
       "196      USD  ID: 935ad3ed-1eaf-4529-ad09-2f2b11e76214 - DT2...  US Market   \n",
       "234      USD  ID: b2110d1c-ff9b-46fd-acfe-e7a211fa0de4 - DT2...  US Market   \n",
       "301      USD  ID: 5149ca3e-5e87-4983-b66d-7b357196b7e6 - DT2...  US Market   \n",
       "322      USD         ID: b00e4f3b-2821-43d7-bf3b-cabb206c121e -  US Market   \n",
       "355      USD                  IT249188489 interaccount transfer  US Market   \n",
       "392      USD                                DT24A296242 deposit  US Market   \n",
       "416      USD                                DT24C237589 deposit  US Market   \n",
       "464      USD                                DT253033994 deposit  US Market   \n",
       "497      USD                                DT254073747 deposit  US Market   \n",
       "551      USD                                       Bank Deposit  US Market   \n",
       "\n",
       "                    Source  \n",
       "0              Sarwa Trade  \n",
       "12             Sarwa Trade  \n",
       "26             Sarwa Trade  \n",
       "65             Sarwa Trade  \n",
       "86             Sarwa Trade  \n",
       "97             Sarwa Trade  \n",
       "120            Sarwa Trade  \n",
       "157            Sarwa Trade  \n",
       "196            Sarwa Trade  \n",
       "234            Sarwa Trade  \n",
       "301            Sarwa Trade  \n",
       "322            Sarwa Trade  \n",
       "355            Sarwa Trade  \n",
       "392            Sarwa Trade  \n",
       "416            Sarwa Trade  \n",
       "464            Sarwa Trade  \n",
       "497            Sarwa Trade  \n",
       "551  Sarwa Trade - Interim  "
      ]
     },
     "execution_count": 6,
     "metadata": {},
     "output_type": "execute_result"
    }
   ],
   "source": [
    "# Net Deposits\n",
    "transaction_log[transaction_log[\"Type\"] == \"Net Deposit\"]"
   ]
  },
  {
   "cell_type": "code",
   "execution_count": 7,
   "id": "68c5e82b",
   "metadata": {},
   "outputs": [
    {
     "data": {
      "application/vnd.microsoft.datawrangler.viewer.v0+json": {
       "columns": [
        {
         "name": "index",
         "rawType": "int64",
         "type": "integer"
        },
        {
         "name": "Date",
         "rawType": "object",
         "type": "string"
        },
        {
         "name": "Type",
         "rawType": "object",
         "type": "string"
        },
        {
         "name": "Symbol",
         "rawType": "object",
         "type": "string"
        },
        {
         "name": "Quantity",
         "rawType": "float64",
         "type": "float"
        },
        {
         "name": "Price",
         "rawType": "float64",
         "type": "float"
        },
        {
         "name": "Amount",
         "rawType": "float64",
         "type": "float"
        },
        {
         "name": "Commission",
         "rawType": "float64",
         "type": "float"
        },
        {
         "name": "Currency",
         "rawType": "object",
         "type": "string"
        },
        {
         "name": "Description",
         "rawType": "object",
         "type": "string"
        },
        {
         "name": "Exchange",
         "rawType": "object",
         "type": "string"
        },
        {
         "name": "Source",
         "rawType": "object",
         "type": "string"
        }
       ],
       "ref": "4b2bf656-48ef-44bf-87ae-d504903b6a73",
       "rows": [
        [
         "4",
         "2023-03-29",
         "Net Dividend",
         "VOO",
         null,
         null,
         "0.24",
         null,
         "USD",
         "Cash DIV @ 1.4874, Pos QTY: 0.218966527, Rec Date: 2023-03-27",
         "US Market",
         "Sarwa Trade"
        ],
        [
         "10",
         "2023-07-05",
         "Net Dividend",
         "VOO",
         null,
         null,
         "0.25",
         null,
         "USD",
         "Cash DIV @ 1.5762, Pos QTY: 0.218966527, Rec Date: 2023-06-30",
         "US Market",
         "Sarwa Trade"
        ],
        [
         "11",
         "2023-07-05",
         "Net Dividend",
         "VOOG",
         null,
         null,
         "0.06",
         null,
         "USD",
         "Cash DIV @ 0.6987, Pos QTY: 0.11943626, Rec Date: 2023-06-30",
         "US Market",
         "Sarwa Trade"
        ],
        [
         "44",
         "2023-09-21",
         "Net Dividend",
         "XLK",
         null,
         null,
         "0.24",
         null,
         "USD",
         "Cash DIV @ 0.360286, Pos QTY: 0.91942597, Rec Date: 2023-09-19",
         "US Market",
         "Sarwa Trade"
        ],
        [
         "68",
         "2023-09-27",
         "Net Dividend",
         "NOBL",
         null,
         null,
         "0.17",
         null,
         "USD",
         "Cash DIV @ 0.521068, Pos QTY: 0.468405155, Rec Date: 2023-09-21",
         "US Market",
         "Sarwa Trade"
        ],
        [
         "69",
         "2023-10-02",
         "Net Dividend",
         "IBB",
         null,
         null,
         "0.01",
         null,
         "USD",
         "Cash DIV @ 0.153164, Pos QTY: 0.047021696, Rec Date: 2023-09-27",
         "US Market",
         "Sarwa Trade"
        ],
        [
         "70",
         "2023-10-02",
         "Net Dividend",
         "USRT",
         null,
         null,
         "0.07",
         null,
         "USD",
         "Cash DIV @ 0.592702, Pos QTY: 0.167590075, Rec Date: 2023-09-27",
         "US Market",
         "Sarwa Trade"
        ],
        [
         "71",
         "2023-10-03",
         "Net Dividend",
         "VOOG",
         null,
         null,
         "0.12",
         null,
         "USD",
         "Cash DIV @ 0.7511, Pos QTY: 0.230854873, Rec Date: 2023-09-29",
         "US Market",
         "Sarwa Trade"
        ],
        [
         "72",
         "2023-10-03",
         "Net Dividend",
         "VOO",
         null,
         null,
         "0.45",
         null,
         "USD",
         "Cash DIV @ 1.4925, Pos QTY: 0.423378316, Rec Date: 2023-09-29",
         "US Market",
         "Sarwa Trade"
        ],
        [
         "73",
         "2023-10-03",
         "Net Dividend",
         "VHT",
         null,
         null,
         "0.19",
         null,
         "USD",
         "Cash DIV @ 0.8774, Pos QTY: 0.291420371, Rec Date: 2023-09-29",
         "US Market",
         "Sarwa Trade"
        ],
        [
         "74",
         "2023-10-06",
         "Net Dividend",
         "STIP",
         null,
         null,
         "0.0",
         null,
         "USD",
         "Cash DIV @ 0.157231, Pos QTY: 0.087386131, Rec Date: 2023-10-03",
         "US Market",
         "Sarwa Trade"
        ],
        [
         "75",
         "2023-10-06",
         "Net Dividend",
         "SPHY",
         null,
         null,
         "0.05",
         null,
         "USD",
         "Cash DIV @ 0.152415, Pos QTY: 0.374849659, Rec Date: 2023-10-03",
         "US Market",
         "Sarwa Trade"
        ],
        [
         "88",
         "2023-10-31",
         "Net Dividend",
         "SPY",
         null,
         null,
         "0.15",
         null,
         "USD",
         "Cash DIV @ 1.583169, Pos QTY: 0.13362128, Rec Date: 2023-09-18",
         "US Market",
         "Sarwa Trade"
        ],
        [
         "103",
         "2023-11-07",
         "Net Dividend",
         "STIP",
         null,
         null,
         "0.0",
         null,
         "USD",
         "Cash DIV @ 0.394231, Pos QTY: 0.087386131, Rec Date: 2023-11-02",
         "US Market",
         "Sarwa Trade"
        ],
        [
         "105",
         "2023-11-07",
         "Net Dividend",
         "SPHY",
         null,
         null,
         "0.05",
         null,
         "USD",
         "Cash DIV @ 0.148664, Pos QTY: 0.374849659, Rec Date: 2023-11-02",
         "US Market",
         "Sarwa Trade"
        ],
        [
         "106",
         "2023-11-08",
         "Net Dividend",
         "DE",
         null,
         null,
         "0.07",
         null,
         "USD",
         "Cash DIV @ 1.35, Pos QTY: 0.064637486, Rec Date: 2023-09-29",
         "US Market",
         "Sarwa Trade"
        ],
        [
         "107",
         "2023-11-20",
         "Net Dividend",
         "CAT",
         null,
         null,
         "0.09",
         null,
         "USD",
         "Cash DIV @ 1.3, Pos QTY: 0.09455636, Rec Date: 2023-10-23",
         "US Market",
         "Sarwa Trade"
        ],
        [
         "108",
         "2023-11-24",
         "Net Dividend",
         "CEFS",
         null,
         null,
         "0.06",
         null,
         "USD",
         "Cash DIV @ 0.14, Pos QTY: 0.589553118, Rec Date: 2023-11-21",
         "US Market",
         "Sarwa Trade"
        ],
        [
         "109",
         "2023-11-30",
         "Net Dividend",
         "BRW",
         null,
         null,
         "0.28",
         null,
         "USD",
         "Cash DIV @ 0.085, Pos QTY: 4.707717967, Rec Date: 2023-11-09",
         "US Market",
         "Sarwa Trade"
        ],
        [
         "110",
         "2023-11-30",
         "Net Dividend",
         "CLM",
         null,
         null,
         "0.25",
         null,
         "USD",
         "Cash DIV @ 0.1228, Pos QTY: 2.816941083, Rec Date: 2023-11-15",
         "US Market",
         "Sarwa Trade"
        ],
        [
         "111",
         "2023-11-30",
         "Net Dividend",
         "GOF",
         null,
         null,
         "0.13",
         null,
         "USD",
         "Cash DIV @ 0.1821, Pos QTY: 1, Rec Date: 2023-11-15",
         "US Market",
         "Sarwa Trade"
        ],
        [
         "112",
         "2023-12-07",
         "Net Dividend",
         "SPHY",
         null,
         null,
         "0.05",
         null,
         "USD",
         "Cash DIV @ 0.153322, Pos QTY: 0.374849659, Rec Date: 2023-12-04",
         "US Market",
         "Sarwa Trade"
        ],
        [
         "113",
         "2023-12-07",
         "Net Dividend",
         "STIP",
         null,
         null,
         "0.0",
         null,
         "USD",
         "Cash DIV @ 0.223697, Pos QTY: 0.087386131, Rec Date: 2023-12-04",
         "US Market",
         "Sarwa Trade"
        ],
        [
         "115",
         "2023-12-08",
         "Net Dividend",
         "LLY",
         null,
         null,
         "0.05",
         null,
         "USD",
         "Cash DIV @ 1.13, Pos QTY: 0.062060405, Rec Date: 2023-11-15",
         "US Market",
         "Sarwa Trade"
        ],
        [
         "127",
         "2023-12-14",
         "Net Dividend",
         "MSFT",
         null,
         null,
         "0.05",
         null,
         "USD",
         "Cash DIV @ 0.75, Pos QTY: 0.098033348, Rec Date: 2023-11-16",
         "US Market",
         "Sarwa Trade"
        ],
        [
         "134",
         "2023-12-15",
         "Net Dividend",
         "EL",
         null,
         null,
         "0.05",
         null,
         "USD",
         "Cash DIV @ 0.66, Pos QTY: 0.087907327, Rec Date: 2023-11-30",
         "US Market",
         "Sarwa Trade"
        ],
        [
         "135",
         "2023-12-15",
         "Net Dividend",
         "LUX",
         null,
         null,
         "0.24",
         null,
         "USD",
         "Cash DIV @ 0.1697364, Pos QTY: 2, Rec Date: 2023-12-14",
         "US Market",
         "Sarwa Trade"
        ],
        [
         "138",
         "2023-12-21",
         "Net Dividend",
         "XLK",
         null,
         null,
         "0.37",
         null,
         "USD",
         "Cash DIV @ 0.422014, Pos QTY: 1.222434244, Rec Date: 2023-12-19",
         "US Market",
         "Sarwa Trade"
        ],
        [
         "139",
         "2023-12-22",
         "Net Dividend",
         "MOAT",
         null,
         null,
         "0.7",
         null,
         "USD",
         "Cash DIV @ 0.7285, Pos QTY: 1.353571781, Rec Date: 2023-12-19",
         "US Market",
         "Sarwa Trade"
        ],
        [
         "140",
         "2023-12-22",
         "Net Dividend",
         "VHT",
         null,
         null,
         "0.21",
         null,
         "USD",
         "Cash DIV @ 0.8947, Pos QTY: 0.331822452, Rec Date: 2023-12-20",
         "US Market",
         "Sarwa Trade"
        ],
        [
         "141",
         "2023-12-22",
         "Net Dividend",
         "SPHY",
         null,
         null,
         "0.05",
         null,
         "USD",
         "Cash DIV @ 0.155964, Pos QTY: 0.374849659, Rec Date: 2023-12-19",
         "US Market",
         "Sarwa Trade"
        ],
        [
         "142",
         "2023-12-26",
         "Net Dividend",
         "CEFS",
         null,
         null,
         "0.17",
         null,
         "USD",
         "Cash DIV @ 0.20558, Pos QTY: 1.114267148, Rec Date: 2023-12-21",
         "US Market",
         "Sarwa Trade"
        ],
        [
         "143",
         "2023-12-26",
         "Net Dividend",
         "VOO",
         null,
         null,
         "0.56",
         null,
         "USD",
         "Cash DIV @ 1.8011, Pos QTY: 0.438848179, Rec Date: 2023-12-21",
         "US Market",
         "Sarwa Trade"
        ],
        [
         "144",
         "2023-12-26",
         "Net Dividend",
         "VOOG",
         null,
         null,
         "0.16",
         null,
         "USD",
         "Cash DIV @ 0.9117, Pos QTY: 0.242792231, Rec Date: 2023-12-21",
         "US Market",
         "Sarwa Trade"
        ],
        [
         "146",
         "2023-12-27",
         "Net Dividend",
         "IBB",
         null,
         null,
         "0.01",
         null,
         "USD",
         "Cash DIV @ 0.12396, Pos QTY: 0.047021696, Rec Date: 2023-12-21",
         "US Market",
         "Sarwa Trade"
        ],
        [
         "147",
         "2023-12-27",
         "Net Dividend",
         "UAE",
         null,
         null,
         "0.1",
         null,
         "USD",
         "Cash DIV @ 0.094306, Pos QTY: 1.439673308, Rec Date: 2023-12-21",
         "US Market",
         "Sarwa Trade"
        ],
        [
         "148",
         "2023-12-27",
         "Net Dividend",
         "USRT",
         null,
         null,
         "0.07",
         null,
         "USD",
         "Cash DIV @ 0.555419, Pos QTY: 0.167590075, Rec Date: 2023-12-21",
         "US Market",
         "Sarwa Trade"
        ],
        [
         "159",
         "2023-12-28",
         "Net Dividend",
         "NOBL",
         null,
         null,
         "0.29",
         null,
         "USD",
         "Cash DIV @ 0.655835, Pos QTY: 0.622737006, Rec Date: 2023-12-21",
         "US Market",
         "Sarwa Trade"
        ],
        [
         "161",
         "2023-12-29",
         "Net Dividend",
         "BRW",
         null,
         null,
         "0.28",
         null,
         "USD",
         "Cash DIV @ 0.085, Pos QTY: 4.707717967, Rec Date: 2023-12-11",
         "US Market",
         "Sarwa Trade"
        ],
        [
         "162",
         "2023-12-29",
         "Net Dividend",
         "GOF",
         null,
         null,
         "0.13",
         null,
         "USD",
         "Cash DIV @ 0.1821, Pos QTY: 1, Rec Date: 2023-12-15",
         "US Market",
         "Sarwa Trade"
        ],
        [
         "163",
         "2023-12-29",
         "Net Dividend",
         "OCSL",
         null,
         null,
         "0.46",
         null,
         "USD",
         "Cash DIV @ 0.62, Pos QTY: 1.042268639, Rec Date: 2023-12-15",
         "US Market",
         "Sarwa Trade"
        ],
        [
         "164",
         "2023-12-29",
         "Net Dividend",
         "TPVG",
         null,
         null,
         "0.84",
         null,
         "USD",
         "Cash DIV @ 0.4, Pos QTY: 3, Rec Date: 2023-12-15",
         "US Market",
         "Sarwa Trade"
        ],
        [
         "166",
         "2023-12-29",
         "Net Dividend",
         "CLM",
         null,
         null,
         "0.25",
         null,
         "USD",
         "Cash DIV @ 0.1228, Pos QTY: 2.816941083, Rec Date: 2023-12-15",
         "US Market",
         "Sarwa Trade"
        ],
        [
         "169",
         "2024-01-08",
         "Net Dividend",
         "PAK",
         null,
         null,
         "0.46",
         null,
         "USD",
         "Cash DIV @ 0.651099, Pos QTY: 1, Rec Date: 2023-12-29",
         "US Market",
         "Sarwa Trade"
        ],
        [
         "170",
         "2024-01-19",
         "Net Dividend",
         "BRW",
         null,
         null,
         "0.38",
         null,
         "USD",
         "Cash DIV @ 0.114, Pos QTY: 4.707717967, Rec Date: 2023-12-29",
         "US Market",
         "Sarwa Trade"
        ],
        [
         "171",
         "2024-01-26",
         "Net Dividend",
         "GSBD",
         null,
         null,
         "0.77",
         null,
         "USD",
         "Cash DIV @ 0.45, Pos QTY: 2.436460888, Rec Date: 2023-12-29",
         "US Market",
         "Sarwa Trade"
        ],
        [
         "172",
         "2024-01-26",
         "Net Dividend",
         "CEFS",
         null,
         null,
         "0.12",
         null,
         "USD",
         "Cash DIV @ 0.14, Pos QTY: 1.114267148, Rec Date: 2024-01-25",
         "US Market",
         "Sarwa Trade"
        ],
        [
         "174",
         "2024-01-31",
         "Net Dividend",
         "BRW",
         null,
         null,
         "0.28",
         null,
         "USD",
         "Cash DIV @ 0.085, Pos QTY: 4.707717967, Rec Date: 2023-12-29",
         "US Market",
         "Sarwa Trade"
        ],
        [
         "175",
         "2024-01-31",
         "Net Dividend",
         "GOF",
         null,
         null,
         "0.39",
         null,
         "USD",
         "Cash DIV @ 0.1821, Pos QTY: 3, Rec Date: 2024-01-12",
         "US Market",
         "Sarwa Trade"
        ],
        [
         "176",
         "2024-01-31",
         "Net Dividend",
         "SPY",
         null,
         null,
         "0.24",
         null,
         "USD",
         "Cash DIV @ 1.906073, Pos QTY: 0.177676073, Rec Date: 2023-12-18",
         "US Market",
         "Sarwa Trade"
        ]
       ],
       "shape": {
        "columns": 11,
        "rows": 274
       }
      },
      "text/html": [
       "<div>\n",
       "<style scoped>\n",
       "    .dataframe tbody tr th:only-of-type {\n",
       "        vertical-align: middle;\n",
       "    }\n",
       "\n",
       "    .dataframe tbody tr th {\n",
       "        vertical-align: top;\n",
       "    }\n",
       "\n",
       "    .dataframe thead th {\n",
       "        text-align: right;\n",
       "    }\n",
       "</style>\n",
       "<table border=\"1\" class=\"dataframe\">\n",
       "  <thead>\n",
       "    <tr style=\"text-align: right;\">\n",
       "      <th></th>\n",
       "      <th>Date</th>\n",
       "      <th>Type</th>\n",
       "      <th>Symbol</th>\n",
       "      <th>Quantity</th>\n",
       "      <th>Price</th>\n",
       "      <th>Amount</th>\n",
       "      <th>Commission</th>\n",
       "      <th>Currency</th>\n",
       "      <th>Description</th>\n",
       "      <th>Exchange</th>\n",
       "      <th>Source</th>\n",
       "    </tr>\n",
       "  </thead>\n",
       "  <tbody>\n",
       "    <tr>\n",
       "      <th>4</th>\n",
       "      <td>2023-03-29</td>\n",
       "      <td>Net Dividend</td>\n",
       "      <td>VOO</td>\n",
       "      <td>NaN</td>\n",
       "      <td>NaN</td>\n",
       "      <td>0.24</td>\n",
       "      <td>NaN</td>\n",
       "      <td>USD</td>\n",
       "      <td>Cash DIV @ 1.4874, Pos QTY: 0.218966527, Rec D...</td>\n",
       "      <td>US Market</td>\n",
       "      <td>Sarwa Trade</td>\n",
       "    </tr>\n",
       "    <tr>\n",
       "      <th>10</th>\n",
       "      <td>2023-07-05</td>\n",
       "      <td>Net Dividend</td>\n",
       "      <td>VOO</td>\n",
       "      <td>NaN</td>\n",
       "      <td>NaN</td>\n",
       "      <td>0.25</td>\n",
       "      <td>NaN</td>\n",
       "      <td>USD</td>\n",
       "      <td>Cash DIV @ 1.5762, Pos QTY: 0.218966527, Rec D...</td>\n",
       "      <td>US Market</td>\n",
       "      <td>Sarwa Trade</td>\n",
       "    </tr>\n",
       "    <tr>\n",
       "      <th>11</th>\n",
       "      <td>2023-07-05</td>\n",
       "      <td>Net Dividend</td>\n",
       "      <td>VOOG</td>\n",
       "      <td>NaN</td>\n",
       "      <td>NaN</td>\n",
       "      <td>0.06</td>\n",
       "      <td>NaN</td>\n",
       "      <td>USD</td>\n",
       "      <td>Cash DIV @ 0.6987, Pos QTY: 0.11943626, Rec Da...</td>\n",
       "      <td>US Market</td>\n",
       "      <td>Sarwa Trade</td>\n",
       "    </tr>\n",
       "    <tr>\n",
       "      <th>44</th>\n",
       "      <td>2023-09-21</td>\n",
       "      <td>Net Dividend</td>\n",
       "      <td>XLK</td>\n",
       "      <td>NaN</td>\n",
       "      <td>NaN</td>\n",
       "      <td>0.24</td>\n",
       "      <td>NaN</td>\n",
       "      <td>USD</td>\n",
       "      <td>Cash DIV @ 0.360286, Pos QTY: 0.91942597, Rec ...</td>\n",
       "      <td>US Market</td>\n",
       "      <td>Sarwa Trade</td>\n",
       "    </tr>\n",
       "    <tr>\n",
       "      <th>68</th>\n",
       "      <td>2023-09-27</td>\n",
       "      <td>Net Dividend</td>\n",
       "      <td>NOBL</td>\n",
       "      <td>NaN</td>\n",
       "      <td>NaN</td>\n",
       "      <td>0.17</td>\n",
       "      <td>NaN</td>\n",
       "      <td>USD</td>\n",
       "      <td>Cash DIV @ 0.521068, Pos QTY: 0.468405155, Rec...</td>\n",
       "      <td>US Market</td>\n",
       "      <td>Sarwa Trade</td>\n",
       "    </tr>\n",
       "    <tr>\n",
       "      <th>...</th>\n",
       "      <td>...</td>\n",
       "      <td>...</td>\n",
       "      <td>...</td>\n",
       "      <td>...</td>\n",
       "      <td>...</td>\n",
       "      <td>...</td>\n",
       "      <td>...</td>\n",
       "      <td>...</td>\n",
       "      <td>...</td>\n",
       "      <td>...</td>\n",
       "      <td>...</td>\n",
       "    </tr>\n",
       "    <tr>\n",
       "      <th>545</th>\n",
       "      <td>2025-06-30</td>\n",
       "      <td>Net Dividend</td>\n",
       "      <td>VOOG</td>\n",
       "      <td>NaN</td>\n",
       "      <td>NaN</td>\n",
       "      <td>0.17</td>\n",
       "      <td>NaN</td>\n",
       "      <td>USD</td>\n",
       "      <td>Cash DIV @ 0.492, Pos QTY: 0.478496531, Rec Da...</td>\n",
       "      <td>US Market</td>\n",
       "      <td>Sarwa Trade</td>\n",
       "    </tr>\n",
       "    <tr>\n",
       "      <th>546</th>\n",
       "      <td>2025-06-30</td>\n",
       "      <td>Net Dividend</td>\n",
       "      <td>TPVG</td>\n",
       "      <td>NaN</td>\n",
       "      <td>NaN</td>\n",
       "      <td>0.84</td>\n",
       "      <td>NaN</td>\n",
       "      <td>USD</td>\n",
       "      <td>Cash DIV @ 0.3, Pos QTY: 4, Rec Date: 2025-06-16</td>\n",
       "      <td>US Market</td>\n",
       "      <td>Sarwa Trade</td>\n",
       "    </tr>\n",
       "    <tr>\n",
       "      <th>547</th>\n",
       "      <td>2025-07-02</td>\n",
       "      <td>Net Dividend</td>\n",
       "      <td>VOO</td>\n",
       "      <td>NaN</td>\n",
       "      <td>NaN</td>\n",
       "      <td>1.90</td>\n",
       "      <td>NaN</td>\n",
       "      <td>USD</td>\n",
       "      <td>Dividend income from VOO</td>\n",
       "      <td>US Market</td>\n",
       "      <td>Sarwa Trade - Interim</td>\n",
       "    </tr>\n",
       "    <tr>\n",
       "      <th>548</th>\n",
       "      <td>2025-07-03</td>\n",
       "      <td>Net Dividend</td>\n",
       "      <td>JPMB</td>\n",
       "      <td>NaN</td>\n",
       "      <td>NaN</td>\n",
       "      <td>0.24</td>\n",
       "      <td>NaN</td>\n",
       "      <td>USD</td>\n",
       "      <td>Dividend income from JPMB</td>\n",
       "      <td>US Market</td>\n",
       "      <td>Sarwa Trade - Interim</td>\n",
       "    </tr>\n",
       "    <tr>\n",
       "      <th>555</th>\n",
       "      <td>2025-07-28</td>\n",
       "      <td>Net Dividend</td>\n",
       "      <td>GSBD</td>\n",
       "      <td>NaN</td>\n",
       "      <td>NaN</td>\n",
       "      <td>0.82</td>\n",
       "      <td>NaN</td>\n",
       "      <td>USD</td>\n",
       "      <td>Dividend income from GSBD</td>\n",
       "      <td>US Market</td>\n",
       "      <td>Sarwa Trade - Interim</td>\n",
       "    </tr>\n",
       "  </tbody>\n",
       "</table>\n",
       "<p>274 rows × 11 columns</p>\n",
       "</div>"
      ],
      "text/plain": [
       "           Date          Type Symbol  Quantity  Price  Amount  Commission  \\\n",
       "4    2023-03-29  Net Dividend    VOO       NaN    NaN    0.24         NaN   \n",
       "10   2023-07-05  Net Dividend    VOO       NaN    NaN    0.25         NaN   \n",
       "11   2023-07-05  Net Dividend   VOOG       NaN    NaN    0.06         NaN   \n",
       "44   2023-09-21  Net Dividend    XLK       NaN    NaN    0.24         NaN   \n",
       "68   2023-09-27  Net Dividend   NOBL       NaN    NaN    0.17         NaN   \n",
       "..          ...           ...    ...       ...    ...     ...         ...   \n",
       "545  2025-06-30  Net Dividend   VOOG       NaN    NaN    0.17         NaN   \n",
       "546  2025-06-30  Net Dividend   TPVG       NaN    NaN    0.84         NaN   \n",
       "547  2025-07-02  Net Dividend    VOO       NaN    NaN    1.90         NaN   \n",
       "548  2025-07-03  Net Dividend   JPMB       NaN    NaN    0.24         NaN   \n",
       "555  2025-07-28  Net Dividend   GSBD       NaN    NaN    0.82         NaN   \n",
       "\n",
       "    Currency                                        Description   Exchange  \\\n",
       "4        USD  Cash DIV @ 1.4874, Pos QTY: 0.218966527, Rec D...  US Market   \n",
       "10       USD  Cash DIV @ 1.5762, Pos QTY: 0.218966527, Rec D...  US Market   \n",
       "11       USD  Cash DIV @ 0.6987, Pos QTY: 0.11943626, Rec Da...  US Market   \n",
       "44       USD  Cash DIV @ 0.360286, Pos QTY: 0.91942597, Rec ...  US Market   \n",
       "68       USD  Cash DIV @ 0.521068, Pos QTY: 0.468405155, Rec...  US Market   \n",
       "..       ...                                                ...        ...   \n",
       "545      USD  Cash DIV @ 0.492, Pos QTY: 0.478496531, Rec Da...  US Market   \n",
       "546      USD   Cash DIV @ 0.3, Pos QTY: 4, Rec Date: 2025-06-16  US Market   \n",
       "547      USD                           Dividend income from VOO  US Market   \n",
       "548      USD                          Dividend income from JPMB  US Market   \n",
       "555      USD                          Dividend income from GSBD  US Market   \n",
       "\n",
       "                    Source  \n",
       "4              Sarwa Trade  \n",
       "10             Sarwa Trade  \n",
       "11             Sarwa Trade  \n",
       "44             Sarwa Trade  \n",
       "68             Sarwa Trade  \n",
       "..                     ...  \n",
       "545            Sarwa Trade  \n",
       "546            Sarwa Trade  \n",
       "547  Sarwa Trade - Interim  \n",
       "548  Sarwa Trade - Interim  \n",
       "555  Sarwa Trade - Interim  \n",
       "\n",
       "[274 rows x 11 columns]"
      ]
     },
     "execution_count": 7,
     "metadata": {},
     "output_type": "execute_result"
    }
   ],
   "source": [
    "# Net Deposits\n",
    "transaction_log[transaction_log[\"Type\"] == \"Net Dividend\"]"
   ]
  },
  {
   "cell_type": "code",
   "execution_count": 8,
   "id": "9e425f31",
   "metadata": {},
   "outputs": [
    {
     "data": {
      "text/plain": [
       "np.float64(64.93)"
      ]
     },
     "execution_count": 8,
     "metadata": {},
     "output_type": "execute_result"
    }
   ],
   "source": [
    "transaction_log[transaction_log[\"Type\"] == \"Net Dividend\"][\"Amount\"].sum()"
   ]
  },
  {
   "cell_type": "code",
   "execution_count": 9,
   "id": "edcfc5d6",
   "metadata": {},
   "outputs": [
    {
     "data": {
      "text/plain": [
       "np.float64(0.6500000000000001)"
      ]
     },
     "execution_count": 9,
     "metadata": {},
     "output_type": "execute_result"
    }
   ],
   "source": [
    "# Credit/Margin Interest\n",
    "transaction_log[transaction_log[\"Type\"] == \"Credit/Margin Interest\"][\"Amount\"].sum()"
   ]
  }
 ],
 "metadata": {
  "kernelspec": {
   "display_name": "Developer (3.13.5)",
   "language": "python",
   "name": "python3"
  },
  "language_info": {
   "codemirror_mode": {
    "name": "ipython",
    "version": 3
   },
   "file_extension": ".py",
   "mimetype": "text/x-python",
   "name": "python",
   "nbconvert_exporter": "python",
   "pygments_lexer": "ipython3",
   "version": "3.13.5"
  }
 },
 "nbformat": 4,
 "nbformat_minor": 5
}
